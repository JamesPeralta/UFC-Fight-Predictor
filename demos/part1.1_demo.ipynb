{
 "cells": [
  {
   "cell_type": "markdown",
   "metadata": {},
   "source": [
    "### Imports"
   ]
  },
  {
   "cell_type": "code",
   "execution_count": null,
   "metadata": {},
   "outputs": [],
   "source": [
    "# all the imports \n",
    "import pandas as pd\n",
    "import numpy as np\n",
    "import warnings\n",
    "warnings.filterwarnings('ignore')\n",
    "from sklearn.linear_model import LogisticRegression\n",
    "from sklearn.model_selection import train_test_split\n",
    "from sklearn.metrics import confusion_matrix\n",
    "from sklearn.metrics import f1_score\n",
    "from sklearn.metrics import accuracy_score\n",
    "from sklearn.preprocessing import StandardScaler"
   ]
  },
  {
   "cell_type": "markdown",
   "metadata": {},
   "source": [
    "### Reading the data"
   ]
  },
  {
   "cell_type": "code",
   "execution_count": null,
   "metadata": {},
   "outputs": [],
   "source": [
    "# reading the data\n",
    "data = pd.read_csv('../combined_data/combined_fight_data.csv', low_memory=False)\n",
    "data.head()"
   ]
  },
  {
   "cell_type": "markdown",
   "metadata": {},
   "source": [
    "### Changing the labels column to bool type"
   ]
  },
  {
   "cell_type": "code",
   "execution_count": null,
   "metadata": {},
   "outputs": [],
   "source": [
    "# changing winner label to bool and keeping whether or not Red fighter won\n",
    "data['Winner'] = data['Winner'].apply(lambda x: True if x == 'Red' else False)\n",
    "data['R_Winner'] = data['Winner']"
   ]
  },
  {
   "cell_type": "markdown",
   "metadata": {},
   "source": [
    "### Dropping useless columns"
   ]
  },
  {
   "cell_type": "code",
   "execution_count": null,
   "metadata": {},
   "outputs": [],
   "source": [
    "data = data.drop(columns=['R_fighter', 'B_fighter', 'Referee', 'date', 'city', 'country', 'Winner', 'end_how'])\n",
    "data = data.fillna(0)"
   ]
  },
  {
   "cell_type": "markdown",
   "metadata": {},
   "source": [
    "### One hot encoding the categorical data"
   ]
  },
  {
   "cell_type": "code",
   "execution_count": null,
   "metadata": {},
   "outputs": [],
   "source": [
    "# weight_class, B_Stance, R_Stance\n",
    "data = pd.get_dummies(data, columns=['weight_class', 'B_Stance', 'R_Stance','end_method'])\n",
    "data.shape"
   ]
  },
  {
   "cell_type": "markdown",
   "metadata": {},
   "source": [
    "### Getting features"
   ]
  },
  {
   "cell_type": "code",
   "execution_count": null,
   "metadata": {},
   "outputs": [],
   "source": [
    "features = data.loc[:, data.columns != 'R_Winner']\n",
    "features"
   ]
  },
  {
   "cell_type": "markdown",
   "metadata": {},
   "source": [
    "### Getting labels"
   ]
  },
  {
   "cell_type": "code",
   "execution_count": null,
   "metadata": {},
   "outputs": [],
   "source": [
    "labels = data.loc[:, 'R_Winner']\n",
    "labels"
   ]
  },
  {
   "cell_type": "markdown",
   "metadata": {},
   "source": [
    "### Running logistic regression"
   ]
  },
  {
   "cell_type": "code",
   "execution_count": null,
   "metadata": {},
   "outputs": [],
   "source": [
    "def run_logistic_regression(features, labels, params):\n",
    "    logistic_cm = []\n",
    "    logistic_fscore = []\n",
    "    logistic_score = []\n",
    "    \n",
    "    for seed in range(1, 6):\n",
    "        X_train, X_test, y_train, y_test = train_test_split(features, labels, \n",
    "                                                            random_state=seed,\n",
    "                                                            test_size=0.20)\n",
    "        # scaling the data\n",
    "        scaler = StandardScaler()\n",
    "        scaler.fit(X_train)\n",
    "            \n",
    "        #transforming both training and testing data\n",
    "        X_train_scaled = scaler.transform(X_train)\n",
    "        X_test_scaled = scaler.transform(X_test)\n",
    "    \n",
    "\n",
    "        # creating logistic classifier\n",
    "        logistic = LogisticRegression(**params)\n",
    "\n",
    "        # fitting training data and predicting test data\n",
    "        logistic.fit(X_train_scaled, y_train)\n",
    "        logistic_predict = logistic.predict(X_test_scaled)\n",
    "\n",
    "        # compute the performance metrics\n",
    "        logistic_cm.append(confusion_matrix(y_test, logistic_predict))\n",
    "        logistic_fscore.append(f1_score(y_test, logistic_predict, average=None))\n",
    "        logistic_score.append(accuracy_score(y_test, logistic_predict))\n",
    "\n",
    "    print('Logistic confusion matrix:\\n', np.mean(np.array(logistic_cm), axis=0))\n",
    "    print('Logistic f-score:', np.mean(np.array(logistic_fscore)))  \n",
    "    print('Logistic accuracy score:', np.mean(np.array(logistic_score)), '\\n')  "
   ]
  },
  {
   "cell_type": "code",
   "execution_count": null,
   "metadata": {},
   "outputs": [],
   "source": [
    "params = {'solver': 'sag', 'random_state': 42, 'max_iter': 100}\n",
    "\n",
    "run_logistic_regression(features, labels, params)"
   ]
  },
  {
   "cell_type": "code",
   "execution_count": null,
   "metadata": {},
   "outputs": [],
   "source": []
  }
 ],
 "metadata": {
  "kernelspec": {
   "display_name": "Python 3",
   "language": "python",
   "name": "python3"
  },
  "language_info": {
   "codemirror_mode": {
    "name": "ipython",
    "version": 3
   },
   "file_extension": ".py",
   "mimetype": "text/x-python",
   "name": "python",
   "nbconvert_exporter": "python",
   "pygments_lexer": "ipython3",
   "version": "3.6.8"
  }
 },
 "nbformat": 4,
 "nbformat_minor": 4
}
