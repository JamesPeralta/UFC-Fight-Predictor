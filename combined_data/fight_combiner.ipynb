{
 "cells": [
  {
   "cell_type": "markdown",
   "metadata": {},
   "source": [
    "# Parse UFCData, Locations and Scorecard"
   ]
  },
  {
   "cell_type": "markdown",
   "metadata": {},
   "source": [
    "### Import libraries"
   ]
  },
  {
   "cell_type": "code",
   "execution_count": 1,
   "metadata": {},
   "outputs": [],
   "source": [
    "from pandas import read_csv, DataFrame, merge, concat\n",
    "from datetime import datetime\n",
    "from collections import Counter\n",
    "from unidecode import unidecode\n",
    "import numpy as np\n",
    "import re, string"
   ]
  },
  {
   "cell_type": "markdown",
   "metadata": {},
   "source": [
    "### Parse the csvs and create panda models"
   ]
  },
  {
   "cell_type": "code",
   "execution_count": 2,
   "metadata": {},
   "outputs": [
    {
     "name": "stdout",
     "output_type": "stream",
     "text": [
      "Fights: (5144, 146)\n",
      "Scorecards: (5491, 13)\n"
     ]
    }
   ],
   "source": [
    "fight_data_file = '../ufcdata/data.csv'\n",
    "scorecard_file = '../scorecard/scorecard.csv'\n",
    "location_file = '../elevations/locations_elevation.csv'\n",
    "fighter_location_file = '../elevations/fighters_elevation.csv'\n",
    "\n",
    "fights = read_csv(fight_data_file)\n",
    "scorecards = read_csv(scorecard_file)\n",
    "locations = read_csv(location_file)\n",
    "\n",
    "def create_key(row):   \n",
    "    f1 = row['R_fighter'] if 'R_fighter' in row.index else row['winner']\n",
    "    f2 = row['B_fighter'] if 'B_fighter' in row.index else row['loser']\n",
    "    dt = row['date']\n",
    "\n",
    "    f1 = sorted(f1.split())\n",
    "    f2 = sorted(f2.split())\n",
    "\n",
    "    fighters = sorted([' '.join(f1), ' '.join(f2)])\n",
    "    return ' '.join(fighters), dt\n",
    "\n",
    "\n",
    "fights.sort_values(by='date', inplace=True)\n",
    "fights['date'] = fights['date'].apply(lambda dt: datetime.strptime(dt.strip(), '%Y-%m-%d'))\n",
    "fights['R_fighter'] = fights['R_fighter'].apply(lambda x: unidecode(x.translate(str.maketrans('', '', string.punctuation)).lower().strip()))\n",
    "fights['B_fighter'] = fights['B_fighter'].apply(lambda x: unidecode(x.translate(str.maketrans('', '', string.punctuation)).lower().strip()))\n",
    "fights['key'] = fights.apply(create_key, axis=1)\n",
    "\n",
    "scorecards.sort_values(by='date', inplace=True)\n",
    "scorecards['date'] = scorecards['date'].apply(lambda dt: datetime.strptime(dt.strip(), '%Y-%m-%d'))\n",
    "scorecards['winner'] = scorecards['winner'].apply(lambda x: unidecode(x.translate(str.maketrans('', '', string.punctuation)).lower().strip()))\n",
    "scorecards['loser'] = scorecards['loser'].apply(lambda x: unidecode(x.translate(str.maketrans('', '', string.punctuation)).lower().strip()))\n",
    "scorecards['how'] = scorecards['how'].astype('category')\n",
    "scorecards['key'] = scorecards.apply(create_key, axis=1)\n",
    "\n",
    "print('Fights: {}'.format(fights.shape))\n",
    "print('Scorecards: {}'.format(scorecards.shape))"
   ]
  },
  {
   "cell_type": "markdown",
   "metadata": {},
   "source": [
    "### Combine fights and scorecards"
   ]
  },
  {
   "cell_type": "code",
   "execution_count": 3,
   "metadata": {},
   "outputs": [],
   "source": [
    "def levenshtein_ratio_and_distance(s, t, ratio_calc = False):\n",
    "    \"\"\" levenshtein_ratio_and_distance:\n",
    "        Calculates levenshtein distance between two strings.\n",
    "        If ratio_calc = True, the function computes the\n",
    "        levenshtein distance ratio of similarity between two strings\n",
    "        For all i and j, distance[i,j] will contain the Levenshtein\n",
    "        distance between the first i characters of s and the\n",
    "        first j characters of t\n",
    "    \"\"\"\n",
    "    # Initialize matrix of zeros\n",
    "    rows = len(s)+1\n",
    "    cols = len(t)+1\n",
    "    distance = np.zeros((rows,cols),dtype = int)\n",
    "\n",
    "    # Populate matrix of zeros with the indeces of each character of both strings\n",
    "    for i in range(1, rows):\n",
    "        for k in range(1,cols):\n",
    "            distance[i][0] = i\n",
    "            distance[0][k] = k\n",
    "\n",
    "    # Iterate over the matrix to compute the cost of deletions,insertions and/or substitutions    \n",
    "    for col in range(1, cols):\n",
    "        for row in range(1, rows):\n",
    "            if s[row-1] == t[col-1]:\n",
    "                cost = 0 # If the characters are the same in the two strings in a given position [i,j] then the cost is 0\n",
    "            else:\n",
    "                # In order to align the results with those of the Python Levenshtein package, if we choose to calculate the ratio\n",
    "                # the cost of a substitution is 2. If we calculate just distance, then the cost of a substitution is 1.\n",
    "                if ratio_calc == True:\n",
    "                    cost = 2\n",
    "                else:\n",
    "                    cost = 1\n",
    "            distance[row][col] = min(distance[row-1][col] + 1,      # Cost of deletions\n",
    "                                 distance[row][col-1] + 1,          # Cost of insertions\n",
    "                                 distance[row-1][col-1] + cost)     # Cost of substitutions\n",
    "    if ratio_calc == True:\n",
    "        # Computation of the Levenshtein Distance Ratio\n",
    "        Ratio = ((len(s)+len(t)) - distance[row][col]) / (len(s)+len(t))\n",
    "        return Ratio\n",
    "    else:\n",
    "        # print(distance) # Uncomment if you want to see the matrix showing how the algorithm computes the cost of deletions,\n",
    "        # insertions and/or substitutions\n",
    "        # This is the minimum number of edits needed to convert string a to string b\n",
    "        return distance[row][col]\n",
    "        ##return \"The strings are {} edits away\".format(distance[row][col])"
   ]
  },
  {
   "cell_type": "code",
   "execution_count": 4,
   "metadata": {},
   "outputs": [
    {
     "name": "stdout",
     "output_type": "stream",
     "text": [
      "Fights Scorecards: (5146, 154)\n"
     ]
    }
   ],
   "source": [
    "sub_scorecards = scorecards.loc[:, ['key', 'method', 'how', 'round', 'event_name', 'venue', 'city', 'country', 'attendance', 'winner', 'loser']]\n",
    "sub_scorecards.rename(columns={'method': 'end_method', 'how': 'end_how', 'round': 'end_round'}, inplace=True)\n",
    "\n",
    "fights_scorecard = merge(left=fights, right=sub_scorecards, how='left', on='key')\n",
    "fights_scorecard.drop(columns=['location', 'key'], inplace=True)\n",
    "fights_scorecard.sort_values(by='date', inplace=True)\n",
    "print('Fights Scorecards: {}'.format(fights_scorecard.shape))"
   ]
  },
  {
   "cell_type": "code",
   "execution_count": 5,
   "metadata": {},
   "outputs": [
    {
     "name": "stderr",
     "output_type": "stream",
     "text": [
      "/home/satyaki/env/lib/python3.6/site-packages/pandas/core/indexing.py:1418: FutureWarning: \n",
      "Passing list-likes to .loc or [] with any missing label will raise\n",
      "KeyError in the future, you can use .reindex() as an alternative.\n",
      "\n",
      "See the documentation here:\n",
      "https://pandas.pydata.org/pandas-docs/stable/user_guide/indexing.html#deprecate-loc-reindex-listlike\n",
      "  return self._getitem_tuple(key)\n"
     ]
    },
    {
     "data": {
      "text/plain": [
       "(10, 144)"
      ]
     },
     "metadata": {},
     "output_type": "display_data"
    }
   ],
   "source": [
    "test = fights_scorecard.loc[fights_scorecard['city'].isnull()].tail(10)\n",
    "test = test.loc[:, fights.columns]\n",
    "test.drop(columns=['location', 'key'], inplace=True)\n",
    "display(test.shape)"
   ]
  },
  {
   "cell_type": "code",
   "execution_count": 6,
   "metadata": {},
   "outputs": [
    {
     "ename": "NameError",
     "evalue": "name 'tmp_score' is not defined",
     "output_type": "error",
     "traceback": [
      "\u001b[0;31m---------------------------------------------------------------------------\u001b[0m",
      "\u001b[0;31mNameError\u001b[0m                                 Traceback (most recent call last)",
      "\u001b[0;32m<ipython-input-6-c9bf4ebc8055>\u001b[0m in \u001b[0;36m<module>\u001b[0;34m\u001b[0m\n\u001b[1;32m     21\u001b[0m             \u001b[0mloser_y_tmp\u001b[0m \u001b[0;34m=\u001b[0m \u001b[0mscore_row\u001b[0m\u001b[0;34m[\u001b[0m\u001b[0;34m'loser'\u001b[0m\u001b[0;34m]\u001b[0m\u001b[0;34m\u001b[0m\u001b[0;34m\u001b[0m\u001b[0m\n\u001b[1;32m     22\u001b[0m \u001b[0;34m\u001b[0m\u001b[0m\n\u001b[0;32m---> 23\u001b[0;31m             \u001b[0;32mif\u001b[0m \u001b[0;34m(\u001b[0m\u001b[0mtmp_score\u001b[0m \u001b[0;34m<\u001b[0m \u001b[0mscore\u001b[0m\u001b[0;34m)\u001b[0m\u001b[0;34m:\u001b[0m\u001b[0;34m\u001b[0m\u001b[0;34m\u001b[0m\u001b[0m\n\u001b[0m\u001b[1;32m     24\u001b[0m                 \u001b[0mindex_one\u001b[0m \u001b[0;34m=\u001b[0m \u001b[0mfight_index\u001b[0m\u001b[0;34m\u001b[0m\u001b[0;34m\u001b[0m\u001b[0m\n\u001b[1;32m     25\u001b[0m                 \u001b[0mindex_two\u001b[0m \u001b[0;34m=\u001b[0m \u001b[0mscore_index\u001b[0m\u001b[0;34m\u001b[0m\u001b[0;34m\u001b[0m\u001b[0m\n",
      "\u001b[0;31mNameError\u001b[0m: name 'tmp_score' is not defined"
     ]
    }
   ],
   "source": [
    "missin_fights_scorecard = None\n",
    "events = test.groupby('date')\n",
    "\n",
    "sub_scorecards = scorecards.loc[:, ['method', 'how', 'round', 'event_name', 'venue', 'city', 'country', 'attendance', 'winner', 'loser', 'date']]\n",
    "sub_scorecards.rename(columns={'method': 'end_method', 'how': 'end_how', 'round': 'end_round', 'date': 'date2'}, inplace=True)\n",
    "\n",
    "for date in events.groups:\n",
    "    fights = events.get_group(date)\n",
    "    scorecard_fights = sub_scorecards[sub_scorecards['date2'] == date]\n",
    "    \n",
    "    for fight_index, fight in fights.iterrows():\n",
    "        winner_x = fight['R_fighter'] if fight['Winner'] == 'Red' else fight['B_fighter']\n",
    "        loser_x = fight['R_fighter'] if fight['Winner'] == 'Blue' else fight['B_fighter']\n",
    "        \n",
    "        index_one = 0\n",
    "        index_two = 0\n",
    "        score = 10000000000\n",
    "        \n",
    "        for score_index, score_row in scorecard_fights.iterrows():\n",
    "            winner_y_tmp = score_row['winner']\n",
    "            loser_y_tmp = score_row['loser']\n",
    "            \n",
    "            tmp_score = np.mean([\n",
    "                levenshtein_ratio_and_distance(winner_y_tmp, winner_x), \n",
    "                levenshtein_ratio_and_distance(loser_y_tmp, loser_x)\n",
    "            ])\n",
    "\n",
    "            if (tmp_score < score):\n",
    "                index_one = fight_index\n",
    "                index_two = score_index\n",
    "                score = tmp_score\n",
    "        \n",
    "        \n",
    "        actual_fight = fights.loc[index_one]\n",
    "        actual_scorecard = scorecard_fights.loc[index_two]\n",
    "        \n",
    "        data_list = [[]]\n",
    "        col_list = []\n",
    "        \n",
    "        for data in list(actual_fight.values):\n",
    "            data_list[0].append(data)\n",
    "        for data in list(actual_scorecard.values):\n",
    "            data_list[0].append(data)\n",
    "            \n",
    "        for data in actual_fight.index:\n",
    "            col_list.append(data)\n",
    "        for data in actual_scorecard.index:\n",
    "            col_list.append(data)\n",
    "        \n",
    "        actual_row = DataFrame(data=data_list, columns=col_list)\n",
    "        actual_row.drop(columns=['date2'], inplace=True)\n",
    "        display(actual_row)\n"
   ]
  },
  {
   "cell_type": "code",
   "execution_count": null,
   "metadata": {},
   "outputs": [],
   "source": []
  },
  {
   "cell_type": "code",
   "execution_count": null,
   "metadata": {},
   "outputs": [],
   "source": []
  }
 ],
 "metadata": {
  "kernelspec": {
   "display_name": "Python 3",
   "language": "python",
   "name": "python3"
  },
  "language_info": {
   "codemirror_mode": {
    "name": "ipython",
    "version": 3
   },
   "file_extension": ".py",
   "mimetype": "text/x-python",
   "name": "python",
   "nbconvert_exporter": "python",
   "pygments_lexer": "ipython3",
   "version": "3.6.8"
  },
  "pycharm": {
   "stem_cell": {
    "cell_type": "raw",
    "metadata": {
     "collapsed": false
    },
    "source": []
   }
  }
 },
 "nbformat": 4,
 "nbformat_minor": 4
}
