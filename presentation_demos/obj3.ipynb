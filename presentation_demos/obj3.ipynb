{
 "cells": [
  {
   "cell_type": "markdown",
   "metadata": {},
   "source": [
    "# In this Notebook we are attempting to predict if a person will win their next fight depending on how they performed on their last 5 fights"
   ]
  },
  {
   "cell_type": "markdown",
   "metadata": {},
   "source": [
    "## Library Imports"
   ]
  },
  {
   "cell_type": "code",
   "execution_count": null,
   "metadata": {},
   "outputs": [],
   "source": [
    "import sys\n",
    "sys.path.insert(1, '../combined_data')\n",
    "\n",
    "import pandas as pd\n",
    "import numpy as np\n",
    "import talos as ta\n",
    "\n",
    "from sklearn.preprocessing import LabelEncoder\n",
    "from sklearn.model_selection import train_test_split\n",
    "from sklearn.utils import shuffle\n",
    "from sklearn.preprocessing import LabelEncoder\n",
    "from sklearn.preprocessing import StandardScaler\n",
    "from sklearn.metrics import precision_recall_fscore_support\n",
    "\n",
    "from talos.model.normalizers import lr_normalizer\n",
    "from talos.model.hidden_layers import hidden_layers\n",
    "\n",
    "from keras.models import Sequential\n",
    "from keras.layers import Dense, Dropout, Conv1D, Flatten, MaxPooling1D, LSTM\n",
    "from keras.optimizers import Adam, Nadam, RMSprop\n",
    "from keras.losses import logcosh, binary_crossentropy\n",
    "from keras.activations import relu, elu, sigmoid\n",
    "\n",
    "import matplotlib.pyplot as plt\n",
    "%matplotlib inline\n",
    "\n",
    "from make_career import make_career"
   ]
  },
  {
   "cell_type": "markdown",
   "metadata": {},
   "source": [
    "## Loading the dataset"
   ]
  },
  {
   "cell_type": "code",
   "execution_count": null,
   "metadata": {},
   "outputs": [],
   "source": [
    "features, labels = make_career(N_FIGHT_CAREER=5)\n",
    "labels = labels.reshape(-1,)\n",
    "score_cols = ['precision', 'recall', 'fbeta_score', 'support']"
   ]
  },
  {
   "cell_type": "code",
   "execution_count": null,
   "metadata": {
    "scrolled": true
   },
   "outputs": [],
   "source": [
    "print('Features {}'.format(features.shape))\n",
    "print('Labels {}'.format(labels.shape))"
   ]
  },
  {
   "cell_type": "markdown",
   "metadata": {},
   "source": [
    "## Preprocess Features"
   ]
  },
  {
   "cell_type": "markdown",
   "metadata": {},
   "source": [
    "## Generates np.array of shape (3220, 5 * features)"
   ]
  },
  {
   "cell_type": "code",
   "execution_count": null,
   "metadata": {},
   "outputs": [],
   "source": [
    "def collapse_n_fights():\n",
    "    num_cols, cat_cols = get_column_types()\n",
    "    \n",
    "    # Collect only the features we want\n",
    "    new_features = []\n",
    "    for window in features:\n",
    "        window_arr = list(window.reshape(1,-1))[0]\n",
    "        fight_window = np.array([])\n",
    "        for fight in window_arr:\n",
    "            fight_arr = np.array([fight[i] for i in num_cols])\n",
    "            np.nan_to_num(fight_arr, copy=False)\n",
    "            fight_window = np.append(fight_window, fight_arr)\n",
    "        new_features.append(fight_window)\n",
    "    \n",
    "    new_features, new_labels = shuffle(np.array(new_features), labels)\n",
    "    X_train, X_test, y_train, y_test = train_test_split(new_features, new_labels, random_state=0, train_size=0.90)\n",
    "    \n",
    "    # Scale the data\n",
    "    scaler = StandardScaler().fit(X_train)\n",
    "    X_train = scaler.transform(X_train)\n",
    "    X_test = scaler.transform(X_test)\n",
    "\n",
    "    return X_train, X_test, y_train, y_test\n",
    "\n",
    "def plot_training_results(history_obj):\n",
    "    acc = history_obj.history['accuracy']\n",
    "    val_acc = history_obj.history['val_accuracy']\n",
    "    loss = history_obj.history['loss']\n",
    "    val_loss = history_obj.history['val_loss']\n",
    "    \n",
    "    epochs = range(1, len(acc) + 1)\n",
    "\n",
    "    fig, (accuracy_axis, loss_axis) = plt.subplots(1, 2, figsize=(20, 5))\n",
    "\n",
    "    accuracy_axis.plot(epochs, acc, 'bo', label='Training acc')\n",
    "    accuracy_axis.plot(epochs, val_acc, 'b', label='Validation acc')\n",
    "    accuracy_axis.set_title('Training and validation accuracy')\n",
    "    accuracy_axis.set_ylabel('Accuracy')\n",
    "    accuracy_axis.set_xlabel('Epoch')\n",
    "    accuracy_axis.legend()\n",
    "\n",
    "    loss_axis.plot(epochs, loss, 'bo', label='Training loss')\n",
    "    loss_axis.plot(epochs, val_loss, 'b', label='Validation loss')\n",
    "    loss_axis.set_title('Training and validation loss')\n",
    "    loss_axis.set_ylim(0, 3)\n",
    "    loss_axis.set_ylabel('Loss')\n",
    "    loss_axis.set_xlabel('Epoch')\n",
    "    loss_axis.legend()\n",
    "    fig.show()"
   ]
  },
  {
   "cell_type": "markdown",
   "metadata": {},
   "source": [
    "## Model Parameters and Definitions"
   ]
  },
  {
   "cell_type": "code",
   "execution_count": null,
   "metadata": {},
   "outputs": [],
   "source": [
    "# Define hyperparameters to use in Grid Search for DNN\n",
    "dnn_params = {\n",
    "     'lr': [0.01, 0.1, 1],\n",
    "     'first_neuron': [128],\n",
    "     'hidden_layers': [1],\n",
    "     'batch_size': [64],\n",
    "     'epochs': [10],\n",
    "     'dropout': [0.01],\n",
    "     'optimizer': [Adam],\n",
    "     'shapes':['funnel'],\n",
    "     'losses': [binary_crossentropy],\n",
    "     'activation': [relu],\n",
    "     'last_activation': [sigmoid],\n",
    "}\n",
    "\n",
    "# dnn_params = {\n",
    "#     'lr': [0.01, 0.1, 1],\n",
    "#     'first_neuron': [128],\n",
    "#     'hidden_layers': [1],\n",
    "#     'batch_size': [64, 128, 256],\n",
    "#     'epochs': [10, 25],\n",
    "#     'dropout': [0.01, 0.1],\n",
    "#     'optimizer': [Adam],\n",
    "#     'shapes':['funnel'],\n",
    "#     'losses': [binary_crossentropy],\n",
    "#     'activation': [relu],\n",
    "#     'last_activation': [sigmoid],\n",
    "# }\n",
    "\n",
    "# Define hyperparameters to use in Grid Search for CNN\n",
    "# cnn_params = {\n",
    "#     'lr': [0.01],\n",
    "#     'num_filters': [64],\n",
    "#     'kernel_size': [2],\n",
    "#     'batch_size': [64],\n",
    "#     'epochs': [5],\n",
    "#     'dropout': [0.01],\n",
    "#     'flatten_layer': [100], \n",
    "#     'optimizer': [Adam],\n",
    "#     'losses': [binary_crossentropy],\n",
    "#     'activation': [relu],\n",
    "#     'last_activation': [sigmoid],\n",
    "# }\n",
    "\n",
    "# Longer Run\n",
    "cnn_params = {\n",
    "    'lr': [0.01, 0.1, 1],\n",
    "    'num_filters': [64, 128],\n",
    "    'kernel_size': [2],\n",
    "    'batch_size': [64],\n",
    "    'epochs': [5, 15],\n",
    "    'dropout': [0.01],\n",
    "    'flatten_layer': [100], \n",
    "    'optimizer': [Adam],\n",
    "    'losses': [binary_crossentropy],\n",
    "    'activation': [relu],\n",
    "    'last_activation': [sigmoid],\n",
    "}"
   ]
  },
  {
   "cell_type": "code",
   "execution_count": null,
   "metadata": {},
   "outputs": [],
   "source": [
    "# Get the first fight window and the first fight in that window\n",
    "def get_column_types():\n",
    "    num_cols = []\n",
    "    cat_cols = []\n",
    "    for fight in features[0][0]:\n",
    "        feature_type = type(features[1][1][fight])\n",
    "        if feature_type is not float and feature_type is not int:\n",
    "            cat_cols.append(fight)\n",
    "        else:\n",
    "            num_cols.append(fight)\n",
    "            \n",
    "    return num_cols, cat_cols"
   ]
  },
  {
   "cell_type": "code",
   "execution_count": null,
   "metadata": {},
   "outputs": [],
   "source": [
    "dnn_scores = []\n",
    "def get_dnn(x_train, y_train, x_val, y_val, params, test_model=False):\n",
    "    \n",
    "    model = Sequential()\n",
    "    # Input Layer\n",
    "    model.add(Dense(params[\"first_neuron\"], \n",
    "                    activation=params['activation'], \n",
    "                    input_dim=X_train.shape[1]))\n",
    "    \n",
    "    model.add(Dropout(params['dropout']))\n",
    "    \n",
    "    # Hidden Layers\n",
    "    hidden_layers(model, params, 1)\n",
    "    \n",
    "    # Output Layers\n",
    "    model.add(Dense(1, activation=params['last_activation']))\n",
    "    \n",
    "    model.compile(loss=params['losses'],\n",
    "                  optimizer=params['optimizer'](lr=lr_normalizer(params['lr'], params['optimizer'])), \n",
    "                  metrics=['accuracy'])\n",
    "                  \n",
    "    history = model.fit(x_train, y_train,\n",
    "                       validation_data=[x_val, y_val],\n",
    "                       batch_size=params['batch_size'],\n",
    "                       epochs=params['epochs'],\n",
    "                       verbose=0)\n",
    "    \n",
    "    score = precision_recall_fscore_support(y_val, model.predict_classes(x_val), average='binary')\n",
    "    dnn_scores.append(score)\n",
    "    \n",
    "    if test_model:\n",
    "        model.summary()\n",
    "        plot_training_results(history)\n",
    "        \n",
    "\n",
    "    return history, model\n",
    "\n",
    "\n",
    "cnn_scores = []\n",
    "def get_cnn(x_train, y_train, x_val, y_val, params, test_model=False):\n",
    "    model = Sequential()\n",
    "    \n",
    "    # Convolutional Layers\n",
    "    model.add(Conv1D(filters=params[\"num_filters\"], kernel_size=params[\"kernel_size\"], activation='relu', input_shape=(5, 97)))\n",
    "    model.add(Conv1D(filters=params[\"num_filters\"], kernel_size=params[\"kernel_size\"], activation='relu'))\n",
    "    model.add(Dropout(params['dropout']))\n",
    "    \n",
    "    # Flatten Layers\n",
    "    model.add(Flatten())\n",
    "    model.add(Dense(params[\"flatten_layer\"], activation='relu'))\n",
    "    \n",
    "    # Output Layer\n",
    "    model.add(Dense(1, activation='sigmoid'))\n",
    "    \n",
    "    model.compile(loss=params['losses'],\n",
    "                  optimizer=params['optimizer'](lr=lr_normalizer(params['lr'], params['optimizer'])), \n",
    "                  metrics=['accuracy'])\n",
    "    \n",
    "    history = model.fit(x_train, y_train,\n",
    "                       validation_data=[x_val, y_val],\n",
    "                       batch_size=params['batch_size'],\n",
    "                       epochs=params['epochs'],\n",
    "                       verbose=0)\n",
    "    \n",
    "    score = precision_recall_fscore_support(y_val, model.predict_classes(x_val), average='binary')\n",
    "    cnn_scores.append(score)\n",
    "    \n",
    "    if test_model:\n",
    "        plot_training_results(history)\n",
    "        model.summary()\n",
    "\n",
    "    return history, model\n",
    "\n",
    "\n",
    "lstm_scores = []\n",
    "def get_lstm(x_train, y_train, x_val, y_val, test_model=False):\n",
    "    model = Sequential()\n",
    "    \n",
    "    model.add(LSTM(50, \n",
    "                   input_shape=(5, 97),\n",
    "                   recurrent_dropout=0.2)) #, return_sequences=True\n",
    "    model.add(Dense(1, activation='sigmoid'))\n",
    "    model.compile(loss=\"binary_crossentropy\", \n",
    "                  optimizer=Adam(learning_rate=0.01), \n",
    "                  metrics=['accuracy'])\n",
    "    \n",
    "    history = model.fit(x_train, y_train,\n",
    "                       validation_data=[x_val, y_val],\n",
    "                       batch_size=64,\n",
    "                       epochs=30,\n",
    "                       verbose=1)\n",
    "    \n",
    "    score = precision_recall_fscore_support(y_val, model.predict_classes(x_val), average='binary')\n",
    "    lstm_scores.append(score)\n",
    "    \n",
    "    if test_model:\n",
    "        plot_training_results(history)\n",
    "        model.summary()\n",
    "\n",
    "    return history, model"
   ]
  },
  {
   "cell_type": "markdown",
   "metadata": {},
   "source": [
    "## Building a DNN to predict the winner using last n fights"
   ]
  },
  {
   "cell_type": "code",
   "execution_count": null,
   "metadata": {
    "scrolled": true
   },
   "outputs": [],
   "source": [
    "# Get the data\n",
    "X_train, X_test, y_train, y_test = collapse_n_fights()\n",
    "\n",
    "# Create the Neural Network\n",
    "dnn_model = ta.Scan(\n",
    "    x=X_train,\n",
    "    y=y_train,\n",
    "    model=get_dnn,\n",
    "    params=dnn_params,\n",
    "    experiment_name='LAST_5_DNN',\n",
    ")"
   ]
  },
  {
   "cell_type": "code",
   "execution_count": null,
   "metadata": {},
   "outputs": [],
   "source": [
    "results_df = dnn_model.data\n",
    "dnn_cols = list(results_df.columns)\n",
    "\n",
    "new_df_data = []\n",
    "for index, row_data in results_df.iterrows():\n",
    "    new_row = dict()\n",
    "    \n",
    "    for col in dnn_cols:\n",
    "        new_row[col] = row_data[col]\n",
    "    \n",
    "    for score_index, col in enumerate(score_cols):\n",
    "        new_row[col] = dnn_scores[index][score_index]\n",
    "        \n",
    "    new_df_data.append(new_row)\n",
    "\n",
    "dnn_df = pd.DataFrame(new_df_data)\n",
    "dnn_df.drop(columns=['round_epochs', 'batch_size', 'epochs', 'support', 'precision', 'recall', 'shapes', 'first_neuron'], inplace=True)\n",
    "top_5_val_dnn = dnn_df.sort_values(by=['val_accuracy'], ascending=False).head(5)\n",
    "top_5_val_dnn"
   ]
  },
  {
   "cell_type": "markdown",
   "metadata": {},
   "source": [
    "## Building a CNN to predict the winner using last n fights"
   ]
  },
  {
   "cell_type": "code",
   "execution_count": null,
   "metadata": {},
   "outputs": [],
   "source": [
    "# Get the data\n",
    "X_train, X_test, y_train, y_test = collapse_n_fights()\n",
    "X_train = X_train.reshape(X_train.shape[0], 5, 97)\n",
    "X_test = X_test.reshape(X_test.shape[0], 5, 97)\n",
    "\n",
    "# Create the Neural Network\n",
    "cnn_model = ta.Scan(\n",
    "    x=X_train,\n",
    "    y=y_train,\n",
    "    model=get_cnn,\n",
    "    params=cnn_params,\n",
    "    experiment_name='LAST_5_CNN',\n",
    ")"
   ]
  },
  {
   "cell_type": "code",
   "execution_count": null,
   "metadata": {},
   "outputs": [],
   "source": [
    "results_df = cnn_model.data\n",
    "cnn_cols = list(results_df.columns)\n",
    "\n",
    "new_df_data = []\n",
    "for index, row_data in results_df.iterrows():\n",
    "    new_row = dict()\n",
    "    \n",
    "    for col in cnn_cols:\n",
    "        new_row[col] = row_data[col]\n",
    "    \n",
    "    for score_index, col in enumerate(score_cols):\n",
    "        new_row[col] = cnn_scores[index][score_index]\n",
    "        \n",
    "    new_df_data.append(new_row)\n",
    "\n",
    "cnn_df = pd.DataFrame(new_df_data)\n",
    "cnn_df.drop(columns=['round_epochs', 'batch_size', 'epochs', 'support', 'precision', 'recall', 'flatten_layer', 'kernel_size'], inplace=True)\n",
    "top_5_val_cnn = cnn_df.sort_values(by=['val_accuracy'], ascending=False).head(5)\n",
    "top_5_val_cnn"
   ]
  },
  {
   "cell_type": "markdown",
   "metadata": {},
   "source": [
    "## Building an LSTM to predict the winner using last n fights"
   ]
  },
  {
   "cell_type": "code",
   "execution_count": null,
   "metadata": {},
   "outputs": [],
   "source": [
    "# Get the data\n",
    "X_train, X_test, y_train, y_test = collapse_n_fights()\n",
    "X_train = X_train.reshape(X_train.shape[0], 5, 97)\n",
    "X_test = X_test.reshape(X_test.shape[0], 5, 97)\n",
    "\n",
    "history, model = get_lstm(X_train, y_train, X_test, y_test, test_model=True)"
   ]
  },
  {
   "cell_type": "code",
   "execution_count": null,
   "metadata": {},
   "outputs": [],
   "source": [
    "hist = history.history\n",
    "lstm_data = [hist['accuracy'][-1], hist['val_accuracy'][-1], hist['loss'][-1], hist['val_loss'][-1]]\n",
    "lstm_data = lstm_data + [lstm_scores[0][0], lstm_scores[0][1], lstm_scores[0][2], lstm_scores[0][3]]\n",
    "lstm_cols = ['accuracy', 'val_accuracy', 'loss', 'val_loss'] + score_cols\n",
    "\n",
    "\n",
    "lstm_df = pd.DataFrame(data=[lstm_data], columns=lstm_cols)\n",
    "lstm_df.sort_values(by=['val_accuracy'], ascending=False, inplace=True)\n",
    "lstm_df"
   ]
  }
 ],
 "metadata": {
  "kernelspec": {
   "display_name": "Python 3",
   "language": "python",
   "name": "python3"
  },
  "language_info": {
   "codemirror_mode": {
    "name": "ipython",
    "version": 3
   },
   "file_extension": ".py",
   "mimetype": "text/x-python",
   "name": "python",
   "nbconvert_exporter": "python",
   "pygments_lexer": "ipython3",
   "version": "3.6.8"
  }
 },
 "nbformat": 4,
 "nbformat_minor": 4
}
