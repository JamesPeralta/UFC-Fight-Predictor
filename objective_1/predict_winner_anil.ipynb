{
 "cells": [
  {
   "cell_type": "markdown",
   "metadata": {},
   "source": [
    "## 1. Reading the data"
   ]
  },
  {
   "cell_type": "code",
   "execution_count": 1,
   "metadata": {},
   "outputs": [],
   "source": [
    "# all the imports \n",
    "import pandas as pd\n",
    "import numpy as np\n",
    "import warnings\n",
    "warnings.filterwarnings('ignore')\n",
    "from sklearn.linear_model import LogisticRegression\n",
    "from sklearn.neighbors import KNeighborsClassifier\n",
    "from sklearn.svm import LinearSVC\n",
    "from sklearn.model_selection import train_test_split\n",
    "from sklearn.metrics import confusion_matrix\n",
    "from sklearn.metrics import f1_score\n",
    "from sklearn.metrics import accuracy_score\n",
    "from sklearn.preprocessing import MinMaxScaler\n",
    "from sklearn.preprocessing import StandardScaler\n",
    "from sklearn.model_selection import GridSearchCV\n",
    "from sklearn.model_selection import cross_val_score\n",
    "from sklearn.decomposition import PCA\n",
    "from sklearn.feature_selection import RFE\n",
    "from sklearn.linear_model import LinearRegression\n",
    "from sklearn.ensemble import RandomForestClassifier"
   ]
  },
  {
   "cell_type": "code",
   "execution_count": 2,
   "metadata": {},
   "outputs": [
    {
     "data": {
      "text/html": [
       "<div>\n",
       "<style scoped>\n",
       "    .dataframe tbody tr th:only-of-type {\n",
       "        vertical-align: middle;\n",
       "    }\n",
       "\n",
       "    .dataframe tbody tr th {\n",
       "        vertical-align: top;\n",
       "    }\n",
       "\n",
       "    .dataframe thead th {\n",
       "        text-align: right;\n",
       "    }\n",
       "</style>\n",
       "<table border=\"1\" class=\"dataframe\">\n",
       "  <thead>\n",
       "    <tr style=\"text-align: right;\">\n",
       "      <th></th>\n",
       "      <th>R_fighter</th>\n",
       "      <th>B_fighter</th>\n",
       "      <th>Referee</th>\n",
       "      <th>date</th>\n",
       "      <th>Winner</th>\n",
       "      <th>title_bout</th>\n",
       "      <th>weight_class</th>\n",
       "      <th>no_of_rounds</th>\n",
       "      <th>B_current_lose_streak</th>\n",
       "      <th>B_current_win_streak</th>\n",
       "      <th>...</th>\n",
       "      <th>R_age</th>\n",
       "      <th>location_elevation</th>\n",
       "      <th>end_method</th>\n",
       "      <th>end_how</th>\n",
       "      <th>end_round</th>\n",
       "      <th>city</th>\n",
       "      <th>country</th>\n",
       "      <th>attendance</th>\n",
       "      <th>R_home_elevation</th>\n",
       "      <th>B_home_elevation</th>\n",
       "    </tr>\n",
       "  </thead>\n",
       "  <tbody>\n",
       "    <tr>\n",
       "      <td>0</td>\n",
       "      <td>gerard gordeau</td>\n",
       "      <td>kevin rosier</td>\n",
       "      <td>Joao Alberto Barreto</td>\n",
       "      <td>1993-11-12</td>\n",
       "      <td>Red</td>\n",
       "      <td>False</td>\n",
       "      <td>Open Weight</td>\n",
       "      <td>1</td>\n",
       "      <td>0.0</td>\n",
       "      <td>1.0</td>\n",
       "      <td>...</td>\n",
       "      <td>34.0</td>\n",
       "      <td>1734.0</td>\n",
       "      <td>tko</td>\n",
       "      <td>corner stoppage</td>\n",
       "      <td>NaN</td>\n",
       "      <td>denver</td>\n",
       "      <td>usa</td>\n",
       "      <td>7800.0</td>\n",
       "      <td>1.0</td>\n",
       "      <td>146.0</td>\n",
       "    </tr>\n",
       "    <tr>\n",
       "      <td>1</td>\n",
       "      <td>royce gracie</td>\n",
       "      <td>ken shamrock</td>\n",
       "      <td>Joao Alberto Barreto</td>\n",
       "      <td>1993-11-12</td>\n",
       "      <td>Red</td>\n",
       "      <td>False</td>\n",
       "      <td>Open Weight</td>\n",
       "      <td>1</td>\n",
       "      <td>0.0</td>\n",
       "      <td>1.0</td>\n",
       "      <td>...</td>\n",
       "      <td>26.0</td>\n",
       "      <td>1734.0</td>\n",
       "      <td>submission</td>\n",
       "      <td>sleeve choke</td>\n",
       "      <td>NaN</td>\n",
       "      <td>denver</td>\n",
       "      <td>usa</td>\n",
       "      <td>7800.0</td>\n",
       "      <td>27.0</td>\n",
       "      <td>1373.0</td>\n",
       "    </tr>\n",
       "    <tr>\n",
       "      <td>2</td>\n",
       "      <td>jason delucia</td>\n",
       "      <td>trent jenkins</td>\n",
       "      <td>Joao Alberto Barreto</td>\n",
       "      <td>1993-11-12</td>\n",
       "      <td>Red</td>\n",
       "      <td>False</td>\n",
       "      <td>Open Weight</td>\n",
       "      <td>1</td>\n",
       "      <td>0.0</td>\n",
       "      <td>0.0</td>\n",
       "      <td>...</td>\n",
       "      <td>24.0</td>\n",
       "      <td>1734.0</td>\n",
       "      <td>submission</td>\n",
       "      <td>rearnaked choke</td>\n",
       "      <td>NaN</td>\n",
       "      <td>denver</td>\n",
       "      <td>usa</td>\n",
       "      <td>7800.0</td>\n",
       "      <td>89.0</td>\n",
       "      <td>NaN</td>\n",
       "    </tr>\n",
       "    <tr>\n",
       "      <td>3</td>\n",
       "      <td>royce gracie</td>\n",
       "      <td>gerard gordeau</td>\n",
       "      <td>Joao Alberto Barreto</td>\n",
       "      <td>1993-11-12</td>\n",
       "      <td>Red</td>\n",
       "      <td>True</td>\n",
       "      <td>Catch Weight</td>\n",
       "      <td>1</td>\n",
       "      <td>0.0</td>\n",
       "      <td>2.0</td>\n",
       "      <td>...</td>\n",
       "      <td>26.0</td>\n",
       "      <td>1734.0</td>\n",
       "      <td>submission</td>\n",
       "      <td>rear naked choke</td>\n",
       "      <td>NaN</td>\n",
       "      <td>denver</td>\n",
       "      <td>usa</td>\n",
       "      <td>7800.0</td>\n",
       "      <td>27.0</td>\n",
       "      <td>1.0</td>\n",
       "    </tr>\n",
       "    <tr>\n",
       "      <td>4</td>\n",
       "      <td>gerard gordeau</td>\n",
       "      <td>teila tuli</td>\n",
       "      <td>Joao Alberto Barreto</td>\n",
       "      <td>1993-11-12</td>\n",
       "      <td>Red</td>\n",
       "      <td>False</td>\n",
       "      <td>Open Weight</td>\n",
       "      <td>1</td>\n",
       "      <td>0.0</td>\n",
       "      <td>0.0</td>\n",
       "      <td>...</td>\n",
       "      <td>34.0</td>\n",
       "      <td>1734.0</td>\n",
       "      <td>tko</td>\n",
       "      <td>head kick</td>\n",
       "      <td>NaN</td>\n",
       "      <td>denver</td>\n",
       "      <td>usa</td>\n",
       "      <td>7800.0</td>\n",
       "      <td>1.0</td>\n",
       "      <td>6.0</td>\n",
       "    </tr>\n",
       "  </tbody>\n",
       "</table>\n",
       "<p>5 rows × 153 columns</p>\n",
       "</div>"
      ],
      "text/plain": [
       "        R_fighter       B_fighter               Referee        date Winner  \\\n",
       "0  gerard gordeau    kevin rosier  Joao Alberto Barreto  1993-11-12    Red   \n",
       "1    royce gracie    ken shamrock  Joao Alberto Barreto  1993-11-12    Red   \n",
       "2   jason delucia   trent jenkins  Joao Alberto Barreto  1993-11-12    Red   \n",
       "3    royce gracie  gerard gordeau  Joao Alberto Barreto  1993-11-12    Red   \n",
       "4  gerard gordeau      teila tuli  Joao Alberto Barreto  1993-11-12    Red   \n",
       "\n",
       "   title_bout  weight_class  no_of_rounds  B_current_lose_streak  \\\n",
       "0       False   Open Weight             1                    0.0   \n",
       "1       False   Open Weight             1                    0.0   \n",
       "2       False   Open Weight             1                    0.0   \n",
       "3        True  Catch Weight             1                    0.0   \n",
       "4       False   Open Weight             1                    0.0   \n",
       "\n",
       "   B_current_win_streak  ...  R_age  location_elevation  end_method  \\\n",
       "0                   1.0  ...   34.0              1734.0         tko   \n",
       "1                   1.0  ...   26.0              1734.0  submission   \n",
       "2                   0.0  ...   24.0              1734.0  submission   \n",
       "3                   2.0  ...   26.0              1734.0  submission   \n",
       "4                   0.0  ...   34.0              1734.0         tko   \n",
       "\n",
       "            end_how  end_round    city  country  attendance  R_home_elevation  \\\n",
       "0   corner stoppage        NaN  denver      usa      7800.0               1.0   \n",
       "1      sleeve choke        NaN  denver      usa      7800.0              27.0   \n",
       "2   rearnaked choke        NaN  denver      usa      7800.0              89.0   \n",
       "3  rear naked choke        NaN  denver      usa      7800.0              27.0   \n",
       "4         head kick        NaN  denver      usa      7800.0               1.0   \n",
       "\n",
       "   B_home_elevation  \n",
       "0             146.0  \n",
       "1            1373.0  \n",
       "2               NaN  \n",
       "3               1.0  \n",
       "4               6.0  \n",
       "\n",
       "[5 rows x 153 columns]"
      ]
     },
     "execution_count": 2,
     "metadata": {},
     "output_type": "execute_result"
    }
   ],
   "source": [
    "# reading the data\n",
    "data = pd.read_csv('../generated_data/combined_fight_data.csv', low_memory=False)\n",
    "data.head()"
   ]
  },
  {
   "cell_type": "markdown",
   "metadata": {},
   "source": [
    "## 2. Data Exploration"
   ]
  },
  {
   "cell_type": "code",
   "execution_count": 3,
   "metadata": {},
   "outputs": [
    {
     "name": "stdout",
     "output_type": "stream",
     "text": [
      "<class 'pandas.core.frame.DataFrame'>\n",
      "RangeIndex: 5062 entries, 0 to 5061\n",
      "Data columns (total 153 columns):\n",
      "R_fighter                       5062 non-null object\n",
      "B_fighter                       5062 non-null object\n",
      "Referee                         5040 non-null object\n",
      "date                            5062 non-null object\n",
      "Winner                          5062 non-null object\n",
      "title_bout                      5062 non-null bool\n",
      "weight_class                    5062 non-null object\n",
      "no_of_rounds                    5062 non-null int64\n",
      "B_current_lose_streak           5062 non-null float64\n",
      "B_current_win_streak            5062 non-null float64\n",
      "B_draw                          5062 non-null float64\n",
      "B_avg_BODY_att                  3821 non-null float64\n",
      "B_avg_BODY_landed               3821 non-null float64\n",
      "B_avg_CLINCH_att                3821 non-null float64\n",
      "B_avg_CLINCH_landed             3821 non-null float64\n",
      "B_avg_DISTANCE_att              3821 non-null float64\n",
      "B_avg_DISTANCE_landed           3821 non-null float64\n",
      "B_avg_GROUND_att                3821 non-null float64\n",
      "B_avg_GROUND_landed             3821 non-null float64\n",
      "B_avg_HEAD_att                  3821 non-null float64\n",
      "B_avg_HEAD_landed               3821 non-null float64\n",
      "B_avg_KD                        3821 non-null float64\n",
      "B_avg_LEG_att                   3821 non-null float64\n",
      "B_avg_LEG_landed                3821 non-null float64\n",
      "B_avg_PASS                      3821 non-null float64\n",
      "B_avg_REV                       3821 non-null float64\n",
      "B_avg_SIG_STR_att               3821 non-null float64\n",
      "B_avg_SIG_STR_landed            3821 non-null float64\n",
      "B_avg_SIG_STR_pct               3821 non-null float64\n",
      "B_avg_SUB_ATT                   3821 non-null float64\n",
      "B_avg_TD_att                    3821 non-null float64\n",
      "B_avg_TD_landed                 3821 non-null float64\n",
      "B_avg_TD_pct                    3821 non-null float64\n",
      "B_avg_TOTAL_STR_att             3821 non-null float64\n",
      "B_avg_TOTAL_STR_landed          3821 non-null float64\n",
      "B_longest_win_streak            5062 non-null float64\n",
      "B_losses                        5062 non-null float64\n",
      "B_avg_opp_BODY_att              3821 non-null float64\n",
      "B_avg_opp_BODY_landed           3821 non-null float64\n",
      "B_avg_opp_CLINCH_att            3821 non-null float64\n",
      "B_avg_opp_CLINCH_landed         3821 non-null float64\n",
      "B_avg_opp_DISTANCE_att          3821 non-null float64\n",
      "B_avg_opp_DISTANCE_landed       3821 non-null float64\n",
      "B_avg_opp_GROUND_att            3821 non-null float64\n",
      "B_avg_opp_GROUND_landed         3821 non-null float64\n",
      "B_avg_opp_HEAD_att              3821 non-null float64\n",
      "B_avg_opp_HEAD_landed           3821 non-null float64\n",
      "B_avg_opp_KD                    3821 non-null float64\n",
      "B_avg_opp_LEG_att               3821 non-null float64\n",
      "B_avg_opp_LEG_landed            3821 non-null float64\n",
      "B_avg_opp_PASS                  3821 non-null float64\n",
      "B_avg_opp_REV                   3821 non-null float64\n",
      "B_avg_opp_SIG_STR_att           3821 non-null float64\n",
      "B_avg_opp_SIG_STR_landed        3821 non-null float64\n",
      "B_avg_opp_SIG_STR_pct           3821 non-null float64\n",
      "B_avg_opp_SUB_ATT               3821 non-null float64\n",
      "B_avg_opp_TD_att                3821 non-null float64\n",
      "B_avg_opp_TD_landed             3821 non-null float64\n",
      "B_avg_opp_TD_pct                3821 non-null float64\n",
      "B_avg_opp_TOTAL_STR_att         3821 non-null float64\n",
      "B_avg_opp_TOTAL_STR_landed      3821 non-null float64\n",
      "B_total_rounds_fought           5062 non-null float64\n",
      "B_total_time_fought(seconds)    3821 non-null float64\n",
      "B_total_title_bouts             5062 non-null float64\n",
      "B_win_by_Decision_Majority      5062 non-null float64\n",
      "B_win_by_Decision_Split         5062 non-null float64\n",
      "B_win_by_Decision_Unanimous     5062 non-null float64\n",
      "B_win_by_KO/TKO                 5062 non-null float64\n",
      "B_win_by_Submission             5062 non-null float64\n",
      "B_win_by_TKO_Doctor_Stoppage    5062 non-null float64\n",
      "B_wins                          5062 non-null float64\n",
      "B_Stance                        4908 non-null object\n",
      "B_Height_cms                    5054 non-null float64\n",
      "B_Reach_cms                     4406 non-null float64\n",
      "B_Weight_lbs                    5056 non-null float64\n",
      "R_current_lose_streak           5062 non-null float64\n",
      "R_current_win_streak            5062 non-null float64\n",
      "R_draw                          5062 non-null float64\n",
      "R_avg_BODY_att                  4422 non-null float64\n",
      "R_avg_BODY_landed               4422 non-null float64\n",
      "R_avg_CLINCH_att                4422 non-null float64\n",
      "R_avg_CLINCH_landed             4422 non-null float64\n",
      "R_avg_DISTANCE_att              4422 non-null float64\n",
      "R_avg_DISTANCE_landed           4422 non-null float64\n",
      "R_avg_GROUND_att                4422 non-null float64\n",
      "R_avg_GROUND_landed             4422 non-null float64\n",
      "R_avg_HEAD_att                  4422 non-null float64\n",
      "R_avg_HEAD_landed               4422 non-null float64\n",
      "R_avg_KD                        4422 non-null float64\n",
      "R_avg_LEG_att                   4422 non-null float64\n",
      "R_avg_LEG_landed                4422 non-null float64\n",
      "R_avg_PASS                      4422 non-null float64\n",
      "R_avg_REV                       4422 non-null float64\n",
      "R_avg_SIG_STR_att               4422 non-null float64\n",
      "R_avg_SIG_STR_landed            4422 non-null float64\n",
      "R_avg_SIG_STR_pct               4422 non-null float64\n",
      "R_avg_SUB_ATT                   4422 non-null float64\n",
      "R_avg_TD_att                    4422 non-null float64\n",
      "R_avg_TD_landed                 4422 non-null float64\n",
      "R_avg_TD_pct                    4422 non-null float64\n",
      "R_avg_TOTAL_STR_att             4422 non-null float64\n",
      "R_avg_TOTAL_STR_landed          4422 non-null float64\n",
      "R_longest_win_streak            5062 non-null float64\n",
      "R_losses                        5062 non-null float64\n",
      "R_avg_opp_BODY_att              4422 non-null float64\n",
      "R_avg_opp_BODY_landed           4422 non-null float64\n",
      "R_avg_opp_CLINCH_att            4422 non-null float64\n",
      "R_avg_opp_CLINCH_landed         4422 non-null float64\n",
      "R_avg_opp_DISTANCE_att          4422 non-null float64\n",
      "R_avg_opp_DISTANCE_landed       4422 non-null float64\n",
      "R_avg_opp_GROUND_att            4422 non-null float64\n",
      "R_avg_opp_GROUND_landed         4422 non-null float64\n",
      "R_avg_opp_HEAD_att              4422 non-null float64\n",
      "R_avg_opp_HEAD_landed           4422 non-null float64\n",
      "R_avg_opp_KD                    4422 non-null float64\n",
      "R_avg_opp_LEG_att               4422 non-null float64\n",
      "R_avg_opp_LEG_landed            4422 non-null float64\n",
      "R_avg_opp_PASS                  4422 non-null float64\n",
      "R_avg_opp_REV                   4422 non-null float64\n",
      "R_avg_opp_SIG_STR_att           4422 non-null float64\n",
      "R_avg_opp_SIG_STR_landed        4422 non-null float64\n",
      "R_avg_opp_SIG_STR_pct           4422 non-null float64\n",
      "R_avg_opp_SUB_ATT               4422 non-null float64\n",
      "R_avg_opp_TD_att                4422 non-null float64\n",
      "R_avg_opp_TD_landed             4422 non-null float64\n",
      "R_avg_opp_TD_pct                4422 non-null float64\n",
      "R_avg_opp_TOTAL_STR_att         4422 non-null float64\n",
      "R_avg_opp_TOTAL_STR_landed      4422 non-null float64\n",
      "R_total_rounds_fought           5062 non-null float64\n",
      "R_total_time_fought(seconds)    4422 non-null float64\n",
      "R_total_title_bouts             5062 non-null float64\n",
      "R_win_by_Decision_Majority      5062 non-null float64\n",
      "R_win_by_Decision_Split         5062 non-null float64\n",
      "R_win_by_Decision_Unanimous     5062 non-null float64\n",
      "R_win_by_KO/TKO                 5062 non-null float64\n",
      "R_win_by_Submission             5062 non-null float64\n",
      "R_win_by_TKO_Doctor_Stoppage    5062 non-null float64\n",
      "R_wins                          5062 non-null float64\n",
      "R_Stance                        4930 non-null object\n",
      "R_Height_cms                    5058 non-null float64\n",
      "R_Reach_cms                     4752 non-null float64\n",
      "R_Weight_lbs                    5059 non-null float64\n",
      "B_age                           4891 non-null float64\n",
      "R_age                           4999 non-null float64\n",
      "location_elevation              5062 non-null float64\n",
      "end_method                      5054 non-null object\n",
      "end_how                         5049 non-null object\n",
      "end_round                       4877 non-null float64\n",
      "city                            5054 non-null object\n",
      "country                         5054 non-null object\n",
      "attendance                      4859 non-null float64\n",
      "R_home_elevation                4159 non-null float64\n",
      "B_home_elevation                3883 non-null float64\n",
      "dtypes: bool(1), float64(139), int64(1), object(12)\n",
      "memory usage: 5.9+ MB\n"
     ]
    }
   ],
   "source": [
    "# Checking nulls\n",
    "data.info(null_counts=True, verbose=True)"
   ]
  },
  {
   "cell_type": "code",
   "execution_count": 4,
   "metadata": {
    "scrolled": true
   },
   "outputs": [
    {
     "data": {
      "text/plain": [
       "96205"
      ]
     },
     "execution_count": 4,
     "metadata": {},
     "output_type": "execute_result"
    }
   ],
   "source": [
    "# Counting total nulls\n",
    "data.isnull().sum().sum()"
   ]
  },
  {
   "cell_type": "code",
   "execution_count": 5,
   "metadata": {},
   "outputs": [
    {
     "data": {
      "text/plain": [
       "49"
      ]
     },
     "execution_count": 5,
     "metadata": {},
     "output_type": "execute_result"
    }
   ],
   "source": [
    "# stats on columns with more than 1200 nulls\n",
    "null_stats = data.isnull().sum()\n",
    "len(null_stats[null_stats > 1240])"
   ]
  },
  {
   "cell_type": "code",
   "execution_count": 6,
   "metadata": {},
   "outputs": [
    {
     "data": {
      "text/plain": [
       "117"
      ]
     },
     "execution_count": 6,
     "metadata": {},
     "output_type": "execute_result"
    }
   ],
   "source": [
    "# stats on columns with any nulls\n",
    "len(null_stats[null_stats > 0])"
   ]
  },
  {
   "cell_type": "code",
   "execution_count": 7,
   "metadata": {},
   "outputs": [
    {
     "data": {
      "text/plain": [
       "R_fighter       object\n",
       "B_fighter       object\n",
       "Referee         object\n",
       "date            object\n",
       "Winner          object\n",
       "weight_class    object\n",
       "B_Stance        object\n",
       "R_Stance        object\n",
       "end_method      object\n",
       "end_how         object\n",
       "city            object\n",
       "country         object\n",
       "dtype: object"
      ]
     },
     "execution_count": 7,
     "metadata": {},
     "output_type": "execute_result"
    }
   ],
   "source": [
    "# checking object columns\n",
    "data.dtypes[data.dtypes == object]"
   ]
  },
  {
   "cell_type": "code",
   "execution_count": 8,
   "metadata": {},
   "outputs": [
    {
     "data": {
      "text/plain": [
       "12"
      ]
     },
     "execution_count": 8,
     "metadata": {},
     "output_type": "execute_result"
    }
   ],
   "source": [
    "data.dtypes[data.dtypes == object].count()"
   ]
  },
  {
   "cell_type": "markdown",
   "metadata": {},
   "source": [
    "## 3. Data Preprocessing"
   ]
  },
  {
   "cell_type": "markdown",
   "metadata": {},
   "source": [
    "### 3.1 Converting target column to bool type"
   ]
  },
  {
   "cell_type": "code",
   "execution_count": 9,
   "metadata": {},
   "outputs": [],
   "source": [
    "# changing winner label to bool and keeping whether or not Red fighter won\n",
    "data['Winner'] = data['Winner'].apply(lambda x: 1 if x == 'Red' else 0)\n",
    "data['R_Winner'] = data['Winner']"
   ]
  },
  {
   "cell_type": "markdown",
   "metadata": {},
   "source": [
    "### 3.2 Dropping the useless columns"
   ]
  },
  {
   "cell_type": "code",
   "execution_count": 10,
   "metadata": {},
   "outputs": [],
   "source": [
    "data = data.drop(columns=['R_fighter', 'B_fighter', 'Referee', 'date', 'city', 'country', 'Winner', 'end_method' ,'end_how'])\n",
    "data = data.fillna(0)"
   ]
  },
  {
   "cell_type": "markdown",
   "metadata": {},
   "source": [
    "### 3.3 One hot encoding the categorical columns"
   ]
  },
  {
   "cell_type": "code",
   "execution_count": 11,
   "metadata": {},
   "outputs": [
    {
     "data": {
      "text/plain": [
       "(5062, 168)"
      ]
     },
     "execution_count": 11,
     "metadata": {},
     "output_type": "execute_result"
    }
   ],
   "source": [
    "# weight_class, B_Stance, R_Stance\n",
    "data = pd.get_dummies(data, columns=['weight_class', 'B_Stance', 'R_Stance'])\n",
    "data.shape"
   ]
  },
  {
   "cell_type": "markdown",
   "metadata": {},
   "source": [
    "### 3.4 Getting features and labels"
   ]
  },
  {
   "cell_type": "code",
   "execution_count": 12,
   "metadata": {
    "scrolled": true
   },
   "outputs": [
    {
     "data": {
      "text/html": [
       "<div>\n",
       "<style scoped>\n",
       "    .dataframe tbody tr th:only-of-type {\n",
       "        vertical-align: middle;\n",
       "    }\n",
       "\n",
       "    .dataframe tbody tr th {\n",
       "        vertical-align: top;\n",
       "    }\n",
       "\n",
       "    .dataframe thead th {\n",
       "        text-align: right;\n",
       "    }\n",
       "</style>\n",
       "<table border=\"1\" class=\"dataframe\">\n",
       "  <thead>\n",
       "    <tr style=\"text-align: right;\">\n",
       "      <th></th>\n",
       "      <th>title_bout</th>\n",
       "      <th>no_of_rounds</th>\n",
       "      <th>B_current_lose_streak</th>\n",
       "      <th>B_current_win_streak</th>\n",
       "      <th>B_draw</th>\n",
       "      <th>B_avg_BODY_att</th>\n",
       "      <th>B_avg_BODY_landed</th>\n",
       "      <th>B_avg_CLINCH_att</th>\n",
       "      <th>B_avg_CLINCH_landed</th>\n",
       "      <th>B_avg_DISTANCE_att</th>\n",
       "      <th>...</th>\n",
       "      <th>B_Stance_Orthodox</th>\n",
       "      <th>B_Stance_Sideways</th>\n",
       "      <th>B_Stance_Southpaw</th>\n",
       "      <th>B_Stance_Switch</th>\n",
       "      <th>R_Stance_0</th>\n",
       "      <th>R_Stance_Open Stance</th>\n",
       "      <th>R_Stance_Orthodox</th>\n",
       "      <th>R_Stance_Sideways</th>\n",
       "      <th>R_Stance_Southpaw</th>\n",
       "      <th>R_Stance_Switch</th>\n",
       "    </tr>\n",
       "  </thead>\n",
       "  <tbody>\n",
       "    <tr>\n",
       "      <td>0</td>\n",
       "      <td>False</td>\n",
       "      <td>1</td>\n",
       "      <td>0.0</td>\n",
       "      <td>1.0</td>\n",
       "      <td>0.0</td>\n",
       "      <td>4.00</td>\n",
       "      <td>3.00</td>\n",
       "      <td>9.00</td>\n",
       "      <td>4.0</td>\n",
       "      <td>10.0</td>\n",
       "      <td>...</td>\n",
       "      <td>1</td>\n",
       "      <td>0</td>\n",
       "      <td>0</td>\n",
       "      <td>0</td>\n",
       "      <td>0</td>\n",
       "      <td>0</td>\n",
       "      <td>1</td>\n",
       "      <td>0</td>\n",
       "      <td>0</td>\n",
       "      <td>0</td>\n",
       "    </tr>\n",
       "    <tr>\n",
       "      <td>1</td>\n",
       "      <td>False</td>\n",
       "      <td>1</td>\n",
       "      <td>0.0</td>\n",
       "      <td>1.0</td>\n",
       "      <td>0.0</td>\n",
       "      <td>0.00</td>\n",
       "      <td>0.00</td>\n",
       "      <td>0.00</td>\n",
       "      <td>0.0</td>\n",
       "      <td>0.0</td>\n",
       "      <td>...</td>\n",
       "      <td>1</td>\n",
       "      <td>0</td>\n",
       "      <td>0</td>\n",
       "      <td>0</td>\n",
       "      <td>0</td>\n",
       "      <td>0</td>\n",
       "      <td>0</td>\n",
       "      <td>0</td>\n",
       "      <td>1</td>\n",
       "      <td>0</td>\n",
       "    </tr>\n",
       "    <tr>\n",
       "      <td>2</td>\n",
       "      <td>False</td>\n",
       "      <td>1</td>\n",
       "      <td>0.0</td>\n",
       "      <td>0.0</td>\n",
       "      <td>0.0</td>\n",
       "      <td>0.00</td>\n",
       "      <td>0.00</td>\n",
       "      <td>0.00</td>\n",
       "      <td>0.0</td>\n",
       "      <td>0.0</td>\n",
       "      <td>...</td>\n",
       "      <td>0</td>\n",
       "      <td>0</td>\n",
       "      <td>0</td>\n",
       "      <td>0</td>\n",
       "      <td>0</td>\n",
       "      <td>0</td>\n",
       "      <td>0</td>\n",
       "      <td>0</td>\n",
       "      <td>1</td>\n",
       "      <td>0</td>\n",
       "    </tr>\n",
       "    <tr>\n",
       "      <td>3</td>\n",
       "      <td>True</td>\n",
       "      <td>1</td>\n",
       "      <td>0.0</td>\n",
       "      <td>2.0</td>\n",
       "      <td>0.0</td>\n",
       "      <td>0.50</td>\n",
       "      <td>0.50</td>\n",
       "      <td>0.00</td>\n",
       "      <td>0.0</td>\n",
       "      <td>5.5</td>\n",
       "      <td>...</td>\n",
       "      <td>1</td>\n",
       "      <td>0</td>\n",
       "      <td>0</td>\n",
       "      <td>0</td>\n",
       "      <td>0</td>\n",
       "      <td>0</td>\n",
       "      <td>0</td>\n",
       "      <td>0</td>\n",
       "      <td>1</td>\n",
       "      <td>0</td>\n",
       "    </tr>\n",
       "    <tr>\n",
       "      <td>4</td>\n",
       "      <td>False</td>\n",
       "      <td>1</td>\n",
       "      <td>0.0</td>\n",
       "      <td>0.0</td>\n",
       "      <td>0.0</td>\n",
       "      <td>0.00</td>\n",
       "      <td>0.00</td>\n",
       "      <td>0.00</td>\n",
       "      <td>0.0</td>\n",
       "      <td>0.0</td>\n",
       "      <td>...</td>\n",
       "      <td>1</td>\n",
       "      <td>0</td>\n",
       "      <td>0</td>\n",
       "      <td>0</td>\n",
       "      <td>0</td>\n",
       "      <td>0</td>\n",
       "      <td>1</td>\n",
       "      <td>0</td>\n",
       "      <td>0</td>\n",
       "      <td>0</td>\n",
       "    </tr>\n",
       "    <tr>\n",
       "      <td>...</td>\n",
       "      <td>...</td>\n",
       "      <td>...</td>\n",
       "      <td>...</td>\n",
       "      <td>...</td>\n",
       "      <td>...</td>\n",
       "      <td>...</td>\n",
       "      <td>...</td>\n",
       "      <td>...</td>\n",
       "      <td>...</td>\n",
       "      <td>...</td>\n",
       "      <td>...</td>\n",
       "      <td>...</td>\n",
       "      <td>...</td>\n",
       "      <td>...</td>\n",
       "      <td>...</td>\n",
       "      <td>...</td>\n",
       "      <td>...</td>\n",
       "      <td>...</td>\n",
       "      <td>...</td>\n",
       "      <td>...</td>\n",
       "      <td>...</td>\n",
       "    </tr>\n",
       "    <tr>\n",
       "      <td>5057</td>\n",
       "      <td>True</td>\n",
       "      <td>5</td>\n",
       "      <td>0.0</td>\n",
       "      <td>4.0</td>\n",
       "      <td>0.0</td>\n",
       "      <td>9.20</td>\n",
       "      <td>6.00</td>\n",
       "      <td>0.20</td>\n",
       "      <td>0.0</td>\n",
       "      <td>62.6</td>\n",
       "      <td>...</td>\n",
       "      <td>1</td>\n",
       "      <td>0</td>\n",
       "      <td>0</td>\n",
       "      <td>0</td>\n",
       "      <td>0</td>\n",
       "      <td>0</td>\n",
       "      <td>1</td>\n",
       "      <td>0</td>\n",
       "      <td>0</td>\n",
       "      <td>0</td>\n",
       "    </tr>\n",
       "    <tr>\n",
       "      <td>5058</td>\n",
       "      <td>False</td>\n",
       "      <td>3</td>\n",
       "      <td>0.0</td>\n",
       "      <td>1.0</td>\n",
       "      <td>0.0</td>\n",
       "      <td>17.00</td>\n",
       "      <td>14.50</td>\n",
       "      <td>2.50</td>\n",
       "      <td>2.0</td>\n",
       "      <td>201.0</td>\n",
       "      <td>...</td>\n",
       "      <td>0</td>\n",
       "      <td>0</td>\n",
       "      <td>1</td>\n",
       "      <td>0</td>\n",
       "      <td>0</td>\n",
       "      <td>0</td>\n",
       "      <td>0</td>\n",
       "      <td>0</td>\n",
       "      <td>1</td>\n",
       "      <td>0</td>\n",
       "    </tr>\n",
       "    <tr>\n",
       "      <td>5059</td>\n",
       "      <td>False</td>\n",
       "      <td>3</td>\n",
       "      <td>0.0</td>\n",
       "      <td>0.0</td>\n",
       "      <td>0.0</td>\n",
       "      <td>0.00</td>\n",
       "      <td>0.00</td>\n",
       "      <td>0.00</td>\n",
       "      <td>0.0</td>\n",
       "      <td>0.0</td>\n",
       "      <td>...</td>\n",
       "      <td>0</td>\n",
       "      <td>0</td>\n",
       "      <td>0</td>\n",
       "      <td>1</td>\n",
       "      <td>0</td>\n",
       "      <td>0</td>\n",
       "      <td>1</td>\n",
       "      <td>0</td>\n",
       "      <td>0</td>\n",
       "      <td>0</td>\n",
       "    </tr>\n",
       "    <tr>\n",
       "      <td>5060</td>\n",
       "      <td>False</td>\n",
       "      <td>3</td>\n",
       "      <td>0.0</td>\n",
       "      <td>1.0</td>\n",
       "      <td>0.0</td>\n",
       "      <td>7.25</td>\n",
       "      <td>4.75</td>\n",
       "      <td>1.75</td>\n",
       "      <td>0.5</td>\n",
       "      <td>125.0</td>\n",
       "      <td>...</td>\n",
       "      <td>1</td>\n",
       "      <td>0</td>\n",
       "      <td>0</td>\n",
       "      <td>0</td>\n",
       "      <td>0</td>\n",
       "      <td>0</td>\n",
       "      <td>1</td>\n",
       "      <td>0</td>\n",
       "      <td>0</td>\n",
       "      <td>0</td>\n",
       "    </tr>\n",
       "    <tr>\n",
       "      <td>5061</td>\n",
       "      <td>False</td>\n",
       "      <td>3</td>\n",
       "      <td>0.0</td>\n",
       "      <td>4.0</td>\n",
       "      <td>0.0</td>\n",
       "      <td>17.00</td>\n",
       "      <td>14.00</td>\n",
       "      <td>13.75</td>\n",
       "      <td>11.0</td>\n",
       "      <td>109.5</td>\n",
       "      <td>...</td>\n",
       "      <td>0</td>\n",
       "      <td>0</td>\n",
       "      <td>0</td>\n",
       "      <td>1</td>\n",
       "      <td>0</td>\n",
       "      <td>0</td>\n",
       "      <td>1</td>\n",
       "      <td>0</td>\n",
       "      <td>0</td>\n",
       "      <td>0</td>\n",
       "    </tr>\n",
       "  </tbody>\n",
       "</table>\n",
       "<p>5062 rows × 167 columns</p>\n",
       "</div>"
      ],
      "text/plain": [
       "      title_bout  no_of_rounds  B_current_lose_streak  B_current_win_streak  \\\n",
       "0          False             1                    0.0                   1.0   \n",
       "1          False             1                    0.0                   1.0   \n",
       "2          False             1                    0.0                   0.0   \n",
       "3           True             1                    0.0                   2.0   \n",
       "4          False             1                    0.0                   0.0   \n",
       "...          ...           ...                    ...                   ...   \n",
       "5057        True             5                    0.0                   4.0   \n",
       "5058       False             3                    0.0                   1.0   \n",
       "5059       False             3                    0.0                   0.0   \n",
       "5060       False             3                    0.0                   1.0   \n",
       "5061       False             3                    0.0                   4.0   \n",
       "\n",
       "      B_draw  B_avg_BODY_att  B_avg_BODY_landed  B_avg_CLINCH_att  \\\n",
       "0        0.0            4.00               3.00              9.00   \n",
       "1        0.0            0.00               0.00              0.00   \n",
       "2        0.0            0.00               0.00              0.00   \n",
       "3        0.0            0.50               0.50              0.00   \n",
       "4        0.0            0.00               0.00              0.00   \n",
       "...      ...             ...                ...               ...   \n",
       "5057     0.0            9.20               6.00              0.20   \n",
       "5058     0.0           17.00              14.50              2.50   \n",
       "5059     0.0            0.00               0.00              0.00   \n",
       "5060     0.0            7.25               4.75              1.75   \n",
       "5061     0.0           17.00              14.00             13.75   \n",
       "\n",
       "      B_avg_CLINCH_landed  B_avg_DISTANCE_att  ...  B_Stance_Orthodox  \\\n",
       "0                     4.0                10.0  ...                  1   \n",
       "1                     0.0                 0.0  ...                  1   \n",
       "2                     0.0                 0.0  ...                  0   \n",
       "3                     0.0                 5.5  ...                  1   \n",
       "4                     0.0                 0.0  ...                  1   \n",
       "...                   ...                 ...  ...                ...   \n",
       "5057                  0.0                62.6  ...                  1   \n",
       "5058                  2.0               201.0  ...                  0   \n",
       "5059                  0.0                 0.0  ...                  0   \n",
       "5060                  0.5               125.0  ...                  1   \n",
       "5061                 11.0               109.5  ...                  0   \n",
       "\n",
       "      B_Stance_Sideways  B_Stance_Southpaw  B_Stance_Switch  R_Stance_0  \\\n",
       "0                     0                  0                0           0   \n",
       "1                     0                  0                0           0   \n",
       "2                     0                  0                0           0   \n",
       "3                     0                  0                0           0   \n",
       "4                     0                  0                0           0   \n",
       "...                 ...                ...              ...         ...   \n",
       "5057                  0                  0                0           0   \n",
       "5058                  0                  1                0           0   \n",
       "5059                  0                  0                1           0   \n",
       "5060                  0                  0                0           0   \n",
       "5061                  0                  0                1           0   \n",
       "\n",
       "      R_Stance_Open Stance  R_Stance_Orthodox  R_Stance_Sideways  \\\n",
       "0                        0                  1                  0   \n",
       "1                        0                  0                  0   \n",
       "2                        0                  0                  0   \n",
       "3                        0                  0                  0   \n",
       "4                        0                  1                  0   \n",
       "...                    ...                ...                ...   \n",
       "5057                     0                  1                  0   \n",
       "5058                     0                  0                  0   \n",
       "5059                     0                  1                  0   \n",
       "5060                     0                  1                  0   \n",
       "5061                     0                  1                  0   \n",
       "\n",
       "      R_Stance_Southpaw  R_Stance_Switch  \n",
       "0                     0                0  \n",
       "1                     1                0  \n",
       "2                     1                0  \n",
       "3                     1                0  \n",
       "4                     0                0  \n",
       "...                 ...              ...  \n",
       "5057                  0                0  \n",
       "5058                  1                0  \n",
       "5059                  0                0  \n",
       "5060                  0                0  \n",
       "5061                  0                0  \n",
       "\n",
       "[5062 rows x 167 columns]"
      ]
     },
     "execution_count": 12,
     "metadata": {},
     "output_type": "execute_result"
    }
   ],
   "source": [
    "features = data.loc[:, data.columns != 'R_Winner']\n",
    "features"
   ]
  },
  {
   "cell_type": "code",
   "execution_count": 13,
   "metadata": {},
   "outputs": [
    {
     "data": {
      "text/plain": [
       "0        True\n",
       "1        True\n",
       "2        True\n",
       "3        True\n",
       "4        True\n",
       "        ...  \n",
       "5057     True\n",
       "5058    False\n",
       "5059     True\n",
       "5060    False\n",
       "5061    False\n",
       "Name: R_Winner, Length: 5062, dtype: bool"
      ]
     },
     "execution_count": 13,
     "metadata": {},
     "output_type": "execute_result"
    }
   ],
   "source": [
    "labels = data.loc[:, 'R_Winner'].astype('bool')\n",
    "labels"
   ]
  },
  {
   "cell_type": "markdown",
   "metadata": {},
   "source": [
    "## 4. LogisticRegression, LinearSVC, KNeighborsClassifier"
   ]
  },
  {
   "cell_type": "code",
   "execution_count": 14,
   "metadata": {},
   "outputs": [],
   "source": [
    "def run_logistic_regression(X_train, X_test, y_train, y_test, params):\n",
    "    # creating logistic classifier\n",
    "    logistic = LogisticRegression(**params)\n",
    "    \n",
    "    # fitting training data and predicting test data\n",
    "    logistic.fit(X_train, y_train)\n",
    "    logistic_predict = logistic.predict(X_test)\n",
    "    \n",
    "    # compute the performance metrics\n",
    "    conf_matrix = confusion_matrix(y_test, logistic_predict)\n",
    "    fscore = f1_score(y_test, logistic_predict, average=None)\n",
    "    accr_score = accuracy_score(y_test, logistic_predict)\n",
    "    \n",
    "    # return the performance metrics\n",
    "    return conf_matrix, fscore, accr_score\n",
    "\n",
    "\n",
    "def run_knn_classification(X_train, X_test, y_train, y_test, params):\n",
    "    # creating KNN classifier\n",
    "    knn = KNeighborsClassifier(**params)\n",
    "    \n",
    "    # fitting training data and predicting test data\n",
    "    knn.fit(X_train, y_train)\n",
    "    knn_predict = knn.predict(X_test)\n",
    "\n",
    "    # compute the performance metrics\n",
    "    conf_matrix = confusion_matrix(y_test, knn_predict)\n",
    "    fscore = f1_score(y_test, knn_predict, average=None)\n",
    "    accr_score = accuracy_score(y_test, knn_predict)\n",
    "    \n",
    "    # return the performance metrics\n",
    "    return conf_matrix, fscore, accr_score\n",
    "\n",
    "\n",
    "def run_svc_classification(X_train, X_test, y_train, y_test, params):\n",
    "    # creating SVC classifier\n",
    "    svc = LinearSVC(**params)\n",
    "    \n",
    "    # fitting training data and predicting test data\n",
    "    svc.fit(X_train, y_train)\n",
    "    svc_predict = svc.predict(X_test)\n",
    "\n",
    "    # compute the performance metrics\n",
    "    conf_matrix = confusion_matrix(y_test, svc_predict)\n",
    "    fscore = f1_score(y_test, svc_predict, average=None)\n",
    "    accr_score = accuracy_score(y_test, svc_predict)\n",
    "    \n",
    "    # return the performance metrics\n",
    "    return conf_matrix, fscore, accr_score\n",
    "\n",
    "\n",
    "def run_all_models(features, labels, scaler, log_params, knn_params, svc_params):\n",
    "    # arrays to store the results\n",
    "    logistic_cm = []\n",
    "    knn_cm = []\n",
    "    svc_cm = []\n",
    "\n",
    "    logistic_fscore = []\n",
    "    knn_fscore = []\n",
    "    svc_fscore = []\n",
    "\n",
    "    logistic_score = []\n",
    "    knn_score = []\n",
    "    svc_score = []\n",
    "    \n",
    "    for seed in range(1, 6):\n",
    "        X_train, X_test, y_train, y_test = train_test_split(features, labels, \n",
    "                                                            random_state=seed,\n",
    "                                                            test_size=0.20)\n",
    "        \n",
    "        \n",
    "        X_train_scaled = X_train\n",
    "        X_test_scaled = X_test\n",
    "        \n",
    "        # if scaler is provided then scale the data\n",
    "        if(scaler != None):\n",
    "            # fitting on training data\n",
    "            scaler.fit(X_train)\n",
    "            \n",
    "            #transforming both training and testing data\n",
    "            X_train_scaled = scaler.transform(X_train)\n",
    "            X_test_scaled = scaler.transform(X_test)\n",
    "    \n",
    "        # run the models and get results\n",
    "        logis_results = run_logistic_regression(X_train_scaled, X_test_scaled, y_train, y_test, log_params)\n",
    "        knn_results = run_knn_classification(X_train_scaled, X_test_scaled, y_train, y_test, knn_params)\n",
    "        svc_results = run_svc_classification(X_train_scaled, X_test_scaled, y_train, y_test, svc_params)\n",
    "        \n",
    "        # add the results to the result arrays\n",
    "        logistic_cm.append(logis_results[0])\n",
    "        knn_cm.append(knn_results[0])\n",
    "        svc_cm.append(svc_results[0])\n",
    "\n",
    "        logistic_fscore.append(logis_results[1])\n",
    "        knn_fscore.append(knn_results[1])\n",
    "        svc_fscore.append(svc_results[1])\n",
    "\n",
    "        logistic_score.append(logis_results[2])\n",
    "        knn_score.append(knn_results[2])\n",
    "        svc_score.append(svc_results[2])\n",
    "    \n",
    "    \n",
    "    # printing the results\n",
    "    print('Logistic confusion matrix:\\n', np.mean(np.array(logistic_cm), axis=0))\n",
    "    print('Logistic f-score:', np.mean(np.array(logistic_fscore)))  \n",
    "    print('Logistic accuracy score:', np.mean(np.array(logistic_score)), '\\n')  \n",
    "\n",
    "    print('KNN score:\\n', np.mean(np.array(knn_cm), axis=0))\n",
    "    print('KNN f-score:', np.mean(np.array(knn_fscore)))  \n",
    "    print('KNN accuracy score:', np.mean(np.array(knn_score)), '\\n')  \n",
    "\n",
    "    print('SVC score:\\n', np.mean(np.array(svc_cm), axis=0))\n",
    "    print('SVC f-score:', np.mean(np.array(svc_fscore)))\n",
    "    print('SVC accuracy score:', np.mean(np.array(svc_score)), '\\n')  "
   ]
  },
  {
   "cell_type": "markdown",
   "metadata": {},
   "source": [
    "### 4.1 Running LogisticRegression, LinearSVC, KNeighborsClassifier without Scaling"
   ]
  },
  {
   "cell_type": "code",
   "execution_count": 15,
   "metadata": {},
   "outputs": [
    {
     "name": "stdout",
     "output_type": "stream",
     "text": [
      "Logistic confusion matrix:\n",
      " [[ 89.8 226. ]\n",
      " [ 83.8 613.4]]\n",
      "Logistic f-score: 0.5826485642408356\n",
      "Logistic accuracy score: 0.6941757156959525 \n",
      "\n",
      "KNN score:\n",
      " [[ 89.  226.8]\n",
      " [132.6 564.6]]\n",
      "KNN f-score: 0.5447978539022429\n",
      "KNN accuracy score: 0.6452122408687069 \n",
      "\n",
      "SVC score:\n",
      " [[207.2 108.6]\n",
      " [324.6 372.6]]\n",
      "SVC f-score: 0.521072861369706\n",
      "SVC accuracy score: 0.5723593287265548 \n",
      "\n"
     ]
    }
   ],
   "source": [
    "# logistic params\n",
    "log_params = {'solver': 'liblinear', 'random_state': 42}\n",
    "\n",
    "# knn params\n",
    "knn_params = {'n_jobs': -1}\n",
    "\n",
    "# svc params\n",
    "svc_params = {'max_iter': 5000, 'random_state': 42}\n",
    "\n",
    "run_all_models(features, labels, None, log_params, knn_params, svc_params)"
   ]
  },
  {
   "cell_type": "markdown",
   "metadata": {},
   "source": [
    "### 4.2 Running LogisticRegression, LinearSVC, KNeighborsClassifier with min max scaling"
   ]
  },
  {
   "cell_type": "code",
   "execution_count": 16,
   "metadata": {},
   "outputs": [
    {
     "name": "stdout",
     "output_type": "stream",
     "text": [
      "Logistic confusion matrix:\n",
      " [[ 88.  227.8]\n",
      " [ 72.2 625. ]]\n",
      "Logistic f-score: 0.5877467182729551\n",
      "Logistic accuracy score: 0.7038499506416585 \n",
      "\n",
      "KNN score:\n",
      " [[ 92.4 223.4]\n",
      " [145.6 551.6]]\n",
      "KNN f-score: 0.5415338716590823\n",
      "KNN accuracy score: 0.6357354392892398 \n",
      "\n",
      "SVC score:\n",
      " [[ 93.8 222. ]\n",
      " [ 79.4 617.8]]\n",
      "SVC f-score: 0.5935004179107268\n",
      "SVC accuracy score: 0.7024679170779862 \n",
      "\n"
     ]
    }
   ],
   "source": [
    "scaler = MinMaxScaler()\n",
    "run_all_models(features, labels, scaler, log_params, knn_params, svc_params)"
   ]
  },
  {
   "cell_type": "markdown",
   "metadata": {},
   "source": [
    "### 4.3 Running LogisticRegression, LinearSVC, KNeighborsClassifier with standard scaling"
   ]
  },
  {
   "cell_type": "code",
   "execution_count": 17,
   "metadata": {},
   "outputs": [
    {
     "name": "stdout",
     "output_type": "stream",
     "text": [
      "Logistic confusion matrix:\n",
      " [[104.6 211.2]\n",
      " [ 91.6 605.6]]\n",
      "Logistic f-score: 0.6039137465868047\n",
      "Logistic accuracy score: 0.7010858835143139 \n",
      "\n",
      "KNN score:\n",
      " [[ 91.  224.8]\n",
      " [137.2 560. ]]\n",
      "KNN f-score: 0.5451549956576526\n",
      "KNN accuracy score: 0.6426456071076012 \n",
      "\n",
      "SVC score:\n",
      " [[102.  213.8]\n",
      " [ 88.4 608.8]]\n",
      "SVC f-score: 0.6017594359069103\n",
      "SVC accuracy score: 0.7016781836130306 \n",
      "\n"
     ]
    }
   ],
   "source": [
    "scaler = StandardScaler()\n",
    "run_all_models(features, labels, scaler, log_params, knn_params, svc_params)"
   ]
  },
  {
   "cell_type": "markdown",
   "metadata": {},
   "source": [
    "### 4.4 Parameter Tuning (using standard scaling)"
   ]
  },
  {
   "cell_type": "code",
   "execution_count": 18,
   "metadata": {},
   "outputs": [],
   "source": [
    "def tune_parameters(model, parameters, features, labels):\n",
    "    # Splitting data into train and test sets\n",
    "    X_train, X_test, y_train, y_test = train_test_split(features, labels, \n",
    "                                                        random_state=42,\n",
    "                                                        test_size=0.20)\n",
    "    # scaling the data using standard scaler\n",
    "    scaler = StandardScaler()\n",
    "    scaler.fit(X_train)\n",
    "    X_train_scaled = scaler.transform(X_train)\n",
    "    X_test_scaled = scaler.transform(X_test)\n",
    "\n",
    "    # running grid search to get the best parameters\n",
    "    grid_search_cv = GridSearchCV(model, parameters, cv=5)\n",
    "    grid_search_cv.fit(X_train_scaled, y_train)\n",
    "    \n",
    "    print('Best parameters are:\\n', grid_search_cv.best_params_ )\n",
    "    return grid_search_cv.best_params_"
   ]
  },
  {
   "cell_type": "code",
   "execution_count": 19,
   "metadata": {},
   "outputs": [
    {
     "name": "stdout",
     "output_type": "stream",
     "text": [
      "Best parameters are:\n",
      " {'max_iter': 1000, 'solver': 'liblinear'}\n"
     ]
    },
    {
     "data": {
      "text/plain": [
       "{'solver': 'liblinear', 'random_state': 42, 'max_iter': 1000}"
      ]
     },
     "execution_count": 19,
     "metadata": {},
     "output_type": "execute_result"
    }
   ],
   "source": [
    "# logistic classifier parameter tuning\n",
    "log_clf = LogisticRegression(random_state=42, n_jobs=-1)\n",
    "parameters = {'solver':('lbfgs', 'liblinear', 'sag', 'saga'), \n",
    "              'max_iter':[1000, 5000, 10000]}\n",
    "\n",
    "log_params.update(tune_parameters(log_clf, parameters, features, labels))\n",
    "log_params"
   ]
  },
  {
   "cell_type": "code",
   "execution_count": 20,
   "metadata": {},
   "outputs": [
    {
     "name": "stdout",
     "output_type": "stream",
     "text": [
      "Best parameters are:\n",
      " {'n_neighbors': 12, 'weights': 'distance'}\n"
     ]
    },
    {
     "data": {
      "text/plain": [
       "{'n_jobs': -1, 'n_neighbors': 12, 'weights': 'distance'}"
      ]
     },
     "execution_count": 20,
     "metadata": {},
     "output_type": "execute_result"
    }
   ],
   "source": [
    "# knn classifier parameter tuning\n",
    "knn = KNeighborsClassifier(n_jobs=-1)\n",
    "parameters = {'weights':('uniform', 'distance'), \n",
    "              'n_neighbors':[2, 3, 5, 7, 9, 12]}\n",
    "\n",
    "knn_params.update(tune_parameters(knn, parameters, features, labels))\n",
    "knn_params"
   ]
  },
  {
   "cell_type": "code",
   "execution_count": 21,
   "metadata": {},
   "outputs": [
    {
     "name": "stdout",
     "output_type": "stream",
     "text": [
      "Best parameters are:\n",
      " {'C': 0.01, 'max_iter': 1000}\n"
     ]
    },
    {
     "data": {
      "text/plain": [
       "{'max_iter': 1000, 'random_state': 42, 'C': 0.01}"
      ]
     },
     "execution_count": 21,
     "metadata": {},
     "output_type": "execute_result"
    }
   ],
   "source": [
    "# svc classifier parameter tuning\n",
    "svc = LinearSVC(random_state=42)\n",
    "parameters = {'C':[0.01, 0.1, 1, 10, 100], \n",
    "              'max_iter':[1000, 5000, 10000]}\n",
    "\n",
    "svc_params.update(tune_parameters(svc, parameters, features, labels))\n",
    "svc_params"
   ]
  },
  {
   "cell_type": "markdown",
   "metadata": {},
   "source": [
    "### 4.5 Running models with best parameters and standard scaling"
   ]
  },
  {
   "cell_type": "code",
   "execution_count": 22,
   "metadata": {},
   "outputs": [
    {
     "name": "stdout",
     "output_type": "stream",
     "text": [
      "Logistic confusion matrix:\n",
      " [[104.6 211.2]\n",
      " [ 91.6 605.6]]\n",
      "Logistic f-score: 0.6039137465868047\n",
      "Logistic accuracy score: 0.7010858835143139 \n",
      "\n",
      "KNN score:\n",
      " [[ 77.2 238.6]\n",
      " [ 88.  609.2]]\n",
      "KNN f-score: 0.5544830386210868\n",
      "KNN accuracy score: 0.6775913129318856 \n",
      "\n",
      "SVC score:\n",
      " [[ 95.2 220.6]\n",
      " [ 79.6 617.6]]\n",
      "SVC f-score: 0.59607060529088\n",
      "SVC accuracy score: 0.7036525172754196 \n",
      "\n"
     ]
    }
   ],
   "source": [
    "scaler = StandardScaler()\n",
    "run_all_models(features, labels, scaler, log_params, knn_params, svc_params)"
   ]
  },
  {
   "cell_type": "markdown",
   "metadata": {},
   "source": [
    "### 4.6 Dimension Reduction (using best parameters and standard scaling) "
   ]
  },
  {
   "cell_type": "code",
   "execution_count": 23,
   "metadata": {},
   "outputs": [],
   "source": [
    "def reduce_dimensions_and_run_models(model, features, labels, log_params, knn_params, svc_params):\n",
    "    # Splitting data into train and test sets\n",
    "    X_train, X_test, y_train, y_test = train_test_split(features, labels, \n",
    "                                                        random_state=42,\n",
    "                                                        test_size=0.20)\n",
    "    \n",
    "    # scaling the data using standard scaler\n",
    "    scaler = StandardScaler()\n",
    "    scaler.fit(X_train)\n",
    "    \n",
    "    X_train_scaled = scaler.transform(X_train)\n",
    "    X_test_scaled = scaler.transform(X_test)\n",
    "\n",
    "    # fitting and transforming data using dimension reduction model\n",
    "    model.fit(X_train_scaled, y_train)\n",
    "    features_transformed = model.transform(features)\n",
    "    \n",
    "    # running all the models to test the reduced dimensions\n",
    "    scaler = StandardScaler()\n",
    "    run_all_models(features_transformed, labels, scaler, log_params, knn_params, svc_params)"
   ]
  },
  {
   "cell_type": "code",
   "execution_count": 24,
   "metadata": {},
   "outputs": [
    {
     "name": "stdout",
     "output_type": "stream",
     "text": [
      "Logistic confusion matrix:\n",
      " [[ 37.  278.8]\n",
      " [ 29.8 667.4]]\n",
      "Logistic f-score: 0.5026226858978767\n",
      "Logistic accuracy score: 0.6953603158933859 \n",
      "\n",
      "KNN score:\n",
      " [[ 66.6 249.2]\n",
      " [ 89.8 607.4]]\n",
      "KNN f-score: 0.5319655501643508\n",
      "KNN accuracy score: 0.6653504442250741 \n",
      "\n",
      "SVC score:\n",
      " [[ 12.6 303.2]\n",
      " [ 14.8 682.4]]\n",
      "SVC f-score: 0.44210401594598636\n",
      "SVC accuracy score: 0.6860809476801579 \n",
      "\n"
     ]
    }
   ],
   "source": [
    "# PCA dimension reduction\n",
    "pca = PCA(n_components=120)\n",
    "\n",
    "reduce_dimensions_and_run_models(pca, features, labels, log_params, knn_params, svc_params)"
   ]
  },
  {
   "cell_type": "code",
   "execution_count": 25,
   "metadata": {},
   "outputs": [
    {
     "name": "stdout",
     "output_type": "stream",
     "text": [
      "Logistic confusion matrix:\n",
      " [[101.8 214. ]\n",
      " [ 84.4 612.8]]\n",
      "Logistic f-score: 0.6047134082760248\n",
      "Logistic accuracy score: 0.7054294175715696 \n",
      "\n",
      "KNN score:\n",
      " [[ 79.6 236.2]\n",
      " [100.  597.2]]\n",
      "KNN f-score: 0.5508410326967933\n",
      "KNN accuracy score: 0.6681145113524185 \n",
      "\n",
      "SVC score:\n",
      " [[ 91.4 224.4]\n",
      " [ 69.8 627.4]]\n",
      "SVC f-score: 0.5964857937699255\n",
      "SVC accuracy score: 0.7095755182625864 \n",
      "\n"
     ]
    }
   ],
   "source": [
    "# RFE dimension reduction\n",
    "linear_reg = LinearRegression()\n",
    "rfe = RFE(linear_reg, n_features_to_select=120)\n",
    "\n",
    "reduce_dimensions_and_run_models(rfe, features, labels, log_params, knn_params, svc_params)"
   ]
  },
  {
   "cell_type": "markdown",
   "metadata": {},
   "source": [
    "## 5. RandomForest Classification"
   ]
  },
  {
   "cell_type": "code",
   "execution_count": 26,
   "metadata": {},
   "outputs": [],
   "source": [
    "def run_random_forest(features, labels, params):\n",
    "    # arrays to store the results\n",
    "    forest_cm = []\n",
    "    forest_fscore = []\n",
    "    forest_score = []\n",
    "    \n",
    "    for seed in range(1, 6):\n",
    "        X_train, X_test, y_train, y_test = train_test_split(features, labels, \n",
    "                                                            random_state=seed,\n",
    "                                                            test_size=0.20)\n",
    "        \n",
    "        \n",
    "        # run the random forest model and get results\n",
    "        random_forest = RandomForestClassifier(**params)\n",
    "        random_forest.fit(X_train, y_train)\n",
    "        \n",
    "        forest_predict = random_forest.predict(X_test)\n",
    "\n",
    "        # compute the performance metrics\n",
    "        forest_cm.append(confusion_matrix(y_test, forest_predict))\n",
    "        forest_fscore.append(f1_score(y_test, forest_predict, average=None))\n",
    "        forest_score.append(accuracy_score(y_test, forest_predict))\n",
    "        \n",
    "    # printing the results\n",
    "    print('Random Forest Confusion Matrix:\\n', np.mean(np.array(forest_cm), axis=0))\n",
    "    print('Random Forest F-Score:', np.mean(np.array(forest_fscore)))  \n",
    "    print('Random Forest Accuracy Score:', np.mean(np.array(forest_score)), '\\n')"
   ]
  },
  {
   "cell_type": "markdown",
   "metadata": {},
   "source": [
    "### 5.1 Random Forest Classifier With No Parameter Tuning"
   ]
  },
  {
   "cell_type": "code",
   "execution_count": 27,
   "metadata": {},
   "outputs": [
    {
     "name": "stdout",
     "output_type": "stream",
     "text": [
      "Random Forest Confusion Matrix:\n",
      " [[ 47.8 268. ]\n",
      " [ 32.  665.2]]\n",
      "Random Forest F-Score: 0.5287778970110775\n",
      "Random Forest Accuracy Score: 0.7038499506416585 \n",
      "\n"
     ]
    }
   ],
   "source": [
    "# parameters for the random forest model\n",
    "forest_params = {'n_estimators':5000, 'random_state':42, 'n_jobs':-1}\n",
    "\n",
    "# running the random forest model\n",
    "run_random_forest(features, labels, forest_params)"
   ]
  },
  {
   "cell_type": "markdown",
   "metadata": {},
   "source": [
    "### 5.2 Random Forest Classifier Parameter Tuning"
   ]
  },
  {
   "cell_type": "code",
   "execution_count": 28,
   "metadata": {},
   "outputs": [],
   "source": [
    "def tune_rf_parameters(features, labels):\n",
    "    X_train, X_test, y_train, y_test = train_test_split(features, labels, \n",
    "                                                        random_state=42,\n",
    "                                                        test_size=0.20)\n",
    "\n",
    "    random_forest = RandomForestClassifier(n_estimators=5000,\n",
    "                                           random_state=42, \n",
    "                                           n_jobs=-1)\n",
    "\n",
    "    parameters = {'max_features':('auto', 'sqrt', 'log2'), \n",
    "              'max_depth':[5, 10, 15], \n",
    "              'min_samples_split':[2, 7, 15]}\n",
    "\n",
    "    grid_search_cv = GridSearchCV(random_forest, parameters, cv=5)\n",
    "    grid_search_cv.fit(X_train, y_train)\n",
    "\n",
    "    print('Best parameters are:\\n', grid_search_cv.best_params_)\n",
    "    return grid_search_cv.best_params_"
   ]
  },
  {
   "cell_type": "code",
   "execution_count": 29,
   "metadata": {},
   "outputs": [
    {
     "name": "stdout",
     "output_type": "stream",
     "text": [
      "Best parameters are:\n",
      " {'max_depth': 15, 'max_features': 'auto', 'min_samples_split': 2}\n"
     ]
    },
    {
     "data": {
      "text/plain": [
       "{'n_estimators': 5000,\n",
       " 'random_state': 42,\n",
       " 'n_jobs': -1,\n",
       " 'max_depth': 15,\n",
       " 'max_features': 'auto',\n",
       " 'min_samples_split': 2}"
      ]
     },
     "execution_count": 29,
     "metadata": {},
     "output_type": "execute_result"
    }
   ],
   "source": [
    "# getting best params\n",
    "forest_params.update(tune_rf_parameters(features, labels))\n",
    "forest_params"
   ]
  },
  {
   "cell_type": "code",
   "execution_count": 30,
   "metadata": {},
   "outputs": [
    {
     "name": "stdout",
     "output_type": "stream",
     "text": [
      "Random Forest Confusion Matrix:\n",
      " [[ 43.  272.8]\n",
      " [ 29.2 668. ]]\n",
      "Random Forest F-Score: 0.5185886170157812\n",
      "Random Forest Accuracy Score: 0.7018756169792695 \n",
      "\n"
     ]
    }
   ],
   "source": [
    "# running random forest with best params\n",
    "run_random_forest(features, labels, forest_params)"
   ]
  },
  {
   "cell_type": "markdown",
   "metadata": {},
   "source": [
    "### 5.3 Dimension Reduction - RFE (Using Best Parameters)"
   ]
  },
  {
   "cell_type": "code",
   "execution_count": 31,
   "metadata": {},
   "outputs": [],
   "source": [
    "def reduce_dimensions_and_run_rf(features, labels, forest_params):\n",
    "    # Splitting data into train and test sets\n",
    "    X_train, X_test, y_train, y_test = train_test_split(features, labels, \n",
    "                                                        random_state=42,\n",
    "                                                        test_size=0.20)\n",
    "    \n",
    "    # creating dimension reduction model\n",
    "    linear_reg = LinearRegression()\n",
    "    rfe = RFE(linear_reg, n_features_to_select=120)\n",
    "    \n",
    "    # fitting dimension reduction model\n",
    "    rfe = rfe.fit(X_train, y_train)\n",
    "\n",
    "    # transforming dimension reduction model\n",
    "    features_transformed = pca.transform(features)\n",
    "    \n",
    "    run_random_forest(features_transformed, labels, forest_params)"
   ]
  },
  {
   "cell_type": "code",
   "execution_count": 32,
   "metadata": {},
   "outputs": [
    {
     "name": "stdout",
     "output_type": "stream",
     "text": [
      "Random Forest Confusion Matrix:\n",
      " [[ 40.8 275. ]\n",
      " [ 43.4 653.8]]\n",
      "Random Forest F-Score: 0.5038760974318903\n",
      "Random Forest Accuracy Score: 0.6856860809476801 \n",
      "\n"
     ]
    }
   ],
   "source": [
    "reduce_dimensions_and_run_rf(features, labels, forest_params)"
   ]
  },
  {
   "cell_type": "code",
   "execution_count": null,
   "metadata": {},
   "outputs": [],
   "source": []
  }
 ],
 "metadata": {
  "kernelspec": {
   "display_name": "Python 3",
   "language": "python",
   "name": "python3"
  },
  "language_info": {
   "codemirror_mode": {
    "name": "ipython",
    "version": 3
   },
   "file_extension": ".py",
   "mimetype": "text/x-python",
   "name": "python",
   "nbconvert_exporter": "python",
   "pygments_lexer": "ipython3",
   "version": "3.7.0"
  }
 },
 "nbformat": 4,
 "nbformat_minor": 2
}
