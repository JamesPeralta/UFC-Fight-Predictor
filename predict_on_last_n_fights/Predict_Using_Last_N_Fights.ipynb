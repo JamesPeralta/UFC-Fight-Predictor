{
 "cells": [
  {
   "cell_type": "markdown",
   "metadata": {},
   "source": [
    "# In this Notebook we are attempting to predict if a person will win their next fight depending on how they performed on their last 5 fights"
   ]
  },
  {
   "cell_type": "markdown",
   "metadata": {},
   "source": [
    "## Library Imports"
   ]
  },
  {
   "cell_type": "code",
   "execution_count": 1,
   "metadata": {},
   "outputs": [
    {
     "name": "stderr",
     "output_type": "stream",
     "text": [
      "Using TensorFlow backend.\n"
     ]
    }
   ],
   "source": [
    "import sys\n",
    "sys.path.insert(1, '../combined_data')\n",
    "sys.path.insert(1, '../predict_winner')\n",
    "from make_career import make_career\n",
    "import pandas as pd\n",
    "import numpy as np\n",
    "from sklearn.preprocessing import LabelEncoder\n",
    "from sklearn.model_selection import train_test_split\n",
    "import matplotlib.pyplot as plt\n",
    "import talos as ta\n",
    "from talos.model.normalizers import lr_normalizer\n",
    "from talos.model.hidden_layers import hidden_layers\n",
    "from sklearn.preprocessing import LabelEncoder\n",
    "from sklearn.preprocessing import StandardScaler\n",
    "from sklearn.metrics import precision_recall_fscore_support\n",
    "%matplotlib inline\n",
    "import matplotlib.pyplot as plt\n",
    "score_cols = ['precision', 'recall', 'fbeta_score', 'support']"
   ]
  },
  {
   "cell_type": "markdown",
   "metadata": {},
   "source": [
    "## Loading the dataset"
   ]
  },
  {
   "cell_type": "code",
   "execution_count": 2,
   "metadata": {},
   "outputs": [
    {
     "name": "stdout",
     "output_type": "stream",
     "text": [
      "Creating careers using 5 fight intervals and predicting 1 future fights\n",
      "Original fight data shape: (5062, 153)\n",
      "Fights 2x shape: (10124, 95)\n",
      "\n",
      "Features shape: (3220, 5)\n",
      "Labels shape: (3220, 1)\n",
      "\n",
      "Features is a 2D matrix with 3220 rows\n",
      "Each row contains has 5 fights, and each fight has 100 keys\n",
      "\n",
      "Labels is a 2D matrix with 3220 rows\n",
      "Each row contains the the prediction for the next 1 fight(s)\n"
     ]
    }
   ],
   "source": [
    "features, labels = make_career(N_FIGHT_CAREER=5)\n",
    "labels = labels.reshape(-1,)"
   ]
  },
  {
   "cell_type": "code",
   "execution_count": 3,
   "metadata": {
    "scrolled": true
   },
   "outputs": [
    {
     "name": "stdout",
     "output_type": "stream",
     "text": [
      "(3220, 5)\n",
      "<class 'numpy.ndarray'>\n"
     ]
    }
   ],
   "source": [
    "print(features.shape)\n",
    "print(type(features))"
   ]
  },
  {
   "cell_type": "code",
   "execution_count": 4,
   "metadata": {
    "scrolled": true
   },
   "outputs": [
    {
     "name": "stdout",
     "output_type": "stream",
     "text": [
      "(3220,)\n",
      "<class 'numpy.ndarray'>\n"
     ]
    }
   ],
   "source": [
    "print(labels.shape)\n",
    "print(type(labels))"
   ]
  },
  {
   "cell_type": "markdown",
   "metadata": {},
   "source": [
    "## Preprocess Features"
   ]
  },
  {
   "cell_type": "markdown",
   "metadata": {},
   "source": [
    "## Generates np.array of shape (3220, 5 * features)"
   ]
  },
  {
   "cell_type": "code",
   "execution_count": 12,
   "metadata": {},
   "outputs": [],
   "source": [
    "from sklearn.utils import shuffle\n",
    "\n",
    "def collapse_n_fights():\n",
    "    num_cols, cat_cols = get_column_types()\n",
    "    \n",
    "    # Collect only the features we want\n",
    "    new_features = []\n",
    "    for window in features:\n",
    "        window_arr = list(window.reshape(1,-1))[0]\n",
    "        fight_window = np.array([])\n",
    "        for fight in window_arr:\n",
    "            fight_arr = np.array([fight[i] for i in num_cols])\n",
    "            np.nan_to_num(fight_arr, copy=False)\n",
    "            fight_window = np.append(fight_window, fight_arr)\n",
    "        new_features.append(fight_window)\n",
    "    \n",
    "    new_features, new_labels = shuffle(np.array(new_features), labels)\n",
    "    X_train, X_test, y_train, y_test = train_test_split(new_features, new_labels, random_state=0, train_size=0.90)\n",
    "    \n",
    "    # Scale the data\n",
    "    scaler = StandardScaler().fit(X_train)\n",
    "    X_train = scaler.transform(X_train)\n",
    "    X_test = scaler.transform(X_test)\n",
    "    \n",
    "    print(\"X_train length {}, y_train length {}\".format(X_train.shape, y_train.shape))\n",
    "    print(\"X_test length {}, y_test length {}\".format(X_test.shape, y_test.shape))\n",
    "    \n",
    "    return X_train, X_test, y_train, y_test"
   ]
  },
  {
   "cell_type": "markdown",
   "metadata": {},
   "source": [
    "### Generates np.array of shape (3220, 5, win?)"
   ]
  },
  {
   "cell_type": "markdown",
   "metadata": {},
   "source": [
    "## Building a DNN to predict the winner using last n fights"
   ]
  },
  {
   "cell_type": "code",
   "execution_count": 32,
   "metadata": {
    "scrolled": true
   },
   "outputs": [
    {
     "name": "stdout",
     "output_type": "stream",
     "text": [
      "X_train length (2898, 485), y_train length (2898,)\n",
      "X_test length (322, 485), y_test length (322,)\n"
     ]
    }
   ],
   "source": [
    "# Get the data\n",
    "X_train, X_test, y_train, y_test = collapse_n_fights()"
   ]
  },
  {
   "cell_type": "code",
   "execution_count": 33,
   "metadata": {},
   "outputs": [],
   "source": [
    "# Define hyperparameters to use in Grid Search\n",
    "dnn_params = {'lr': [0.01, 1, 2],\n",
    "     'first_neuron': [128, 256],\n",
    "     'hidden_layers': [1, 2],\n",
    "     'batch_size': [64, 128, 256],\n",
    "     'epochs': [10, 25],\n",
    "     'dropout': [0.01, 0.1],\n",
    "     'optimizer': [Adam],\n",
    "     'shapes':['funnel'],\n",
    "     'losses': [binary_crossentropy],\n",
    "     'activation': [relu],\n",
    "     'last_activation': [sigmoid]}"
   ]
  },
  {
   "cell_type": "code",
   "execution_count": 34,
   "metadata": {
    "scrolled": true
   },
   "outputs": [
    {
     "name": "stderr",
     "output_type": "stream",
     "text": [
      "\n",
      "  0%|          | 0/144 [00:00<?, ?it/s]\u001b[A\n",
      "  1%|          | 1/144 [00:01<04:30,  1.89s/it]\u001b[A\n",
      "  1%|▏         | 2/144 [00:04<05:09,  2.18s/it]\u001b[A\n",
      "  2%|▏         | 3/144 [00:06<04:59,  2.12s/it]\u001b[A\n",
      "  3%|▎         | 4/144 [00:08<04:58,  2.13s/it]\u001b[A\n",
      "  3%|▎         | 5/144 [00:10<04:43,  2.04s/it]\u001b[A\n",
      "  4%|▍         | 6/144 [00:13<05:14,  2.28s/it]\u001b[A\n",
      "  5%|▍         | 7/144 [00:15<05:09,  2.26s/it]\u001b[A\n",
      "  6%|▌         | 8/144 [00:17<05:04,  2.24s/it]\u001b[A\n",
      "  6%|▋         | 9/144 [00:19<04:45,  2.12s/it]\u001b[A\n",
      "  7%|▋         | 10/144 [00:22<04:51,  2.17s/it]\u001b[A\n",
      "  8%|▊         | 11/144 [00:24<04:52,  2.20s/it]\u001b[A\n",
      "  8%|▊         | 12/144 [00:26<04:49,  2.19s/it]\u001b[A\n",
      "  9%|▉         | 13/144 [00:29<05:21,  2.45s/it]\u001b[A\n",
      " 10%|▉         | 14/144 [00:32<05:19,  2.46s/it]\u001b[A\n",
      " 10%|█         | 15/144 [00:35<05:36,  2.61s/it]\u001b[A\n",
      " 11%|█         | 16/144 [00:38<06:15,  2.93s/it]\u001b[A\n",
      " 12%|█▏        | 17/144 [00:42<06:37,  3.13s/it]\u001b[A\n",
      " 12%|█▎        | 18/144 [00:45<06:42,  3.19s/it]\u001b[A\n",
      " 13%|█▎        | 19/144 [00:49<07:15,  3.49s/it]\u001b[A\n",
      " 14%|█▍        | 20/144 [00:53<07:16,  3.52s/it]\u001b[A\n",
      " 15%|█▍        | 21/144 [00:57<07:20,  3.58s/it]\u001b[A\n",
      " 15%|█▌        | 22/144 [01:01<07:53,  3.88s/it]\u001b[A\n",
      " 16%|█▌        | 23/144 [01:06<08:23,  4.16s/it]\u001b[A\n",
      " 17%|█▋        | 24/144 [01:11<08:45,  4.38s/it]\u001b[A\n",
      " 17%|█▋        | 25/144 [01:13<07:04,  3.57s/it]\u001b[A\n",
      " 18%|█▊        | 26/144 [01:16<06:43,  3.42s/it]\u001b[A\n",
      " 19%|█▉        | 27/144 [01:18<05:57,  3.05s/it]\u001b[A\n",
      " 19%|█▉        | 28/144 [01:20<05:35,  2.89s/it]\u001b[A\n",
      " 20%|██        | 29/144 [01:24<06:02,  3.15s/it]\u001b[A\n",
      " 21%|██        | 30/144 [01:27<05:53,  3.10s/it]\u001b[A\n",
      " 22%|██▏       | 31/144 [01:30<05:32,  2.94s/it]\u001b[A\n",
      " 22%|██▏       | 32/144 [01:32<05:05,  2.73s/it]\u001b[A\n",
      " 23%|██▎       | 33/144 [01:35<05:11,  2.81s/it]\u001b[A\n",
      " 24%|██▎       | 34/144 [01:37<04:51,  2.65s/it]\u001b[A\n",
      " 24%|██▍       | 35/144 [01:39<04:29,  2.47s/it]\u001b[A\n",
      " 25%|██▌       | 36/144 [01:42<04:23,  2.44s/it]\u001b[A\n",
      " 26%|██▌       | 37/144 [01:45<05:01,  2.82s/it]\u001b[A\n",
      " 26%|██▋       | 38/144 [01:49<05:31,  3.12s/it]\u001b[A\n",
      " 27%|██▋       | 39/144 [01:53<05:38,  3.22s/it]\u001b[A\n",
      " 28%|██▊       | 40/144 [01:57<06:02,  3.48s/it]\u001b[A\n",
      " 28%|██▊       | 41/144 [02:01<06:31,  3.80s/it]\u001b[A\n",
      " 29%|██▉       | 42/144 [02:05<06:19,  3.72s/it]\u001b[A\n",
      " 30%|██▉       | 43/144 [02:11<07:35,  4.51s/it]\u001b[A\n",
      " 31%|███       | 44/144 [02:16<07:30,  4.51s/it]\u001b[A\n",
      " 31%|███▏      | 45/144 [02:20<07:11,  4.36s/it]\u001b[A\n",
      " 32%|███▏      | 46/144 [02:24<07:15,  4.45s/it]\u001b[A\n",
      " 33%|███▎      | 47/144 [02:28<07:03,  4.37s/it]\u001b[A\n",
      " 33%|███▎      | 48/144 [02:34<07:31,  4.70s/it]\u001b[A\n",
      " 34%|███▍      | 49/144 [02:35<05:56,  3.75s/it]\u001b[A\n",
      " 35%|███▍      | 50/144 [02:37<04:45,  3.04s/it]\u001b[A\n",
      " 35%|███▌      | 51/144 [02:38<03:58,  2.57s/it]\u001b[A\n",
      " 36%|███▌      | 52/144 [02:40<03:32,  2.31s/it]\u001b[A\n",
      " 37%|███▋      | 53/144 [02:42<03:12,  2.11s/it]\u001b[A\n",
      " 38%|███▊      | 54/144 [02:44<03:01,  2.02s/it]\u001b[A\n",
      " 38%|███▊      | 55/144 [02:45<02:48,  1.90s/it]\u001b[A\n",
      " 39%|███▉      | 56/144 [02:47<02:38,  1.80s/it]\u001b[A\n",
      " 40%|███▉      | 57/144 [02:48<02:29,  1.71s/it]\u001b[A\n",
      " 40%|████      | 58/144 [02:50<02:31,  1.76s/it]\u001b[A\n",
      " 41%|████      | 59/144 [02:52<02:37,  1.86s/it]\u001b[A\n",
      " 42%|████▏     | 60/144 [02:54<02:36,  1.87s/it]\u001b[A\n",
      " 42%|████▏     | 61/144 [02:57<02:52,  2.08s/it]\u001b[A\n",
      " 43%|████▎     | 62/144 [03:00<03:22,  2.47s/it]\u001b[A\n",
      " 44%|████▍     | 63/144 [03:02<03:17,  2.44s/it]\u001b[A\n",
      " 44%|████▍     | 64/144 [03:06<03:36,  2.71s/it]\u001b[A\n",
      " 45%|████▌     | 65/144 [03:10<04:04,  3.09s/it]\u001b[A\n",
      " 46%|████▌     | 66/144 [03:13<03:59,  3.07s/it]\u001b[A\n",
      " 47%|████▋     | 67/144 [03:16<03:54,  3.05s/it]\u001b[A\n",
      " 47%|████▋     | 68/144 [03:19<03:50,  3.03s/it]\u001b[A\n",
      " 48%|████▊     | 69/144 [03:21<03:37,  2.91s/it]\u001b[A\n",
      " 49%|████▊     | 70/144 [03:25<04:03,  3.29s/it]\u001b[A\n",
      " 49%|████▉     | 71/144 [03:29<04:05,  3.36s/it]\u001b[A\n",
      " 50%|█████     | 72/144 [03:33<04:14,  3.54s/it]\u001b[A\n",
      " 51%|█████     | 73/144 [03:35<03:31,  2.98s/it]\u001b[A\n",
      " 51%|█████▏    | 74/144 [03:36<02:57,  2.54s/it]\u001b[A\n",
      " 52%|█████▏    | 75/144 [03:38<02:33,  2.22s/it]\u001b[A\n",
      " 53%|█████▎    | 76/144 [03:39<02:18,  2.04s/it]\u001b[A\n",
      " 53%|█████▎    | 77/144 [03:41<02:18,  2.07s/it]\u001b[A\n",
      " 54%|█████▍    | 78/144 [03:43<02:15,  2.06s/it]\u001b[A\n",
      " 55%|█████▍    | 79/144 [03:46<02:22,  2.19s/it]\u001b[A\n",
      " 56%|█████▌    | 80/144 [03:49<02:31,  2.37s/it]\u001b[A\n",
      " 56%|█████▋    | 81/144 [03:51<02:27,  2.34s/it]\u001b[A\n",
      " 57%|█████▋    | 82/144 [03:53<02:18,  2.24s/it]\u001b[A\n",
      " 58%|█████▊    | 83/144 [03:55<02:13,  2.18s/it]\u001b[A\n",
      " 58%|█████▊    | 84/144 [03:57<02:03,  2.06s/it]\u001b[A\n",
      " 59%|█████▉    | 85/144 [03:59<02:01,  2.05s/it]\u001b[A\n",
      " 60%|█████▉    | 86/144 [04:01<02:00,  2.08s/it]\u001b[A\n",
      " 60%|██████    | 87/144 [04:03<01:58,  2.08s/it]\u001b[A\n",
      " 61%|██████    | 88/144 [04:05<02:01,  2.18s/it]\u001b[A\n",
      " 62%|██████▏   | 89/144 [04:08<02:03,  2.25s/it]\u001b[A\n",
      " 62%|██████▎   | 90/144 [04:10<02:02,  2.26s/it]\u001b[A\n",
      " 63%|██████▎   | 91/144 [04:12<01:56,  2.20s/it]\u001b[A\n",
      " 64%|██████▍   | 92/144 [04:14<01:53,  2.17s/it]\u001b[A\n",
      " 65%|██████▍   | 93/144 [04:18<02:07,  2.50s/it]\u001b[A\n",
      " 65%|██████▌   | 94/144 [04:21<02:12,  2.65s/it]\u001b[A\n",
      " 66%|██████▌   | 95/144 [04:23<02:12,  2.71s/it]\u001b[A\n",
      " 67%|██████▋   | 96/144 [04:27<02:18,  2.88s/it]\u001b[A\n",
      " 67%|██████▋   | 97/144 [04:28<01:50,  2.36s/it]\u001b[A\n",
      " 68%|██████▊   | 98/144 [04:29<01:30,  1.97s/it]\u001b[A\n",
      " 69%|██████▉   | 99/144 [04:30<01:16,  1.71s/it]\u001b[A\n",
      " 69%|██████▉   | 100/144 [04:31<01:09,  1.59s/it]\u001b[A\n",
      " 70%|███████   | 101/144 [04:33<01:05,  1.51s/it]\u001b[A\n",
      " 71%|███████   | 102/144 [04:34<01:03,  1.50s/it]\u001b[A\n",
      " 72%|███████▏  | 103/144 [04:36<01:02,  1.52s/it]\u001b[A\n",
      " 72%|███████▏  | 104/144 [04:37<01:02,  1.55s/it]\u001b[A\n",
      " 73%|███████▎  | 105/144 [04:39<01:02,  1.59s/it]\u001b[A\n",
      " 74%|███████▎  | 106/144 [04:40<00:58,  1.54s/it]\u001b[A\n",
      " 74%|███████▍  | 107/144 [04:42<00:58,  1.57s/it]\u001b[A\n",
      " 75%|███████▌  | 108/144 [04:44<00:56,  1.58s/it]\u001b[A\n",
      " 76%|███████▌  | 109/144 [04:46<00:57,  1.65s/it]\u001b[A\n",
      " 76%|███████▋  | 110/144 [04:47<00:56,  1.65s/it]\u001b[A\n",
      " 77%|███████▋  | 111/144 [04:49<00:54,  1.64s/it]\u001b[A\n",
      " 78%|███████▊  | 112/144 [04:51<00:54,  1.70s/it]\u001b[A\n",
      " 78%|███████▊  | 113/144 [04:53<00:54,  1.76s/it]\u001b[A\n",
      " 79%|███████▉  | 114/144 [04:55<00:55,  1.86s/it]\u001b[A\n",
      " 80%|███████▉  | 115/144 [04:57<00:53,  1.86s/it]\u001b[A\n",
      " 81%|████████  | 116/144 [04:58<00:52,  1.87s/it]\u001b[A\n",
      " 81%|████████▏ | 117/144 [05:00<00:51,  1.91s/it]\u001b[A\n",
      " 82%|████████▏ | 118/144 [05:03<00:51,  1.97s/it]\u001b[A\n",
      " 83%|████████▎ | 119/144 [05:05<00:53,  2.13s/it]\u001b[A\n",
      " 83%|████████▎ | 120/144 [05:07<00:52,  2.20s/it]\u001b[A\n",
      " 84%|████████▍ | 121/144 [05:08<00:42,  1.86s/it]\u001b[A\n",
      " 85%|████████▍ | 122/144 [05:09<00:35,  1.62s/it]\u001b[A\n",
      " 85%|████████▌ | 123/144 [05:11<00:30,  1.46s/it]\u001b[A\n",
      " 86%|████████▌ | 124/144 [05:12<00:28,  1.41s/it]\u001b[A\n",
      " 87%|████████▋ | 125/144 [05:13<00:27,  1.45s/it]\u001b[A\n",
      " 88%|████████▊ | 126/144 [05:15<00:26,  1.45s/it]\u001b[A\n",
      " 88%|████████▊ | 127/144 [05:16<00:24,  1.42s/it]\u001b[A\n",
      " 89%|████████▉ | 128/144 [05:18<00:23,  1.48s/it]\u001b[A\n",
      " 90%|████████▉ | 129/144 [05:20<00:26,  1.75s/it]\u001b[A\n",
      " 90%|█████████ | 130/144 [05:23<00:27,  1.99s/it]\u001b[A\n",
      " 91%|█████████ | 131/144 [05:24<00:24,  1.87s/it]\u001b[A\n",
      " 92%|█████████▏| 132/144 [05:26<00:21,  1.77s/it]\u001b[A\n",
      " 92%|█████████▏| 133/144 [05:27<00:18,  1.69s/it]\u001b[A\n",
      " 93%|█████████▎| 134/144 [05:29<00:16,  1.65s/it]\u001b[A\n",
      " 94%|█████████▍| 135/144 [05:31<00:14,  1.64s/it]\u001b[A\n",
      " 94%|█████████▍| 136/144 [05:33<00:13,  1.75s/it]\u001b[A\n",
      " 95%|█████████▌| 137/144 [05:34<00:12,  1.80s/it]\u001b[A\n",
      " 96%|█████████▌| 138/144 [05:37<00:11,  1.87s/it]\u001b[A\n",
      " 97%|█████████▋| 139/144 [05:38<00:09,  1.90s/it]\u001b[A\n",
      " 97%|█████████▋| 140/144 [05:40<00:07,  1.92s/it]\u001b[A\n",
      " 98%|█████████▊| 141/144 [05:42<00:05,  1.91s/it]\u001b[A\n",
      " 99%|█████████▊| 142/144 [05:45<00:04,  2.10s/it]\u001b[A\n",
      " 99%|█████████▉| 143/144 [05:47<00:02,  2.19s/it]\u001b[A\n",
      "100%|██████████| 144/144 [05:50<00:00,  2.43s/it]\u001b[A\n"
     ]
    }
   ],
   "source": [
    "# Create the Neural Network\n",
    "dnn_model = ta.Scan(x=X_train,\n",
    "               y=y_train,\n",
    "               model=get_dnn,\n",
    "               params=dnn_params,\n",
    "               experiment_name=\"UFC_5_Fight_Predictor\")"
   ]
  },
  {
   "cell_type": "code",
   "execution_count": 35,
   "metadata": {},
   "outputs": [
    {
     "name": "stdout",
     "output_type": "stream",
     "text": [
      "(144, 16) 144\n"
     ]
    }
   ],
   "source": [
    "results_df = dnn_model.data\n",
    "print(results_df.shape, len(dnn_scores))\n",
    "dnn_cols = list(results_df.columns)\n",
    "\n",
    "new_df_data = []\n",
    "\n",
    "for index, row_data in results_df.iterrows():\n",
    "    new_row = dict()\n",
    "    \n",
    "    for col in dnn_cols:\n",
    "        new_row[col] = row_data[col]\n",
    "    \n",
    "    for score_index, col in enumerate(score_cols):\n",
    "        new_row[col] = dnn_scores[index][score_index]\n",
    "        \n",
    "    new_df_data.append(new_row)\n",
    "\n",
    "dnn_df = pd.DataFrame(new_df_data)"
   ]
  },
  {
   "cell_type": "code",
   "execution_count": 65,
   "metadata": {},
   "outputs": [],
   "source": [
    "dnn_df.drop(columns=['activation', 'last_activation', 'optimizer', 'support', 'losses'], inplace=True)\n",
    "top_5_val_dnn = dnn_df.sort_values(by=['val_accuracy'], ascending=False).head(5)\n",
    "top_5_acc_dnn = dnn_df.sort_values(by=['accuracy'], ascending=False).head(5)\n",
    "top_5_val_dnn.to_csv('../model_results/UFC_Predict_5_Fights_DNN.csv')"
   ]
  },
  {
   "cell_type": "code",
   "execution_count": 66,
   "metadata": {},
   "outputs": [
    {
     "data": {
      "text/html": [
       "<div>\n",
       "<style scoped>\n",
       "    .dataframe tbody tr th:only-of-type {\n",
       "        vertical-align: middle;\n",
       "    }\n",
       "\n",
       "    .dataframe tbody tr th {\n",
       "        vertical-align: top;\n",
       "    }\n",
       "\n",
       "    .dataframe thead th {\n",
       "        text-align: right;\n",
       "    }\n",
       "</style>\n",
       "<table border=\"1\" class=\"dataframe\">\n",
       "  <thead>\n",
       "    <tr style=\"text-align: right;\">\n",
       "      <th></th>\n",
       "      <th>round_epochs</th>\n",
       "      <th>val_loss</th>\n",
       "      <th>val_accuracy</th>\n",
       "      <th>loss</th>\n",
       "      <th>accuracy</th>\n",
       "      <th>batch_size</th>\n",
       "      <th>dropout</th>\n",
       "      <th>epochs</th>\n",
       "      <th>first_neuron</th>\n",
       "      <th>hidden_layers</th>\n",
       "      <th>lr</th>\n",
       "      <th>shapes</th>\n",
       "      <th>precision</th>\n",
       "      <th>recall</th>\n",
       "      <th>fbeta_score</th>\n",
       "    </tr>\n",
       "  </thead>\n",
       "  <tbody>\n",
       "    <tr>\n",
       "      <td>91</td>\n",
       "      <td>25</td>\n",
       "      <td>0.895920</td>\n",
       "      <td>0.595402</td>\n",
       "      <td>0.378377</td>\n",
       "      <td>0.852071</td>\n",
       "      <td>128</td>\n",
       "      <td>0.10</td>\n",
       "      <td>25</td>\n",
       "      <td>256</td>\n",
       "      <td>1</td>\n",
       "      <td>1.0</td>\n",
       "      <td>funnel</td>\n",
       "      <td>0.617323</td>\n",
       "      <td>0.782435</td>\n",
       "      <td>0.690141</td>\n",
       "    </tr>\n",
       "    <tr>\n",
       "      <td>100</td>\n",
       "      <td>10</td>\n",
       "      <td>0.775785</td>\n",
       "      <td>0.590805</td>\n",
       "      <td>0.539317</td>\n",
       "      <td>0.629191</td>\n",
       "      <td>256</td>\n",
       "      <td>0.01</td>\n",
       "      <td>10</td>\n",
       "      <td>128</td>\n",
       "      <td>2</td>\n",
       "      <td>1.0</td>\n",
       "      <td>funnel</td>\n",
       "      <td>0.594034</td>\n",
       "      <td>0.914172</td>\n",
       "      <td>0.720126</td>\n",
       "    </tr>\n",
       "    <tr>\n",
       "      <td>121</td>\n",
       "      <td>10</td>\n",
       "      <td>0.695559</td>\n",
       "      <td>0.588506</td>\n",
       "      <td>0.656358</td>\n",
       "      <td>0.646450</td>\n",
       "      <td>256</td>\n",
       "      <td>0.10</td>\n",
       "      <td>10</td>\n",
       "      <td>128</td>\n",
       "      <td>1</td>\n",
       "      <td>1.0</td>\n",
       "      <td>funnel</td>\n",
       "      <td>0.602289</td>\n",
       "      <td>0.840319</td>\n",
       "      <td>0.701667</td>\n",
       "    </tr>\n",
       "    <tr>\n",
       "      <td>142</td>\n",
       "      <td>25</td>\n",
       "      <td>0.983496</td>\n",
       "      <td>0.587356</td>\n",
       "      <td>0.389867</td>\n",
       "      <td>0.865878</td>\n",
       "      <td>256</td>\n",
       "      <td>0.10</td>\n",
       "      <td>25</td>\n",
       "      <td>256</td>\n",
       "      <td>2</td>\n",
       "      <td>1.0</td>\n",
       "      <td>funnel</td>\n",
       "      <td>0.611285</td>\n",
       "      <td>0.778443</td>\n",
       "      <td>0.684811</td>\n",
       "    </tr>\n",
       "    <tr>\n",
       "      <td>1</td>\n",
       "      <td>10</td>\n",
       "      <td>0.738394</td>\n",
       "      <td>0.587356</td>\n",
       "      <td>0.603905</td>\n",
       "      <td>0.694773</td>\n",
       "      <td>64</td>\n",
       "      <td>0.01</td>\n",
       "      <td>10</td>\n",
       "      <td>128</td>\n",
       "      <td>1</td>\n",
       "      <td>1.0</td>\n",
       "      <td>funnel</td>\n",
       "      <td>0.601140</td>\n",
       "      <td>0.842315</td>\n",
       "      <td>0.701579</td>\n",
       "    </tr>\n",
       "  </tbody>\n",
       "</table>\n",
       "</div>"
      ],
      "text/plain": [
       "     round_epochs  val_loss  val_accuracy      loss  accuracy  batch_size  \\\n",
       "91             25  0.895920      0.595402  0.378377  0.852071         128   \n",
       "100            10  0.775785      0.590805  0.539317  0.629191         256   \n",
       "121            10  0.695559      0.588506  0.656358  0.646450         256   \n",
       "142            25  0.983496      0.587356  0.389867  0.865878         256   \n",
       "1              10  0.738394      0.587356  0.603905  0.694773          64   \n",
       "\n",
       "     dropout  epochs  first_neuron  hidden_layers   lr  shapes  precision  \\\n",
       "91      0.10      25           256              1  1.0  funnel   0.617323   \n",
       "100     0.01      10           128              2  1.0  funnel   0.594034   \n",
       "121     0.10      10           128              1  1.0  funnel   0.602289   \n",
       "142     0.10      25           256              2  1.0  funnel   0.611285   \n",
       "1       0.01      10           128              1  1.0  funnel   0.601140   \n",
       "\n",
       "       recall  fbeta_score  \n",
       "91   0.782435     0.690141  \n",
       "100  0.914172     0.720126  \n",
       "121  0.840319     0.701667  \n",
       "142  0.778443     0.684811  \n",
       "1    0.842315     0.701579  "
      ]
     },
     "execution_count": 66,
     "metadata": {},
     "output_type": "execute_result"
    }
   ],
   "source": [
    "top_5_val_dnn"
   ]
  },
  {
   "cell_type": "markdown",
   "metadata": {},
   "source": [
    "## Building a CNN to predict the winner using last n fights"
   ]
  },
  {
   "cell_type": "code",
   "execution_count": 67,
   "metadata": {},
   "outputs": [
    {
     "name": "stdout",
     "output_type": "stream",
     "text": [
      "X_train length (2898, 485), y_train length (2898,)\n",
      "X_test length (322, 485), y_test length (322,)\n",
      "New: X_train length (2898, 5, 97), y_train length (2898,)\n",
      "New: X_test length (322, 5, 97), y_test length (322,)\n"
     ]
    }
   ],
   "source": [
    "# Get the data\n",
    "X_train, X_test, y_train, y_test = collapse_n_fights()\n",
    "X_train = X_train.reshape(X_train.shape[0], 5, 97)\n",
    "X_test = X_test.reshape(X_test.shape[0], 5, 97)\n",
    "\n",
    "print(\"New: X_train length {}, y_train length {}\".format(X_train.shape, y_train.shape))\n",
    "print(\"New: X_test length {}, y_test length {}\".format(X_test.shape, y_test.shape))"
   ]
  },
  {
   "cell_type": "code",
   "execution_count": 45,
   "metadata": {},
   "outputs": [],
   "source": [
    "# Define hyperparameters to use in Grid Search\n",
    "cnn_params = {'lr': [0.01, 0.1, 1],\n",
    "     'num_filters': [64, 128],\n",
    "     'kernel_size': [2],\n",
    "     'batch_size': [64, 128],\n",
    "     'epochs': [5, 15],\n",
    "     'dropout': [0.01],\n",
    "     'flatten_layer': [100, 150], \n",
    "     'optimizer': [Adam],\n",
    "     'losses': [binary_crossentropy],\n",
    "     'activation': [relu],\n",
    "     'last_activation': [sigmoid]}"
   ]
  },
  {
   "cell_type": "code",
   "execution_count": 46,
   "metadata": {},
   "outputs": [
    {
     "name": "stderr",
     "output_type": "stream",
     "text": [
      "\n",
      "\n",
      "  0%|          | 0/48 [00:00<?, ?it/s]\u001b[A\u001b[A\n",
      "\n",
      "  2%|▏         | 1/48 [00:01<01:09,  1.47s/it]\u001b[A\u001b[A\n",
      "\n",
      "  4%|▍         | 2/48 [00:03<01:09,  1.51s/it]\u001b[A\u001b[A\n",
      "\n",
      "  6%|▋         | 3/48 [00:05<01:15,  1.68s/it]\u001b[A\u001b[A\n",
      "\n",
      "  8%|▊         | 4/48 [00:07<01:18,  1.79s/it]\u001b[A\u001b[A\n",
      "\n",
      " 10%|█         | 5/48 [00:09<01:18,  1.83s/it]\u001b[A\u001b[A\n",
      "\n",
      " 12%|█▎        | 6/48 [00:10<01:15,  1.80s/it]\u001b[A\u001b[A\n",
      "\n",
      " 15%|█▍        | 7/48 [00:12<01:12,  1.78s/it]\u001b[A\u001b[A\n",
      "\n",
      " 17%|█▋        | 8/48 [00:14<01:13,  1.84s/it]\u001b[A\u001b[A\n",
      "\n",
      " 19%|█▉        | 9/48 [00:16<01:09,  1.79s/it]\u001b[A\u001b[A\n",
      "\n",
      " 21%|██        | 10/48 [00:18<01:13,  1.95s/it]\u001b[A\u001b[A\n",
      "\n",
      " 23%|██▎       | 11/48 [00:20<01:10,  1.91s/it]\u001b[A\u001b[A\n",
      "\n",
      " 25%|██▌       | 12/48 [00:23<01:17,  2.14s/it]\u001b[A\u001b[A\n",
      "\n",
      " 27%|██▋       | 13/48 [00:26<01:27,  2.50s/it]\u001b[A\u001b[A\n",
      "\n",
      " 29%|██▉       | 14/48 [00:29<01:36,  2.83s/it]\u001b[A\u001b[A\n",
      "\n",
      " 31%|███▏      | 15/48 [00:33<01:38,  2.97s/it]\u001b[A\u001b[A\n",
      "\n",
      " 33%|███▎      | 16/48 [00:37<01:42,  3.20s/it]\u001b[A\u001b[A\n",
      "\n",
      " 35%|███▌      | 17/48 [00:39<01:35,  3.07s/it]\u001b[A\u001b[A\n",
      "\n",
      " 38%|███▊      | 18/48 [00:44<01:42,  3.42s/it]\u001b[A\u001b[A\n",
      "\n",
      " 40%|███▉      | 19/48 [00:47<01:43,  3.55s/it]\u001b[A\u001b[A\n",
      "\n",
      " 42%|████▏     | 20/48 [00:51<01:39,  3.55s/it]\u001b[A\u001b[A\n",
      "\n",
      " 44%|████▍     | 21/48 [00:54<01:28,  3.27s/it]\u001b[A\u001b[A\n",
      "\n",
      " 46%|████▌     | 22/48 [00:57<01:30,  3.47s/it]\u001b[A\u001b[A\n",
      "\n",
      " 48%|████▊     | 23/48 [01:01<01:30,  3.61s/it]\u001b[A\u001b[A\n",
      "\n",
      " 50%|█████     | 24/48 [01:05<01:23,  3.47s/it]\u001b[A\u001b[A\n",
      "\n",
      " 52%|█████▏    | 25/48 [01:06<01:04,  2.80s/it]\u001b[A\u001b[A\n",
      "\n",
      " 54%|█████▍    | 26/48 [01:07<00:53,  2.44s/it]\u001b[A\u001b[A\n",
      "\n",
      " 56%|█████▋    | 27/48 [01:09<00:44,  2.12s/it]\u001b[A\u001b[A\n",
      "\n",
      " 58%|█████▊    | 28/48 [01:10<00:39,  1.98s/it]\u001b[A\u001b[A\n",
      "\n",
      " 60%|██████    | 29/48 [01:13<00:38,  2.04s/it]\u001b[A\u001b[A\n",
      "\n",
      " 62%|██████▎   | 30/48 [01:14<00:33,  1.87s/it]\u001b[A\u001b[A\n",
      "\n",
      " 65%|██████▍   | 31/48 [01:15<00:29,  1.72s/it]\u001b[A\u001b[A\n",
      "\n",
      " 67%|██████▋   | 32/48 [01:17<00:27,  1.69s/it]\u001b[A\u001b[A\n",
      "\n",
      " 69%|██████▉   | 33/48 [01:18<00:24,  1.61s/it]\u001b[A\u001b[A\n",
      "\n",
      " 71%|███████   | 34/48 [01:20<00:21,  1.55s/it]\u001b[A\u001b[A\n",
      "\n",
      " 73%|███████▎  | 35/48 [01:22<00:23,  1.84s/it]\u001b[A\u001b[A\n",
      "\n",
      " 75%|███████▌  | 36/48 [01:24<00:20,  1.75s/it]\u001b[A\u001b[A\n",
      "\n",
      " 77%|███████▋  | 37/48 [01:26<00:20,  1.83s/it]\u001b[A\u001b[A\n",
      "\n",
      " 79%|███████▉  | 38/48 [01:29<00:20,  2.10s/it]\u001b[A\u001b[A\n",
      "\n",
      " 81%|████████▏ | 39/48 [01:31<00:18,  2.07s/it]\u001b[A\u001b[A\n",
      "\n",
      " 83%|████████▎ | 40/48 [01:33<00:17,  2.21s/it]\u001b[A\u001b[A\n",
      "\n",
      " 85%|████████▌ | 41/48 [01:37<00:18,  2.59s/it]\u001b[A\u001b[A\n",
      "\n",
      " 88%|████████▊ | 42/48 [01:40<00:17,  2.86s/it]\u001b[A\u001b[A\n",
      "\n",
      " 90%|████████▉ | 43/48 [01:42<00:13,  2.68s/it]\u001b[A\u001b[A\n",
      "\n",
      " 92%|█████████▏| 44/48 [01:45<00:10,  2.71s/it]\u001b[A\u001b[A\n",
      "\n",
      " 94%|█████████▍| 45/48 [01:48<00:08,  2.86s/it]\u001b[A\u001b[A\n",
      "\n",
      " 96%|█████████▌| 46/48 [01:52<00:05,  2.97s/it]\u001b[A\u001b[A\n",
      "\n",
      " 98%|█████████▊| 47/48 [01:55<00:03,  3.02s/it]\u001b[A\u001b[A\n",
      "\n",
      "100%|██████████| 48/48 [01:59<00:00,  2.49s/it]\u001b[A\u001b[A\n"
     ]
    }
   ],
   "source": [
    "# Create the Neural Network\n",
    "cnn_model = ta.Scan(x=X_train,\n",
    "                y=y_train,\n",
    "                model=get_cnn,\n",
    "                params=cnn_params,\n",
    "                experiment_name=\"UFC_5_Fight_Predictor_CNN\")"
   ]
  },
  {
   "cell_type": "code",
   "execution_count": 48,
   "metadata": {},
   "outputs": [
    {
     "name": "stdout",
     "output_type": "stream",
     "text": [
      "(48, 16) 48\n"
     ]
    }
   ],
   "source": [
    "results_df = cnn_model.data\n",
    "cnn_cols = list(results_df.columns)\n",
    "print(results_df.shape, len(cnn_scores))\n",
    "\n",
    "new_df_data = []\n",
    "\n",
    "for index, row_data in results_df.iterrows():\n",
    "    new_row = dict()\n",
    "    \n",
    "    for col in cnn_cols:\n",
    "        new_row[col] = row_data[col]\n",
    "    \n",
    "    for score_index, col in enumerate(score_cols):\n",
    "        new_row[col] = cnn_scores[index][score_index]\n",
    "        \n",
    "    new_df_data.append(new_row)\n",
    "\n",
    "cnn_df = pd.DataFrame(new_df_data)"
   ]
  },
  {
   "cell_type": "code",
   "execution_count": 68,
   "metadata": {},
   "outputs": [],
   "source": [
    "cnn_df.drop(columns=['activation', 'last_activation', 'optimizer', 'support', 'losses'], inplace=True)\n",
    "top_5_val_cnn = cnn_df.sort_values(by=['val_accuracy'], ascending=False).head(5)\n",
    "top_5_acc_cnn = cnn_df.sort_values(by=['accuracy'], ascending=False).head(5)\n",
    "top_5_val_cnn.to_csv('../model_results/UFC_Predict_5_Fights_CNN.csv')"
   ]
  },
  {
   "cell_type": "code",
   "execution_count": 69,
   "metadata": {
    "scrolled": true
   },
   "outputs": [
    {
     "data": {
      "text/html": [
       "<div>\n",
       "<style scoped>\n",
       "    .dataframe tbody tr th:only-of-type {\n",
       "        vertical-align: middle;\n",
       "    }\n",
       "\n",
       "    .dataframe tbody tr th {\n",
       "        vertical-align: top;\n",
       "    }\n",
       "\n",
       "    .dataframe thead th {\n",
       "        text-align: right;\n",
       "    }\n",
       "</style>\n",
       "<table border=\"1\" class=\"dataframe\">\n",
       "  <thead>\n",
       "    <tr style=\"text-align: right;\">\n",
       "      <th></th>\n",
       "      <th>round_epochs</th>\n",
       "      <th>val_loss</th>\n",
       "      <th>val_accuracy</th>\n",
       "      <th>loss</th>\n",
       "      <th>accuracy</th>\n",
       "      <th>batch_size</th>\n",
       "      <th>dropout</th>\n",
       "      <th>epochs</th>\n",
       "      <th>flatten_layer</th>\n",
       "      <th>kernel_size</th>\n",
       "      <th>lr</th>\n",
       "      <th>num_filters</th>\n",
       "      <th>precision</th>\n",
       "      <th>recall</th>\n",
       "      <th>fbeta_score</th>\n",
       "    </tr>\n",
       "  </thead>\n",
       "  <tbody>\n",
       "    <tr>\n",
       "      <td>4</td>\n",
       "      <td>5</td>\n",
       "      <td>0.740139</td>\n",
       "      <td>0.594253</td>\n",
       "      <td>0.502339</td>\n",
       "      <td>0.775148</td>\n",
       "      <td>64</td>\n",
       "      <td>0.01</td>\n",
       "      <td>5</td>\n",
       "      <td>100</td>\n",
       "      <td>2</td>\n",
       "      <td>1.0</td>\n",
       "      <td>64</td>\n",
       "      <td>0.625616</td>\n",
       "      <td>0.752964</td>\n",
       "      <td>0.683408</td>\n",
       "    </tr>\n",
       "    <tr>\n",
       "      <td>9</td>\n",
       "      <td>5</td>\n",
       "      <td>0.678880</td>\n",
       "      <td>0.586207</td>\n",
       "      <td>0.629811</td>\n",
       "      <td>0.653846</td>\n",
       "      <td>64</td>\n",
       "      <td>0.01</td>\n",
       "      <td>5</td>\n",
       "      <td>150</td>\n",
       "      <td>2</td>\n",
       "      <td>0.1</td>\n",
       "      <td>128</td>\n",
       "      <td>0.600829</td>\n",
       "      <td>0.859684</td>\n",
       "      <td>0.707317</td>\n",
       "    </tr>\n",
       "    <tr>\n",
       "      <td>27</td>\n",
       "      <td>5</td>\n",
       "      <td>0.678796</td>\n",
       "      <td>0.586207</td>\n",
       "      <td>0.643905</td>\n",
       "      <td>0.634615</td>\n",
       "      <td>128</td>\n",
       "      <td>0.01</td>\n",
       "      <td>5</td>\n",
       "      <td>100</td>\n",
       "      <td>2</td>\n",
       "      <td>0.1</td>\n",
       "      <td>128</td>\n",
       "      <td>0.603693</td>\n",
       "      <td>0.839921</td>\n",
       "      <td>0.702479</td>\n",
       "    </tr>\n",
       "    <tr>\n",
       "      <td>33</td>\n",
       "      <td>5</td>\n",
       "      <td>0.682159</td>\n",
       "      <td>0.585057</td>\n",
       "      <td>0.642174</td>\n",
       "      <td>0.626233</td>\n",
       "      <td>128</td>\n",
       "      <td>0.01</td>\n",
       "      <td>5</td>\n",
       "      <td>150</td>\n",
       "      <td>2</td>\n",
       "      <td>0.1</td>\n",
       "      <td>128</td>\n",
       "      <td>0.600000</td>\n",
       "      <td>0.859684</td>\n",
       "      <td>0.706742</td>\n",
       "    </tr>\n",
       "    <tr>\n",
       "      <td>41</td>\n",
       "      <td>15</td>\n",
       "      <td>1.521602</td>\n",
       "      <td>0.580460</td>\n",
       "      <td>0.023210</td>\n",
       "      <td>0.998521</td>\n",
       "      <td>128</td>\n",
       "      <td>0.01</td>\n",
       "      <td>15</td>\n",
       "      <td>100</td>\n",
       "      <td>2</td>\n",
       "      <td>1.0</td>\n",
       "      <td>128</td>\n",
       "      <td>0.632768</td>\n",
       "      <td>0.664032</td>\n",
       "      <td>0.648023</td>\n",
       "    </tr>\n",
       "  </tbody>\n",
       "</table>\n",
       "</div>"
      ],
      "text/plain": [
       "    round_epochs  val_loss  val_accuracy      loss  accuracy  batch_size  \\\n",
       "4              5  0.740139      0.594253  0.502339  0.775148          64   \n",
       "9              5  0.678880      0.586207  0.629811  0.653846          64   \n",
       "27             5  0.678796      0.586207  0.643905  0.634615         128   \n",
       "33             5  0.682159      0.585057  0.642174  0.626233         128   \n",
       "41            15  1.521602      0.580460  0.023210  0.998521         128   \n",
       "\n",
       "    dropout  epochs  flatten_layer  kernel_size   lr  num_filters  precision  \\\n",
       "4      0.01       5            100            2  1.0           64   0.625616   \n",
       "9      0.01       5            150            2  0.1          128   0.600829   \n",
       "27     0.01       5            100            2  0.1          128   0.603693   \n",
       "33     0.01       5            150            2  0.1          128   0.600000   \n",
       "41     0.01      15            100            2  1.0          128   0.632768   \n",
       "\n",
       "      recall  fbeta_score  \n",
       "4   0.752964     0.683408  \n",
       "9   0.859684     0.707317  \n",
       "27  0.839921     0.702479  \n",
       "33  0.859684     0.706742  \n",
       "41  0.664032     0.648023  "
      ]
     },
     "execution_count": 69,
     "metadata": {},
     "output_type": "execute_result"
    }
   ],
   "source": [
    "top_5_val_cnn"
   ]
  },
  {
   "cell_type": "markdown",
   "metadata": {},
   "source": [
    "## Building an LSTM to predict the winner using last n fights"
   ]
  },
  {
   "cell_type": "code",
   "execution_count": 52,
   "metadata": {},
   "outputs": [
    {
     "name": "stdout",
     "output_type": "stream",
     "text": [
      "X_train length (2898, 485), y_train length (2898,)\n",
      "X_test length (322, 485), y_test length (322,)\n",
      "New: X_train length (2898, 5, 97), y_train length (2898,)\n",
      "New: X_test length (322, 5, 97), y_test length (322,)\n"
     ]
    }
   ],
   "source": [
    "# Get the data\n",
    "X_train, X_test, y_train, y_test = collapse_n_fights()\n",
    "X_train = X_train.reshape(X_train.shape[0], 5, 97)\n",
    "X_test = X_test.reshape(X_test.shape[0], 5, 97)\n",
    "\n",
    "print(\"New: X_train length {}, y_train length {}\".format(X_train.shape, y_train.shape))\n",
    "print(\"New: X_test length {}, y_test length {}\".format(X_test.shape, y_test.shape))"
   ]
  },
  {
   "cell_type": "code",
   "execution_count": 55,
   "metadata": {},
   "outputs": [
    {
     "name": "stdout",
     "output_type": "stream",
     "text": [
      "Train on 2898 samples, validate on 322 samples\n",
      "Epoch 1/30\n",
      "2898/2898 [==============================] - 1s 266us/step - loss: 0.7006 - accuracy: 0.5500 - val_loss: 0.6769 - val_accuracy: 0.5870\n",
      "Epoch 2/30\n",
      "2898/2898 [==============================] - 0s 111us/step - loss: 0.6515 - accuracy: 0.6166 - val_loss: 0.6904 - val_accuracy: 0.5683\n",
      "Epoch 3/30\n",
      "2898/2898 [==============================] - 0s 125us/step - loss: 0.6200 - accuracy: 0.6618 - val_loss: 0.7020 - val_accuracy: 0.5466\n",
      "Epoch 4/30\n",
      "2898/2898 [==============================] - 0s 156us/step - loss: 0.5889 - accuracy: 0.6884 - val_loss: 0.7220 - val_accuracy: 0.5559\n",
      "Epoch 5/30\n",
      "2898/2898 [==============================] - 0s 153us/step - loss: 0.5475 - accuracy: 0.7274 - val_loss: 0.7687 - val_accuracy: 0.5683\n",
      "Epoch 6/30\n",
      "2898/2898 [==============================] - 0s 171us/step - loss: 0.4762 - accuracy: 0.7750 - val_loss: 0.7968 - val_accuracy: 0.5248\n",
      "Epoch 7/30\n",
      "2898/2898 [==============================] - 0s 158us/step - loss: 0.4293 - accuracy: 0.8037 - val_loss: 0.8248 - val_accuracy: 0.5559\n",
      "Epoch 8/30\n",
      "2898/2898 [==============================] - 0s 171us/step - loss: 0.3634 - accuracy: 0.8454 - val_loss: 0.9471 - val_accuracy: 0.5435\n",
      "Epoch 9/30\n",
      "2898/2898 [==============================] - 0s 137us/step - loss: 0.3074 - accuracy: 0.8772 - val_loss: 0.9932 - val_accuracy: 0.5559\n",
      "Epoch 10/30\n",
      "2898/2898 [==============================] - 0s 124us/step - loss: 0.2713 - accuracy: 0.8948 - val_loss: 0.9570 - val_accuracy: 0.5652\n",
      "Epoch 11/30\n",
      "2898/2898 [==============================] - 0s 120us/step - loss: 0.2182 - accuracy: 0.9179 - val_loss: 1.0631 - val_accuracy: 0.5683\n",
      "Epoch 12/30\n",
      "2898/2898 [==============================] - 0s 121us/step - loss: 0.1873 - accuracy: 0.9351 - val_loss: 1.1506 - val_accuracy: 0.5901\n",
      "Epoch 13/30\n",
      "2898/2898 [==============================] - 0s 145us/step - loss: 0.1494 - accuracy: 0.9565 - val_loss: 1.1951 - val_accuracy: 0.5373\n",
      "Epoch 14/30\n",
      "2898/2898 [==============================] - 0s 155us/step - loss: 0.1318 - accuracy: 0.9638 - val_loss: 1.2104 - val_accuracy: 0.5683\n",
      "Epoch 15/30\n",
      "2898/2898 [==============================] - 0s 126us/step - loss: 0.1022 - accuracy: 0.9734 - val_loss: 1.2596 - val_accuracy: 0.5714\n",
      "Epoch 16/30\n",
      "2898/2898 [==============================] - 0s 153us/step - loss: 0.0840 - accuracy: 0.9790 - val_loss: 1.3511 - val_accuracy: 0.5466\n",
      "Epoch 17/30\n",
      "2898/2898 [==============================] - 0s 135us/step - loss: 0.0680 - accuracy: 0.9859 - val_loss: 1.3721 - val_accuracy: 0.5435\n",
      "Epoch 18/30\n",
      "2898/2898 [==============================] - 0s 125us/step - loss: 0.0609 - accuracy: 0.9855 - val_loss: 1.4518 - val_accuracy: 0.5466\n",
      "Epoch 19/30\n",
      "2898/2898 [==============================] - 0s 123us/step - loss: 0.0633 - accuracy: 0.9841 - val_loss: 1.4217 - val_accuracy: 0.5683\n",
      "Epoch 20/30\n",
      "2898/2898 [==============================] - 0s 133us/step - loss: 0.0634 - accuracy: 0.9827 - val_loss: 1.5219 - val_accuracy: 0.5559\n",
      "Epoch 21/30\n",
      "2898/2898 [==============================] - 0s 126us/step - loss: 0.0551 - accuracy: 0.9879 - val_loss: 1.6046 - val_accuracy: 0.5466\n",
      "Epoch 22/30\n",
      "2898/2898 [==============================] - 0s 124us/step - loss: 0.0456 - accuracy: 0.9934 - val_loss: 1.6059 - val_accuracy: 0.5528\n",
      "Epoch 23/30\n",
      "2898/2898 [==============================] - 0s 139us/step - loss: 0.0490 - accuracy: 0.9910 - val_loss: 1.6122 - val_accuracy: 0.5497\n",
      "Epoch 24/30\n",
      "2898/2898 [==============================] - 0s 153us/step - loss: 0.0545 - accuracy: 0.9855 - val_loss: 1.5314 - val_accuracy: 0.5621\n",
      "Epoch 25/30\n",
      "2898/2898 [==============================] - 0s 141us/step - loss: 0.0406 - accuracy: 0.9910 - val_loss: 1.5942 - val_accuracy: 0.5559\n",
      "Epoch 26/30\n",
      "2898/2898 [==============================] - 1s 175us/step - loss: 0.0396 - accuracy: 0.9903 - val_loss: 1.6069 - val_accuracy: 0.5745\n",
      "Epoch 27/30\n",
      "2898/2898 [==============================] - 0s 129us/step - loss: 0.0438 - accuracy: 0.9890 - val_loss: 1.6870 - val_accuracy: 0.5373\n",
      "Epoch 28/30\n",
      "2898/2898 [==============================] - 0s 132us/step - loss: 0.0338 - accuracy: 0.9945 - val_loss: 1.7693 - val_accuracy: 0.5714\n",
      "Epoch 29/30\n",
      "2898/2898 [==============================] - 0s 142us/step - loss: 0.0268 - accuracy: 0.9959 - val_loss: 1.7339 - val_accuracy: 0.5714\n",
      "Epoch 30/30\n",
      "2898/2898 [==============================] - 0s 166us/step - loss: 0.0349 - accuracy: 0.9903 - val_loss: 1.8012 - val_accuracy: 0.5714\n",
      "Model: \"sequential_2\"\n",
      "_________________________________________________________________\n",
      "Layer (type)                 Output Shape              Param #   \n",
      "=================================================================\n",
      "lstm_2 (LSTM)                (None, 50)                29600     \n",
      "_________________________________________________________________\n",
      "dense_2 (Dense)              (None, 1)                 51        \n",
      "=================================================================\n",
      "Total params: 29,651\n",
      "Trainable params: 29,651\n",
      "Non-trainable params: 0\n",
      "_________________________________________________________________\n"
     ]
    },
    {
     "data": {
      "image/png": "[encoded data removed]",
      "text/plain": [
       "<Figure size 1440x360 with 2 Axes>"
      ]
     },
     "metadata": {
      "needs_background": "light"
     },
     "output_type": "display_data"
    }
   ],
   "source": [
    "history, model = get_lstm(X_train, y_train, X_test, y_test, test_model=True)"
   ]
  },
  {
   "cell_type": "code",
   "execution_count": 76,
   "metadata": {},
   "outputs": [
    {
     "data": {
      "text/html": [
       "<div>\n",
       "<style scoped>\n",
       "    .dataframe tbody tr th:only-of-type {\n",
       "        vertical-align: middle;\n",
       "    }\n",
       "\n",
       "    .dataframe tbody tr th {\n",
       "        vertical-align: top;\n",
       "    }\n",
       "\n",
       "    .dataframe thead th {\n",
       "        text-align: right;\n",
       "    }\n",
       "</style>\n",
       "<table border=\"1\" class=\"dataframe\">\n",
       "  <thead>\n",
       "    <tr style=\"text-align: right;\">\n",
       "      <th></th>\n",
       "      <th>accuracy</th>\n",
       "      <th>val_accuracy</th>\n",
       "      <th>loss</th>\n",
       "      <th>val_loss</th>\n",
       "      <th>precision</th>\n",
       "      <th>recall</th>\n",
       "      <th>fbeta_score</th>\n",
       "      <th>support</th>\n",
       "    </tr>\n",
       "  </thead>\n",
       "  <tbody>\n",
       "    <tr>\n",
       "      <td>0</td>\n",
       "      <td>0.990338</td>\n",
       "      <td>0.571429</td>\n",
       "      <td>0.034902</td>\n",
       "      <td>1.801207</td>\n",
       "      <td>0.604061</td>\n",
       "      <td>0.661111</td>\n",
       "      <td>0.6313</td>\n",
       "      <td>None</td>\n",
       "    </tr>\n",
       "  </tbody>\n",
       "</table>\n",
       "</div>"
      ],
      "text/plain": [
       "   accuracy  val_accuracy      loss  val_loss  precision    recall  \\\n",
       "0  0.990338      0.571429  0.034902  1.801207   0.604061  0.661111   \n",
       "\n",
       "   fbeta_score support  \n",
       "0       0.6313    None  "
      ]
     },
     "execution_count": 76,
     "metadata": {},
     "output_type": "execute_result"
    }
   ],
   "source": [
    "hist = history.history\n",
    "lstm_data = [hist['accuracy'][-1], hist['val_accuracy'][-1], hist['loss'][-1], hist['val_loss'][-1]]\n",
    "lstm_data = lstm_data + [lstm_scores[0][0], lstm_scores[0][1], lstm_scores[0][2], lstm_scores[0][3]]\n",
    "lstm_cols = ['accuracy', 'val_accuracy', 'loss', 'val_loss'] + score_cols\n",
    "\n",
    "\n",
    "lstm_df = pd.DataFrame(data=[lstm_data], columns=lstm_cols)\n",
    "lstm_df.sort_values(by=['val_accuracy'], ascending=False, inplace=True)\n",
    "lstm_df"
   ]
  },
  {
   "cell_type": "code",
   "execution_count": 77,
   "metadata": {},
   "outputs": [],
   "source": [
    "lstm_df.to_csv('../model_results/UFC_Predict_5_Fights_LSTM.csv')"
   ]
  },
  {
   "cell_type": "markdown",
   "metadata": {},
   "source": [
    "# Model Builders"
   ]
  },
  {
   "cell_type": "code",
   "execution_count": 47,
   "metadata": {},
   "outputs": [],
   "source": [
    "# Model imports\n",
    "from keras.models import Sequential\n",
    "from keras.layers import Dense, Dropout, Conv1D, Flatten, MaxPooling1D, LSTM\n",
    "from keras.optimizers import Adam, Nadam, RMSprop\n",
    "from keras.losses import logcosh, binary_crossentropy\n",
    "from keras.activations import relu, elu, sigmoid"
   ]
  },
  {
   "cell_type": "markdown",
   "metadata": {},
   "source": [
    "### Analyzing last n fights using an LSTM"
   ]
  },
  {
   "cell_type": "code",
   "execution_count": 51,
   "metadata": {},
   "outputs": [],
   "source": [
    "lstm_scores = []\n",
    "\n",
    "def get_lstm(x_train, y_train, x_val, y_val, test_model=False):\n",
    "    model = Sequential()\n",
    "    \n",
    "    model.add(LSTM(50, \n",
    "                   input_shape=(5, 97),\n",
    "                   recurrent_dropout=0.2)) #, return_sequences=True\n",
    "    model.add(Dense(1, activation='sigmoid'))\n",
    "    model.compile(loss=\"binary_crossentropy\", \n",
    "                  optimizer=Adam(learning_rate=0.01), \n",
    "                  metrics=['accuracy'])\n",
    "    \n",
    "    history = model.fit(x_train, y_train,\n",
    "                       validation_data=[x_val, y_val],\n",
    "                       batch_size=64,\n",
    "                       epochs=30,\n",
    "                       verbose=1)\n",
    "    \n",
    "    score = precision_recall_fscore_support(y_val, model.predict_classes(x_val), average='binary')\n",
    "    lstm_scores.append(score)\n",
    "    \n",
    "    if test_model:\n",
    "        plot_training_results(history)\n",
    "        model.summary()\n",
    "\n",
    "    return history, model"
   ]
  },
  {
   "cell_type": "markdown",
   "metadata": {},
   "source": [
    "### Analyzing last n fights using a Dense Neural Network"
   ]
  },
  {
   "cell_type": "code",
   "execution_count": 26,
   "metadata": {},
   "outputs": [],
   "source": [
    "dnn_scores = []\n",
    "\n",
    "def get_dnn(x_train, y_train, x_val, y_val, params, test_model=False):\n",
    "    \n",
    "    model = Sequential()\n",
    "    # Input Layer\n",
    "    model.add(Dense(params[\"first_neuron\"], \n",
    "                    activation=params['activation'], \n",
    "                    input_dim=X_train.shape[1]))\n",
    "    \n",
    "    model.add(Dropout(params['dropout']))\n",
    "    \n",
    "    # Hidden Layers\n",
    "    hidden_layers(model, params, 1)\n",
    "    \n",
    "    # Output Layers\n",
    "    model.add(Dense(1, activation=params['last_activation']))\n",
    "    \n",
    "    model.compile(loss=params['losses'],\n",
    "                  optimizer=params['optimizer'](lr=lr_normalizer(params['lr'], params['optimizer'])), \n",
    "                  metrics=['accuracy'])\n",
    "                  \n",
    "    history = model.fit(x_train, y_train,\n",
    "                       validation_data=[x_val, y_val],\n",
    "                       batch_size=params['batch_size'],\n",
    "                       epochs=params['epochs'],\n",
    "                       verbose=0)\n",
    "    \n",
    "    score = precision_recall_fscore_support(y_val, model.predict_classes(x_val), average='binary')\n",
    "    dnn_scores.append(score)\n",
    "    \n",
    "    if test_model:\n",
    "        model.summary()\n",
    "        plot_training_results(history)\n",
    "        \n",
    "\n",
    "    return history, model"
   ]
  },
  {
   "cell_type": "markdown",
   "metadata": {},
   "source": [
    "### Analyzing last n fights using a Convolutional Neural Network"
   ]
  },
  {
   "cell_type": "code",
   "execution_count": 27,
   "metadata": {},
   "outputs": [],
   "source": [
    "cnn_scores = []\n",
    "\n",
    "def get_cnn(x_train, y_train, x_val, y_val, params, test_model=False):\n",
    "    model = Sequential()\n",
    "    \n",
    "    # Convolutional Layers\n",
    "    model.add(Conv1D(filters=params[\"num_filters\"], kernel_size=params[\"kernel_size\"], activation='relu', input_shape=(5, 97)))\n",
    "    model.add(Conv1D(filters=params[\"num_filters\"], kernel_size=params[\"kernel_size\"], activation='relu'))\n",
    "    model.add(Dropout(params['dropout']))\n",
    "#     model.add(MaxPooling1D(pool_size=2))\n",
    "    \n",
    "    # Flatten Layers\n",
    "    model.add(Flatten())\n",
    "    model.add(Dense(params[\"flatten_layer\"], activation='relu'))\n",
    "#     model.add(Dense(params[\"flatten_layer\"], activation='relu'))\n",
    "    \n",
    "    # Output Layer\n",
    "    model.add(Dense(1, activation='sigmoid'))\n",
    "    \n",
    "    model.compile(loss=params['losses'],\n",
    "                  optimizer=params['optimizer'](lr=lr_normalizer(params['lr'], params['optimizer'])), \n",
    "                  metrics=['accuracy'])\n",
    "    \n",
    "    history = model.fit(x_train, y_train,\n",
    "                       validation_data=[x_val, y_val],\n",
    "                       batch_size=params['batch_size'],\n",
    "                       epochs=params['epochs'],\n",
    "                       verbose=0)\n",
    "    \n",
    "    score = precision_recall_fscore_support(y_val, model.predict_classes(x_val), average='binary')\n",
    "    cnn_scores.append(score)\n",
    "    \n",
    "    if test_model:\n",
    "        plot_training_results(history)\n",
    "        model.summary()\n",
    "\n",
    "    return history, model"
   ]
  },
  {
   "cell_type": "markdown",
   "metadata": {},
   "source": [
    "## Helper Functions"
   ]
  },
  {
   "cell_type": "code",
   "execution_count": 28,
   "metadata": {},
   "outputs": [],
   "source": [
    "def plot_training_results(history_obj):\n",
    "    acc = history_obj.history['accuracy']\n",
    "    val_acc = history_obj.history['val_accuracy']\n",
    "    loss = history_obj.history['loss']\n",
    "    val_loss = history_obj.history['val_loss']\n",
    "    \n",
    "    epochs = range(1, len(acc) + 1)\n",
    "\n",
    "    fig, (accuracy_axis, loss_axis) = plt.subplots(1, 2, figsize=(20, 5))\n",
    "\n",
    "    accuracy_axis.plot(epochs, acc, 'bo', label='Training acc')\n",
    "    accuracy_axis.plot(epochs, val_acc, 'b', label='Validation acc')\n",
    "    accuracy_axis.set_title('Training and validation accuracy')\n",
    "    accuracy_axis.set_ylabel('Accuracy')\n",
    "    accuracy_axis.set_xlabel('Epoch')\n",
    "    accuracy_axis.legend()\n",
    "\n",
    "    loss_axis.plot(epochs, loss, 'bo', label='Training loss')\n",
    "    loss_axis.plot(epochs, val_loss, 'b', label='Validation loss')\n",
    "    loss_axis.set_title('Training and validation loss')\n",
    "    loss_axis.set_ylim(0, 3)\n",
    "    loss_axis.set_ylabel('Loss')\n",
    "    loss_axis.set_xlabel('Epoch')\n",
    "    loss_axis.legend()\n",
    "    fig.show()"
   ]
  },
  {
   "cell_type": "markdown",
   "metadata": {},
   "source": [
    "## Extract numerical and categorical columns"
   ]
  },
  {
   "cell_type": "code",
   "execution_count": 29,
   "metadata": {},
   "outputs": [],
   "source": [
    "# Get the first fight window and the first fight in that window\n",
    "def get_column_types():\n",
    "    num_cols = []\n",
    "    cat_cols = []\n",
    "    for fight in features[0][0]:\n",
    "        feature_type = type(features[1][1][fight])\n",
    "        if feature_type is not float and feature_type is not int:\n",
    "            cat_cols.append(fight)\n",
    "        else:\n",
    "            num_cols.append(fight)\n",
    "            \n",
    "    return num_cols, cat_cols"
   ]
  },
  {
   "cell_type": "code",
   "execution_count": 30,
   "metadata": {},
   "outputs": [],
   "source": [
    "x, y = get_column_types()"
   ]
  },
  {
   "cell_type": "code",
   "execution_count": 31,
   "metadata": {},
   "outputs": [
    {
     "ename": "SyntaxError",
     "evalue": "invalid syntax (<ipython-input-31-1672e73c44c6>, line 13)",
     "output_type": "error",
     "traceback": [
      "\u001b[0;36m  File \u001b[0;32m\"<ipython-input-31-1672e73c44c6>\"\u001b[0;36m, line \u001b[0;32m13\u001b[0m\n\u001b[0;31m    >>> ax = df.plot.bar(rot=0)\u001b[0m\n\u001b[0m     ^\u001b[0m\n\u001b[0;31mSyntaxError\u001b[0m\u001b[0;31m:\u001b[0m invalid syntax\n"
     ]
    }
   ],
   "source": [
    "cnn_df = pd.DataFrame(data=cnn_scores, columns=cols)\n",
    "dnn_df = pd.DataFrame(data=dnn_scores, columns=cols)\n",
    "lstm_df = pd.DataFrame(data=lstm_scores, columns=cols)\n",
    "\n",
    "\n",
    "speed = [0.1, 17.5, 40, 48, 52, 69, 88]\n",
    "lifespan = [2, 8, 70, 1.5, 25, 12, 28]\n",
    "\n",
    "index = ['snail', 'pig', 'elephant',\n",
    "         'rabbit', 'giraffe', 'coyote', 'horse']\n",
    "df = pd.DataFrame({'speed': speed,\n",
    "                'lifespan': lifespan}, index=index)\n",
    ">>> ax = df.plot.bar(rot=0)"
   ]
  },
  {
   "cell_type": "code",
   "execution_count": null,
   "metadata": {},
   "outputs": [],
   "source": []
  },
  {
   "cell_type": "code",
   "execution_count": null,
   "metadata": {},
   "outputs": [],
   "source": []
  },
  {
   "cell_type": "code",
   "execution_count": null,
   "metadata": {},
   "outputs": [],
   "source": []
  }
 ],
 "metadata": {
  "kernelspec": {
   "display_name": "Python 3",
   "language": "python",
   "name": "python3"
  },
  "language_info": {
   "codemirror_mode": {
    "name": "ipython",
    "version": 3
   },
   "file_extension": ".py",
   "mimetype": "text/x-python",
   "name": "python",
   "nbconvert_exporter": "python",
   "pygments_lexer": "ipython3",
   "version": "3.6.8"
  }
 },
 "nbformat": 4,
 "nbformat_minor": 4
}
