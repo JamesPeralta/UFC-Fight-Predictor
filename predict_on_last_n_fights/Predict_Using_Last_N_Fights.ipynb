{
 "cells": [
  {
   "cell_type": "markdown",
   "metadata": {},
   "source": [
    "# In this Notebook we are attempting to predict if a person will win their next fight depending on how they performed on their last 5 fights"
   ]
  },
  {
   "cell_type": "markdown",
   "metadata": {},
   "source": [
    "## Library Imports"
   ]
  },
  {
   "cell_type": "code",
   "execution_count": 7,
   "metadata": {},
   "outputs": [],
   "source": [
    "import sys\n",
    "sys.path.insert(1, '../combined_data')\n",
    "sys.path.insert(1, '../predict_winner')\n",
    "from make_career import make_career\n",
    "import pandas as pd\n",
    "import numpy as np\n",
    "from sklearn.preprocessing import LabelEncoder\n",
    "from sklearn.model_selection import train_test_split\n",
    "import matplotlib.pyplot as plt\n",
    "import talos as ta\n",
    "from talos.model.normalizers import lr_normalizer\n",
    "from talos.model.hidden_layers import hidden_layers\n",
    "from sklearn.preprocessing import LabelEncoder\n",
    "from sklearn.preprocessing import StandardScaler\n",
    "from sklearn.metrics import precision_recall_fscore_support\n",
    "%matplotlib inline\n",
    "import matplotlib.pyplot as plt\n",
    "score_cols = ['precision', 'recall', 'fbeta_score', 'support']"
   ]
  },
  {
   "cell_type": "markdown",
   "metadata": {},
   "source": [
    "## Loading the dataset"
   ]
  },
  {
   "cell_type": "code",
   "execution_count": 8,
   "metadata": {},
   "outputs": [
    {
     "name": "stdout",
     "output_type": "stream",
     "text": [
      "Creating careers using 5 fight intervals and predicting 1 future fights\n",
      "Original fight data shape: (5062, 153)\n",
      "Fights 2x shape: (10124, 95)\n",
      "\n",
      "Features shape: (3220, 5)\n",
      "Labels shape: (3220, 1)\n",
      "\n",
      "Features is a 2D matrix with 3220 rows\n",
      "Each row contains has 5 fights, and each fight has 100 keys\n",
      "\n",
      "Labels is a 2D matrix with 3220 rows\n",
      "Each row contains the the prediction for the next 1 fight(s)\n"
     ]
    }
   ],
   "source": [
    "features, labels = make_career(N_FIGHT_CAREER=5)\n",
    "labels = labels.reshape(-1,)"
   ]
  },
  {
   "cell_type": "code",
   "execution_count": 9,
   "metadata": {
    "scrolled": true
   },
   "outputs": [
    {
     "name": "stdout",
     "output_type": "stream",
     "text": [
      "(3220, 5)\n",
      "<class 'numpy.ndarray'>\n"
     ]
    }
   ],
   "source": [
    "print(features.shape)\n",
    "print(type(features))"
   ]
  },
  {
   "cell_type": "code",
   "execution_count": 10,
   "metadata": {
    "scrolled": true
   },
   "outputs": [
    {
     "name": "stdout",
     "output_type": "stream",
     "text": [
      "(3220,)\n",
      "<class 'numpy.ndarray'>\n"
     ]
    }
   ],
   "source": [
    "print(labels.shape)\n",
    "print(type(labels))"
   ]
  },
  {
   "cell_type": "markdown",
   "metadata": {},
   "source": [
    "## Preprocess Features"
   ]
  },
  {
   "cell_type": "markdown",
   "metadata": {},
   "source": [
    "## Generates np.array of shape (3220, 5 * features)"
   ]
  },
  {
   "cell_type": "code",
   "execution_count": 11,
   "metadata": {},
   "outputs": [],
   "source": [
    "from sklearn.utils import shuffle\n",
    "\n",
    "def collapse_n_fights():\n",
    "    num_cols, cat_cols = get_column_types()\n",
    "    \n",
    "    # Collect only the features we want\n",
    "    new_features = []\n",
    "    for window in features:\n",
    "        window_arr = list(window.reshape(1,-1))[0]\n",
    "        fight_window = np.array([])\n",
    "        for fight in window_arr:\n",
    "            fight_arr = np.array([fight[i] for i in num_cols])\n",
    "            np.nan_to_num(fight_arr, copy=False)\n",
    "            fight_window = np.append(fight_window, fight_arr)\n",
    "        new_features.append(fight_window)\n",
    "    \n",
    "    new_features, new_labels = shuffle(np.array(new_features), labels)\n",
    "    X_train, X_test, y_train, y_test = train_test_split(new_features, new_labels, random_state=0, train_size=0.90)\n",
    "    \n",
    "    # Scale the data\n",
    "    scaler = StandardScaler().fit(X_train)\n",
    "    X_train = scaler.transform(X_train)\n",
    "    X_test = scaler.transform(X_test)\n",
    "    \n",
    "    print(\"X_train length {}, y_train length {}\".format(X_train.shape, y_train.shape))\n",
    "    print(\"X_test length {}, y_test length {}\".format(X_test.shape, y_test.shape))\n",
    "    \n",
    "    return X_train, X_test, y_train, y_test"
   ]
  },
  {
   "cell_type": "markdown",
   "metadata": {},
   "source": [
    "### Generates np.array of shape (3220, 5, win?)"
   ]
  },
  {
   "cell_type": "markdown",
   "metadata": {},
   "source": [
    "## Building a DNN to predict the winner using last n fights"
   ]
  },
  {
   "cell_type": "code",
   "execution_count": 12,
   "metadata": {
    "scrolled": true
   },
   "outputs": [
    {
     "name": "stdout",
     "output_type": "stream",
     "text": [
      "X_train length (2898, 485), y_train length (2898,)\n",
      "X_test length (322, 485), y_test length (322,)\n"
     ]
    }
   ],
   "source": [
    "# Get the data\n",
    "X_train, X_test, y_train, y_test = collapse_n_fights()"
   ]
  },
  {
   "cell_type": "code",
   "execution_count": 13,
   "metadata": {},
   "outputs": [],
   "source": [
    "# Define hyperparameters to use in Grid Search\n",
    "dnn_params = {'lr': [0.01, 1, 2],\n",
    "     'first_neuron': [128, 256],\n",
    "     'hidden_layers': [1, 2],\n",
    "     'batch_size': [64, 128, 256],\n",
    "     'epochs': [10, 25],\n",
    "     'dropout': [0.01, 0.1],\n",
    "     'optimizer': [Adam],\n",
    "     'shapes':['funnel'],\n",
    "     'losses': [binary_crossentropy],\n",
    "     'activation': [relu],\n",
    "     'last_activation': [sigmoid]}"
   ]
  },
  {
   "cell_type": "code",
   "execution_count": 14,
   "metadata": {
    "scrolled": true
   },
   "outputs": [
    {
     "name": "stderr",
     "output_type": "stream",
     "text": [
      "100%|██████████| 144/144 [05:51<00:00,  2.44s/it]\n"
     ]
    }
   ],
   "source": [
    "# Create the Neural Network\n",
    "dnn_model = ta.Scan(x=X_train,\n",
    "               y=y_train,\n",
    "               model=get_dnn,\n",
    "               params=dnn_params,\n",
    "               experiment_name=\"UFC_5_Fight_Predictor\")"
   ]
  },
  {
   "cell_type": "code",
   "execution_count": 15,
   "metadata": {},
   "outputs": [
    {
     "name": "stdout",
     "output_type": "stream",
     "text": [
      "(144, 16) 144\n"
     ]
    }
   ],
   "source": [
    "results_df = dnn_model.data\n",
    "print(results_df.shape, len(dnn_scores))\n",
    "dnn_cols = list(results_df.columns)\n",
    "\n",
    "new_df_data = []\n",
    "\n",
    "for index, row_data in results_df.iterrows():\n",
    "    new_row = dict()\n",
    "    \n",
    "    for col in dnn_cols:\n",
    "        new_row[col] = row_data[col]\n",
    "    \n",
    "    for score_index, col in enumerate(score_cols):\n",
    "        new_row[col] = dnn_scores[index][score_index]\n",
    "        \n",
    "    new_df_data.append(new_row)\n",
    "\n",
    "dnn_df = pd.DataFrame(new_df_data)"
   ]
  },
  {
   "cell_type": "code",
   "execution_count": 16,
   "metadata": {},
   "outputs": [],
   "source": [
    "dnn_df.drop(columns=['activation', 'last_activation', 'optimizer', 'support', 'losses'], inplace=True)\n",
    "top_5_val_dnn = dnn_df.sort_values(by=['val_accuracy'], ascending=False).head(5)\n",
    "top_5_acc_dnn = dnn_df.sort_values(by=['accuracy'], ascending=False).head(5)\n",
    "top_5_val_dnn.to_csv('../model_results/UFC_Predict_5_Fights_DNN.csv')"
   ]
  },
  {
   "cell_type": "code",
   "execution_count": 17,
   "metadata": {},
   "outputs": [
    {
     "data": {
      "text/html": [
       "<div>\n",
       "<style scoped>\n",
       "    .dataframe tbody tr th:only-of-type {\n",
       "        vertical-align: middle;\n",
       "    }\n",
       "\n",
       "    .dataframe tbody tr th {\n",
       "        vertical-align: top;\n",
       "    }\n",
       "\n",
       "    .dataframe thead th {\n",
       "        text-align: right;\n",
       "    }\n",
       "</style>\n",
       "<table border=\"1\" class=\"dataframe\">\n",
       "  <thead>\n",
       "    <tr style=\"text-align: right;\">\n",
       "      <th></th>\n",
       "      <th>round_epochs</th>\n",
       "      <th>val_loss</th>\n",
       "      <th>val_accuracy</th>\n",
       "      <th>loss</th>\n",
       "      <th>accuracy</th>\n",
       "      <th>batch_size</th>\n",
       "      <th>dropout</th>\n",
       "      <th>epochs</th>\n",
       "      <th>first_neuron</th>\n",
       "      <th>hidden_layers</th>\n",
       "      <th>lr</th>\n",
       "      <th>shapes</th>\n",
       "      <th>precision</th>\n",
       "      <th>recall</th>\n",
       "      <th>fbeta_score</th>\n",
       "    </tr>\n",
       "  </thead>\n",
       "  <tbody>\n",
       "    <tr>\n",
       "      <td>25</td>\n",
       "      <td>10</td>\n",
       "      <td>0.702965</td>\n",
       "      <td>0.601149</td>\n",
       "      <td>0.661139</td>\n",
       "      <td>0.609961</td>\n",
       "      <td>64</td>\n",
       "      <td>0.1</td>\n",
       "      <td>10</td>\n",
       "      <td>128</td>\n",
       "      <td>1</td>\n",
       "      <td>1.00</td>\n",
       "      <td>funnel</td>\n",
       "      <td>0.609296</td>\n",
       "      <td>0.930902</td>\n",
       "      <td>0.736522</td>\n",
       "    </tr>\n",
       "    <tr>\n",
       "      <td>43</td>\n",
       "      <td>25</td>\n",
       "      <td>0.750410</td>\n",
       "      <td>0.600000</td>\n",
       "      <td>0.619072</td>\n",
       "      <td>0.643491</td>\n",
       "      <td>64</td>\n",
       "      <td>0.1</td>\n",
       "      <td>25</td>\n",
       "      <td>256</td>\n",
       "      <td>1</td>\n",
       "      <td>1.00</td>\n",
       "      <td>funnel</td>\n",
       "      <td>0.608805</td>\n",
       "      <td>0.928983</td>\n",
       "      <td>0.735562</td>\n",
       "    </tr>\n",
       "    <tr>\n",
       "      <td>81</td>\n",
       "      <td>10</td>\n",
       "      <td>0.685888</td>\n",
       "      <td>0.600000</td>\n",
       "      <td>0.693467</td>\n",
       "      <td>0.567061</td>\n",
       "      <td>128</td>\n",
       "      <td>0.1</td>\n",
       "      <td>10</td>\n",
       "      <td>256</td>\n",
       "      <td>2</td>\n",
       "      <td>0.01</td>\n",
       "      <td>funnel</td>\n",
       "      <td>0.600698</td>\n",
       "      <td>0.990403</td>\n",
       "      <td>0.747826</td>\n",
       "    </tr>\n",
       "    <tr>\n",
       "      <td>130</td>\n",
       "      <td>10</td>\n",
       "      <td>0.706382</td>\n",
       "      <td>0.600000</td>\n",
       "      <td>0.660053</td>\n",
       "      <td>0.628698</td>\n",
       "      <td>256</td>\n",
       "      <td>0.1</td>\n",
       "      <td>10</td>\n",
       "      <td>256</td>\n",
       "      <td>2</td>\n",
       "      <td>1.00</td>\n",
       "      <td>funnel</td>\n",
       "      <td>0.621318</td>\n",
       "      <td>0.850288</td>\n",
       "      <td>0.717990</td>\n",
       "    </tr>\n",
       "    <tr>\n",
       "      <td>26</td>\n",
       "      <td>10</td>\n",
       "      <td>0.685606</td>\n",
       "      <td>0.598851</td>\n",
       "      <td>0.671229</td>\n",
       "      <td>0.569527</td>\n",
       "      <td>64</td>\n",
       "      <td>0.1</td>\n",
       "      <td>10</td>\n",
       "      <td>128</td>\n",
       "      <td>1</td>\n",
       "      <td>2.00</td>\n",
       "      <td>funnel</td>\n",
       "      <td>0.598851</td>\n",
       "      <td>1.000000</td>\n",
       "      <td>0.749101</td>\n",
       "    </tr>\n",
       "  </tbody>\n",
       "</table>\n",
       "</div>"
      ],
      "text/plain": [
       "     round_epochs  val_loss  val_accuracy      loss  accuracy  batch_size  \\\n",
       "25             10  0.702965      0.601149  0.661139  0.609961          64   \n",
       "43             25  0.750410      0.600000  0.619072  0.643491          64   \n",
       "81             10  0.685888      0.600000  0.693467  0.567061         128   \n",
       "130            10  0.706382      0.600000  0.660053  0.628698         256   \n",
       "26             10  0.685606      0.598851  0.671229  0.569527          64   \n",
       "\n",
       "     dropout  epochs  first_neuron  hidden_layers    lr  shapes  precision  \\\n",
       "25       0.1      10           128              1  1.00  funnel   0.609296   \n",
       "43       0.1      25           256              1  1.00  funnel   0.608805   \n",
       "81       0.1      10           256              2  0.01  funnel   0.600698   \n",
       "130      0.1      10           256              2  1.00  funnel   0.621318   \n",
       "26       0.1      10           128              1  2.00  funnel   0.598851   \n",
       "\n",
       "       recall  fbeta_score  \n",
       "25   0.930902     0.736522  \n",
       "43   0.928983     0.735562  \n",
       "81   0.990403     0.747826  \n",
       "130  0.850288     0.717990  \n",
       "26   1.000000     0.749101  "
      ]
     },
     "execution_count": 17,
     "metadata": {},
     "output_type": "execute_result"
    }
   ],
   "source": [
    "top_5_val_dnn"
   ]
  },
  {
   "cell_type": "markdown",
   "metadata": {},
   "source": [
    "## Building a CNN to predict the winner using last n fights"
   ]
  },
  {
   "cell_type": "code",
   "execution_count": 18,
   "metadata": {},
   "outputs": [
    {
     "name": "stdout",
     "output_type": "stream",
     "text": [
      "X_train length (2898, 485), y_train length (2898,)\n",
      "X_test length (322, 485), y_test length (322,)\n",
      "New: X_train length (2898, 5, 97), y_train length (2898,)\n",
      "New: X_test length (322, 5, 97), y_test length (322,)\n"
     ]
    }
   ],
   "source": [
    "# Get the data\n",
    "X_train, X_test, y_train, y_test = collapse_n_fights()\n",
    "X_train = X_train.reshape(X_train.shape[0], 5, 97)\n",
    "X_test = X_test.reshape(X_test.shape[0], 5, 97)\n",
    "\n",
    "print(\"New: X_train length {}, y_train length {}\".format(X_train.shape, y_train.shape))\n",
    "print(\"New: X_test length {}, y_test length {}\".format(X_test.shape, y_test.shape))"
   ]
  },
  {
   "cell_type": "code",
   "execution_count": 19,
   "metadata": {},
   "outputs": [],
   "source": [
    "# Define hyperparameters to use in Grid Search\n",
    "cnn_params = {'lr': [0.01, 0.1, 1],\n",
    "     'num_filters': [64, 128],\n",
    "     'kernel_size': [2],\n",
    "     'batch_size': [64, 128],\n",
    "     'epochs': [5, 15],\n",
    "     'dropout': [0.01],\n",
    "     'flatten_layer': [100, 150], \n",
    "     'optimizer': [Adam],\n",
    "     'losses': [binary_crossentropy],\n",
    "     'activation': [relu],\n",
    "     'last_activation': [sigmoid]}"
   ]
  },
  {
   "cell_type": "code",
   "execution_count": 20,
   "metadata": {},
   "outputs": [
    {
     "name": "stderr",
     "output_type": "stream",
     "text": [
      "100%|██████████| 48/48 [01:31<00:00,  1.90s/it]\n"
     ]
    }
   ],
   "source": [
    "# Create the Neural Network\n",
    "cnn_model = ta.Scan(x=X_train,\n",
    "                y=y_train,\n",
    "                model=get_cnn,\n",
    "                params=cnn_params,\n",
    "                experiment_name=\"UFC_5_Fight_Predictor_CNN\")"
   ]
  },
  {
   "cell_type": "code",
   "execution_count": 21,
   "metadata": {},
   "outputs": [
    {
     "name": "stdout",
     "output_type": "stream",
     "text": [
      "(48, 16) 48\n"
     ]
    }
   ],
   "source": [
    "results_df = cnn_model.data\n",
    "cnn_cols = list(results_df.columns)\n",
    "print(results_df.shape, len(cnn_scores))\n",
    "\n",
    "new_df_data = []\n",
    "\n",
    "for index, row_data in results_df.iterrows():\n",
    "    new_row = dict()\n",
    "    \n",
    "    for col in cnn_cols:\n",
    "        new_row[col] = row_data[col]\n",
    "    \n",
    "    for score_index, col in enumerate(score_cols):\n",
    "        new_row[col] = cnn_scores[index][score_index]\n",
    "        \n",
    "    new_df_data.append(new_row)\n",
    "\n",
    "cnn_df = pd.DataFrame(new_df_data)"
   ]
  },
  {
   "cell_type": "code",
   "execution_count": 22,
   "metadata": {},
   "outputs": [],
   "source": [
    "cnn_df.drop(columns=['activation', 'last_activation', 'optimizer', 'support', 'losses'], inplace=True)\n",
    "top_5_val_cnn = cnn_df.sort_values(by=['val_accuracy'], ascending=False).head(5)\n",
    "top_5_acc_cnn = cnn_df.sort_values(by=['accuracy'], ascending=False).head(5)\n",
    "top_5_val_cnn.to_csv('../model_results/UFC_Predict_5_Fights_CNN.csv')"
   ]
  },
  {
   "cell_type": "code",
   "execution_count": 23,
   "metadata": {
    "scrolled": true
   },
   "outputs": [
    {
     "data": {
      "text/html": [
       "<div>\n",
       "<style scoped>\n",
       "    .dataframe tbody tr th:only-of-type {\n",
       "        vertical-align: middle;\n",
       "    }\n",
       "\n",
       "    .dataframe tbody tr th {\n",
       "        vertical-align: top;\n",
       "    }\n",
       "\n",
       "    .dataframe thead th {\n",
       "        text-align: right;\n",
       "    }\n",
       "</style>\n",
       "<table border=\"1\" class=\"dataframe\">\n",
       "  <thead>\n",
       "    <tr style=\"text-align: right;\">\n",
       "      <th></th>\n",
       "      <th>round_epochs</th>\n",
       "      <th>val_loss</th>\n",
       "      <th>val_accuracy</th>\n",
       "      <th>loss</th>\n",
       "      <th>accuracy</th>\n",
       "      <th>batch_size</th>\n",
       "      <th>dropout</th>\n",
       "      <th>epochs</th>\n",
       "      <th>flatten_layer</th>\n",
       "      <th>kernel_size</th>\n",
       "      <th>lr</th>\n",
       "      <th>num_filters</th>\n",
       "      <th>precision</th>\n",
       "      <th>recall</th>\n",
       "      <th>fbeta_score</th>\n",
       "    </tr>\n",
       "  </thead>\n",
       "  <tbody>\n",
       "    <tr>\n",
       "      <td>13</td>\n",
       "      <td>15</td>\n",
       "      <td>0.679476</td>\n",
       "      <td>0.594253</td>\n",
       "      <td>0.663785</td>\n",
       "      <td>0.601085</td>\n",
       "      <td>64</td>\n",
       "      <td>0.01</td>\n",
       "      <td>15</td>\n",
       "      <td>100</td>\n",
       "      <td>2</td>\n",
       "      <td>0.01</td>\n",
       "      <td>128</td>\n",
       "      <td>0.604749</td>\n",
       "      <td>0.860835</td>\n",
       "      <td>0.710418</td>\n",
       "    </tr>\n",
       "    <tr>\n",
       "      <td>39</td>\n",
       "      <td>15</td>\n",
       "      <td>0.683834</td>\n",
       "      <td>0.590805</td>\n",
       "      <td>0.569896</td>\n",
       "      <td>0.736193</td>\n",
       "      <td>128</td>\n",
       "      <td>0.01</td>\n",
       "      <td>15</td>\n",
       "      <td>100</td>\n",
       "      <td>2</td>\n",
       "      <td>0.10</td>\n",
       "      <td>128</td>\n",
       "      <td>0.610860</td>\n",
       "      <td>0.805169</td>\n",
       "      <td>0.694683</td>\n",
       "    </tr>\n",
       "    <tr>\n",
       "      <td>44</td>\n",
       "      <td>15</td>\n",
       "      <td>0.685555</td>\n",
       "      <td>0.585057</td>\n",
       "      <td>0.612971</td>\n",
       "      <td>0.683925</td>\n",
       "      <td>128</td>\n",
       "      <td>0.01</td>\n",
       "      <td>15</td>\n",
       "      <td>150</td>\n",
       "      <td>2</td>\n",
       "      <td>0.10</td>\n",
       "      <td>64</td>\n",
       "      <td>0.611987</td>\n",
       "      <td>0.771372</td>\n",
       "      <td>0.682498</td>\n",
       "    </tr>\n",
       "    <tr>\n",
       "      <td>33</td>\n",
       "      <td>5</td>\n",
       "      <td>0.684932</td>\n",
       "      <td>0.580460</td>\n",
       "      <td>0.647354</td>\n",
       "      <td>0.618343</td>\n",
       "      <td>128</td>\n",
       "      <td>0.01</td>\n",
       "      <td>5</td>\n",
       "      <td>150</td>\n",
       "      <td>2</td>\n",
       "      <td>0.10</td>\n",
       "      <td>128</td>\n",
       "      <td>0.592992</td>\n",
       "      <td>0.874751</td>\n",
       "      <td>0.706827</td>\n",
       "    </tr>\n",
       "    <tr>\n",
       "      <td>38</td>\n",
       "      <td>15</td>\n",
       "      <td>0.685033</td>\n",
       "      <td>0.579310</td>\n",
       "      <td>0.618025</td>\n",
       "      <td>0.665187</td>\n",
       "      <td>128</td>\n",
       "      <td>0.01</td>\n",
       "      <td>15</td>\n",
       "      <td>100</td>\n",
       "      <td>2</td>\n",
       "      <td>0.10</td>\n",
       "      <td>64</td>\n",
       "      <td>0.607535</td>\n",
       "      <td>0.769384</td>\n",
       "      <td>0.678947</td>\n",
       "    </tr>\n",
       "  </tbody>\n",
       "</table>\n",
       "</div>"
      ],
      "text/plain": [
       "    round_epochs  val_loss  val_accuracy      loss  accuracy  batch_size  \\\n",
       "13            15  0.679476      0.594253  0.663785  0.601085          64   \n",
       "39            15  0.683834      0.590805  0.569896  0.736193         128   \n",
       "44            15  0.685555      0.585057  0.612971  0.683925         128   \n",
       "33             5  0.684932      0.580460  0.647354  0.618343         128   \n",
       "38            15  0.685033      0.579310  0.618025  0.665187         128   \n",
       "\n",
       "    dropout  epochs  flatten_layer  kernel_size    lr  num_filters  precision  \\\n",
       "13     0.01      15            100            2  0.01          128   0.604749   \n",
       "39     0.01      15            100            2  0.10          128   0.610860   \n",
       "44     0.01      15            150            2  0.10           64   0.611987   \n",
       "33     0.01       5            150            2  0.10          128   0.592992   \n",
       "38     0.01      15            100            2  0.10           64   0.607535   \n",
       "\n",
       "      recall  fbeta_score  \n",
       "13  0.860835     0.710418  \n",
       "39  0.805169     0.694683  \n",
       "44  0.771372     0.682498  \n",
       "33  0.874751     0.706827  \n",
       "38  0.769384     0.678947  "
      ]
     },
     "execution_count": 23,
     "metadata": {},
     "output_type": "execute_result"
    }
   ],
   "source": [
    "top_5_val_cnn"
   ]
  },
  {
   "cell_type": "markdown",
   "metadata": {},
   "source": [
    "## Building an LSTM to predict the winner using last n fights"
   ]
  },
  {
   "cell_type": "code",
   "execution_count": 24,
   "metadata": {},
   "outputs": [
    {
     "name": "stdout",
     "output_type": "stream",
     "text": [
      "X_train length (2898, 485), y_train length (2898,)\n",
      "X_test length (322, 485), y_test length (322,)\n",
      "New: X_train length (2898, 5, 97), y_train length (2898,)\n",
      "New: X_test length (322, 5, 97), y_test length (322,)\n"
     ]
    }
   ],
   "source": [
    "# Get the data\n",
    "X_train, X_test, y_train, y_test = collapse_n_fights()\n",
    "X_train = X_train.reshape(X_train.shape[0], 5, 97)\n",
    "X_test = X_test.reshape(X_test.shape[0], 5, 97)\n",
    "\n",
    "print(\"New: X_train length {}, y_train length {}\".format(X_train.shape, y_train.shape))\n",
    "print(\"New: X_test length {}, y_test length {}\".format(X_test.shape, y_test.shape))"
   ]
  },
  {
   "cell_type": "code",
   "execution_count": 25,
   "metadata": {},
   "outputs": [
    {
     "name": "stdout",
     "output_type": "stream",
     "text": [
      "Train on 2898 samples, validate on 322 samples\n",
      "Epoch 1/30\n",
      "2898/2898 [==============================] - 1s 196us/step - loss: 0.6984 - accuracy: 0.5476 - val_loss: 0.6901 - val_accuracy: 0.5590\n",
      "Epoch 2/30\n",
      "2898/2898 [==============================] - 0s 56us/step - loss: 0.6496 - accuracy: 0.6225 - val_loss: 0.6914 - val_accuracy: 0.5621\n",
      "Epoch 3/30\n",
      "2898/2898 [==============================] - 0s 70us/step - loss: 0.6262 - accuracy: 0.6549 - val_loss: 0.7242 - val_accuracy: 0.5342\n",
      "Epoch 4/30\n",
      "2898/2898 [==============================] - 0s 72us/step - loss: 0.5878 - accuracy: 0.6874 - val_loss: 0.7130 - val_accuracy: 0.5497\n",
      "Epoch 5/30\n",
      "2898/2898 [==============================] - 0s 72us/step - loss: 0.5398 - accuracy: 0.7253 - val_loss: 0.7455 - val_accuracy: 0.5466\n",
      "Epoch 6/30\n",
      "2898/2898 [==============================] - 0s 73us/step - loss: 0.4834 - accuracy: 0.7685 - val_loss: 0.8236 - val_accuracy: 0.5093\n",
      "Epoch 7/30\n",
      "2898/2898 [==============================] - 0s 75us/step - loss: 0.4314 - accuracy: 0.8102 - val_loss: 0.8793 - val_accuracy: 0.5280\n",
      "Epoch 8/30\n",
      "2898/2898 [==============================] - 0s 76us/step - loss: 0.3758 - accuracy: 0.8485 - val_loss: 0.9373 - val_accuracy: 0.5280\n",
      "Epoch 9/30\n",
      "2898/2898 [==============================] - 0s 80us/step - loss: 0.3131 - accuracy: 0.8841 - val_loss: 0.9562 - val_accuracy: 0.5404\n",
      "Epoch 10/30\n",
      "2898/2898 [==============================] - 0s 82us/step - loss: 0.2508 - accuracy: 0.9124 - val_loss: 1.0024 - val_accuracy: 0.5652\n",
      "Epoch 11/30\n",
      "2898/2898 [==============================] - 0s 78us/step - loss: 0.2129 - accuracy: 0.9300 - val_loss: 1.0754 - val_accuracy: 0.4969\n",
      "Epoch 12/30\n",
      "2898/2898 [==============================] - 0s 79us/step - loss: 0.2001 - accuracy: 0.9275 - val_loss: 1.0886 - val_accuracy: 0.5528\n",
      "Epoch 13/30\n",
      "2898/2898 [==============================] - 0s 79us/step - loss: 0.1683 - accuracy: 0.9424 - val_loss: 1.2210 - val_accuracy: 0.5186\n",
      "Epoch 14/30\n",
      "2898/2898 [==============================] - 0s 79us/step - loss: 0.1312 - accuracy: 0.9603 - val_loss: 1.2274 - val_accuracy: 0.5652\n",
      "Epoch 15/30\n",
      "2898/2898 [==============================] - 0s 81us/step - loss: 0.1018 - accuracy: 0.9741 - val_loss: 1.2821 - val_accuracy: 0.5248\n",
      "Epoch 16/30\n",
      "2898/2898 [==============================] - 0s 79us/step - loss: 0.0887 - accuracy: 0.9779 - val_loss: 1.3285 - val_accuracy: 0.5342\n",
      "Epoch 17/30\n",
      "2898/2898 [==============================] - 0s 80us/step - loss: 0.0753 - accuracy: 0.9824 - val_loss: 1.3310 - val_accuracy: 0.5528\n",
      "Epoch 18/30\n",
      "2898/2898 [==============================] - 0s 79us/step - loss: 0.0682 - accuracy: 0.9838 - val_loss: 1.3586 - val_accuracy: 0.5466\n",
      "Epoch 19/30\n",
      "2898/2898 [==============================] - 0s 79us/step - loss: 0.0619 - accuracy: 0.9859 - val_loss: 1.4522 - val_accuracy: 0.5435\n",
      "Epoch 20/30\n",
      "2898/2898 [==============================] - 0s 79us/step - loss: 0.0582 - accuracy: 0.9876 - val_loss: 1.3841 - val_accuracy: 0.5652\n",
      "Epoch 21/30\n",
      "2898/2898 [==============================] - 0s 79us/step - loss: 0.0491 - accuracy: 0.9903 - val_loss: 1.4370 - val_accuracy: 0.5280\n",
      "Epoch 22/30\n",
      "2898/2898 [==============================] - 0s 80us/step - loss: 0.0461 - accuracy: 0.9890 - val_loss: 1.4209 - val_accuracy: 0.5466\n",
      "Epoch 23/30\n",
      "2898/2898 [==============================] - 0s 79us/step - loss: 0.0371 - accuracy: 0.9924 - val_loss: 1.4832 - val_accuracy: 0.5311\n",
      "Epoch 24/30\n",
      "2898/2898 [==============================] - 0s 78us/step - loss: 0.0290 - accuracy: 0.9959 - val_loss: 1.5710 - val_accuracy: 0.5248\n",
      "Epoch 25/30\n",
      "2898/2898 [==============================] - 0s 80us/step - loss: 0.0266 - accuracy: 0.9948 - val_loss: 1.6016 - val_accuracy: 0.5497\n",
      "Epoch 26/30\n",
      "2898/2898 [==============================] - 0s 80us/step - loss: 0.0299 - accuracy: 0.9938 - val_loss: 1.5479 - val_accuracy: 0.5590\n",
      "Epoch 27/30\n",
      "2898/2898 [==============================] - 0s 80us/step - loss: 0.0280 - accuracy: 0.9952 - val_loss: 1.5842 - val_accuracy: 0.5776\n",
      "Epoch 28/30\n",
      "2898/2898 [==============================] - 0s 80us/step - loss: 0.0348 - accuracy: 0.9917 - val_loss: 1.6752 - val_accuracy: 0.5435\n",
      "Epoch 29/30\n",
      "2898/2898 [==============================] - 0s 86us/step - loss: 0.0239 - accuracy: 0.9965 - val_loss: 1.7261 - val_accuracy: 0.5093\n",
      "Epoch 30/30\n",
      "2898/2898 [==============================] - 0s 79us/step - loss: 0.0310 - accuracy: 0.9921 - val_loss: 1.6687 - val_accuracy: 0.5683\n",
      "Model: \"sequential_1\"\n",
      "_________________________________________________________________\n",
      "Layer (type)                 Output Shape              Param #   \n",
      "=================================================================\n",
      "lstm_1 (LSTM)                (None, 50)                29600     \n",
      "_________________________________________________________________\n",
      "dense_1 (Dense)              (None, 1)                 51        \n",
      "=================================================================\n",
      "Total params: 29,651\n",
      "Trainable params: 29,651\n",
      "Non-trainable params: 0\n",
      "_________________________________________________________________\n"
     ]
    },
    {
     "data": {
      "image/png": "[encoded data removed]",
      "text/plain": [
       "<Figure size 1440x360 with 2 Axes>"
      ]
     },
     "metadata": {
      "needs_background": "light"
     },
     "output_type": "display_data"
    }
   ],
   "source": [
    "history, model = get_lstm(X_train, y_train, X_test, y_test, test_model=True)"
   ]
  },
  {
   "cell_type": "code",
   "execution_count": 26,
   "metadata": {},
   "outputs": [
    {
     "data": {
      "text/html": [
       "<div>\n",
       "<style scoped>\n",
       "    .dataframe tbody tr th:only-of-type {\n",
       "        vertical-align: middle;\n",
       "    }\n",
       "\n",
       "    .dataframe tbody tr th {\n",
       "        vertical-align: top;\n",
       "    }\n",
       "\n",
       "    .dataframe thead th {\n",
       "        text-align: right;\n",
       "    }\n",
       "</style>\n",
       "<table border=\"1\" class=\"dataframe\">\n",
       "  <thead>\n",
       "    <tr style=\"text-align: right;\">\n",
       "      <th></th>\n",
       "      <th>accuracy</th>\n",
       "      <th>val_accuracy</th>\n",
       "      <th>loss</th>\n",
       "      <th>val_loss</th>\n",
       "      <th>precision</th>\n",
       "      <th>recall</th>\n",
       "      <th>fbeta_score</th>\n",
       "      <th>support</th>\n",
       "    </tr>\n",
       "  </thead>\n",
       "  <tbody>\n",
       "    <tr>\n",
       "      <td>0</td>\n",
       "      <td>0.992063</td>\n",
       "      <td>0.568323</td>\n",
       "      <td>0.031037</td>\n",
       "      <td>1.668706</td>\n",
       "      <td>0.657609</td>\n",
       "      <td>0.614213</td>\n",
       "      <td>0.635171</td>\n",
       "      <td>None</td>\n",
       "    </tr>\n",
       "  </tbody>\n",
       "</table>\n",
       "</div>"
      ],
      "text/plain": [
       "   accuracy  val_accuracy      loss  val_loss  precision    recall  \\\n",
       "0  0.992063      0.568323  0.031037  1.668706   0.657609  0.614213   \n",
       "\n",
       "   fbeta_score support  \n",
       "0     0.635171    None  "
      ]
     },
     "execution_count": 26,
     "metadata": {},
     "output_type": "execute_result"
    }
   ],
   "source": [
    "hist = history.history\n",
    "lstm_data = [hist['accuracy'][-1], hist['val_accuracy'][-1], hist['loss'][-1], hist['val_loss'][-1]]\n",
    "lstm_data = lstm_data + [lstm_scores[0][0], lstm_scores[0][1], lstm_scores[0][2], lstm_scores[0][3]]\n",
    "lstm_cols = ['accuracy', 'val_accuracy', 'loss', 'val_loss'] + score_cols\n",
    "\n",
    "\n",
    "lstm_df = pd.DataFrame(data=[lstm_data], columns=lstm_cols)\n",
    "lstm_df.sort_values(by=['val_accuracy'], ascending=False, inplace=True)\n",
    "lstm_df"
   ]
  },
  {
   "cell_type": "code",
   "execution_count": 27,
   "metadata": {},
   "outputs": [],
   "source": [
    "lstm_df.to_csv('../model_results/UFC_Predict_5_Fights_LSTM.csv')"
   ]
  },
  {
   "cell_type": "markdown",
   "metadata": {},
   "source": [
    "# Model Builders"
   ]
  },
  {
   "cell_type": "code",
   "execution_count": 28,
   "metadata": {},
   "outputs": [],
   "source": [
    "# Model imports\n",
    "from keras.models import Sequential\n",
    "from keras.layers import Dense, Dropout, Conv1D, Flatten, MaxPooling1D, LSTM\n",
    "from keras.optimizers import Adam, Nadam, RMSprop\n",
    "from keras.losses import logcosh, binary_crossentropy\n",
    "from keras.activations import relu, elu, sigmoid"
   ]
  },
  {
   "cell_type": "markdown",
   "metadata": {},
   "source": [
    "### Analyzing last n fights using an LSTM"
   ]
  },
  {
   "cell_type": "code",
   "execution_count": 29,
   "metadata": {},
   "outputs": [],
   "source": [
    "lstm_scores = []\n",
    "\n",
    "def get_lstm(x_train, y_train, x_val, y_val, test_model=False):\n",
    "    model = Sequential()\n",
    "    \n",
    "    model.add(LSTM(50, \n",
    "                   input_shape=(5, 97),\n",
    "                   recurrent_dropout=0.2)) #, return_sequences=True\n",
    "    model.add(Dense(1, activation='sigmoid'))\n",
    "    model.compile(loss=\"binary_crossentropy\", \n",
    "                  optimizer=Adam(learning_rate=0.01), \n",
    "                  metrics=['accuracy'])\n",
    "    \n",
    "    history = model.fit(x_train, y_train,\n",
    "                       validation_data=[x_val, y_val],\n",
    "                       batch_size=64,\n",
    "                       epochs=30,\n",
    "                       verbose=1)\n",
    "    \n",
    "    score = precision_recall_fscore_support(y_val, model.predict_classes(x_val), average='binary')\n",
    "    lstm_scores.append(score)\n",
    "    \n",
    "    if test_model:\n",
    "        plot_training_results(history)\n",
    "        model.summary()\n",
    "\n",
    "    return history, model"
   ]
  },
  {
   "cell_type": "markdown",
   "metadata": {},
   "source": [
    "### Analyzing last n fights using a Dense Neural Network"
   ]
  },
  {
   "cell_type": "code",
   "execution_count": 30,
   "metadata": {},
   "outputs": [],
   "source": [
    "dnn_scores = []\n",
    "\n",
    "def get_dnn(x_train, y_train, x_val, y_val, params, test_model=False):\n",
    "    \n",
    "    model = Sequential()\n",
    "    # Input Layer\n",
    "    model.add(Dense(params[\"first_neuron\"], \n",
    "                    activation=params['activation'], \n",
    "                    input_dim=X_train.shape[1]))\n",
    "    \n",
    "    model.add(Dropout(params['dropout']))\n",
    "    \n",
    "    # Hidden Layers\n",
    "    hidden_layers(model, params, 1)\n",
    "    \n",
    "    # Output Layers\n",
    "    model.add(Dense(1, activation=params['last_activation']))\n",
    "    \n",
    "    model.compile(loss=params['losses'],\n",
    "                  optimizer=params['optimizer'](lr=lr_normalizer(params['lr'], params['optimizer'])), \n",
    "                  metrics=['accuracy'])\n",
    "                  \n",
    "    history = model.fit(x_train, y_train,\n",
    "                       validation_data=[x_val, y_val],\n",
    "                       batch_size=params['batch_size'],\n",
    "                       epochs=params['epochs'],\n",
    "                       verbose=0)\n",
    "    \n",
    "    score = precision_recall_fscore_support(y_val, model.predict_classes(x_val), average='binary')\n",
    "    dnn_scores.append(score)\n",
    "    \n",
    "    if test_model:\n",
    "        model.summary()\n",
    "        plot_training_results(history)\n",
    "        \n",
    "\n",
    "    return history, model"
   ]
  },
  {
   "cell_type": "markdown",
   "metadata": {},
   "source": [
    "### Analyzing last n fights using a Convolutional Neural Network"
   ]
  },
  {
   "cell_type": "code",
   "execution_count": 31,
   "metadata": {},
   "outputs": [],
   "source": [
    "cnn_scores = []\n",
    "\n",
    "def get_cnn(x_train, y_train, x_val, y_val, params, test_model=False):\n",
    "    model = Sequential()\n",
    "    \n",
    "    # Convolutional Layers\n",
    "    model.add(Conv1D(filters=params[\"num_filters\"], kernel_size=params[\"kernel_size\"], activation='relu', input_shape=(5, 97)))\n",
    "    model.add(Conv1D(filters=params[\"num_filters\"], kernel_size=params[\"kernel_size\"], activation='relu'))\n",
    "    model.add(Dropout(params['dropout']))\n",
    "#     model.add(MaxPooling1D(pool_size=2))\n",
    "    \n",
    "    # Flatten Layers\n",
    "    model.add(Flatten())\n",
    "    model.add(Dense(params[\"flatten_layer\"], activation='relu'))\n",
    "#     model.add(Dense(params[\"flatten_layer\"], activation='relu'))\n",
    "    \n",
    "    # Output Layer\n",
    "    model.add(Dense(1, activation='sigmoid'))\n",
    "    \n",
    "    model.compile(loss=params['losses'],\n",
    "                  optimizer=params['optimizer'](lr=lr_normalizer(params['lr'], params['optimizer'])), \n",
    "                  metrics=['accuracy'])\n",
    "    \n",
    "    history = model.fit(x_train, y_train,\n",
    "                       validation_data=[x_val, y_val],\n",
    "                       batch_size=params['batch_size'],\n",
    "                       epochs=params['epochs'],\n",
    "                       verbose=0)\n",
    "    \n",
    "    score = precision_recall_fscore_support(y_val, model.predict_classes(x_val), average='binary')\n",
    "    cnn_scores.append(score)\n",
    "    \n",
    "    if test_model:\n",
    "        plot_training_results(history)\n",
    "        model.summary()\n",
    "\n",
    "    return history, model"
   ]
  },
  {
   "cell_type": "markdown",
   "metadata": {},
   "source": [
    "## Helper Functions"
   ]
  },
  {
   "cell_type": "code",
   "execution_count": 32,
   "metadata": {},
   "outputs": [],
   "source": [
    "def plot_training_results(history_obj):\n",
    "    acc = history_obj.history['accuracy']\n",
    "    val_acc = history_obj.history['val_accuracy']\n",
    "    loss = history_obj.history['loss']\n",
    "    val_loss = history_obj.history['val_loss']\n",
    "    \n",
    "    epochs = range(1, len(acc) + 1)\n",
    "\n",
    "    fig, (accuracy_axis, loss_axis) = plt.subplots(1, 2, figsize=(20, 5))\n",
    "\n",
    "    accuracy_axis.plot(epochs, acc, 'bo', label='Training acc')\n",
    "    accuracy_axis.plot(epochs, val_acc, 'b', label='Validation acc')\n",
    "    accuracy_axis.set_title('Training and validation accuracy')\n",
    "    accuracy_axis.set_ylabel('Accuracy')\n",
    "    accuracy_axis.set_xlabel('Epoch')\n",
    "    accuracy_axis.legend()\n",
    "\n",
    "    loss_axis.plot(epochs, loss, 'bo', label='Training loss')\n",
    "    loss_axis.plot(epochs, val_loss, 'b', label='Validation loss')\n",
    "    loss_axis.set_title('Training and validation loss')\n",
    "    loss_axis.set_ylim(0, 3)\n",
    "    loss_axis.set_ylabel('Loss')\n",
    "    loss_axis.set_xlabel('Epoch')\n",
    "    loss_axis.legend()\n",
    "    fig.show()"
   ]
  },
  {
   "cell_type": "markdown",
   "metadata": {},
   "source": [
    "## Extract numerical and categorical columns"
   ]
  },
  {
   "cell_type": "code",
   "execution_count": 33,
   "metadata": {},
   "outputs": [],
   "source": [
    "# Get the first fight window and the first fight in that window\n",
    "def get_column_types():\n",
    "    num_cols = []\n",
    "    cat_cols = []\n",
    "    for fight in features[0][0]:\n",
    "        feature_type = type(features[1][1][fight])\n",
    "        if feature_type is not float and feature_type is not int:\n",
    "            cat_cols.append(fight)\n",
    "        else:\n",
    "            num_cols.append(fight)\n",
    "            \n",
    "    return num_cols, cat_cols"
   ]
  },
  {
   "cell_type": "code",
   "execution_count": 34,
   "metadata": {},
   "outputs": [],
   "source": [
    "x, y = get_column_types()"
   ]
  }
 ],
 "metadata": {
  "kernelspec": {
   "display_name": "Python 3",
   "language": "python",
   "name": "python3"
  },
  "language_info": {
   "codemirror_mode": {
    "name": "ipython",
    "version": 3
   },
   "file_extension": ".py",
   "mimetype": "text/x-python",
   "name": "python",
   "nbconvert_exporter": "python",
   "pygments_lexer": "ipython3",
   "version": "3.6.8"
  }
 },
 "nbformat": 4,
 "nbformat_minor": 4
}
