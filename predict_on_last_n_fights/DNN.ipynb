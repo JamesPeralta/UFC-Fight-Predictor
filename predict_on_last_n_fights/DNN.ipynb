{
 "cells": [
  {
   "cell_type": "markdown",
   "metadata": {},
   "source": [
    "# In this Notebook we are attempting to predict if a person will win their next fight depending on how they performed on their last 5 fights"
   ]
  },
  {
   "cell_type": "markdown",
   "metadata": {},
   "source": [
    "## Library Imports"
   ]
  },
  {
   "cell_type": "code",
   "execution_count": null,
   "metadata": {},
   "outputs": [],
   "source": [
    "import sys\n",
    "sys.path.insert(1, '../combined_data')\n",
    "sys.path.insert(1, '../predict_winner')\n",
    "from make_career import make_career\n",
    "import pandas as pd\n",
    "import numpy as np\n",
    "from sklearn.preprocessing import LabelEncoder\n",
    "from sklearn.model_selection import train_test_split\n",
    "import matplotlib.pyplot as plt\n",
    "import talos as ta\n",
    "from talos.model.normalizers import lr_normalizer\n",
    "from talos.model.hidden_layers import hidden_layers\n",
    "from sklearn.preprocessing import LabelEncoder\n",
    "from sklearn.preprocessing import StandardScaler"
   ]
  },
  {
   "cell_type": "markdown",
   "metadata": {},
   "source": [
    "## Loading the dataset"
   ]
  },
  {
   "cell_type": "code",
   "execution_count": null,
   "metadata": {
    "scrolled": false
   },
   "outputs": [],
   "source": [
    "features, labels = make_career(pd.read_csv('../combined_data/combined_fight_data_zerod_nans.csv'))\n",
    "labels = labels.reshape(-1,)\n",
    "labels = LabelEncoder().fit_transform(labels)"
   ]
  },
  {
   "cell_type": "code",
   "execution_count": null,
   "metadata": {
    "scrolled": true
   },
   "outputs": [],
   "source": [
    "print(features.shape)\n",
    "print(type(features))"
   ]
  },
  {
   "cell_type": "code",
   "execution_count": null,
   "metadata": {
    "scrolled": true
   },
   "outputs": [],
   "source": [
    "print(labels.shape)\n",
    "print(type(labels))"
   ]
  },
  {
   "cell_type": "code",
   "execution_count": null,
   "metadata": {},
   "outputs": [],
   "source": [
    "print(labels)"
   ]
  },
  {
   "cell_type": "markdown",
   "metadata": {},
   "source": [
    "## Preprocess Features"
   ]
  },
  {
   "cell_type": "markdown",
   "metadata": {},
   "source": [
    "## Generates np.array of shape (3220, 5 * features)"
   ]
  },
  {
   "cell_type": "code",
   "execution_count": null,
   "metadata": {},
   "outputs": [],
   "source": [
    "from sklearn.utils import shuffle\n",
    "\n",
    "def collapse_n_fights():\n",
    "    num_cols, cat_cols = get_column_types()\n",
    "    \n",
    "    # Collect only the features we want\n",
    "    new_features = []\n",
    "    for window in features:\n",
    "        window_arr = list(window.reshape(1,-1))[0]\n",
    "        fight_window = np.array([])\n",
    "        for fight in window_arr:\n",
    "            fight_arr = np.array([fight[i] for i in num_cols])\n",
    "            np.nan_to_num(fight_arr, copy=False)\n",
    "            fight_window = np.append(fight_window, fight_arr)\n",
    "        new_features.append(fight_window)\n",
    "    \n",
    "    new_features, new_labels = shuffle(np.array(new_features), labels)\n",
    "    X_train, X_test, y_train, y_test = train_test_split(new_features, new_labels, random_state=0, train_size=0.90)\n",
    "    \n",
    "    # Scale the data\n",
    "    scaler = StandardScaler().fit(X_train)\n",
    "    X_train = scaler.transform(X_train)\n",
    "    X_test = scaler.transform(X_test)\n",
    "    \n",
    "    print(\"X_train length {}, y_train length {}\".format(X_train.shape, y_train.shape))\n",
    "    print(\"X_test length {}, y_test length {}\".format(X_test.shape, y_test.shape))\n",
    "    \n",
    "    return X_train, X_test, y_train, y_test"
   ]
  },
  {
   "cell_type": "markdown",
   "metadata": {},
   "source": [
    "### Generates np.array of shape (3220, 5, win?)"
   ]
  },
  {
   "cell_type": "code",
   "execution_count": null,
   "metadata": {},
   "outputs": [],
   "source": []
  },
  {
   "cell_type": "markdown",
   "metadata": {},
   "source": [
    "## Building a DNN to predict the winner using last n fights"
   ]
  },
  {
   "cell_type": "code",
   "execution_count": null,
   "metadata": {
    "scrolled": true
   },
   "outputs": [],
   "source": [
    "# Get the data\n",
    "X_train, X_test, y_train, y_test = collapse_n_fights()"
   ]
  },
  {
   "cell_type": "code",
   "execution_count": null,
   "metadata": {},
   "outputs": [],
   "source": [
    "# Define hyperparameters to use in Grid Search\n",
    "dnn_params = {'lr': (0.2, 1, 2),\n",
    "     'first_neuron': [128, 256],\n",
    "     'hidden_layers': [1, 2],\n",
    "     'batch_size': [64, 128, 256],\n",
    "     'epochs': [10, 25],\n",
    "     'dropout': [0.01, 0.1],\n",
    "     'optimizer': [Adam],\n",
    "     'shapes':['funnel'],\n",
    "     'losses': [binary_crossentropy],\n",
    "     'activation': [relu],\n",
    "     'last_activation': [sigmoid]}"
   ]
  },
  {
   "cell_type": "code",
   "execution_count": null,
   "metadata": {
    "scrolled": true
   },
   "outputs": [],
   "source": [
    "# Create the Neural Network\n",
    "dnn_model = ta.Scan(x=X_train,\n",
    "               y=y_train,\n",
    "               model=get_dnn,\n",
    "               params=dnn_params,\n",
    "               experiment_name=\"UFC_5_Fight_Predictor\")"
   ]
  },
  {
   "cell_type": "code",
   "execution_count": null,
   "metadata": {},
   "outputs": [],
   "source": [
    "results_df = dnn_model.data"
   ]
  },
  {
   "cell_type": "code",
   "execution_count": null,
   "metadata": {
    "scrolled": false
   },
   "outputs": [],
   "source": [
    "top_10_dnn = results_df.sort_values(by=['val_accuracy'], ascending=False).head(10)"
   ]
  },
  {
   "cell_type": "code",
   "execution_count": null,
   "metadata": {},
   "outputs": [],
   "source": [
    "top_10_dnn"
   ]
  },
  {
   "cell_type": "code",
   "execution_count": null,
   "metadata": {},
   "outputs": [],
   "source": [
    "top_10_dnn.to_csv(\"../model_results/UFC_Predict_5_Fights_DNN.csv\")"
   ]
  },
  {
   "cell_type": "markdown",
   "metadata": {},
   "source": [
    "## Building a CNN to predict the winner using last n fights"
   ]
  },
  {
   "cell_type": "code",
   "execution_count": null,
   "metadata": {},
   "outputs": [],
   "source": [
    "# Get the data\n",
    "X_train, X_test, y_train, y_test = collapse_n_fights()\n",
    "X_train = X_train.reshape(X_train.shape[0], 5, 85)\n",
    "X_test = X_test.reshape(X_test.shape[0], 5, 85)\n",
    "\n",
    "print(\"New: X_train length {}, y_train length {}\".format(X_train.shape, y_train.shape))\n",
    "print(\"New: X_test length {}, y_test length {}\".format(X_test.shape, y_test.shape))"
   ]
  },
  {
   "cell_type": "code",
   "execution_count": null,
   "metadata": {},
   "outputs": [],
   "source": [
    "# Define hyperparameters to use in Grid Search\n",
    "cnn_params = {'lr': (0.2, 1, 2),\n",
    "     'num_filters': [64, 128],\n",
    "     'kernel_size': [2],\n",
    "     'batch_size': [1, 64, 128],\n",
    "     'epochs': [5, 10, 15],\n",
    "     'dropout': [0.01, 0.1],\n",
    "     'flatten_layer': [100, 150], \n",
    "     'optimizer': [Adam],\n",
    "     'losses': [binary_crossentropy],\n",
    "     'activation': [relu],\n",
    "     'last_activation': [sigmoid]}"
   ]
  },
  {
   "cell_type": "code",
   "execution_count": null,
   "metadata": {},
   "outputs": [],
   "source": [
    "# Create the Neural Network\n",
    "cnn_model = ta.Scan(x=X_train,\n",
    "                y=y_train,\n",
    "                model=get_cnn,\n",
    "                params=cnn_params,\n",
    "                experiment_name=\"UFC_5_Fight_Predictor_CNN\")"
   ]
  },
  {
   "cell_type": "code",
   "execution_count": null,
   "metadata": {},
   "outputs": [],
   "source": [
    "results_df = cnn_model.data"
   ]
  },
  {
   "cell_type": "code",
   "execution_count": null,
   "metadata": {},
   "outputs": [],
   "source": [
    "top_10_val_cnn = results_df.sort_values(by=['val_accuracy'], ascending=False).head(10)\n",
    "top_10_acc_cnn = results_df.sort_values(by=['accuracy'], ascending=False).head(10)"
   ]
  },
  {
   "cell_type": "code",
   "execution_count": null,
   "metadata": {},
   "outputs": [],
   "source": [
    "top_10_val_cnn"
   ]
  },
  {
   "cell_type": "code",
   "execution_count": null,
   "metadata": {},
   "outputs": [],
   "source": [
    "top_10_cnn.to_csv(\"../model_results/UFC_Predict_5_Fights_CNN_2.csv\")"
   ]
  },
  {
   "cell_type": "markdown",
   "metadata": {},
   "source": [
    "## Building an LSTM to predict the winner using last n fights"
   ]
  },
  {
   "cell_type": "code",
   "execution_count": 182,
   "metadata": {},
   "outputs": [
    {
     "name": "stdout",
     "output_type": "stream",
     "text": [
      "X_train length (2898, 425), y_train length (2898,)\n",
      "X_test length (322, 425), y_test length (322,)\n",
      "New: X_train length (2898, 5, 85), y_train length (2898,)\n",
      "New: X_test length (322, 5, 85), y_test length (322,)\n"
     ]
    }
   ],
   "source": [
    "# Get the data\n",
    "X_train, X_test, y_train, y_test = collapse_n_fights()\n",
    "X_train = X_train.reshape(X_train.shape[0], 5, 85)\n",
    "X_test = X_test.reshape(X_test.shape[0], 5, 85)\n",
    "\n",
    "print(\"New: X_train length {}, y_train length {}\".format(X_train.shape, y_train.shape))\n",
    "print(\"New: X_test length {}, y_test length {}\".format(X_test.shape, y_test.shape))"
   ]
  },
  {
   "cell_type": "code",
   "execution_count": 183,
   "metadata": {},
   "outputs": [
    {
     "name": "stdout",
     "output_type": "stream",
     "text": [
      "Train on 2898 samples, validate on 322 samples\n",
      "Epoch 1/30\n",
      "2898/2898 [==============================] - 1s 333us/step - loss: 0.6979 - accuracy: 0.5590 - val_loss: 0.6877 - val_accuracy: 0.5497\n",
      "Epoch 2/30\n",
      "2898/2898 [==============================] - 0s 125us/step - loss: 0.6478 - accuracy: 0.6266 - val_loss: 0.7024 - val_accuracy: 0.5528\n",
      "Epoch 3/30\n",
      "2898/2898 [==============================] - 0s 118us/step - loss: 0.6301 - accuracy: 0.6425 - val_loss: 0.7103 - val_accuracy: 0.5373\n",
      "Epoch 4/30\n",
      "2898/2898 [==============================] - 1s 186us/step - loss: 0.5957 - accuracy: 0.6798 - val_loss: 0.7416 - val_accuracy: 0.5466\n",
      "Epoch 5/30\n",
      "2898/2898 [==============================] - 0s 137us/step - loss: 0.5609 - accuracy: 0.7036 - val_loss: 0.7428 - val_accuracy: 0.5466\n",
      "Epoch 6/30\n",
      "2898/2898 [==============================] - 0s 157us/step - loss: 0.5059 - accuracy: 0.7595 - val_loss: 0.7969 - val_accuracy: 0.5342\n",
      "Epoch 7/30\n",
      "2898/2898 [==============================] - 0s 132us/step - loss: 0.4474 - accuracy: 0.7964 - val_loss: 0.8753 - val_accuracy: 0.5311\n",
      "Epoch 8/30\n",
      "2898/2898 [==============================] - 0s 135us/step - loss: 0.4162 - accuracy: 0.8164 - val_loss: 0.9272 - val_accuracy: 0.5466\n",
      "Epoch 9/30\n",
      "2898/2898 [==============================] - 0s 120us/step - loss: 0.3651 - accuracy: 0.8423 - val_loss: 0.9343 - val_accuracy: 0.5404\n",
      "Epoch 10/30\n",
      "2898/2898 [==============================] - 1s 195us/step - loss: 0.3062 - accuracy: 0.8865 - val_loss: 1.0270 - val_accuracy: 0.5342\n",
      "Epoch 11/30\n",
      "2898/2898 [==============================] - 0s 168us/step - loss: 0.2726 - accuracy: 0.8941 - val_loss: 1.1393 - val_accuracy: 0.5093\n",
      "Epoch 12/30\n",
      "2898/2898 [==============================] - 1s 180us/step - loss: 0.2379 - accuracy: 0.9182 - val_loss: 1.1572 - val_accuracy: 0.5186\n",
      "Epoch 13/30\n",
      "2898/2898 [==============================] - 1s 180us/step - loss: 0.1827 - accuracy: 0.9413 - val_loss: 1.1351 - val_accuracy: 0.5280\n",
      "Epoch 14/30\n",
      "2898/2898 [==============================] - 0s 141us/step - loss: 0.1604 - accuracy: 0.9479 - val_loss: 1.2318 - val_accuracy: 0.5373\n",
      "Epoch 15/30\n",
      "2898/2898 [==============================] - 1s 206us/step - loss: 0.1388 - accuracy: 0.9545 - val_loss: 1.3366 - val_accuracy: 0.5155\n",
      "Epoch 16/30\n",
      "2898/2898 [==============================] - 1s 176us/step - loss: 0.1266 - accuracy: 0.9589 - val_loss: 1.2814 - val_accuracy: 0.5466\n",
      "Epoch 17/30\n",
      "2898/2898 [==============================] - 1s 201us/step - loss: 0.1323 - accuracy: 0.9541 - val_loss: 1.3194 - val_accuracy: 0.5342\n",
      "Epoch 18/30\n",
      "2898/2898 [==============================] - 1s 175us/step - loss: 0.1178 - accuracy: 0.9607 - val_loss: 1.4735 - val_accuracy: 0.5000\n",
      "Epoch 19/30\n",
      "2898/2898 [==============================] - 0s 155us/step - loss: 0.1159 - accuracy: 0.9617 - val_loss: 1.4748 - val_accuracy: 0.5311\n",
      "Epoch 20/30\n",
      "2898/2898 [==============================] - 0s 151us/step - loss: 0.0803 - accuracy: 0.9790 - val_loss: 1.6005 - val_accuracy: 0.5248\n",
      "Epoch 21/30\n",
      "2898/2898 [==============================] - 1s 187us/step - loss: 0.0752 - accuracy: 0.9800 - val_loss: 1.6045 - val_accuracy: 0.5031\n",
      "Epoch 22/30\n",
      "2898/2898 [==============================] - 0s 135us/step - loss: 0.0632 - accuracy: 0.9834 - val_loss: 1.5639 - val_accuracy: 0.5186\n",
      "Epoch 23/30\n",
      "2898/2898 [==============================] - 0s 164us/step - loss: 0.0536 - accuracy: 0.9914 - val_loss: 1.6503 - val_accuracy: 0.5280\n",
      "Epoch 24/30\n",
      "2898/2898 [==============================] - 0s 134us/step - loss: 0.0490 - accuracy: 0.9862 - val_loss: 1.6264 - val_accuracy: 0.5342\n",
      "Epoch 25/30\n",
      "2898/2898 [==============================] - 0s 128us/step - loss: 0.0411 - accuracy: 0.9921 - val_loss: 1.6541 - val_accuracy: 0.5280\n",
      "Epoch 26/30\n",
      "2898/2898 [==============================] - 1s 219us/step - loss: 0.0397 - accuracy: 0.9903 - val_loss: 1.6763 - val_accuracy: 0.5342\n",
      "Epoch 27/30\n",
      "2898/2898 [==============================] - 0s 154us/step - loss: 0.0333 - accuracy: 0.9941 - val_loss: 1.7573 - val_accuracy: 0.5404\n",
      "Epoch 28/30\n",
      "2898/2898 [==============================] - 0s 143us/step - loss: 0.0312 - accuracy: 0.9928 - val_loss: 1.7129 - val_accuracy: 0.5497\n",
      "Epoch 29/30\n",
      "2898/2898 [==============================] - 0s 149us/step - loss: 0.0328 - accuracy: 0.9934 - val_loss: 1.7548 - val_accuracy: 0.5373\n",
      "Epoch 30/30\n",
      "2898/2898 [==============================] - 0s 140us/step - loss: 0.0480 - accuracy: 0.9865 - val_loss: 1.8207 - val_accuracy: 0.5186\n",
      "Model: \"sequential_43\"\n",
      "_________________________________________________________________\n",
      "Layer (type)                 Output Shape              Param #   \n",
      "=================================================================\n",
      "lstm_56 (LSTM)               (None, 50)                27200     \n",
      "_________________________________________________________________\n",
      "dense_40 (Dense)             (None, 1)                 51        \n",
      "=================================================================\n",
      "Total params: 27,251\n",
      "Trainable params: 27,251\n",
      "Non-trainable params: 0\n",
      "_________________________________________________________________\n"
     ]
    },
    {
     "data": {
      "text/plain": [
       "(<keras.callbacks.callbacks.History at 0x17636df98>,\n",
       " <keras.engine.sequential.Sequential at 0x16e7319e8>)"
      ]
     },
     "execution_count": 183,
     "metadata": {},
     "output_type": "execute_result"
    },
    {
     "data": {
      "image/png": "[encoded data removed]",
      "text/plain": [
       "<Figure size 1440x360 with 2 Axes>"
      ]
     },
     "metadata": {
      "needs_background": "light"
     },
     "output_type": "display_data"
    }
   ],
   "source": [
    "get_lstm(X_train, y_train, X_test, y_test, test_model=True)"
   ]
  },
  {
   "cell_type": "markdown",
   "metadata": {},
   "source": [
    "# Model Builders"
   ]
  },
  {
   "cell_type": "code",
   "execution_count": 166,
   "metadata": {},
   "outputs": [],
   "source": [
    "# Model imports\n",
    "from keras.models import Sequential\n",
    "from keras.layers import Dense, Dropout, Conv1D, Flatten, MaxPooling1D, LSTM\n",
    "from keras.optimizers import Adam, Nadam, RMSprop\n",
    "from keras.losses import logcosh, binary_crossentropy\n",
    "from keras.activations import relu, elu, sigmoid"
   ]
  },
  {
   "cell_type": "markdown",
   "metadata": {},
   "source": [
    "### Analyzing last n fights using an LSTM"
   ]
  },
  {
   "cell_type": "code",
   "execution_count": 181,
   "metadata": {},
   "outputs": [],
   "source": [
    "def get_lstm(x_train, y_train, x_val, y_val, test_model=False):\n",
    "    model = Sequential()\n",
    "    \n",
    "    model.add(LSTM(50, \n",
    "                   input_shape=(5, 85),\n",
    "                   recurrent_dropout=0.1)) #, return_sequences=True\n",
    "    model.add(Dense(1, activation='sigmoid'))\n",
    "    model.compile(loss=\"binary_crossentropy\", \n",
    "                  optimizer=Adam(learning_rate=0.01), \n",
    "                  metrics=['accuracy'])\n",
    "    \n",
    "    history = model.fit(x_train, y_train,\n",
    "                       validation_data=[x_val, y_val],\n",
    "                       batch_size=64,\n",
    "                       epochs=30,\n",
    "                       verbose=1)\n",
    "    \n",
    "    if test_model:\n",
    "        plot_training_results(history)\n",
    "        model.summary()\n",
    "\n",
    "    return history, model"
   ]
  },
  {
   "cell_type": "markdown",
   "metadata": {},
   "source": [
    "### Analyzing last n fights using a Dense Neural Network"
   ]
  },
  {
   "cell_type": "code",
   "execution_count": null,
   "metadata": {},
   "outputs": [],
   "source": [
    "def get_dnn(x_train, y_train, x_val, y_val, params, test_model=False):\n",
    "    \n",
    "    model = Sequential()\n",
    "    # Input Layer\n",
    "    model.add(Dense(params[\"first_neuron\"], \n",
    "                    activation=params['activation'], \n",
    "                    input_dim=X_train.shape[1]))\n",
    "    \n",
    "    model.add(Dropout(params['dropout']))\n",
    "    \n",
    "    # Hidden Layers\n",
    "    hidden_layers(model, params, 1)\n",
    "    \n",
    "    # Output Layers\n",
    "    model.add(Dense(1, activation=params['last_activation']))\n",
    "    \n",
    "    model.compile(loss=params['losses'],\n",
    "                  optimizer=params['optimizer'](lr=lr_normalizer(params['lr'], params['optimizer'])), \n",
    "                  metrics=['accuracy'])\n",
    "                  \n",
    "    history = model.fit(x_train, y_train,\n",
    "                       validation_data=[x_val, y_val],\n",
    "                       batch_size=params['batch_size'],\n",
    "                       epochs=params['epochs'],\n",
    "                       verbose=0)\n",
    "    \n",
    "    if test_model:\n",
    "        model.summary()\n",
    "        plot_training_results(history)\n",
    "        \n",
    "\n",
    "    return history, model"
   ]
  },
  {
   "cell_type": "markdown",
   "metadata": {},
   "source": [
    "### Analyzing last n fights using a Convolutional Neural Network"
   ]
  },
  {
   "cell_type": "code",
   "execution_count": null,
   "metadata": {},
   "outputs": [],
   "source": [
    "def get_cnn(x_train, y_train, x_val, y_val, params, test_model=False):\n",
    "    model = Sequential()\n",
    "    \n",
    "    # Convolutional Layers\n",
    "    model.add(Conv1D(filters=params[\"num_filters\"], kernel_size=params[\"kernel_size\"], activation='relu', input_shape=(5, 85)))\n",
    "    model.add(Conv1D(filters=params[\"num_filters\"], kernel_size=params[\"kernel_size\"], activation='relu'))\n",
    "    model.add(Dropout(params['dropout']))\n",
    "#     model.add(MaxPooling1D(pool_size=2))\n",
    "    \n",
    "    # Flatten Layers\n",
    "    model.add(Flatten())\n",
    "    model.add(Dense(params[\"flatten_layer\"], activation='relu'))\n",
    "#     model.add(Dense(params[\"flatten_layer\"], activation='relu'))\n",
    "    \n",
    "    # Output Layer\n",
    "    model.add(Dense(1, activation='sigmoid'))\n",
    "    \n",
    "    model.compile(loss=params['losses'],\n",
    "                  optimizer=params['optimizer'](lr=lr_normalizer(params['lr'], params['optimizer'])), \n",
    "                  metrics=['accuracy'])\n",
    "    \n",
    "    history = model.fit(x_train, y_train,\n",
    "                       validation_data=[x_val, y_val],\n",
    "                       batch_size=params['batch_size'],\n",
    "                       epochs=params['epochs'],\n",
    "                       verbose=0)\n",
    "    \n",
    "    if test_model:\n",
    "        plot_training_results(history)\n",
    "        model.summary()\n",
    "\n",
    "    return history, model"
   ]
  },
  {
   "cell_type": "markdown",
   "metadata": {},
   "source": [
    "## Helper Functions"
   ]
  },
  {
   "cell_type": "code",
   "execution_count": null,
   "metadata": {},
   "outputs": [],
   "source": [
    "def plot_training_results(history_obj):\n",
    "    acc = history_obj.history['accuracy']\n",
    "    val_acc = history_obj.history['val_accuracy']\n",
    "    loss = history_obj.history['loss']\n",
    "    val_loss = history_obj.history['val_loss']\n",
    "    \n",
    "    epochs = range(1, len(acc) + 1)\n",
    "\n",
    "    fig, (accuracy_axis, loss_axis) = plt.subplots(1, 2, figsize=(20, 5))\n",
    "\n",
    "    accuracy_axis.plot(epochs, acc, 'bo', label='Training acc')\n",
    "    accuracy_axis.plot(epochs, val_acc, 'b', label='Validation acc')\n",
    "    accuracy_axis.set_title('Training and validation accuracy')\n",
    "    accuracy_axis.set_ylabel('Accuracy')\n",
    "    accuracy_axis.set_xlabel('Epoch')\n",
    "    accuracy_axis.legend()\n",
    "\n",
    "    loss_axis.plot(epochs, loss, 'bo', label='Training loss')\n",
    "    loss_axis.plot(epochs, val_loss, 'b', label='Validation loss')\n",
    "    loss_axis.set_title('Training and validation loss')\n",
    "    loss_axis.set_ylim(0, 3)\n",
    "    loss_axis.set_ylabel('Loss')\n",
    "    loss_axis.set_xlabel('Epoch')\n",
    "    loss_axis.legend()\n",
    "    fig.show()"
   ]
  },
  {
   "cell_type": "markdown",
   "metadata": {},
   "source": [
    "## Extract numerical and categorical columns"
   ]
  },
  {
   "cell_type": "code",
   "execution_count": null,
   "metadata": {},
   "outputs": [],
   "source": [
    "# Get the first fight window and the first fight in that window\n",
    "def get_column_types():\n",
    "    num_cols = []\n",
    "    cat_cols = []\n",
    "    for fight in features[0][0]:\n",
    "        feature_type = type(features[1][1][fight])\n",
    "        if feature_type is not float and feature_type is not int:\n",
    "            cat_cols.append(fight)\n",
    "        else:\n",
    "            num_cols.append(fight)\n",
    "            \n",
    "    return num_cols, cat_cols"
   ]
  },
  {
   "cell_type": "code",
   "execution_count": null,
   "metadata": {},
   "outputs": [],
   "source": [
    "x, y = get_column_types()"
   ]
  }
 ],
 "metadata": {
  "kernelspec": {
   "display_name": "Python 3",
   "language": "python",
   "name": "python3"
  },
  "language_info": {
   "codemirror_mode": {
    "name": "ipython",
    "version": 3
   },
   "file_extension": ".py",
   "mimetype": "text/x-python",
   "name": "python",
   "nbconvert_exporter": "python",
   "pygments_lexer": "ipython3",
   "version": "3.6.8"
  }
 },
 "nbformat": 4,
 "nbformat_minor": 2
}
