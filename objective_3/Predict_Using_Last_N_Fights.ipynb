{
 "cells": [
  {
   "cell_type": "markdown",
   "metadata": {},
   "source": [
    "# In this Notebook we are attempting to predict if a person will win their next fight depending on how they performed on their last 5 fights"
   ]
  },
  {
   "cell_type": "markdown",
   "metadata": {},
   "source": [
    "## Library Imports"
   ]
  },
  {
   "cell_type": "code",
   "execution_count": 1,
   "metadata": {},
   "outputs": [
    {
     "name": "stderr",
     "output_type": "stream",
     "text": [
      "Using TensorFlow backend.\n"
     ]
    }
   ],
   "source": [
    "import sys\n",
    "sys.path.insert(1, '../helpers')\n",
    "from make_career import make_career\n",
    "\n",
    "import pandas as pd\n",
    "import numpy as np\n",
    "import talos as ta\n",
    "from talos.model.normalizers import lr_normalizer\n",
    "from talos.model.hidden_layers import hidden_layers\n",
    "from sklearn.model_selection import train_test_split\n",
    "from sklearn.preprocessing import StandardScaler\n",
    "from sklearn.metrics import precision_recall_fscore_support\n",
    "from sklearn.utils import shuffle\n",
    "\n",
    "# Model imports\n",
    "from keras.models import Sequential\n",
    "from keras.layers import Dense, Dropout, Conv1D, Flatten, MaxPooling1D, LSTM\n",
    "from keras.optimizers import Adam, Nadam, RMSprop\n",
    "from keras.losses import binary_crossentropy\n",
    "from keras.activations import relu, elu, sigmoid\n",
    "\n",
    "%matplotlib inline\n",
    "import matplotlib.pyplot as plt"
   ]
  },
  {
   "cell_type": "markdown",
   "metadata": {},
   "source": [
    "## Loading the dataset"
   ]
  },
  {
   "cell_type": "code",
   "execution_count": 2,
   "metadata": {},
   "outputs": [
    {
     "name": "stdout",
     "output_type": "stream",
     "text": [
      "Creating careers using 5 fight intervals and predicting 1 future fights\n",
      "Original fight data shape: (5062, 153)\n",
      "Fights 2x shape: (10124, 95)\n",
      "Fights after pre-processing: (10124, 100)\n",
      "\n",
      "Features shape: (3220, 5)\n",
      "Labels shape: (3220, 1)\n",
      "\n",
      "Features is a 2D matrix with 3220 rows\n",
      "Each row contains has 5 fights, and each fight has 100 columns\n",
      "\n",
      "Labels is a 2D matrix with 3220 rows\n",
      "Each row contains the the prediction for the next 1 fight(s)\n"
     ]
    }
   ],
   "source": [
    "score_cols = ['precision', 'recall', 'fbeta_score', 'support']\n",
    "\n",
    "features, labels = make_career(N_FIGHT_CAREER=5)\n",
    "labels = labels.reshape(-1,)"
   ]
  },
  {
   "cell_type": "code",
   "execution_count": 3,
   "metadata": {
    "scrolled": true
   },
   "outputs": [
    {
     "name": "stdout",
     "output_type": "stream",
     "text": [
      "(3220, 5) (3220,)\n"
     ]
    }
   ],
   "source": [
    "print(features.shape, labels.shape)"
   ]
  },
  {
   "cell_type": "markdown",
   "metadata": {},
   "source": [
    "## Preprocess Features"
   ]
  },
  {
   "cell_type": "code",
   "execution_count": 4,
   "metadata": {},
   "outputs": [],
   "source": [
    "# Extract numerical and categorical columns\n",
    "def get_column_types():\n",
    "    num_cols = []\n",
    "    cat_cols = []\n",
    "    for fight in features[0][0]:\n",
    "        feature_type = type(features[1][1][fight])\n",
    "        if feature_type is not float and feature_type is not int:\n",
    "            cat_cols.append(fight)\n",
    "        else:\n",
    "            num_cols.append(fight)\n",
    "            \n",
    "    return num_cols, cat_cols\n",
    "\n",
    "# Get the first fight window and the first fight in that window\n",
    "def collapse_n_fights():\n",
    "    num_cols, cat_cols = get_column_types()\n",
    "    \n",
    "    # Collect only the features we want\n",
    "    new_features = []\n",
    "    for window in features:\n",
    "        window_arr = list(window.reshape(1,-1))[0]\n",
    "        fight_window = np.array([])\n",
    "        for fight in window_arr:\n",
    "            fight_arr = np.array([fight[i] for i in num_cols])\n",
    "            np.nan_to_num(fight_arr, copy=False)\n",
    "            fight_window = np.append(fight_window, fight_arr)\n",
    "        new_features.append(fight_window)\n",
    "    \n",
    "    new_features, new_labels = shuffle(np.array(new_features), labels)\n",
    "    X_train, X_test, y_train, y_test = train_test_split(new_features, new_labels, random_state=0, train_size=0.90)\n",
    "    \n",
    "    # Scale the data\n",
    "    scaler = StandardScaler().fit(X_train)\n",
    "    X_train = scaler.transform(X_train)\n",
    "    X_test = scaler.transform(X_test)\n",
    "    \n",
    "    print('X_train length {}, y_train length {}'.format(X_train.shape, y_train.shape))\n",
    "    print('X_test length {}, y_test length {}'.format(X_test.shape, y_test.shape))\n",
    "    \n",
    "    return X_train, X_test, y_train, y_test"
   ]
  },
  {
   "cell_type": "markdown",
   "metadata": {},
   "source": [
    "### Generates np.array of shape (3220, 5, win?)"
   ]
  },
  {
   "cell_type": "markdown",
   "metadata": {},
   "source": [
    "# Score Plotter"
   ]
  },
  {
   "cell_type": "code",
   "execution_count": 5,
   "metadata": {},
   "outputs": [],
   "source": [
    "def plot_training_results(history_obj):\n",
    "    acc = history_obj.history['accuracy']\n",
    "    val_acc = history_obj.history['val_accuracy']\n",
    "    loss = history_obj.history['loss']\n",
    "    val_loss = history_obj.history['val_loss']\n",
    "    \n",
    "    epochs = range(1, len(acc) + 1)\n",
    "\n",
    "    fig, (accuracy_axis, loss_axis) = plt.subplots(1, 2, figsize=(20, 5))\n",
    "\n",
    "    accuracy_axis.plot(epochs, acc, 'bo', label='Training acc')\n",
    "    accuracy_axis.plot(epochs, val_acc, 'b', label='Validation acc')\n",
    "    accuracy_axis.set_title('Training and validation accuracy')\n",
    "    accuracy_axis.set_ylabel('Accuracy')\n",
    "    accuracy_axis.set_xlabel('Epoch')\n",
    "    accuracy_axis.legend()\n",
    "\n",
    "    loss_axis.plot(epochs, loss, 'bo', label='Training loss')\n",
    "    loss_axis.plot(epochs, val_loss, 'b', label='Validation loss')\n",
    "    loss_axis.set_title('Training and validation loss')\n",
    "    loss_axis.set_ylim(0, 3)\n",
    "    loss_axis.set_ylabel('Loss')\n",
    "    loss_axis.set_xlabel('Epoch')\n",
    "    loss_axis.legend()\n",
    "    fig.show()"
   ]
  },
  {
   "cell_type": "markdown",
   "metadata": {},
   "source": [
    "# Model Builds for LSTM, DNN and CNN"
   ]
  },
  {
   "cell_type": "code",
   "execution_count": 6,
   "metadata": {},
   "outputs": [],
   "source": [
    "lstm_scores = []\n",
    "def get_lstm(x_train, y_train, x_val, y_val, test_model=False):\n",
    "    model = Sequential()\n",
    "    \n",
    "    model.add(LSTM(50, \n",
    "                   input_shape=(5, 97),\n",
    "                   recurrent_dropout=0.2)) #, return_sequences=True\n",
    "    model.add(Dense(1, activation='sigmoid'))\n",
    "    model.compile(loss='binary_crossentropy', \n",
    "                  optimizer=Adam(learning_rate=0.01), \n",
    "                  metrics=['accuracy'])\n",
    "    \n",
    "    history = model.fit(x_train, y_train,\n",
    "                       validation_data=[x_val, y_val],\n",
    "                       batch_size=64,\n",
    "                       epochs=30,\n",
    "                       verbose=1)\n",
    "    \n",
    "    score = precision_recall_fscore_support(y_val, model.predict_classes(x_val), average='binary')\n",
    "    lstm_scores.append(score)\n",
    "    \n",
    "    if test_model:\n",
    "        plot_training_results(history)\n",
    "        model.summary()\n",
    "\n",
    "    return history, model\n",
    "\n",
    "\n",
    "dnn_scores = []\n",
    "def get_dnn(x_train, y_train, x_val, y_val, params, test_model=False):\n",
    "    \n",
    "    model = Sequential()\n",
    "    # Input Layer\n",
    "    model.add(Dense(params['first_neuron'], \n",
    "                    activation=params['activation'], \n",
    "                    input_dim=X_train.shape[1]))\n",
    "    \n",
    "    model.add(Dropout(params['dropout']))\n",
    "    \n",
    "    # Hidden Layers\n",
    "    hidden_layers(model, params, 1)\n",
    "    \n",
    "    # Output Layers\n",
    "    model.add(Dense(1, activation=params['last_activation']))\n",
    "    \n",
    "    model.compile(loss=params['losses'],\n",
    "                  optimizer=params['optimizer'](lr=lr_normalizer(params['lr'], params['optimizer'])), \n",
    "                  metrics=['accuracy'])\n",
    "                  \n",
    "    history = model.fit(x_train, y_train,\n",
    "                       validation_data=[x_val, y_val],\n",
    "                       batch_size=params['batch_size'],\n",
    "                       epochs=params['epochs'],\n",
    "                       verbose=0)\n",
    "    \n",
    "    score = precision_recall_fscore_support(y_val, model.predict_classes(x_val), average='binary')\n",
    "    dnn_scores.append(score)\n",
    "    \n",
    "    if test_model:\n",
    "        model.summary()\n",
    "        plot_training_results(history)\n",
    "        \n",
    "\n",
    "    return history, model\n",
    "\n",
    "\n",
    "cnn_scores = []\n",
    "def get_cnn(x_train, y_train, x_val, y_val, params, test_model=False):\n",
    "    model = Sequential()\n",
    "    \n",
    "    # Convolutional Layers\n",
    "    model.add(Conv1D(filters=params['num_filters'], kernel_size=params['kernel_size'], activation='relu', input_shape=(5, 97)))\n",
    "    model.add(Conv1D(filters=params['num_filters'], kernel_size=params['kernel_size'], activation='relu'))\n",
    "    model.add(Dropout(params['dropout']))\n",
    "#     model.add(MaxPooling1D(pool_size=2))\n",
    "    \n",
    "    # Flatten Layers\n",
    "    model.add(Flatten())\n",
    "    model.add(Dense(params['flatten_layer'], activation='relu'))\n",
    "#     model.add(Dense(params['flatten_layer'], activation='relu'))\n",
    "    \n",
    "    # Output Layer\n",
    "    model.add(Dense(1, activation='sigmoid'))\n",
    "    \n",
    "    model.compile(loss=params['losses'],\n",
    "                  optimizer=params['optimizer'](lr=lr_normalizer(params['lr'], params['optimizer'])), \n",
    "                  metrics=['accuracy'])\n",
    "    \n",
    "    history = model.fit(x_train, y_train,\n",
    "                       validation_data=[x_val, y_val],\n",
    "                       batch_size=params['batch_size'],\n",
    "                       epochs=params['epochs'],\n",
    "                       verbose=0)\n",
    "    \n",
    "    score = precision_recall_fscore_support(y_val, model.predict_classes(x_val), average='binary')\n",
    "    cnn_scores.append(score)\n",
    "    \n",
    "    if test_model:\n",
    "        plot_training_results(history)\n",
    "        model.summary()\n",
    "\n",
    "    return history, model"
   ]
  },
  {
   "cell_type": "markdown",
   "metadata": {},
   "source": [
    "## Building a DNN to predict the winner using last n fights"
   ]
  },
  {
   "cell_type": "code",
   "execution_count": 7,
   "metadata": {
    "scrolled": true
   },
   "outputs": [
    {
     "name": "stdout",
     "output_type": "stream",
     "text": [
      "X_train length (2898, 485), y_train length (2898,)\n",
      "X_test length (322, 485), y_test length (322,)\n"
     ]
    }
   ],
   "source": [
    "# Get the data\n",
    "X_train, X_test, y_train, y_test = collapse_n_fights()"
   ]
  },
  {
   "cell_type": "code",
   "execution_count": 8,
   "metadata": {},
   "outputs": [
    {
     "name": "stderr",
     "output_type": "stream",
     "text": [
      "100%|██████████| 144/144 [08:08<00:00,  3.40s/it]\n"
     ]
    }
   ],
   "source": [
    "# Define hyperparameters to use in Grid Search\n",
    "dnn_params = {\n",
    "    'lr': [0.01, 1, 2],\n",
    "    'first_neuron': [128, 256],\n",
    "    'hidden_layers': [1, 2],\n",
    "    'batch_size': [64, 128, 256],\n",
    "    'epochs': [10, 25],\n",
    "    'dropout': [0.01, 0.1],\n",
    "    'optimizer': [Adam],\n",
    "    'shapes':['funnel'],\n",
    "    'losses': [binary_crossentropy],\n",
    "    'activation': [relu],\n",
    "    'last_activation': [sigmoid],\n",
    "}\n",
    "\n",
    "# Create the Neural Network\n",
    "dnn_model = ta.Scan(\n",
    "    x=X_train,\n",
    "    y=y_train,\n",
    "    model=get_dnn,\n",
    "    params=dnn_params,\n",
    "    experiment_name='UFC_5_Fight_Predictor_DNN',\n",
    ")"
   ]
  },
  {
   "cell_type": "code",
   "execution_count": 9,
   "metadata": {
    "scrolled": true
   },
   "outputs": [
    {
     "name": "stdout",
     "output_type": "stream",
     "text": [
      "(144, 16) 144\n"
     ]
    },
    {
     "data": {
      "text/html": [
       "<div>\n",
       "<style scoped>\n",
       "    .dataframe tbody tr th:only-of-type {\n",
       "        vertical-align: middle;\n",
       "    }\n",
       "\n",
       "    .dataframe tbody tr th {\n",
       "        vertical-align: top;\n",
       "    }\n",
       "\n",
       "    .dataframe thead th {\n",
       "        text-align: right;\n",
       "    }\n",
       "</style>\n",
       "<table border=\"1\" class=\"dataframe\">\n",
       "  <thead>\n",
       "    <tr style=\"text-align: right;\">\n",
       "      <th></th>\n",
       "      <th>round_epochs</th>\n",
       "      <th>val_loss</th>\n",
       "      <th>val_accuracy</th>\n",
       "      <th>loss</th>\n",
       "      <th>accuracy</th>\n",
       "      <th>batch_size</th>\n",
       "      <th>dropout</th>\n",
       "      <th>epochs</th>\n",
       "      <th>first_neuron</th>\n",
       "      <th>hidden_layers</th>\n",
       "      <th>lr</th>\n",
       "      <th>shapes</th>\n",
       "      <th>precision</th>\n",
       "      <th>recall</th>\n",
       "      <th>fbeta_score</th>\n",
       "    </tr>\n",
       "  </thead>\n",
       "  <tbody>\n",
       "    <tr>\n",
       "      <td>41</td>\n",
       "      <td>25</td>\n",
       "      <td>0.839894</td>\n",
       "      <td>0.603448</td>\n",
       "      <td>0.455658</td>\n",
       "      <td>0.795365</td>\n",
       "      <td>64</td>\n",
       "      <td>0.10</td>\n",
       "      <td>25</td>\n",
       "      <td>128</td>\n",
       "      <td>2</td>\n",
       "      <td>2.00</td>\n",
       "      <td>funnel</td>\n",
       "      <td>0.624642</td>\n",
       "      <td>0.840077</td>\n",
       "      <td>0.716516</td>\n",
       "    </tr>\n",
       "    <tr>\n",
       "      <td>62</td>\n",
       "      <td>25</td>\n",
       "      <td>0.774532</td>\n",
       "      <td>0.598851</td>\n",
       "      <td>0.591647</td>\n",
       "      <td>0.676529</td>\n",
       "      <td>128</td>\n",
       "      <td>0.01</td>\n",
       "      <td>25</td>\n",
       "      <td>128</td>\n",
       "      <td>1</td>\n",
       "      <td>2.00</td>\n",
       "      <td>funnel</td>\n",
       "      <td>0.610677</td>\n",
       "      <td>0.903661</td>\n",
       "      <td>0.728827</td>\n",
       "    </tr>\n",
       "    <tr>\n",
       "      <td>8</td>\n",
       "      <td>10</td>\n",
       "      <td>0.676736</td>\n",
       "      <td>0.598851</td>\n",
       "      <td>0.672535</td>\n",
       "      <td>0.591223</td>\n",
       "      <td>64</td>\n",
       "      <td>0.01</td>\n",
       "      <td>10</td>\n",
       "      <td>256</td>\n",
       "      <td>1</td>\n",
       "      <td>2.00</td>\n",
       "      <td>funnel</td>\n",
       "      <td>0.599532</td>\n",
       "      <td>0.986513</td>\n",
       "      <td>0.745812</td>\n",
       "    </tr>\n",
       "    <tr>\n",
       "      <td>104</td>\n",
       "      <td>10</td>\n",
       "      <td>0.786324</td>\n",
       "      <td>0.596552</td>\n",
       "      <td>0.588366</td>\n",
       "      <td>0.571499</td>\n",
       "      <td>256</td>\n",
       "      <td>0.01</td>\n",
       "      <td>10</td>\n",
       "      <td>256</td>\n",
       "      <td>1</td>\n",
       "      <td>2.00</td>\n",
       "      <td>funnel</td>\n",
       "      <td>0.596552</td>\n",
       "      <td>1.000000</td>\n",
       "      <td>0.747300</td>\n",
       "    </tr>\n",
       "    <tr>\n",
       "      <td>114</td>\n",
       "      <td>25</td>\n",
       "      <td>0.688472</td>\n",
       "      <td>0.596552</td>\n",
       "      <td>0.688806</td>\n",
       "      <td>0.571499</td>\n",
       "      <td>256</td>\n",
       "      <td>0.01</td>\n",
       "      <td>25</td>\n",
       "      <td>256</td>\n",
       "      <td>1</td>\n",
       "      <td>0.01</td>\n",
       "      <td>funnel</td>\n",
       "      <td>0.596552</td>\n",
       "      <td>1.000000</td>\n",
       "      <td>0.747300</td>\n",
       "    </tr>\n",
       "  </tbody>\n",
       "</table>\n",
       "</div>"
      ],
      "text/plain": [
       "     round_epochs  val_loss  val_accuracy      loss  accuracy  batch_size  \\\n",
       "41             25  0.839894      0.603448  0.455658  0.795365          64   \n",
       "62             25  0.774532      0.598851  0.591647  0.676529         128   \n",
       "8              10  0.676736      0.598851  0.672535  0.591223          64   \n",
       "104            10  0.786324      0.596552  0.588366  0.571499         256   \n",
       "114            25  0.688472      0.596552  0.688806  0.571499         256   \n",
       "\n",
       "     dropout  epochs  first_neuron  hidden_layers    lr  shapes  precision  \\\n",
       "41      0.10      25           128              2  2.00  funnel   0.624642   \n",
       "62      0.01      25           128              1  2.00  funnel   0.610677   \n",
       "8       0.01      10           256              1  2.00  funnel   0.599532   \n",
       "104     0.01      10           256              1  2.00  funnel   0.596552   \n",
       "114     0.01      25           256              1  0.01  funnel   0.596552   \n",
       "\n",
       "       recall  fbeta_score  \n",
       "41   0.840077     0.716516  \n",
       "62   0.903661     0.728827  \n",
       "8    0.986513     0.745812  \n",
       "104  1.000000     0.747300  \n",
       "114  1.000000     0.747300  "
      ]
     },
     "execution_count": 9,
     "metadata": {},
     "output_type": "execute_result"
    }
   ],
   "source": [
    "results_df = dnn_model.data\n",
    "print(results_df.shape, len(dnn_scores))\n",
    "dnn_cols = list(results_df.columns)\n",
    "\n",
    "new_df_data = []\n",
    "\n",
    "for index, row_data in results_df.iterrows():\n",
    "    new_row = dict()\n",
    "    \n",
    "    for col in dnn_cols:\n",
    "        new_row[col] = row_data[col]\n",
    "    \n",
    "    for score_index, col in enumerate(score_cols):\n",
    "        new_row[col] = dnn_scores[index][score_index]\n",
    "        \n",
    "    new_df_data.append(new_row)\n",
    "\n",
    "dnn_df = pd.DataFrame(new_df_data)\n",
    "dnn_df.sort_values(by=['val_accuracy'], ascending=False, inplace=True)\n",
    "dnn_df.to_csv('model_results/UFC_Predict_5_Fights_DNN.csv')\n",
    "\n",
    "top_5_val_dnn = dnn_df.drop(columns=['activation', 'last_activation', 'optimizer', 'support', 'losses']).head(5)\n",
    "top_5_val_dnn"
   ]
  },
  {
   "cell_type": "markdown",
   "metadata": {},
   "source": [
    "## Building a CNN to predict the winner using last n fights"
   ]
  },
  {
   "cell_type": "code",
   "execution_count": 10,
   "metadata": {},
   "outputs": [
    {
     "name": "stdout",
     "output_type": "stream",
     "text": [
      "X_train length (2898, 485), y_train length (2898,)\n",
      "X_test length (322, 485), y_test length (322,)\n",
      "New: X_train length (2898, 5, 97), y_train length (2898,)\n",
      "New: X_test length (322, 5, 97), y_test length (322,)\n"
     ]
    }
   ],
   "source": [
    "# Get the data\n",
    "X_train, X_test, y_train, y_test = collapse_n_fights()\n",
    "X_train = X_train.reshape(X_train.shape[0], 5, 97)\n",
    "X_test = X_test.reshape(X_test.shape[0], 5, 97)\n",
    "\n",
    "print('New: X_train length {}, y_train length {}'.format(X_train.shape, y_train.shape))\n",
    "print('New: X_test length {}, y_test length {}'.format(X_test.shape, y_test.shape))"
   ]
  },
  {
   "cell_type": "code",
   "execution_count": 11,
   "metadata": {},
   "outputs": [
    {
     "name": "stderr",
     "output_type": "stream",
     "text": [
      "100%|██████████| 48/48 [02:44<00:00,  3.42s/it]\n"
     ]
    }
   ],
   "source": [
    "# Define hyperparameters to use in Grid Search\n",
    "cnn_params = {\n",
    "    'lr': [0.01, 0.1, 1],\n",
    "    'num_filters': [64, 128],\n",
    "    'kernel_size': [2],\n",
    "    'batch_size': [64, 128],\n",
    "    'epochs': [5, 15],\n",
    "    'dropout': [0.01],\n",
    "    'flatten_layer': [100, 150], \n",
    "    'optimizer': [Adam],\n",
    "    'losses': [binary_crossentropy],\n",
    "    'activation': [relu],\n",
    "    'last_activation': [sigmoid],\n",
    "}\n",
    "\n",
    "# Create the Neural Network\n",
    "cnn_model = ta.Scan(\n",
    "    x=X_train,\n",
    "    y=y_train,\n",
    "    model=get_cnn,\n",
    "    params=cnn_params,\n",
    "    experiment_name='UFC_5_Fight_Predictor_CNN',\n",
    ")"
   ]
  },
  {
   "cell_type": "code",
   "execution_count": 12,
   "metadata": {},
   "outputs": [
    {
     "name": "stdout",
     "output_type": "stream",
     "text": [
      "(48, 16) 48\n"
     ]
    },
    {
     "data": {
      "text/html": [
       "<div>\n",
       "<style scoped>\n",
       "    .dataframe tbody tr th:only-of-type {\n",
       "        vertical-align: middle;\n",
       "    }\n",
       "\n",
       "    .dataframe tbody tr th {\n",
       "        vertical-align: top;\n",
       "    }\n",
       "\n",
       "    .dataframe thead th {\n",
       "        text-align: right;\n",
       "    }\n",
       "</style>\n",
       "<table border=\"1\" class=\"dataframe\">\n",
       "  <thead>\n",
       "    <tr style=\"text-align: right;\">\n",
       "      <th></th>\n",
       "      <th>round_epochs</th>\n",
       "      <th>val_loss</th>\n",
       "      <th>val_accuracy</th>\n",
       "      <th>loss</th>\n",
       "      <th>accuracy</th>\n",
       "      <th>batch_size</th>\n",
       "      <th>dropout</th>\n",
       "      <th>epochs</th>\n",
       "      <th>flatten_layer</th>\n",
       "      <th>kernel_size</th>\n",
       "      <th>lr</th>\n",
       "      <th>num_filters</th>\n",
       "      <th>precision</th>\n",
       "      <th>recall</th>\n",
       "      <th>fbeta_score</th>\n",
       "    </tr>\n",
       "  </thead>\n",
       "  <tbody>\n",
       "    <tr>\n",
       "      <td>39</td>\n",
       "      <td>15</td>\n",
       "      <td>0.687233</td>\n",
       "      <td>0.583908</td>\n",
       "      <td>0.567535</td>\n",
       "      <td>0.734221</td>\n",
       "      <td>128</td>\n",
       "      <td>0.01</td>\n",
       "      <td>15</td>\n",
       "      <td>100</td>\n",
       "      <td>2</td>\n",
       "      <td>0.1</td>\n",
       "      <td>128</td>\n",
       "      <td>0.607903</td>\n",
       "      <td>0.793651</td>\n",
       "      <td>0.688468</td>\n",
       "    </tr>\n",
       "    <tr>\n",
       "      <td>20</td>\n",
       "      <td>15</td>\n",
       "      <td>0.682871</td>\n",
       "      <td>0.583908</td>\n",
       "      <td>0.595493</td>\n",
       "      <td>0.699704</td>\n",
       "      <td>64</td>\n",
       "      <td>0.01</td>\n",
       "      <td>15</td>\n",
       "      <td>150</td>\n",
       "      <td>2</td>\n",
       "      <td>0.1</td>\n",
       "      <td>64</td>\n",
       "      <td>0.603198</td>\n",
       "      <td>0.823413</td>\n",
       "      <td>0.696309</td>\n",
       "    </tr>\n",
       "    <tr>\n",
       "      <td>4</td>\n",
       "      <td>5</td>\n",
       "      <td>0.715087</td>\n",
       "      <td>0.580460</td>\n",
       "      <td>0.514308</td>\n",
       "      <td>0.778107</td>\n",
       "      <td>64</td>\n",
       "      <td>0.01</td>\n",
       "      <td>5</td>\n",
       "      <td>100</td>\n",
       "      <td>2</td>\n",
       "      <td>1.0</td>\n",
       "      <td>64</td>\n",
       "      <td>0.611200</td>\n",
       "      <td>0.757937</td>\n",
       "      <td>0.676705</td>\n",
       "    </tr>\n",
       "    <tr>\n",
       "      <td>5</td>\n",
       "      <td>5</td>\n",
       "      <td>0.795398</td>\n",
       "      <td>0.575862</td>\n",
       "      <td>0.399161</td>\n",
       "      <td>0.841716</td>\n",
       "      <td>64</td>\n",
       "      <td>0.01</td>\n",
       "      <td>5</td>\n",
       "      <td>100</td>\n",
       "      <td>2</td>\n",
       "      <td>1.0</td>\n",
       "      <td>128</td>\n",
       "      <td>0.610475</td>\n",
       "      <td>0.740079</td>\n",
       "      <td>0.669058</td>\n",
       "    </tr>\n",
       "    <tr>\n",
       "      <td>34</td>\n",
       "      <td>5</td>\n",
       "      <td>0.699385</td>\n",
       "      <td>0.574713</td>\n",
       "      <td>0.561416</td>\n",
       "      <td>0.722387</td>\n",
       "      <td>128</td>\n",
       "      <td>0.01</td>\n",
       "      <td>5</td>\n",
       "      <td>150</td>\n",
       "      <td>2</td>\n",
       "      <td>1.0</td>\n",
       "      <td>64</td>\n",
       "      <td>0.629344</td>\n",
       "      <td>0.646825</td>\n",
       "      <td>0.637965</td>\n",
       "    </tr>\n",
       "  </tbody>\n",
       "</table>\n",
       "</div>"
      ],
      "text/plain": [
       "    round_epochs  val_loss  val_accuracy      loss  accuracy  batch_size  \\\n",
       "39            15  0.687233      0.583908  0.567535  0.734221         128   \n",
       "20            15  0.682871      0.583908  0.595493  0.699704          64   \n",
       "4              5  0.715087      0.580460  0.514308  0.778107          64   \n",
       "5              5  0.795398      0.575862  0.399161  0.841716          64   \n",
       "34             5  0.699385      0.574713  0.561416  0.722387         128   \n",
       "\n",
       "    dropout  epochs  flatten_layer  kernel_size   lr  num_filters  precision  \\\n",
       "39     0.01      15            100            2  0.1          128   0.607903   \n",
       "20     0.01      15            150            2  0.1           64   0.603198   \n",
       "4      0.01       5            100            2  1.0           64   0.611200   \n",
       "5      0.01       5            100            2  1.0          128   0.610475   \n",
       "34     0.01       5            150            2  1.0           64   0.629344   \n",
       "\n",
       "      recall  fbeta_score  \n",
       "39  0.793651     0.688468  \n",
       "20  0.823413     0.696309  \n",
       "4   0.757937     0.676705  \n",
       "5   0.740079     0.669058  \n",
       "34  0.646825     0.637965  "
      ]
     },
     "execution_count": 12,
     "metadata": {},
     "output_type": "execute_result"
    }
   ],
   "source": [
    "results_df = cnn_model.data\n",
    "cnn_cols = list(results_df.columns)\n",
    "print(results_df.shape, len(cnn_scores))\n",
    "\n",
    "new_df_data = []\n",
    "\n",
    "for index, row_data in results_df.iterrows():\n",
    "    new_row = dict()\n",
    "    \n",
    "    for col in cnn_cols:\n",
    "        new_row[col] = row_data[col]\n",
    "    \n",
    "    for score_index, col in enumerate(score_cols):\n",
    "        new_row[col] = cnn_scores[index][score_index]\n",
    "        \n",
    "    new_df_data.append(new_row)\n",
    "\n",
    "cnn_df = pd.DataFrame(new_df_data)\n",
    "cnn_df.sort_values(by=['val_accuracy'], ascending=False, inplace=True)\n",
    "cnn_df.to_csv('model_results/UFC_Predict_5_Fights_CNN.csv')\n",
    "\n",
    "top_5_val_cnn = cnn_df.drop(columns=['activation', 'last_activation', 'optimizer', 'support', 'losses']).head(5)\n",
    "top_5_val_cnn"
   ]
  },
  {
   "cell_type": "markdown",
   "metadata": {},
   "source": [
    "## Building an LSTM to predict the winner using last n fights"
   ]
  },
  {
   "cell_type": "code",
   "execution_count": 13,
   "metadata": {},
   "outputs": [
    {
     "name": "stdout",
     "output_type": "stream",
     "text": [
      "X_train length (2898, 485), y_train length (2898,)\n",
      "X_test length (322, 485), y_test length (322,)\n",
      "New: X_train length (2898, 5, 97), y_train length (2898,)\n",
      "New: X_test length (322, 5, 97), y_test length (322,)\n"
     ]
    }
   ],
   "source": [
    "# Get the data\n",
    "X_train, X_test, y_train, y_test = collapse_n_fights()\n",
    "X_train = X_train.reshape(X_train.shape[0], 5, 97)\n",
    "X_test = X_test.reshape(X_test.shape[0], 5, 97)\n",
    "\n",
    "print('New: X_train length {}, y_train length {}'.format(X_train.shape, y_train.shape))\n",
    "print('New: X_test length {}, y_test length {}'.format(X_test.shape, y_test.shape))"
   ]
  },
  {
   "cell_type": "code",
   "execution_count": 14,
   "metadata": {},
   "outputs": [
    {
     "name": "stdout",
     "output_type": "stream",
     "text": [
      "Train on 2898 samples, validate on 322 samples\n",
      "Epoch 1/30\n",
      "2898/2898 [==============================] - 1s 273us/step - loss: 0.6919 - accuracy: 0.5721 - val_loss: 0.6821 - val_accuracy: 0.5590\n",
      "Epoch 2/30\n",
      "2898/2898 [==============================] - 0s 67us/step - loss: 0.6500 - accuracy: 0.6284 - val_loss: 0.6905 - val_accuracy: 0.5559\n",
      "Epoch 3/30\n",
      "2898/2898 [==============================] - 0s 71us/step - loss: 0.6283 - accuracy: 0.6460 - val_loss: 0.6870 - val_accuracy: 0.5652\n",
      "Epoch 4/30\n",
      "2898/2898 [==============================] - 0s 107us/step - loss: 0.5914 - accuracy: 0.6908 - val_loss: 0.7324 - val_accuracy: 0.5217\n",
      "Epoch 5/30\n",
      "2898/2898 [==============================] - 0s 93us/step - loss: 0.5503 - accuracy: 0.7222 - val_loss: 0.7738 - val_accuracy: 0.5062\n",
      "Epoch 6/30\n",
      "2898/2898 [==============================] - 0s 77us/step - loss: 0.4928 - accuracy: 0.7664 - val_loss: 0.8423 - val_accuracy: 0.5124\n",
      "Epoch 7/30\n",
      "2898/2898 [==============================] - 0s 79us/step - loss: 0.4361 - accuracy: 0.7937 - val_loss: 0.8724 - val_accuracy: 0.5435\n",
      "Epoch 8/30\n",
      "2898/2898 [==============================] - 0s 81us/step - loss: 0.3691 - accuracy: 0.8440 - val_loss: 0.9310 - val_accuracy: 0.5497\n",
      "Epoch 9/30\n",
      "2898/2898 [==============================] - 0s 84us/step - loss: 0.3086 - accuracy: 0.8816 - val_loss: 1.0393 - val_accuracy: 0.5217\n",
      "Epoch 10/30\n",
      "2898/2898 [==============================] - 0s 100us/step - loss: 0.2653 - accuracy: 0.9048 - val_loss: 1.0761 - val_accuracy: 0.5062\n",
      "Epoch 11/30\n",
      "2898/2898 [==============================] - 0s 89us/step - loss: 0.2334 - accuracy: 0.9172 - val_loss: 1.0937 - val_accuracy: 0.5373\n",
      "Epoch 12/30\n",
      "2898/2898 [==============================] - 0s 90us/step - loss: 0.1888 - accuracy: 0.9393 - val_loss: 1.2114 - val_accuracy: 0.5280\n",
      "Epoch 13/30\n",
      "2898/2898 [==============================] - 0s 86us/step - loss: 0.1598 - accuracy: 0.9476 - val_loss: 1.3109 - val_accuracy: 0.5373\n",
      "Epoch 14/30\n",
      "2898/2898 [==============================] - 0s 77us/step - loss: 0.1319 - accuracy: 0.9627 - val_loss: 1.3421 - val_accuracy: 0.5124\n",
      "Epoch 15/30\n",
      "2898/2898 [==============================] - 0s 112us/step - loss: 0.1190 - accuracy: 0.9641 - val_loss: 1.3372 - val_accuracy: 0.5404\n",
      "Epoch 16/30\n",
      "2898/2898 [==============================] - 0s 80us/step - loss: 0.0966 - accuracy: 0.9752 - val_loss: 1.3296 - val_accuracy: 0.5466\n",
      "Epoch 17/30\n",
      "2898/2898 [==============================] - 0s 79us/step - loss: 0.0917 - accuracy: 0.9772 - val_loss: 1.3956 - val_accuracy: 0.5342\n",
      "Epoch 18/30\n",
      "2898/2898 [==============================] - 0s 83us/step - loss: 0.0673 - accuracy: 0.9865 - val_loss: 1.4613 - val_accuracy: 0.5466\n",
      "Epoch 19/30\n",
      "2898/2898 [==============================] - 0s 75us/step - loss: 0.0605 - accuracy: 0.9876 - val_loss: 1.5129 - val_accuracy: 0.5435\n",
      "Epoch 20/30\n",
      "2898/2898 [==============================] - 0s 69us/step - loss: 0.0504 - accuracy: 0.9917 - val_loss: 1.5295 - val_accuracy: 0.5745\n",
      "Epoch 21/30\n",
      "2898/2898 [==============================] - 0s 77us/step - loss: 0.0481 - accuracy: 0.9917 - val_loss: 1.6051 - val_accuracy: 0.5497\n",
      "Epoch 22/30\n",
      "2898/2898 [==============================] - 0s 83us/step - loss: 0.0576 - accuracy: 0.9852 - val_loss: 1.5458 - val_accuracy: 0.5217\n",
      "Epoch 23/30\n",
      "2898/2898 [==============================] - 0s 78us/step - loss: 0.0560 - accuracy: 0.9862 - val_loss: 1.6126 - val_accuracy: 0.5217\n",
      "Epoch 24/30\n",
      "2898/2898 [==============================] - 0s 84us/step - loss: 0.0627 - accuracy: 0.9814 - val_loss: 1.5138 - val_accuracy: 0.5497\n",
      "Epoch 25/30\n",
      "2898/2898 [==============================] - 0s 84us/step - loss: 0.0810 - accuracy: 0.9727 - val_loss: 1.6015 - val_accuracy: 0.5621\n",
      "Epoch 26/30\n",
      "2898/2898 [==============================] - 0s 97us/step - loss: 0.0732 - accuracy: 0.9769 - val_loss: 1.6495 - val_accuracy: 0.5745\n",
      "Epoch 27/30\n",
      "2898/2898 [==============================] - 0s 98us/step - loss: 0.0731 - accuracy: 0.9772 - val_loss: 1.5961 - val_accuracy: 0.5590\n",
      "Epoch 28/30\n",
      "2898/2898 [==============================] - 0s 101us/step - loss: 0.0849 - accuracy: 0.9727 - val_loss: 1.7352 - val_accuracy: 0.5404\n",
      "Epoch 29/30\n",
      "2898/2898 [==============================] - 0s 97us/step - loss: 0.0867 - accuracy: 0.9686 - val_loss: 1.7052 - val_accuracy: 0.5217\n",
      "Epoch 30/30\n",
      "2898/2898 [==============================] - 0s 91us/step - loss: 0.0764 - accuracy: 0.9724 - val_loss: 1.7567 - val_accuracy: 0.5342\n",
      "Model: \"sequential_1\"\n",
      "_________________________________________________________________\n",
      "Layer (type)                 Output Shape              Param #   \n",
      "=================================================================\n",
      "lstm_1 (LSTM)                (None, 50)                29600     \n",
      "_________________________________________________________________\n",
      "dense_1 (Dense)              (None, 1)                 51        \n",
      "=================================================================\n",
      "Total params: 29,651\n",
      "Trainable params: 29,651\n",
      "Non-trainable params: 0\n",
      "_________________________________________________________________\n"
     ]
    },
    {
     "data": {
      "image/png": "[encoded data removed]",
      "text/plain": [
       "<Figure size 1440x360 with 2 Axes>"
      ]
     },
     "metadata": {
      "needs_background": "light"
     },
     "output_type": "display_data"
    }
   ],
   "source": [
    "history, model = get_lstm(X_train, y_train, X_test, y_test, test_model=True)"
   ]
  },
  {
   "cell_type": "code",
   "execution_count": 15,
   "metadata": {},
   "outputs": [
    {
     "data": {
      "text/html": [
       "<div>\n",
       "<style scoped>\n",
       "    .dataframe tbody tr th:only-of-type {\n",
       "        vertical-align: middle;\n",
       "    }\n",
       "\n",
       "    .dataframe tbody tr th {\n",
       "        vertical-align: top;\n",
       "    }\n",
       "\n",
       "    .dataframe thead th {\n",
       "        text-align: right;\n",
       "    }\n",
       "</style>\n",
       "<table border=\"1\" class=\"dataframe\">\n",
       "  <thead>\n",
       "    <tr style=\"text-align: right;\">\n",
       "      <th></th>\n",
       "      <th>accuracy</th>\n",
       "      <th>val_accuracy</th>\n",
       "      <th>loss</th>\n",
       "      <th>val_loss</th>\n",
       "      <th>precision</th>\n",
       "      <th>recall</th>\n",
       "      <th>fbeta_score</th>\n",
       "      <th>support</th>\n",
       "    </tr>\n",
       "  </thead>\n",
       "  <tbody>\n",
       "    <tr>\n",
       "      <td>0</td>\n",
       "      <td>0.972395</td>\n",
       "      <td>0.534162</td>\n",
       "      <td>0.076441</td>\n",
       "      <td>1.756694</td>\n",
       "      <td>0.572864</td>\n",
       "      <td>0.636872</td>\n",
       "      <td>0.603175</td>\n",
       "      <td>None</td>\n",
       "    </tr>\n",
       "  </tbody>\n",
       "</table>\n",
       "</div>"
      ],
      "text/plain": [
       "   accuracy  val_accuracy      loss  val_loss  precision    recall  \\\n",
       "0  0.972395      0.534162  0.076441  1.756694   0.572864  0.636872   \n",
       "\n",
       "   fbeta_score support  \n",
       "0     0.603175    None  "
      ]
     },
     "execution_count": 15,
     "metadata": {},
     "output_type": "execute_result"
    }
   ],
   "source": [
    "hist = history.history\n",
    "lstm_data = [hist['accuracy'][-1], hist['val_accuracy'][-1], hist['loss'][-1], hist['val_loss'][-1]]\n",
    "lstm_data = lstm_data + [lstm_scores[0][0], lstm_scores[0][1], lstm_scores[0][2], lstm_scores[0][3]]\n",
    "lstm_cols = ['accuracy', 'val_accuracy', 'loss', 'val_loss'] + score_cols\n",
    "\n",
    "\n",
    "lstm_df = pd.DataFrame(data=[lstm_data], columns=lstm_cols)\n",
    "lstm_df.sort_values(by=['val_accuracy'], ascending=False, inplace=True)\n",
    "lstm_df.to_csv('model_results/UFC_Predict_5_Fights_LSTM.csv')\n",
    "lstm_df.head(5)"
   ]
  }
 ],
 "metadata": {
  "kernelspec": {
   "display_name": "Python 3",
   "language": "python",
   "name": "python3"
  },
  "language_info": {
   "codemirror_mode": {
    "name": "ipython",
    "version": 3
   },
   "file_extension": ".py",
   "mimetype": "text/x-python",
   "name": "python",
   "nbconvert_exporter": "python",
   "pygments_lexer": "ipython3",
   "version": "3.6.8"
  },
  "pycharm": {
   "stem_cell": {
    "cell_type": "raw",
    "metadata": {
     "collapsed": false
    },
    "source": []
   }
  }
 },
 "nbformat": 4,
 "nbformat_minor": 4
}
