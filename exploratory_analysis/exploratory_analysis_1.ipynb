{
 "cells": [
  {
   "cell_type": "markdown",
   "metadata": {},
   "source": [
    "## 1. Reading Data File"
   ]
  },
  {
   "cell_type": "code",
   "execution_count": null,
   "metadata": {},
   "outputs": [],
   "source": [
    "import pandas as pd\n",
    "import matplotlib\n",
    "import matplotlib.pyplot as plt \n",
    "%matplotlib inline\n",
    "\n",
    "plt.rcParams.update({'font.size': 18})\n",
    "data_location = '../generated_data/combined_fight_data.csv'\n",
    "\n",
    "data = pd.read_csv(data_location)\n",
    "data.head()"
   ]
  },
  {
   "cell_type": "markdown",
   "metadata": {},
   "source": [
    "## 2. Basic Data Stats"
   ]
  },
  {
   "cell_type": "code",
   "execution_count": null,
   "metadata": {},
   "outputs": [],
   "source": [
    "data.info(verbose=True, null_counts=True)"
   ]
  },
  {
   "cell_type": "code",
   "execution_count": null,
   "metadata": {},
   "outputs": [],
   "source": [
    "data.describe()"
   ]
  },
  {
   "cell_type": "markdown",
   "metadata": {},
   "source": [
    "## 3. Exploring Categorical Columns"
   ]
  },
  {
   "cell_type": "markdown",
   "metadata": {},
   "source": [
    "### 3.1 Weight Class"
   ]
  },
  {
   "cell_type": "code",
   "execution_count": null,
   "metadata": {},
   "outputs": [],
   "source": [
    "weight_class = pd.DataFrame(data['weight_class'].value_counts())\n",
    "weight_class.reset_index(inplace=True)\n",
    "weight_class.columns = ['weight_class', 'count']\n",
    "weight_class.set_index('weight_class',inplace=True)\n",
    "weight_class.plot.barh(figsize=(14, 12)).set_ylabel('Weight Class', fontsize=18)\n",
    "plt.show()"
   ]
  },
  {
   "cell_type": "markdown",
   "metadata": {},
   "source": [
    "### 3.2 Fighter Stance"
   ]
  },
  {
   "cell_type": "code",
   "execution_count": null,
   "metadata": {},
   "outputs": [],
   "source": [
    "# red fighter stance\n",
    "R_Stance = pd.DataFrame(data['R_Stance'].value_counts())\n",
    "R_Stance.reset_index(inplace=True)\n",
    "R_Stance.columns = ['R_Stance', 'count']\n",
    "R_Stance.set_index('R_Stance',inplace=True)\n",
    "R_Stance.plot.barh(figsize=(10, 8)).set_ylabel('Red Fighter Stance', fontsize=16)"
   ]
  },
  {
   "cell_type": "code",
   "execution_count": null,
   "metadata": {},
   "outputs": [],
   "source": [
    "# Blue fighter stance\n",
    "B_Stance = pd.DataFrame(data['B_Stance'].value_counts())\n",
    "B_Stance.reset_index(inplace=True)\n",
    "B_Stance.columns = ['B_Stance', 'count']\n",
    "B_Stance.set_index('B_Stance',inplace=True)\n",
    "plot = B_Stance.plot.barh(figsize=(10, 8)).set_ylabel('Blue Fighter Stance', fontsize=16)"
   ]
  },
  {
   "cell_type": "markdown",
   "metadata": {},
   "source": [
    "### 3.3 End Method"
   ]
  },
  {
   "cell_type": "code",
   "execution_count": null,
   "metadata": {},
   "outputs": [],
   "source": [
    "end_method = pd.DataFrame(data['end_method'].value_counts())\n",
    "end_method.reset_index(inplace=True)\n",
    "end_method.columns = ['end_method', 'count']\n",
    "end_method.set_index('end_method',inplace=True)\n",
    "end_method.plot.barh(figsize=(12, 10)).set_ylabel('End Method', fontsize=16)"
   ]
  },
  {
   "cell_type": "markdown",
   "metadata": {},
   "source": [
    "### 3.4 End How"
   ]
  },
  {
   "cell_type": "code",
   "execution_count": null,
   "metadata": {},
   "outputs": [],
   "source": [
    "data['end_how'].value_counts()"
   ]
  },
  {
   "cell_type": "markdown",
   "metadata": {},
   "source": [
    "## 4.  Exploring Target Column Winner"
   ]
  },
  {
   "cell_type": "code",
   "execution_count": null,
   "metadata": {},
   "outputs": [],
   "source": [
    "# changing winner label to bool and keeping whether or not Red fighter won\n",
    "data_copy = data.copy()\n",
    "data_copy['Winner'] = data_copy['Winner'].apply(lambda x: True if x == 'Red' else False)\n",
    "\n",
    "winner = pd.DataFrame(data_copy['Winner'].value_counts())\n",
    "winner.reset_index(inplace=True)\n",
    "winner.columns = ['Winner', 'count']\n",
    "winner.set_index('Winner',inplace=True)\n",
    "winner.plot.barh(figsize=(12, 10)).set_ylabel('Red Fighter Won', fontsize=16)"
   ]
  },
  {
   "cell_type": "markdown",
   "metadata": {},
   "source": [
    "# Explore Null values and feature correlations"
   ]
  },
  {
   "cell_type": "code",
   "execution_count": null,
   "metadata": {},
   "outputs": [],
   "source": [
    "import re\n",
    "import pandas as pd\n",
    "import numpy as np\n",
    "import matplotlib\n",
    "import matplotlib.pyplot as plt \n",
    "%matplotlib inline\n",
    "\n",
    "import warnings\n",
    "warnings.filterwarnings('ignore')\n",
    "\n",
    "plt.rcParams.update({'font.size': 18})\n",
    "\n",
    "def import_and_merge():\n",
    "    fight_data = pd.read_csv(data_location)\n",
    "    \n",
    "    #Add Blue and Red win columns\n",
    "    fight_data['B_Winner'] = [1 if x=='Blue' else 0 for x in fight_data['Winner']]\n",
    "    fight_data['R_Winner'] = [1 if x=='Red' else 0 for x in fight_data['Winner']]\n",
    "    \n",
    "    #Drop columns irrelevant to this prediction\n",
    "    fight_data = fight_data.drop(columns=['Referee', 'no_of_rounds', 'Winner', 'date', 'end_method', 'end_how', \n",
    "                                          'end_round', 'attendance'])\n",
    "    print('Fight Data Stats: ')\n",
    "    print('Shape: ', fight_data.shape)\n",
    "    #display(fight_data)\n",
    "    \n",
    "    #Separate fight data into individual fighter stats\n",
    "    blue_fighters = fight_data.loc[:, [col for col in fight_data.columns if re.search('^R_', col)==None]]\n",
    "    blue_fighters = blue_fighters.rename(columns=lambda x: re.sub('^B_', '', x))\n",
    "    print('\\nBlue fighter Stats: ')\n",
    "    print('Shape: ', blue_fighters.shape)\n",
    "    #display(blue_fighters)\n",
    "    \n",
    "    red_fighters = fight_data.loc[:, [col for col in fight_data.columns if re.search('^B_', col)==None]]\n",
    "    red_fighters = red_fighters.rename(columns=lambda x: re.sub('^R_', '', x))\n",
    "    print('\\nRed fighter Stats: ')\n",
    "    print('Shape: ', red_fighters.shape)\n",
    "    #display(red_fighters)\n",
    "    \n",
    "    #Concatenate blue and red fighter stats\n",
    "    fighters_data = pd.concat([blue_fighters, red_fighters])\n",
    "    fighters_data = fighters_data.rename(columns={'total_time_fought(seconds)':'total_time_fought_seconds'})\n",
    "    print('\\nTotal fighter Stats: ')\n",
    "    print('Shape: ', fighters_data.shape)\n",
    "    \n",
    "    # Create df without offence stats\n",
    "    fighters_no_offence_stats = fighters_data.drop(columns=[col for col in fighters_data.columns if re.search('^avg_', col) != None])\n",
    "    fighters_no_offence_stats = fighters_no_offence_stats.drop(columns='total_time_fought_seconds')\n",
    "    print('\\nFighters no offensive stats: ')\n",
    "    print('Shape: ', fighters_no_offence_stats.shape)\n",
    "    \n",
    "    return (fighters_no_offence_stats, fighters_data)\n",
    "    \n",
    "data_no_offence_stats, data  = import_and_merge()"
   ]
  },
  {
   "cell_type": "code",
   "execution_count": null,
   "metadata": {},
   "outputs": [],
   "source": [
    "def plot_correlation(df):\n",
    "    df = df.drop(columns=['fighter','city', 'country', 'weight_class'])\n",
    "    dummy_df = pd.get_dummies(df)\n",
    "\n",
    "    corr = dummy_df.corr()['Winner'][:]\n",
    "    corr = corr.drop(['Winner']) * 100\n",
    "    corr = corr.loc[~pd.isnull(corr)]\n",
    "    corr = abs(corr).sort_values()\n",
    "    \n",
    "    fig = plt.figure(figsize=(30, 10))\n",
    "    ax = plt.axes()\n",
    "    ax.bar(corr.index, corr)\n",
    "    plt.xticks(rotation='vertical')\n",
    "    plt.ylabel('Correlation (%)')\n",
    "    plt.title('Correlation between features and fight outcomes')\n",
    "    \n",
    "    most_corr_features = corr.index[-int(len(corr)/2):]\n",
    "    return most_corr_features\n",
    "\n",
    "def plot_missing_vals(df):\n",
    "    columns = []\n",
    "    nans_per_col = []\n",
    "    \n",
    "    for col in df.columns:\n",
    "        num_nans = sum(pd.isnull(df[col]))\n",
    "        #print('Num of NaNs in col ', col, ': ', num_nans)\n",
    "        columns.append(col)\n",
    "        nans_per_col.append(num_nans)\n",
    "    \n",
    "    print('Shape: ', df.shape)\n",
    "    fig = plt.figure(figsize=(30, 10))\n",
    "    ax = plt.axes()\n",
    "    ax.bar(columns, nans_per_col)\n",
    "    plt.xticks(rotation='vertical')\n",
    "    plt.ylabel('# NaNs')\n",
    "    plt.title('Number of missing data per feature')\n",
    "\n",
    "plot_missing_vals(data)\n",
    "top_features = plot_correlation(data)"
   ]
  },
  {
   "cell_type": "markdown",
   "metadata": {},
   "source": [
    "# Explore overall distribution (Not split by weight-class)\n",
    "Explore the box and point plots of all features in the dataset. These plots were then looked at in more detail to draw insights"
   ]
  },
  {
   "cell_type": "code",
   "execution_count": null,
   "metadata": {},
   "outputs": [],
   "source": [
    "import seaborn as sns\n",
    "\n",
    "def inspect_data(df, kind, columns):\n",
    "    for column in columns:\n",
    "        try:\n",
    "            fig = plt.figure(figsize=(30, 13))\n",
    "            sns.catplot(x='Winner', y=column, data=df, kind=kind);\n",
    "            plt.show()\n",
    "        except:\n",
    "            pass\n",
    "\n",
    "#Inspect data for all categorical features\n",
    "kinds = ['box', 'point']\n",
    "df = data.drop(columns=['fighter', 'city', 'country']).copy()\n",
    "for kind in kinds:\n",
    "    inspect_data(df, kind, df.columns)\n",
    "    "
   ]
  },
  {
   "cell_type": "markdown",
   "metadata": {},
   "source": [
    "# Explore distributions on a per weight-class basis\n",
    "Explore box and point plots for features in dataset. Split by weight-class"
   ]
  },
  {
   "cell_type": "code",
   "execution_count": null,
   "metadata": {},
   "outputs": [],
   "source": [
    "def inspect_data_wc(df, kind, columns):\n",
    "    for column in columns:\n",
    "        try:\n",
    "            fig = plt.figure(figsize=(30, 13))\n",
    "            sns.catplot(x='Winner', y=column, data=df, kind=kind, hue='weight_class');\n",
    "            plt.show()\n",
    "        except:\n",
    "            pass\n",
    "\n",
    "#Inspect data for age, height, reach categorical features with weight_class as hue\n",
    "kinds = ['box', 'point']\n",
    "columns = ['age', 'Height_cms', 'Reach_cms', 'current_win_streak', 'current_lose_strak', 'total_rounds_fought']\n",
    "df = data.drop(columns=['fighter', 'city', 'country'])\n",
    "for kind in kinds:\n",
    "    inspect_data_wc(df, kind, df.columns)"
   ]
  }
 ],
 "metadata": {
  "kernelspec": {
   "display_name": "Python 3",
   "language": "python",
   "name": "python3"
  },
  "language_info": {
   "codemirror_mode": {
    "name": "ipython",
    "version": 3
   },
   "file_extension": ".py",
   "mimetype": "text/x-python",
   "name": "python",
   "nbconvert_exporter": "python",
   "pygments_lexer": "ipython3",
   "version": "3.7.3"
  }
 },
 "nbformat": 4,
 "nbformat_minor": 4
}
