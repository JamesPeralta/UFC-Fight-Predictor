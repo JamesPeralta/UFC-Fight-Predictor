{
 "cells": [
  {
   "cell_type": "markdown",
   "metadata": {},
   "source": [
    "# In this Notebook we are attempting to predict a persons next N fights"
   ]
  },
  {
   "cell_type": "markdown",
   "metadata": {},
   "source": [
    "## Library Imports"
   ]
  },
  {
   "cell_type": "code",
   "execution_count": 198,
   "metadata": {},
   "outputs": [],
   "source": [
    "import sys\n",
    "sys.path.insert(1, '../combined_data')\n",
    "sys.path.insert(1, '../predict_winner')\n",
    "from make_career import make_career\n",
    "import pandas as pd\n",
    "import numpy as np\n",
    "from sklearn.preprocessing import LabelEncoder\n",
    "from sklearn.model_selection import train_test_split\n",
    "import matplotlib.pyplot as plt\n",
    "import talos as ta\n",
    "from talos.model.normalizers import lr_normalizer\n",
    "from talos.model.hidden_layers import hidden_layers\n",
    "from sklearn.preprocessing import LabelEncoder\n",
    "from sklearn.preprocessing import StandardScaler"
   ]
  },
  {
   "cell_type": "markdown",
   "metadata": {},
   "source": [
    "## Loading the dataset"
   ]
  },
  {
   "cell_type": "code",
   "execution_count": 199,
   "metadata": {
    "scrolled": false
   },
   "outputs": [
    {
     "name": "stdout",
     "output_type": "stream",
     "text": [
      "Creating careers using 10 fight intervals and predicting 5 future fights\n",
      "Original fight data shape: (5062, 154)\n",
      "Fights 2x shape: (10124, 96)\n",
      "\n",
      "Features shape: (600, 10)\n",
      "Labels shape: (600, 5)\n",
      "\n",
      "Features is a 2D matrix with 600 rows\n",
      "Each row contains has 10 fights, and each fight has 96 keys\n",
      "\n",
      "Labels is a 2D matrix with 600 rows\n",
      "Each row contains the the prediction for the next 5 fight(s)\n"
     ]
    }
   ],
   "source": [
    "features, labels = make_career(pd.read_csv('../combined_data/combined_fight_data_zerod_nans.csv'),\n",
    "                               N_FIGHT_CAREER=10, \n",
    "                               N_FUTURE_LABELS=5)\n",
    "labels = encode_all_labels()"
   ]
  },
  {
   "cell_type": "code",
   "execution_count": 200,
   "metadata": {
    "scrolled": true
   },
   "outputs": [
    {
     "name": "stdout",
     "output_type": "stream",
     "text": [
      "(600, 10)\n",
      "<class 'numpy.ndarray'>\n"
     ]
    }
   ],
   "source": [
    "print(features.shape)\n",
    "print(type(features))"
   ]
  },
  {
   "cell_type": "code",
   "execution_count": 201,
   "metadata": {
    "scrolled": true
   },
   "outputs": [
    {
     "name": "stdout",
     "output_type": "stream",
     "text": [
      "(600, 5)\n",
      "<class 'numpy.ndarray'>\n"
     ]
    }
   ],
   "source": [
    "print(labels.shape)\n",
    "print(type(labels))"
   ]
  },
  {
   "cell_type": "code",
   "execution_count": 202,
   "metadata": {
    "scrolled": false
   },
   "outputs": [
    {
     "name": "stdout",
     "output_type": "stream",
     "text": [
      "True\n",
      "True\n",
      "True\n",
      "True\n",
      "False\n",
      "True\n",
      "True\n",
      "False\n",
      "True\n",
      "False\n"
     ]
    }
   ],
   "source": [
    "for i in features[0]:\n",
    "    print(i[\"Winner\"])"
   ]
  },
  {
   "cell_type": "code",
   "execution_count": 204,
   "metadata": {},
   "outputs": [
    {
     "name": "stdout",
     "output_type": "stream",
     "text": [
      "(600, 5)\n"
     ]
    }
   ],
   "source": [
    "print(labels.shape)"
   ]
  },
  {
   "cell_type": "code",
   "execution_count": 205,
   "metadata": {},
   "outputs": [
    {
     "data": {
      "text/plain": [
       "array([[[1, 1, 1, 1, 1]],\n",
       "\n",
       "       [[1, 1, 1, 1, 1]],\n",
       "\n",
       "       [[1, 1, 1, 1, 1]],\n",
       "\n",
       "       ...,\n",
       "\n",
       "       [[1, 1, 1, 0, 0]],\n",
       "\n",
       "       [[0, 1, 0, 0, 0]],\n",
       "\n",
       "       [[0, 1, 0, 1, 1]]])"
      ]
     },
     "execution_count": 205,
     "metadata": {},
     "output_type": "execute_result"
    }
   ],
   "source": [
    "labels.reshape(600,-1,5)"
   ]
  },
  {
   "cell_type": "code",
   "execution_count": 224,
   "metadata": {},
   "outputs": [],
   "source": [
    "def convert_labels(y_train):  \n",
    "    fights_1 = np.array(y_train[:,0])\n",
    "    fights_2 = np.array(y_train[:,1])\n",
    "    fights_3 = np.array(y_train[:,2])\n",
    "    fights_4 = np.array(y_train[:,3])\n",
    "    fights_5 = np.array(y_train[:,4])\n",
    "    \n",
    "    y_train = [fights_1, fights_2, fights_3, fights_4, fights_5]\n",
    "    \n",
    "    return y_train"
   ]
  },
  {
   "cell_type": "code",
   "execution_count": 134,
   "metadata": {},
   "outputs": [],
   "source": [
    "def encode_all_labels():\n",
    "    encoded_labels = []\n",
    "    for row in labels:\n",
    "        new_labels_list = []\n",
    "        for elem in row:\n",
    "            if elem:\n",
    "                new_labels_list.append(1)\n",
    "            else:\n",
    "                new_labels_list.append(0)\n",
    "        encoded_labels.append(new_labels_list)\n",
    "    encoded_labels = np.array(encoded_labels)\n",
    "    \n",
    "    return encoded_labels"
   ]
  },
  {
   "cell_type": "markdown",
   "metadata": {},
   "source": [
    "## Preprocess Features"
   ]
  },
  {
   "cell_type": "markdown",
   "metadata": {},
   "source": [
    "## Generates np.array of shape (3220, 5 * features)"
   ]
  },
  {
   "cell_type": "code",
   "execution_count": 170,
   "metadata": {},
   "outputs": [],
   "source": [
    "from sklearn.utils import shuffle\n",
    "\n",
    "def collapse_n_fights():\n",
    "    num_cols, cat_cols = get_column_types()\n",
    "    \n",
    "    # Collect only the features we want\n",
    "    new_features = []\n",
    "    for window in features:\n",
    "        window_arr = list(window.reshape(1,-1))[0]\n",
    "        fight_window = np.array([])\n",
    "        for fight in window_arr:\n",
    "            fight_arr = np.array([fight[i] for i in num_cols])\n",
    "            np.nan_to_num(fight_arr, copy=False)\n",
    "            fight_window = np.append(fight_window, fight_arr)\n",
    "        new_features.append(fight_window)\n",
    "    \n",
    "    new_features, new_labels = shuffle(np.array(new_features), labels)\n",
    "    X_train, X_test, y_train, y_test = train_test_split(new_features, new_labels, random_state=0, train_size=0.95)\n",
    "    \n",
    "    # Scale the data\n",
    "    scaler = StandardScaler().fit(X_train)\n",
    "    X_train = scaler.transform(X_train)\n",
    "    X_test = scaler.transform(X_test)\n",
    "    \n",
    "    print(\"X_train length {}, y_train length {}\".format(X_train.shape, y_train.shape))\n",
    "    print(\"X_test length {}, y_test length {}\".format(X_test.shape, y_test.shape))\n",
    "    \n",
    "    return X_train, X_test, y_train, y_test"
   ]
  },
  {
   "cell_type": "markdown",
   "metadata": {},
   "source": [
    "## Building a CNN to predict the winner using last n fights"
   ]
  },
  {
   "cell_type": "code",
   "execution_count": 258,
   "metadata": {
    "scrolled": false
   },
   "outputs": [
    {
     "name": "stdout",
     "output_type": "stream",
     "text": [
      "X_train length (570, 850), y_train length (570, 5)\n",
      "X_test length (30, 850), y_test length (30, 5)\n",
      "New: X_train length (570, 10, 85), y_train length (570, 5)\n",
      "New: X_test length (30, 10, 85), y_test length (30, 5)\n"
     ]
    }
   ],
   "source": [
    "# Get the data\n",
    "X_train, X_test, y_train, y_test = collapse_n_fights()\n",
    "X_train = X_train.reshape(X_train.shape[0], 10, 85)\n",
    "X_test = X_test.reshape(X_test.shape[0], 10, 85)\n",
    "\n",
    "print(\"New: X_train length {}, y_train length {}\".format(X_train.shape, y_train.shape))\n",
    "print(\"New: X_test length {}, y_test length {}\".format(X_test.shape, y_test.shape))"
   ]
  },
  {
   "cell_type": "code",
   "execution_count": 259,
   "metadata": {},
   "outputs": [],
   "source": [
    "y_train = np.array(convert_labels(y_train))\n",
    "y_test = np.array(convert_labels(y_test))"
   ]
  },
  {
   "cell_type": "code",
   "execution_count": 266,
   "metadata": {},
   "outputs": [
    {
     "data": {
      "text/plain": [
       "(570,)"
      ]
     },
     "execution_count": 266,
     "metadata": {},
     "output_type": "execute_result"
    }
   ],
   "source": [
    "y_train[0].shape"
   ]
  },
  {
   "cell_type": "code",
   "execution_count": 254,
   "metadata": {},
   "outputs": [
    {
     "name": "stdout",
     "output_type": "stream",
     "text": [
      "(570, 5)\n"
     ]
    }
   ],
   "source": [
    "print(y_train.shape)"
   ]
  },
  {
   "cell_type": "code",
   "execution_count": 255,
   "metadata": {},
   "outputs": [],
   "source": [
    "# Define hyperparameters to use in Grid Search\n",
    "cnn_params = {'lr': [0.01, 0.1, 1],\n",
    "     'num_filters': [64, 128],\n",
    "     'kernel_size': [2],\n",
    "     'batch_size': [64, 128],\n",
    "     'epochs': [5, 15],\n",
    "     'dropout': [0.01],\n",
    "     'flatten_layer': [100, 150], \n",
    "     'optimizer': [Adam],\n",
    "     'losses': [binary_crossentropy],\n",
    "     'activation': [relu],\n",
    "     'last_activation': [sigmoid]}"
   ]
  },
  {
   "cell_type": "code",
   "execution_count": 267,
   "metadata": {},
   "outputs": [
    {
     "name": "stdout",
     "output_type": "stream",
     "text": [
      "Model: \"model_29\"\n",
      "__________________________________________________________________________________________________\n",
      "Layer (type)                    Output Shape         Param #     Connected to                     \n",
      "==================================================================================================\n",
      "Input (InputLayer)              (None, 10, 85)       0                                            \n",
      "__________________________________________________________________________________________________\n",
      "Conv_1D (Conv1D)                (None, 9, 128)       21888       Input[0][0]                      \n",
      "__________________________________________________________________________________________________\n",
      "Dropout (Dropout)               (None, 9, 128)       0           Conv_1D[0][0]                    \n",
      "__________________________________________________________________________________________________\n",
      "Flatten (Flatten)               (None, 1152)         0           Dropout[0][0]                    \n",
      "__________________________________________________________________________________________________\n",
      "Global_Dense (Dense)            (None, 128)          147584      Flatten[0][0]                    \n",
      "__________________________________________________________________________________________________\n",
      "Fight_1 (Dense)                 (None, 1)            129         Global_Dense[0][0]               \n",
      "__________________________________________________________________________________________________\n",
      "Fight_2 (Dense)                 (None, 1)            129         Global_Dense[0][0]               \n",
      "__________________________________________________________________________________________________\n",
      "Fight_3 (Dense)                 (None, 1)            129         Global_Dense[0][0]               \n",
      "__________________________________________________________________________________________________\n",
      "Fight_4 (Dense)                 (None, 1)            129         Global_Dense[0][0]               \n",
      "__________________________________________________________________________________________________\n",
      "Fight_5 (Dense)                 (None, 1)            129         Global_Dense[0][0]               \n",
      "==================================================================================================\n",
      "Total params: 170,117\n",
      "Trainable params: 170,117\n",
      "Non-trainable params: 0\n",
      "__________________________________________________________________________________________________\n"
     ]
    }
   ],
   "source": [
    "model = get_ensemble()"
   ]
  },
  {
   "cell_type": "code",
   "execution_count": 269,
   "metadata": {},
   "outputs": [
    {
     "name": "stdout",
     "output_type": "stream",
     "text": [
      "Epoch 1/10\n",
      "570/570 [==============================] - 1s 1ms/step - loss: 3.7277 - Fight_1_loss: 0.7166 - Fight_2_loss: 0.7260 - Fight_3_loss: 0.8117 - Fight_4_loss: 0.7287 - Fight_5_loss: 0.7410 - Fight_1_accuracy: 0.5526 - Fight_2_accuracy: 0.5579 - Fight_3_accuracy: 0.5596 - Fight_4_accuracy: 0.5035 - Fight_5_accuracy: 0.4895\n",
      "Epoch 2/10\n",
      "570/570 [==============================] - 0s 256us/step - loss: 3.1452 - Fight_1_loss: 0.6169 - Fight_2_loss: 0.6192 - Fight_3_loss: 0.6206 - Fight_4_loss: 0.6473 - Fight_5_loss: 0.6431 - Fight_1_accuracy: 0.6719 - Fight_2_accuracy: 0.6737 - Fight_3_accuracy: 0.6614 - Fight_4_accuracy: 0.6316 - Fight_5_accuracy: 0.6316\n",
      "Epoch 3/10\n",
      "570/570 [==============================] - 0s 296us/step - loss: 2.9121 - Fight_1_loss: 0.5855 - Fight_2_loss: 0.5448 - Fight_3_loss: 0.5674 - Fight_4_loss: 0.6059 - Fight_5_loss: 0.6083 - Fight_1_accuracy: 0.6947 - Fight_2_accuracy: 0.7298 - Fight_3_accuracy: 0.7123 - Fight_4_accuracy: 0.6632 - Fight_5_accuracy: 0.6719\n",
      "Epoch 4/10\n",
      "570/570 [==============================] - 0s 284us/step - loss: 2.6549 - Fight_1_loss: 0.5247 - Fight_2_loss: 0.5184 - Fight_3_loss: 0.5361 - Fight_4_loss: 0.5525 - Fight_5_loss: 0.5209 - Fight_1_accuracy: 0.7439 - Fight_2_accuracy: 0.7316 - Fight_3_accuracy: 0.7175 - Fight_4_accuracy: 0.7193 - Fight_5_accuracy: 0.7544\n",
      "Epoch 5/10\n",
      "570/570 [==============================] - 0s 401us/step - loss: 2.3815 - Fight_1_loss: 0.4733 - Fight_2_loss: 0.4635 - Fight_3_loss: 0.4720 - Fight_4_loss: 0.5000 - Fight_5_loss: 0.4720 - Fight_1_accuracy: 0.7912 - Fight_2_accuracy: 0.7825 - Fight_3_accuracy: 0.7632 - Fight_4_accuracy: 0.7649 - Fight_5_accuracy: 0.8000\n",
      "Epoch 6/10\n",
      "570/570 [==============================] - 0s 300us/step - loss: 2.1752 - Fight_1_loss: 0.4254 - Fight_2_loss: 0.4183 - Fight_3_loss: 0.4246 - Fight_4_loss: 0.4743 - Fight_5_loss: 0.4330 - Fight_1_accuracy: 0.8123 - Fight_2_accuracy: 0.8298 - Fight_3_accuracy: 0.7982 - Fight_4_accuracy: 0.7825 - Fight_5_accuracy: 0.7982\n",
      "Epoch 7/10\n",
      "570/570 [==============================] - 0s 272us/step - loss: 1.9503 - Fight_1_loss: 0.3920 - Fight_2_loss: 0.3576 - Fight_3_loss: 0.3633 - Fight_4_loss: 0.4208 - Fight_5_loss: 0.4157 - Fight_1_accuracy: 0.8351 - Fight_2_accuracy: 0.8702 - Fight_3_accuracy: 0.8596 - Fight_4_accuracy: 0.8404 - Fight_5_accuracy: 0.8281\n",
      "Epoch 8/10\n",
      "570/570 [==============================] - 0s 330us/step - loss: 1.6574 - Fight_1_loss: 0.3185 - Fight_2_loss: 0.3104 - Fight_3_loss: 0.3174 - Fight_4_loss: 0.3786 - Fight_5_loss: 0.3317 - Fight_1_accuracy: 0.8930 - Fight_2_accuracy: 0.9140 - Fight_3_accuracy: 0.8754 - Fight_4_accuracy: 0.8667 - Fight_5_accuracy: 0.8877\n",
      "Epoch 9/10\n",
      "570/570 [==============================] - 0s 314us/step - loss: 1.5436 - Fight_1_loss: 0.2761 - Fight_2_loss: 0.2922 - Fight_3_loss: 0.2933 - Fight_4_loss: 0.3377 - Fight_5_loss: 0.3414 - Fight_1_accuracy: 0.9228 - Fight_2_accuracy: 0.9140 - Fight_3_accuracy: 0.8947 - Fight_4_accuracy: 0.8930 - Fight_5_accuracy: 0.8737\n",
      "Epoch 10/10\n",
      "570/570 [==============================] - 0s 367us/step - loss: 1.3099 - Fight_1_loss: 0.2409 - Fight_2_loss: 0.2332 - Fight_3_loss: 0.2385 - Fight_4_loss: 0.3107 - Fight_5_loss: 0.2864 - Fight_1_accuracy: 0.9368 - Fight_2_accuracy: 0.9491 - Fight_3_accuracy: 0.9333 - Fight_4_accuracy: 0.8982 - Fight_5_accuracy: 0.8965\n"
     ]
    }
   ],
   "source": [
    "history = model.fit(X_train,\n",
    "                    {'Fight_1': y_train[0], \n",
    "                     'Fight_2': y_train[1], \n",
    "                     'Fight_3': y_train[2], \n",
    "                     'Fight_4': y_train[3],\n",
    "                     'Fight_5': y_train[4],},\n",
    "                   batch_size=32,\n",
    "                   epochs=10,\n",
    "                   verbose=1)"
   ]
  },
  {
   "cell_type": "code",
   "execution_count": 275,
   "metadata": {},
   "outputs": [],
   "source": [
    "# predictions = model.predict_classes(X_test)\n",
    "y_prob = model.predict(X_test) "
   ]
  },
  {
   "cell_type": "code",
   "execution_count": 278,
   "metadata": {},
   "outputs": [
    {
     "data": {
      "text/plain": [
       "(5, 30, 1)"
      ]
     },
     "execution_count": 278,
     "metadata": {},
     "output_type": "execute_result"
    }
   ],
   "source": [
    "np.array(y_prob).shape"
   ]
  },
  {
   "cell_type": "code",
   "execution_count": null,
   "metadata": {},
   "outputs": [],
   "source": [
    "top_10_val_cnn = results_df.sort_values(by=['val_accuracy'], ascending=False).head(10)\n",
    "top_10_acc_cnn = results_df.sort_values(by=['accuracy'], ascending=False).head(10)"
   ]
  },
  {
   "cell_type": "code",
   "execution_count": null,
   "metadata": {
    "scrolled": true
   },
   "outputs": [],
   "source": [
    "top_10_val_cnn"
   ]
  },
  {
   "cell_type": "code",
   "execution_count": null,
   "metadata": {},
   "outputs": [],
   "source": [
    "top_10_acc_cnn"
   ]
  },
  {
   "cell_type": "code",
   "execution_count": null,
   "metadata": {},
   "outputs": [],
   "source": [
    "top_10_cnn.to_csv(\"../model_results/UFC_Predict_5_Fights_CNN_2.csv\")"
   ]
  },
  {
   "cell_type": "markdown",
   "metadata": {},
   "source": [
    "# Model Builders"
   ]
  },
  {
   "cell_type": "code",
   "execution_count": 23,
   "metadata": {},
   "outputs": [],
   "source": [
    "# Model imports\n",
    "from keras.models import Sequential, Model\n",
    "from keras.layers import Dense, Dropout, Conv1D, Flatten, MaxPooling1D, LSTM, Input\n",
    "from keras.optimizers import Adam, Nadam, RMSprop\n",
    "from keras.losses import logcosh, binary_crossentropy\n",
    "from keras.activations import relu, elu, sigmoid"
   ]
  },
  {
   "cell_type": "markdown",
   "metadata": {},
   "source": [
    "### Analyzing last n fights using a Convolutional Neural Network"
   ]
  },
  {
   "cell_type": "markdown",
   "metadata": {},
   "source": [
    "### Build a multi-output model\n",
    "### Bottom is a CNN, Top is 5 DNNs"
   ]
  },
  {
   "cell_type": "code",
   "execution_count": 218,
   "metadata": {},
   "outputs": [],
   "source": [
    "def get_ensemble():\n",
    "    # x_train, y_train, x_val, y_val, params, test_model=False\n",
    "    fight_input = Input(shape=(10, 85), name=\"Input\")\n",
    "    x = Conv1D(filters=128, kernel_size=2, activation='relu', name=\"Conv_1D\")(fight_input)\n",
    "    x = Dropout(0.01, name=\"Dropout\")(x)\n",
    "    x = Flatten(name=\"Flatten\")(x)\n",
    "\n",
    "    # Global Dense Network\n",
    "    x = Dense(128, activation='relu', name=\"Global_Dense\")(x)\n",
    "\n",
    "    # 5 output layers\n",
    "    fight_1 = Dense(1, activation='sigmoid', name=\"Fight_1\")(x)\n",
    "    fight_2 = Dense(1, activation='sigmoid', name=\"Fight_2\")(x)\n",
    "    fight_3 = Dense(1, activation='sigmoid', name=\"Fight_3\")(x)\n",
    "    fight_4 = Dense(1, activation='sigmoid', name=\"Fight_4\")(x)\n",
    "    fight_5 = Dense(1, activation='sigmoid', name=\"Fight_5\")(x)\n",
    "\n",
    "    model = Model(inputs=fight_input,\n",
    "                  outputs=[fight_1, fight_2, fight_3, fight_4, fight_5])\n",
    "    \n",
    "    model.compile(optimizer='rmsprop',\n",
    "                 loss={\"Fight_1\": \"binary_crossentropy\", \n",
    "                       \"Fight_2\": \"binary_crossentropy\",\n",
    "                       \"Fight_3\": \"binary_crossentropy\",\n",
    "                       \"Fight_4\": \"binary_crossentropy\",\n",
    "                       \"Fight_5\": \"binary_crossentropy\"},\n",
    "                 loss_weights={\"Fight_1\": 1., \n",
    "                               \"Fight_2\": 1.,\n",
    "                               \"Fight_3\": 1.,\n",
    "                               \"Fight_4\": 1.,\n",
    "                               \"Fight_5\": 1.},\n",
    "                 metrics={\"Fight_1\": \"accuracy\", \n",
    "                          \"Fight_2\": \"accuracy\",\n",
    "                          \"Fight_3\": \"accuracy\",\n",
    "                          \"Fight_4\": \"accuracy\",\n",
    "                          \"Fight_5\": \"accuracy\"})\n",
    "\n",
    "    model.summary()\n",
    "    return model"
   ]
  },
  {
   "cell_type": "code",
   "execution_count": null,
   "metadata": {},
   "outputs": [],
   "source": [
    "def get_cnn(x_train, y_train, x_val, y_val, params, test_model=False):\n",
    "    model = Sequential()\n",
    "    \n",
    "    # Convolutional Layers\n",
    "    model.add(Conv1D(filters=params[\"num_filters\"], kernel_size=params[\"kernel_size\"], activation='relu', input_shape=(10, 85)))\n",
    "    model.add(Conv1D(filters=params[\"num_filters\"], kernel_size=params[\"kernel_size\"], activation='relu'))\n",
    "    model.add(Dropout(params['dropout']))\n",
    "#     model.add(MaxPooling1D(pool_size=2))\n",
    "    \n",
    "    # Flatten Layers\n",
    "    model.add(Flatten())\n",
    "    model.add(Dense(params[\"flatten_layer\"], activation='relu'))\n",
    "#     model.add(Dense(params[\"flatten_layer\"], activation='relu'))\n",
    "    \n",
    "    # Output Layer\n",
    "    model.add(Dense(1, activation='sigmoid'))\n",
    "    \n",
    "    model.compile(loss=params['losses'],\n",
    "                  optimizer=params['optimizer'](lr=lr_normalizer(params['lr'], params['optimizer'])), \n",
    "                  metrics=['accuracy'])\n",
    "    \n",
    "    history = model.fit(x_train, y_train,\n",
    "                       validation_data=[x_val, y_val],\n",
    "                       batch_size=params['batch_size'],\n",
    "                       epochs=params['epochs'],\n",
    "                       verbose=0)\n",
    "    \n",
    "    if test_model:\n",
    "        plot_training_results(history)\n",
    "        model.summary()\n",
    "\n",
    "    return history, model"
   ]
  },
  {
   "cell_type": "markdown",
   "metadata": {},
   "source": [
    "## Helper Functions"
   ]
  },
  {
   "cell_type": "code",
   "execution_count": null,
   "metadata": {},
   "outputs": [],
   "source": [
    "def plot_training_results(history_obj):\n",
    "    acc = history_obj.history['accuracy']\n",
    "    val_acc = history_obj.history['val_accuracy']\n",
    "    loss = history_obj.history['loss']\n",
    "    val_loss = history_obj.history['val_loss']\n",
    "    \n",
    "    epochs = range(1, len(acc) + 1)\n",
    "\n",
    "    fig, (accuracy_axis, loss_axis) = plt.subplots(1, 2, figsize=(20, 5))\n",
    "\n",
    "    accuracy_axis.plot(epochs, acc, 'bo', label='Training acc')\n",
    "    accuracy_axis.plot(epochs, val_acc, 'b', label='Validation acc')\n",
    "    accuracy_axis.set_title('Training and validation accuracy')\n",
    "    accuracy_axis.set_ylabel('Accuracy')\n",
    "    accuracy_axis.set_xlabel('Epoch')\n",
    "    accuracy_axis.legend()\n",
    "\n",
    "    loss_axis.plot(epochs, loss, 'bo', label='Training loss')\n",
    "    loss_axis.plot(epochs, val_loss, 'b', label='Validation loss')\n",
    "    loss_axis.set_title('Training and validation loss')\n",
    "    loss_axis.set_ylim(0, 3)\n",
    "    loss_axis.set_ylabel('Loss')\n",
    "    loss_axis.set_xlabel('Epoch')\n",
    "    loss_axis.legend()\n",
    "    fig.show()"
   ]
  },
  {
   "cell_type": "markdown",
   "metadata": {},
   "source": [
    "## Extract numerical and categorical columns"
   ]
  },
  {
   "cell_type": "code",
   "execution_count": 12,
   "metadata": {},
   "outputs": [],
   "source": [
    "# Get the first fight window and the first fight in that window\n",
    "def get_column_types():\n",
    "    num_cols = []\n",
    "    cat_cols = []\n",
    "    for fight in features[0][0]:\n",
    "        feature_type = type(features[1][1][fight])\n",
    "        if feature_type is not float and feature_type is not int:\n",
    "            cat_cols.append(fight)\n",
    "        else:\n",
    "            num_cols.append(fight)\n",
    "            \n",
    "    return num_cols, cat_cols"
   ]
  },
  {
   "cell_type": "code",
   "execution_count": 13,
   "metadata": {},
   "outputs": [],
   "source": [
    "x, y = get_column_types()"
   ]
  }
 ],
 "metadata": {
  "kernelspec": {
   "display_name": "Python 3",
   "language": "python",
   "name": "python3"
  },
  "language_info": {
   "codemirror_mode": {
    "name": "ipython",
    "version": 3
   },
   "file_extension": ".py",
   "mimetype": "text/x-python",
   "name": "python",
   "nbconvert_exporter": "python",
   "pygments_lexer": "ipython3",
   "version": "3.6.8"
  }
 },
 "nbformat": 4,
 "nbformat_minor": 2
}
