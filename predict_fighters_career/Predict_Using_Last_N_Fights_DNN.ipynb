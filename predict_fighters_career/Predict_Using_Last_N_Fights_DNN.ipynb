{
 "cells": [
  {
   "cell_type": "markdown",
   "metadata": {},
   "source": [
    "# In this Notebook we are attempting to predict a persons next N fights"
   ]
  },
  {
   "cell_type": "markdown",
   "metadata": {},
   "source": [
    "## Library Imports"
   ]
  },
  {
   "cell_type": "code",
   "execution_count": 1,
   "metadata": {},
   "outputs": [
    {
     "name": "stderr",
     "output_type": "stream",
     "text": [
      "Using TensorFlow backend.\n"
     ]
    }
   ],
   "source": [
    "import sys\n",
    "sys.path.insert(1, '../combined_data')\n",
    "sys.path.insert(1, '../predict_winner')\n",
    "from make_career import make_career\n",
    "import pandas as pd\n",
    "import numpy as np\n",
    "from sklearn.preprocessing import LabelEncoder\n",
    "from sklearn.model_selection import train_test_split\n",
    "import matplotlib.pyplot as plt\n",
    "import talos as ta\n",
    "from talos.model.normalizers import lr_normalizer\n",
    "from talos.model.hidden_layers import hidden_layers\n",
    "from sklearn.preprocessing import LabelEncoder\n",
    "from sklearn.preprocessing import StandardScaler"
   ]
  },
  {
   "cell_type": "markdown",
   "metadata": {},
   "source": [
    "## Loading the dataset"
   ]
  },
  {
   "cell_type": "code",
   "execution_count": 10,
   "metadata": {
    "scrolled": false
   },
   "outputs": [
    {
     "name": "stdout",
     "output_type": "stream",
     "text": [
      "Creating careers using 5 fight intervals and predicting 5 future fights\n",
      "Original fight data shape: (5062, 154)\n",
      "Fights 2x shape: (10124, 96)\n",
      "\n",
      "Features shape: (1561, 5)\n",
      "Labels shape: (1561, 5)\n",
      "\n",
      "Features is a 2D matrix with 1561 rows\n",
      "Each row contains has 5 fights, and each fight has 96 keys\n",
      "\n",
      "Labels is a 2D matrix with 1561 rows\n",
      "Each row contains the the prediction for the next 5 fight(s)\n"
     ]
    }
   ],
   "source": [
    "features, labels = make_career(pd.read_csv('../combined_data/combined_fight_data_zerod_nans.csv'),\n",
    "                               N_FIGHT_CAREER=5, \n",
    "                               N_FUTURE_LABELS=5)\n",
    "# labels = labels.reshape(-1,)\n",
    "# labels = LabelEncoder().fit_transform(labels)"
   ]
  },
  {
   "cell_type": "code",
   "execution_count": 11,
   "metadata": {
    "scrolled": true
   },
   "outputs": [
    {
     "name": "stdout",
     "output_type": "stream",
     "text": [
      "(1561, 5)\n",
      "<class 'numpy.ndarray'>\n"
     ]
    }
   ],
   "source": [
    "print(features.shape)\n",
    "print(type(features))"
   ]
  },
  {
   "cell_type": "code",
   "execution_count": 12,
   "metadata": {
    "scrolled": true
   },
   "outputs": [
    {
     "name": "stdout",
     "output_type": "stream",
     "text": [
      "(1561, 5)\n",
      "<class 'numpy.ndarray'>\n"
     ]
    }
   ],
   "source": [
    "print(labels.shape)\n",
    "print(type(labels))"
   ]
  },
  {
   "cell_type": "code",
   "execution_count": 13,
   "metadata": {
    "scrolled": true
   },
   "outputs": [
    {
     "name": "stdout",
     "output_type": "stream",
     "text": [
      "True\n",
      "True\n",
      "True\n",
      "True\n",
      "False\n"
     ]
    }
   ],
   "source": [
    "for i in features[0]:\n",
    "    print(i[\"Winner\"])"
   ]
  },
  {
   "cell_type": "code",
   "execution_count": 15,
   "metadata": {},
   "outputs": [
    {
     "name": "stdout",
     "output_type": "stream",
     "text": [
      "[ True  True False  True False]\n"
     ]
    }
   ],
   "source": [
    "print(labels[0])"
   ]
  },
  {
   "cell_type": "markdown",
   "metadata": {},
   "source": [
    "## Preprocess Features"
   ]
  },
  {
   "cell_type": "markdown",
   "metadata": {},
   "source": [
    "## Generates np.array of shape (3220, 5 * features)"
   ]
  },
  {
   "cell_type": "code",
   "execution_count": 200,
   "metadata": {},
   "outputs": [],
   "source": [
    "from sklearn.utils import shuffle\n",
    "\n",
    "def collapse_n_fights():\n",
    "    num_cols, cat_cols = get_column_types()\n",
    "    \n",
    "    # Collect only the features we want\n",
    "    new_features = []\n",
    "    for window in features:\n",
    "        window_arr = list(window.reshape(1,-1))[0]\n",
    "        fight_window = np.array([])\n",
    "        for fight in window_arr:\n",
    "            fight_arr = np.array([fight[i] for i in num_cols])\n",
    "            np.nan_to_num(fight_arr, copy=False)\n",
    "            fight_window = np.append(fight_window, fight_arr)\n",
    "        new_features.append(fight_window)\n",
    "    \n",
    "#     new_features, new_labels = shuffle(np.array(new_features), labels)\n",
    "#     X_train, X_test, y_train, y_test = train_test_split(new_features, new_labels, random_state=0, train_size=0.90)\n",
    "    \n",
    "#     # Scale the data\n",
    "#     scaler = StandardScaler().fit(X_train)\n",
    "#     X_train = scaler.transform(X_train)\n",
    "#     X_test = scaler.transform(X_test)\n",
    "    \n",
    "#     print(\"X_train length {}, y_train length {}\".format(X_train.shape, y_train.shape))\n",
    "#     print(\"X_test length {}, y_test length {}\".format(X_test.shape, y_test.shape))\n",
    "    \n",
    "#     return X_train, X_test, y_train, y_test"
   ]
  },
  {
   "cell_type": "markdown",
   "metadata": {},
   "source": [
    "### Generates np.array of shape (3220, 5, win?)"
   ]
  },
  {
   "cell_type": "code",
   "execution_count": null,
   "metadata": {},
   "outputs": [],
   "source": []
  },
  {
   "cell_type": "markdown",
   "metadata": {},
   "source": [
    "## Building a DNN to predict the winner using last n fights"
   ]
  },
  {
   "cell_type": "code",
   "execution_count": null,
   "metadata": {
    "scrolled": true
   },
   "outputs": [],
   "source": [
    "# Get the data\n",
    "X_train, X_test, y_train, y_test = collapse_n_fights()"
   ]
  },
  {
   "cell_type": "code",
   "execution_count": null,
   "metadata": {},
   "outputs": [],
   "source": [
    "# Define hyperparameters to use in Grid Search\n",
    "dnn_params = {'lr': (0.2, 1, 2),\n",
    "     'first_neuron': [128, 256],\n",
    "     'hidden_layers': [1, 2],\n",
    "     'batch_size': [64, 128, 256],\n",
    "     'epochs': [10, 25],\n",
    "     'dropout': [0.01, 0.1],\n",
    "     'optimizer': [Adam],\n",
    "     'shapes':['funnel'],\n",
    "     'losses': [binary_crossentropy],\n",
    "     'activation': [relu],\n",
    "     'last_activation': [sigmoid]}"
   ]
  },
  {
   "cell_type": "code",
   "execution_count": null,
   "metadata": {
    "scrolled": true
   },
   "outputs": [],
   "source": [
    "# Create the Neural Network\n",
    "dnn_model = ta.Scan(x=X_train,\n",
    "               y=y_train,\n",
    "               model=get_dnn,\n",
    "               params=dnn_params,\n",
    "               experiment_name=\"UFC_5_Fight_Predictor\")"
   ]
  },
  {
   "cell_type": "code",
   "execution_count": null,
   "metadata": {},
   "outputs": [],
   "source": [
    "results_df = dnn_model.data"
   ]
  },
  {
   "cell_type": "code",
   "execution_count": null,
   "metadata": {
    "scrolled": false
   },
   "outputs": [],
   "source": [
    "top_10_dnn = results_df.sort_values(by=['val_accuracy'], ascending=False).head(10)"
   ]
  },
  {
   "cell_type": "code",
   "execution_count": null,
   "metadata": {},
   "outputs": [],
   "source": [
    "top_10_dnn"
   ]
  },
  {
   "cell_type": "code",
   "execution_count": null,
   "metadata": {},
   "outputs": [],
   "source": [
    "top_10_dnn.to_csv(\"../model_results/UFC_Predict_5_Fights_DNN.csv\")"
   ]
  },
  {
   "cell_type": "markdown",
   "metadata": {},
   "source": [
    "## Building a CNN to predict the winner using last n fights"
   ]
  },
  {
   "cell_type": "code",
   "execution_count": 226,
   "metadata": {},
   "outputs": [
    {
     "name": "stdout",
     "output_type": "stream",
     "text": [
      "X_train length (1164, 850), y_train length (1164,)\n",
      "X_test length (130, 850), y_test length (130,)\n",
      "New: X_train length (1164, 10, 85), y_train length (1164,)\n",
      "New: X_test length (130, 10, 85), y_test length (130,)\n"
     ]
    }
   ],
   "source": [
    "# Get the data\n",
    "X_train, X_test, y_train, y_test = collapse_n_fights()\n",
    "X_train = X_train.reshape(X_train.shape[0], 10, 85)\n",
    "X_test = X_test.reshape(X_test.shape[0], 10, 85)\n",
    "\n",
    "print(\"New: X_train length {}, y_train length {}\".format(X_train.shape, y_train.shape))\n",
    "print(\"New: X_test length {}, y_test length {}\".format(X_test.shape, y_test.shape))"
   ]
  },
  {
   "cell_type": "code",
   "execution_count": 241,
   "metadata": {},
   "outputs": [],
   "source": [
    "# Define hyperparameters to use in Grid Search\n",
    "cnn_params = {'lr': [0.01, 0.1, 1],\n",
    "     'num_filters': [64, 128],\n",
    "     'kernel_size': [2],\n",
    "     'batch_size': [64, 128],\n",
    "     'epochs': [5, 15],\n",
    "     'dropout': [0.01],\n",
    "     'flatten_layer': [100, 150], \n",
    "     'optimizer': [Adam],\n",
    "     'losses': [binary_crossentropy],\n",
    "     'activation': [relu],\n",
    "     'last_activation': [sigmoid]}"
   ]
  },
  {
   "cell_type": "code",
   "execution_count": 242,
   "metadata": {},
   "outputs": [
    {
     "name": "stderr",
     "output_type": "stream",
     "text": [
      "\n",
      "\n",
      "\n",
      "  0%|          | 0/48 [00:00<?, ?it/s]\u001b[A\u001b[A\u001b[A\n",
      "\n",
      "\n",
      "  2%|▏         | 1/48 [00:03<02:56,  3.76s/it]\u001b[A\u001b[A\u001b[A\n",
      "\n",
      "\n",
      "  4%|▍         | 2/48 [00:06<02:41,  3.51s/it]\u001b[A\u001b[A\u001b[A\n",
      "\n",
      "\n",
      "  6%|▋         | 3/48 [00:09<02:27,  3.28s/it]\u001b[A\u001b[A\u001b[A\n",
      "\n",
      "\n",
      "  8%|▊         | 4/48 [00:13<02:29,  3.39s/it]\u001b[A\u001b[A\u001b[A\n",
      "\n",
      "\n",
      " 10%|█         | 5/48 [00:16<02:24,  3.36s/it]\u001b[A\u001b[A\u001b[A\n",
      "\n",
      "\n",
      " 12%|█▎        | 6/48 [00:20<02:36,  3.74s/it]\u001b[A\u001b[A\u001b[A\n",
      "\n",
      "\n",
      " 15%|█▍        | 7/48 [00:24<02:27,  3.59s/it]\u001b[A\u001b[A\u001b[A\n",
      "\n",
      "\n",
      " 17%|█▋        | 8/48 [00:27<02:24,  3.62s/it]\u001b[A\u001b[A\u001b[A\n",
      "\n",
      "\n",
      " 19%|█▉        | 9/48 [00:31<02:18,  3.55s/it]\u001b[A\u001b[A\u001b[A\n",
      "\n",
      "\n",
      " 21%|██        | 10/48 [00:34<02:14,  3.54s/it]\u001b[A\u001b[A\u001b[A\n",
      "\n",
      "\n",
      " 23%|██▎       | 11/48 [00:38<02:07,  3.45s/it]\u001b[A\u001b[A\u001b[A\n",
      "\n",
      "\n",
      " 25%|██▌       | 12/48 [00:41<02:05,  3.49s/it]\u001b[A\u001b[A\u001b[A\n",
      "\n",
      "\n",
      " 27%|██▋       | 13/48 [00:45<02:05,  3.58s/it]\u001b[A\u001b[A\u001b[A\n",
      "\n",
      "\n",
      " 29%|██▉       | 14/48 [00:49<02:10,  3.84s/it]\u001b[A\u001b[A\u001b[A\n",
      "\n",
      "\n",
      " 31%|███▏      | 15/48 [00:53<02:05,  3.80s/it]\u001b[A\u001b[A\u001b[A\n",
      "\n",
      "\n",
      " 33%|███▎      | 16/48 [00:57<02:07,  3.98s/it]\u001b[A\u001b[A\u001b[A\n",
      "\n",
      "\n",
      " 35%|███▌      | 17/48 [01:01<02:01,  3.92s/it]\u001b[A\u001b[A\u001b[A\n",
      "\n",
      "\n",
      " 38%|███▊      | 18/48 [01:06<02:01,  4.06s/it]\u001b[A\u001b[A\u001b[A\n",
      "\n",
      "\n",
      " 40%|███▉      | 19/48 [01:10<01:56,  4.02s/it]\u001b[A\u001b[A\u001b[A\n",
      "\n",
      "\n",
      " 42%|████▏     | 20/48 [01:15<02:06,  4.50s/it]\u001b[A\u001b[A\u001b[A\n",
      "\n",
      "\n",
      " 44%|████▍     | 21/48 [01:19<01:56,  4.31s/it]\u001b[A\u001b[A\u001b[A\n",
      "\n",
      "\n",
      " 46%|████▌     | 22/48 [01:25<02:02,  4.71s/it]\u001b[A\u001b[A\u001b[A\n",
      "\n",
      "\n",
      " 48%|████▊     | 23/48 [01:30<01:59,  4.77s/it]\u001b[A\u001b[A\u001b[A\n",
      "\n",
      "\n",
      " 50%|█████     | 24/48 [01:36<02:02,  5.12s/it]\u001b[A\u001b[A\u001b[A\n",
      "\n",
      "\n",
      " 52%|█████▏    | 25/48 [01:39<01:45,  4.59s/it]\u001b[A\u001b[A\u001b[A\n",
      "\n",
      "\n",
      " 54%|█████▍    | 26/48 [01:43<01:36,  4.39s/it]\u001b[A\u001b[A\u001b[A\n",
      "\n",
      "\n",
      " 56%|█████▋    | 27/48 [01:46<01:24,  4.04s/it]\u001b[A\u001b[A\u001b[A\n",
      "\n",
      "\n",
      " 58%|█████▊    | 28/48 [01:50<01:18,  3.93s/it]\u001b[A\u001b[A\u001b[A\n",
      "\n",
      "\n",
      " 60%|██████    | 29/48 [01:53<01:11,  3.74s/it]\u001b[A\u001b[A\u001b[A\n",
      "\n",
      "\n",
      " 62%|██████▎   | 30/48 [01:56<01:05,  3.62s/it]\u001b[A\u001b[A\u001b[A\n",
      "\n",
      "\n",
      " 65%|██████▍   | 31/48 [02:00<01:00,  3.54s/it]\u001b[A\u001b[A\u001b[A\n",
      "\n",
      "\n",
      " 67%|██████▋   | 32/48 [02:03<00:55,  3.44s/it]\u001b[A\u001b[A\u001b[A\n",
      "\n",
      "\n",
      " 69%|██████▉   | 33/48 [02:06<00:48,  3.24s/it]\u001b[A\u001b[A\u001b[A\n",
      "\n",
      "\n",
      " 71%|███████   | 34/48 [02:09<00:44,  3.15s/it]\u001b[A\u001b[A\u001b[A\n",
      "\n",
      "\n",
      " 73%|███████▎  | 35/48 [02:12<00:43,  3.34s/it]\u001b[A\u001b[A\u001b[A\n",
      "\n",
      "\n",
      " 75%|███████▌  | 36/48 [02:17<00:43,  3.60s/it]\u001b[A\u001b[A\u001b[A\n",
      "\n",
      "\n",
      " 77%|███████▋  | 37/48 [02:20<00:38,  3.51s/it]\u001b[A\u001b[A\u001b[A\n",
      "\n",
      "\n",
      " 79%|███████▉  | 38/48 [02:24<00:36,  3.69s/it]\u001b[A\u001b[A\u001b[A\n",
      "\n",
      "\n",
      " 81%|████████▏ | 39/48 [02:28<00:33,  3.68s/it]\u001b[A\u001b[A\u001b[A\n",
      "\n",
      "\n",
      " 83%|████████▎ | 40/48 [02:32<00:29,  3.74s/it]\u001b[A\u001b[A\u001b[A\n",
      "\n",
      "\n",
      " 85%|████████▌ | 41/48 [02:35<00:25,  3.59s/it]\u001b[A\u001b[A\u001b[A\n",
      "\n",
      "\n",
      " 88%|████████▊ | 42/48 [02:39<00:21,  3.65s/it]\u001b[A\u001b[A\u001b[A\n",
      "\n",
      "\n",
      " 90%|████████▉ | 43/48 [02:43<00:19,  3.93s/it]\u001b[A\u001b[A\u001b[A\n",
      "\n",
      "\n",
      " 92%|█████████▏| 44/48 [02:47<00:15,  3.98s/it]\u001b[A\u001b[A\u001b[A\n",
      "\n",
      "\n",
      " 94%|█████████▍| 45/48 [02:52<00:12,  4.18s/it]\u001b[A\u001b[A\u001b[A\n",
      "\n",
      "\n",
      " 96%|█████████▌| 46/48 [02:57<00:08,  4.30s/it]\u001b[A\u001b[A\u001b[A\n",
      "\n",
      "\n",
      " 98%|█████████▊| 47/48 [03:00<00:04,  4.07s/it]\u001b[A\u001b[A\u001b[A\n",
      "\n",
      "\n",
      "100%|██████████| 48/48 [03:04<00:00,  3.85s/it]\u001b[A\u001b[A\u001b[A\n"
     ]
    }
   ],
   "source": [
    "# Create the Neural Network\n",
    "cnn_model = ta.Scan(x=X_train,\n",
    "                y=y_train,\n",
    "                model=get_cnn,\n",
    "                params=cnn_params,\n",
    "                experiment_name=\"UFC_5_Fight_Predictor_CNN\")"
   ]
  },
  {
   "cell_type": "code",
   "execution_count": 244,
   "metadata": {},
   "outputs": [],
   "source": [
    "results_df = cnn_model.data"
   ]
  },
  {
   "cell_type": "code",
   "execution_count": 245,
   "metadata": {},
   "outputs": [],
   "source": [
    "top_10_val_cnn = results_df.sort_values(by=['val_accuracy'], ascending=False).head(10)\n",
    "top_10_acc_cnn = results_df.sort_values(by=['accuracy'], ascending=False).head(10)"
   ]
  },
  {
   "cell_type": "code",
   "execution_count": 246,
   "metadata": {
    "scrolled": true
   },
   "outputs": [
    {
     "data": {
      "text/html": [
       "<div>\n",
       "<style scoped>\n",
       "    .dataframe tbody tr th:only-of-type {\n",
       "        vertical-align: middle;\n",
       "    }\n",
       "\n",
       "    .dataframe tbody tr th {\n",
       "        vertical-align: top;\n",
       "    }\n",
       "\n",
       "    .dataframe thead th {\n",
       "        text-align: right;\n",
       "    }\n",
       "</style>\n",
       "<table border=\"1\" class=\"dataframe\">\n",
       "  <thead>\n",
       "    <tr style=\"text-align: right;\">\n",
       "      <th></th>\n",
       "      <th>round_epochs</th>\n",
       "      <th>val_loss</th>\n",
       "      <th>val_accuracy</th>\n",
       "      <th>loss</th>\n",
       "      <th>accuracy</th>\n",
       "      <th>activation</th>\n",
       "      <th>batch_size</th>\n",
       "      <th>dropout</th>\n",
       "      <th>epochs</th>\n",
       "      <th>flatten_layer</th>\n",
       "      <th>kernel_size</th>\n",
       "      <th>last_activation</th>\n",
       "      <th>losses</th>\n",
       "      <th>lr</th>\n",
       "      <th>num_filters</th>\n",
       "      <th>optimizer</th>\n",
       "    </tr>\n",
       "  </thead>\n",
       "  <tbody>\n",
       "    <tr>\n",
       "      <td>3</td>\n",
       "      <td>5</td>\n",
       "      <td>0.685317</td>\n",
       "      <td>0.577143</td>\n",
       "      <td>0.620243</td>\n",
       "      <td>0.686732</td>\n",
       "      <td>&lt;function relu at 0x13c0421e0&gt;</td>\n",
       "      <td>64</td>\n",
       "      <td>0.01</td>\n",
       "      <td>5</td>\n",
       "      <td>100</td>\n",
       "      <td>2</td>\n",
       "      <td>&lt;function sigmoid at 0x13c0422f0&gt;</td>\n",
       "      <td>&lt;function binary_crossentropy at 0x13bfe0ae8&gt;</td>\n",
       "      <td>0.10</td>\n",
       "      <td>128</td>\n",
       "      <td>&lt;class 'keras.optimizers.Adam'&gt;</td>\n",
       "    </tr>\n",
       "    <tr>\n",
       "      <td>38</td>\n",
       "      <td>15</td>\n",
       "      <td>0.687646</td>\n",
       "      <td>0.574286</td>\n",
       "      <td>0.598597</td>\n",
       "      <td>0.727273</td>\n",
       "      <td>&lt;function relu at 0x13c0421e0&gt;</td>\n",
       "      <td>128</td>\n",
       "      <td>0.01</td>\n",
       "      <td>15</td>\n",
       "      <td>100</td>\n",
       "      <td>2</td>\n",
       "      <td>&lt;function sigmoid at 0x13c0422f0&gt;</td>\n",
       "      <td>&lt;function binary_crossentropy at 0x13bfe0ae8&gt;</td>\n",
       "      <td>0.10</td>\n",
       "      <td>64</td>\n",
       "      <td>&lt;class 'keras.optimizers.Adam'&gt;</td>\n",
       "    </tr>\n",
       "    <tr>\n",
       "      <td>27</td>\n",
       "      <td>5</td>\n",
       "      <td>0.688980</td>\n",
       "      <td>0.571429</td>\n",
       "      <td>0.641840</td>\n",
       "      <td>0.638821</td>\n",
       "      <td>&lt;function relu at 0x13c0421e0&gt;</td>\n",
       "      <td>128</td>\n",
       "      <td>0.01</td>\n",
       "      <td>5</td>\n",
       "      <td>100</td>\n",
       "      <td>2</td>\n",
       "      <td>&lt;function sigmoid at 0x13c0422f0&gt;</td>\n",
       "      <td>&lt;function binary_crossentropy at 0x13bfe0ae8&gt;</td>\n",
       "      <td>0.10</td>\n",
       "      <td>128</td>\n",
       "      <td>&lt;class 'keras.optimizers.Adam'&gt;</td>\n",
       "    </tr>\n",
       "    <tr>\n",
       "      <td>9</td>\n",
       "      <td>5</td>\n",
       "      <td>0.685163</td>\n",
       "      <td>0.571429</td>\n",
       "      <td>0.609283</td>\n",
       "      <td>0.694103</td>\n",
       "      <td>&lt;function relu at 0x13c0421e0&gt;</td>\n",
       "      <td>64</td>\n",
       "      <td>0.01</td>\n",
       "      <td>5</td>\n",
       "      <td>150</td>\n",
       "      <td>2</td>\n",
       "      <td>&lt;function sigmoid at 0x13c0422f0&gt;</td>\n",
       "      <td>&lt;function binary_crossentropy at 0x13bfe0ae8&gt;</td>\n",
       "      <td>0.10</td>\n",
       "      <td>128</td>\n",
       "      <td>&lt;class 'keras.optimizers.Adam'&gt;</td>\n",
       "    </tr>\n",
       "    <tr>\n",
       "      <td>45</td>\n",
       "      <td>15</td>\n",
       "      <td>0.698076</td>\n",
       "      <td>0.557143</td>\n",
       "      <td>0.516420</td>\n",
       "      <td>0.813268</td>\n",
       "      <td>&lt;function relu at 0x13c0421e0&gt;</td>\n",
       "      <td>128</td>\n",
       "      <td>0.01</td>\n",
       "      <td>15</td>\n",
       "      <td>150</td>\n",
       "      <td>2</td>\n",
       "      <td>&lt;function sigmoid at 0x13c0422f0&gt;</td>\n",
       "      <td>&lt;function binary_crossentropy at 0x13bfe0ae8&gt;</td>\n",
       "      <td>0.10</td>\n",
       "      <td>128</td>\n",
       "      <td>&lt;class 'keras.optimizers.Adam'&gt;</td>\n",
       "    </tr>\n",
       "    <tr>\n",
       "      <td>28</td>\n",
       "      <td>5</td>\n",
       "      <td>0.705999</td>\n",
       "      <td>0.557143</td>\n",
       "      <td>0.523937</td>\n",
       "      <td>0.775184</td>\n",
       "      <td>&lt;function relu at 0x13c0421e0&gt;</td>\n",
       "      <td>128</td>\n",
       "      <td>0.01</td>\n",
       "      <td>5</td>\n",
       "      <td>100</td>\n",
       "      <td>2</td>\n",
       "      <td>&lt;function sigmoid at 0x13c0422f0&gt;</td>\n",
       "      <td>&lt;function binary_crossentropy at 0x13bfe0ae8&gt;</td>\n",
       "      <td>1.00</td>\n",
       "      <td>64</td>\n",
       "      <td>&lt;class 'keras.optimizers.Adam'&gt;</td>\n",
       "    </tr>\n",
       "    <tr>\n",
       "      <td>18</td>\n",
       "      <td>15</td>\n",
       "      <td>0.677379</td>\n",
       "      <td>0.551429</td>\n",
       "      <td>0.686632</td>\n",
       "      <td>0.561425</td>\n",
       "      <td>&lt;function relu at 0x13c0421e0&gt;</td>\n",
       "      <td>64</td>\n",
       "      <td>0.01</td>\n",
       "      <td>15</td>\n",
       "      <td>150</td>\n",
       "      <td>2</td>\n",
       "      <td>&lt;function sigmoid at 0x13c0422f0&gt;</td>\n",
       "      <td>&lt;function binary_crossentropy at 0x13bfe0ae8&gt;</td>\n",
       "      <td>0.01</td>\n",
       "      <td>64</td>\n",
       "      <td>&lt;class 'keras.optimizers.Adam'&gt;</td>\n",
       "    </tr>\n",
       "    <tr>\n",
       "      <td>33</td>\n",
       "      <td>5</td>\n",
       "      <td>0.697815</td>\n",
       "      <td>0.551429</td>\n",
       "      <td>0.630212</td>\n",
       "      <td>0.685504</td>\n",
       "      <td>&lt;function relu at 0x13c0421e0&gt;</td>\n",
       "      <td>128</td>\n",
       "      <td>0.01</td>\n",
       "      <td>5</td>\n",
       "      <td>150</td>\n",
       "      <td>2</td>\n",
       "      <td>&lt;function sigmoid at 0x13c0422f0&gt;</td>\n",
       "      <td>&lt;function binary_crossentropy at 0x13bfe0ae8&gt;</td>\n",
       "      <td>0.10</td>\n",
       "      <td>128</td>\n",
       "      <td>&lt;class 'keras.optimizers.Adam'&gt;</td>\n",
       "    </tr>\n",
       "    <tr>\n",
       "      <td>43</td>\n",
       "      <td>15</td>\n",
       "      <td>0.692683</td>\n",
       "      <td>0.542857</td>\n",
       "      <td>0.672546</td>\n",
       "      <td>0.601966</td>\n",
       "      <td>&lt;function relu at 0x13c0421e0&gt;</td>\n",
       "      <td>128</td>\n",
       "      <td>0.01</td>\n",
       "      <td>15</td>\n",
       "      <td>150</td>\n",
       "      <td>2</td>\n",
       "      <td>&lt;function sigmoid at 0x13c0422f0&gt;</td>\n",
       "      <td>&lt;function binary_crossentropy at 0x13bfe0ae8&gt;</td>\n",
       "      <td>0.01</td>\n",
       "      <td>128</td>\n",
       "      <td>&lt;class 'keras.optimizers.Adam'&gt;</td>\n",
       "    </tr>\n",
       "    <tr>\n",
       "      <td>2</td>\n",
       "      <td>5</td>\n",
       "      <td>0.682259</td>\n",
       "      <td>0.540000</td>\n",
       "      <td>0.651095</td>\n",
       "      <td>0.619165</td>\n",
       "      <td>&lt;function relu at 0x13c0421e0&gt;</td>\n",
       "      <td>64</td>\n",
       "      <td>0.01</td>\n",
       "      <td>5</td>\n",
       "      <td>100</td>\n",
       "      <td>2</td>\n",
       "      <td>&lt;function sigmoid at 0x13c0422f0&gt;</td>\n",
       "      <td>&lt;function binary_crossentropy at 0x13bfe0ae8&gt;</td>\n",
       "      <td>0.10</td>\n",
       "      <td>64</td>\n",
       "      <td>&lt;class 'keras.optimizers.Adam'&gt;</td>\n",
       "    </tr>\n",
       "  </tbody>\n",
       "</table>\n",
       "</div>"
      ],
      "text/plain": [
       "    round_epochs  val_loss  val_accuracy      loss  accuracy  \\\n",
       "3              5  0.685317      0.577143  0.620243  0.686732   \n",
       "38            15  0.687646      0.574286  0.598597  0.727273   \n",
       "27             5  0.688980      0.571429  0.641840  0.638821   \n",
       "9              5  0.685163      0.571429  0.609283  0.694103   \n",
       "45            15  0.698076      0.557143  0.516420  0.813268   \n",
       "28             5  0.705999      0.557143  0.523937  0.775184   \n",
       "18            15  0.677379      0.551429  0.686632  0.561425   \n",
       "33             5  0.697815      0.551429  0.630212  0.685504   \n",
       "43            15  0.692683      0.542857  0.672546  0.601966   \n",
       "2              5  0.682259      0.540000  0.651095  0.619165   \n",
       "\n",
       "                        activation  batch_size  dropout  epochs  \\\n",
       "3   <function relu at 0x13c0421e0>          64     0.01       5   \n",
       "38  <function relu at 0x13c0421e0>         128     0.01      15   \n",
       "27  <function relu at 0x13c0421e0>         128     0.01       5   \n",
       "9   <function relu at 0x13c0421e0>          64     0.01       5   \n",
       "45  <function relu at 0x13c0421e0>         128     0.01      15   \n",
       "28  <function relu at 0x13c0421e0>         128     0.01       5   \n",
       "18  <function relu at 0x13c0421e0>          64     0.01      15   \n",
       "33  <function relu at 0x13c0421e0>         128     0.01       5   \n",
       "43  <function relu at 0x13c0421e0>         128     0.01      15   \n",
       "2   <function relu at 0x13c0421e0>          64     0.01       5   \n",
       "\n",
       "    flatten_layer  kernel_size                    last_activation  \\\n",
       "3             100            2  <function sigmoid at 0x13c0422f0>   \n",
       "38            100            2  <function sigmoid at 0x13c0422f0>   \n",
       "27            100            2  <function sigmoid at 0x13c0422f0>   \n",
       "9             150            2  <function sigmoid at 0x13c0422f0>   \n",
       "45            150            2  <function sigmoid at 0x13c0422f0>   \n",
       "28            100            2  <function sigmoid at 0x13c0422f0>   \n",
       "18            150            2  <function sigmoid at 0x13c0422f0>   \n",
       "33            150            2  <function sigmoid at 0x13c0422f0>   \n",
       "43            150            2  <function sigmoid at 0x13c0422f0>   \n",
       "2             100            2  <function sigmoid at 0x13c0422f0>   \n",
       "\n",
       "                                           losses    lr  num_filters  \\\n",
       "3   <function binary_crossentropy at 0x13bfe0ae8>  0.10          128   \n",
       "38  <function binary_crossentropy at 0x13bfe0ae8>  0.10           64   \n",
       "27  <function binary_crossentropy at 0x13bfe0ae8>  0.10          128   \n",
       "9   <function binary_crossentropy at 0x13bfe0ae8>  0.10          128   \n",
       "45  <function binary_crossentropy at 0x13bfe0ae8>  0.10          128   \n",
       "28  <function binary_crossentropy at 0x13bfe0ae8>  1.00           64   \n",
       "18  <function binary_crossentropy at 0x13bfe0ae8>  0.01           64   \n",
       "33  <function binary_crossentropy at 0x13bfe0ae8>  0.10          128   \n",
       "43  <function binary_crossentropy at 0x13bfe0ae8>  0.01          128   \n",
       "2   <function binary_crossentropy at 0x13bfe0ae8>  0.10           64   \n",
       "\n",
       "                          optimizer  \n",
       "3   <class 'keras.optimizers.Adam'>  \n",
       "38  <class 'keras.optimizers.Adam'>  \n",
       "27  <class 'keras.optimizers.Adam'>  \n",
       "9   <class 'keras.optimizers.Adam'>  \n",
       "45  <class 'keras.optimizers.Adam'>  \n",
       "28  <class 'keras.optimizers.Adam'>  \n",
       "18  <class 'keras.optimizers.Adam'>  \n",
       "33  <class 'keras.optimizers.Adam'>  \n",
       "43  <class 'keras.optimizers.Adam'>  \n",
       "2   <class 'keras.optimizers.Adam'>  "
      ]
     },
     "execution_count": 246,
     "metadata": {},
     "output_type": "execute_result"
    }
   ],
   "source": [
    "top_10_val_cnn"
   ]
  },
  {
   "cell_type": "code",
   "execution_count": null,
   "metadata": {},
   "outputs": [],
   "source": [
    "top_10_acc_cnn"
   ]
  },
  {
   "cell_type": "code",
   "execution_count": null,
   "metadata": {},
   "outputs": [],
   "source": [
    "top_10_cnn.to_csv(\"../model_results/UFC_Predict_5_Fights_CNN_2.csv\")"
   ]
  },
  {
   "cell_type": "markdown",
   "metadata": {},
   "source": [
    "## Building an LSTM to predict the winner using last n fights"
   ]
  },
  {
   "cell_type": "code",
   "execution_count": 219,
   "metadata": {},
   "outputs": [
    {
     "name": "stdout",
     "output_type": "stream",
     "text": [
      "X_train length (1164, 850), y_train length (1164,)\n",
      "X_test length (130, 850), y_test length (130,)\n",
      "New: X_train length (1164, 10, 85), y_train length (1164,)\n",
      "New: X_test length (130, 10, 85), y_test length (130,)\n"
     ]
    }
   ],
   "source": [
    "# Get the data\n",
    "X_train, X_test, y_train, y_test = collapse_n_fights()\n",
    "X_train = X_train.reshape(X_train.shape[0], 10, 85)\n",
    "X_test = X_test.reshape(X_test.shape[0], 10, 85)\n",
    "\n",
    "print(\"New: X_train length {}, y_train length {}\".format(X_train.shape, y_train.shape))\n",
    "print(\"New: X_test length {}, y_test length {}\".format(X_test.shape, y_test.shape))"
   ]
  },
  {
   "cell_type": "code",
   "execution_count": 224,
   "metadata": {},
   "outputs": [
    {
     "name": "stdout",
     "output_type": "stream",
     "text": [
      "Train on 1164 samples, validate on 130 samples\n",
      "Epoch 1/30\n",
      "1164/1164 [==============================] - 1s 866us/step - loss: 0.7047 - accuracy: 0.5404 - val_loss: 0.7146 - val_accuracy: 0.4923\n",
      "Epoch 2/30\n",
      "1164/1164 [==============================] - 0s 246us/step - loss: 0.6415 - accuracy: 0.6246 - val_loss: 0.7118 - val_accuracy: 0.5538\n",
      "Epoch 3/30\n",
      "1164/1164 [==============================] - 0s 252us/step - loss: 0.6056 - accuracy: 0.6761 - val_loss: 0.7448 - val_accuracy: 0.5154\n",
      "Epoch 4/30\n",
      "1164/1164 [==============================] - 0s 205us/step - loss: 0.5860 - accuracy: 0.7027 - val_loss: 0.7726 - val_accuracy: 0.4692\n",
      "Epoch 5/30\n",
      "1164/1164 [==============================] - 0s 228us/step - loss: 0.5337 - accuracy: 0.7380 - val_loss: 0.8266 - val_accuracy: 0.4923\n",
      "Epoch 6/30\n",
      "1164/1164 [==============================] - 0s 373us/step - loss: 0.5036 - accuracy: 0.7569 - val_loss: 0.8812 - val_accuracy: 0.5462\n",
      "Epoch 7/30\n",
      "1164/1164 [==============================] - 0s 233us/step - loss: 0.4597 - accuracy: 0.7715 - val_loss: 0.9221 - val_accuracy: 0.4615\n",
      "Epoch 8/30\n",
      "1164/1164 [==============================] - 0s 325us/step - loss: 0.4272 - accuracy: 0.8007 - val_loss: 0.9938 - val_accuracy: 0.4462\n",
      "Epoch 9/30\n",
      "1164/1164 [==============================] - 0s 249us/step - loss: 0.3772 - accuracy: 0.8351 - val_loss: 1.0528 - val_accuracy: 0.4385\n",
      "Epoch 10/30\n",
      "1164/1164 [==============================] - 0s 259us/step - loss: 0.3389 - accuracy: 0.8548 - val_loss: 1.1277 - val_accuracy: 0.4385\n",
      "Epoch 11/30\n",
      "1164/1164 [==============================] - 0s 338us/step - loss: 0.2940 - accuracy: 0.8832 - val_loss: 1.2387 - val_accuracy: 0.4615\n",
      "Epoch 12/30\n",
      "1164/1164 [==============================] - 0s 240us/step - loss: 0.2659 - accuracy: 0.8900 - val_loss: 1.3145 - val_accuracy: 0.4538\n",
      "Epoch 13/30\n",
      "1164/1164 [==============================] - 0s 261us/step - loss: 0.2344 - accuracy: 0.9149 - val_loss: 1.3150 - val_accuracy: 0.4538\n",
      "Epoch 14/30\n",
      "1164/1164 [==============================] - 0s 362us/step - loss: 0.2162 - accuracy: 0.9210 - val_loss: 1.3242 - val_accuracy: 0.4923\n",
      "Epoch 15/30\n",
      "1164/1164 [==============================] - 0s 288us/step - loss: 0.2196 - accuracy: 0.9192 - val_loss: 1.3355 - val_accuracy: 0.4923\n",
      "Epoch 16/30\n",
      "1164/1164 [==============================] - 0s 260us/step - loss: 0.2040 - accuracy: 0.9270 - val_loss: 1.3715 - val_accuracy: 0.4462\n",
      "Epoch 17/30\n",
      "1164/1164 [==============================] - 0s 293us/step - loss: 0.1755 - accuracy: 0.9381 - val_loss: 1.4441 - val_accuracy: 0.4462\n",
      "Epoch 18/30\n",
      "1164/1164 [==============================] - 0s 228us/step - loss: 0.1386 - accuracy: 0.9613 - val_loss: 1.5769 - val_accuracy: 0.4077\n",
      "Epoch 19/30\n",
      "1164/1164 [==============================] - 0s 254us/step - loss: 0.1238 - accuracy: 0.9631 - val_loss: 1.5605 - val_accuracy: 0.4846\n",
      "Epoch 20/30\n",
      "1164/1164 [==============================] - 0s 213us/step - loss: 0.1075 - accuracy: 0.9716 - val_loss: 1.5806 - val_accuracy: 0.5000\n",
      "Epoch 21/30\n",
      "1164/1164 [==============================] - 0s 279us/step - loss: 0.0995 - accuracy: 0.9759 - val_loss: 1.7106 - val_accuracy: 0.4846\n",
      "Epoch 22/30\n",
      "1164/1164 [==============================] - 0s 289us/step - loss: 0.0854 - accuracy: 0.9785 - val_loss: 1.6750 - val_accuracy: 0.4769\n",
      "Epoch 23/30\n",
      "1164/1164 [==============================] - 0s 304us/step - loss: 0.0663 - accuracy: 0.9880 - val_loss: 1.7135 - val_accuracy: 0.4462\n",
      "Epoch 24/30\n",
      "1164/1164 [==============================] - 0s 318us/step - loss: 0.0577 - accuracy: 0.9897 - val_loss: 1.7630 - val_accuracy: 0.4538\n",
      "Epoch 25/30\n",
      "1164/1164 [==============================] - 0s 265us/step - loss: 0.0491 - accuracy: 0.9897 - val_loss: 1.8377 - val_accuracy: 0.4769\n",
      "Epoch 26/30\n",
      "1164/1164 [==============================] - 0s 289us/step - loss: 0.0476 - accuracy: 0.9948 - val_loss: 1.9019 - val_accuracy: 0.4692\n",
      "Epoch 27/30\n",
      "1164/1164 [==============================] - 0s 386us/step - loss: 0.0437 - accuracy: 0.9931 - val_loss: 1.9152 - val_accuracy: 0.4769\n",
      "Epoch 28/30\n",
      "1164/1164 [==============================] - 0s 276us/step - loss: 0.0436 - accuracy: 0.9923 - val_loss: 1.9554 - val_accuracy: 0.4308\n",
      "Epoch 29/30\n",
      "1164/1164 [==============================] - 0s 369us/step - loss: 0.0365 - accuracy: 0.9940 - val_loss: 1.9911 - val_accuracy: 0.4385\n",
      "Epoch 30/30\n",
      "1164/1164 [==============================] - 0s 345us/step - loss: 0.0375 - accuracy: 0.9931 - val_loss: 2.0975 - val_accuracy: 0.4308\n",
      "Model: \"sequential_49\"\n",
      "_________________________________________________________________\n",
      "Layer (type)                 Output Shape              Param #   \n",
      "=================================================================\n",
      "lstm_62 (LSTM)               (None, 50)                27200     \n",
      "_________________________________________________________________\n",
      "dense_46 (Dense)             (None, 1)                 51        \n",
      "=================================================================\n",
      "Total params: 27,251\n",
      "Trainable params: 27,251\n",
      "Non-trainable params: 0\n",
      "_________________________________________________________________\n"
     ]
    },
    {
     "data": {
      "text/plain": [
       "(<keras.callbacks.callbacks.History at 0x17c200f98>,\n",
       " <keras.engine.sequential.Sequential at 0x1763f9f28>)"
      ]
     },
     "execution_count": 224,
     "metadata": {},
     "output_type": "execute_result"
    },
    {
     "data": {
      "image/png": "[encoded data removed]",
      "text/plain": [
       "<Figure size 1440x360 with 2 Axes>"
      ]
     },
     "metadata": {
      "needs_background": "light"
     },
     "output_type": "display_data"
    }
   ],
   "source": [
    "get_lstm(X_train, y_train, X_test, y_test, test_model=True)"
   ]
  },
  {
   "cell_type": "markdown",
   "metadata": {},
   "source": [
    "# Model Builders"
   ]
  },
  {
   "cell_type": "code",
   "execution_count": 209,
   "metadata": {},
   "outputs": [],
   "source": [
    "# Model imports\n",
    "from keras.models import Sequential\n",
    "from keras.layers import Dense, Dropout, Conv1D, Flatten, MaxPooling1D, LSTM\n",
    "from keras.optimizers import Adam, Nadam, RMSprop\n",
    "from keras.losses import logcosh, binary_crossentropy\n",
    "from keras.activations import relu, elu, sigmoid"
   ]
  },
  {
   "cell_type": "markdown",
   "metadata": {},
   "source": [
    "### Analyzing last n fights using an LSTM"
   ]
  },
  {
   "cell_type": "code",
   "execution_count": 223,
   "metadata": {},
   "outputs": [],
   "source": [
    "def get_lstm(x_train, y_train, x_val, y_val, test_model=False):\n",
    "    model = Sequential()\n",
    "    \n",
    "    model.add(LSTM(50, \n",
    "                   input_shape=(10, 85),\n",
    "                   recurrent_dropout=0.2)) #, return_sequences=True\n",
    "    model.add(Dense(1, activation='sigmoid'))\n",
    "    model.compile(loss=\"binary_crossentropy\", \n",
    "                  optimizer=Adam(learning_rate=0.01), \n",
    "                  metrics=['accuracy'])\n",
    "    \n",
    "    history = model.fit(x_train, y_train,\n",
    "                       validation_data=[x_val, y_val],\n",
    "                       batch_size=64,\n",
    "                       epochs=30,\n",
    "                       verbose=1)\n",
    "    \n",
    "    if test_model:\n",
    "        plot_training_results(history)\n",
    "        model.summary()\n",
    "\n",
    "    return history, model"
   ]
  },
  {
   "cell_type": "markdown",
   "metadata": {},
   "source": [
    "### Analyzing last n fights using a Dense Neural Network"
   ]
  },
  {
   "cell_type": "code",
   "execution_count": 229,
   "metadata": {},
   "outputs": [],
   "source": [
    "def get_dnn(x_train, y_train, x_val, y_val, params, test_model=False):\n",
    "    \n",
    "    model = Sequential()\n",
    "    # Input Layer\n",
    "    model.add(Dense(params[\"first_neuron\"], \n",
    "                    activation=params['activation'], \n",
    "                    input_dim=X_train.shape[1]))\n",
    "    \n",
    "    model.add(Dropout(params['dropout']))\n",
    "    \n",
    "    # Hidden Layers\n",
    "    hidden_layers(model, params, 1)\n",
    "    \n",
    "    # Output Layers\n",
    "    model.add(Dense(1, activation=params['last_activation']))\n",
    "    \n",
    "    model.compile(loss=params['losses'],\n",
    "                  optimizer=params['optimizer'](lr=lr_normalizer(params['lr'], params['optimizer'])), \n",
    "                  metrics=['accuracy'])\n",
    "                  \n",
    "    history = model.fit(x_train, y_train,\n",
    "                       validation_data=[x_val, y_val],\n",
    "                       batch_size=params['batch_size'],\n",
    "                       epochs=params['epochs'],\n",
    "                       verbose=0)\n",
    "    \n",
    "    if test_model:\n",
    "        model.summary()\n",
    "        plot_training_results(history)\n",
    "        \n",
    "\n",
    "    return history, model"
   ]
  },
  {
   "cell_type": "markdown",
   "metadata": {},
   "source": [
    "### Analyzing last n fights using a Convolutional Neural Network"
   ]
  },
  {
   "cell_type": "code",
   "execution_count": 225,
   "metadata": {},
   "outputs": [],
   "source": [
    "def get_cnn(x_train, y_train, x_val, y_val, params, test_model=False):\n",
    "    model = Sequential()\n",
    "    \n",
    "    # Convolutional Layers\n",
    "    model.add(Conv1D(filters=params[\"num_filters\"], kernel_size=params[\"kernel_size\"], activation='relu', input_shape=(10, 85)))\n",
    "    model.add(Conv1D(filters=params[\"num_filters\"], kernel_size=params[\"kernel_size\"], activation='relu'))\n",
    "    model.add(Dropout(params['dropout']))\n",
    "#     model.add(MaxPooling1D(pool_size=2))\n",
    "    \n",
    "    # Flatten Layers\n",
    "    model.add(Flatten())\n",
    "    model.add(Dense(params[\"flatten_layer\"], activation='relu'))\n",
    "#     model.add(Dense(params[\"flatten_layer\"], activation='relu'))\n",
    "    \n",
    "    # Output Layer\n",
    "    model.add(Dense(1, activation='sigmoid'))\n",
    "    \n",
    "    model.compile(loss=params['losses'],\n",
    "                  optimizer=params['optimizer'](lr=lr_normalizer(params['lr'], params['optimizer'])), \n",
    "                  metrics=['accuracy'])\n",
    "    \n",
    "    history = model.fit(x_train, y_train,\n",
    "                       validation_data=[x_val, y_val],\n",
    "                       batch_size=params['batch_size'],\n",
    "                       epochs=params['epochs'],\n",
    "                       verbose=0)\n",
    "    \n",
    "    if test_model:\n",
    "        plot_training_results(history)\n",
    "        model.summary()\n",
    "\n",
    "    return history, model"
   ]
  },
  {
   "cell_type": "markdown",
   "metadata": {},
   "source": [
    "## Helper Functions"
   ]
  },
  {
   "cell_type": "code",
   "execution_count": null,
   "metadata": {},
   "outputs": [],
   "source": [
    "def plot_training_results(history_obj):\n",
    "    acc = history_obj.history['accuracy']\n",
    "    val_acc = history_obj.history['val_accuracy']\n",
    "    loss = history_obj.history['loss']\n",
    "    val_loss = history_obj.history['val_loss']\n",
    "    \n",
    "    epochs = range(1, len(acc) + 1)\n",
    "\n",
    "    fig, (accuracy_axis, loss_axis) = plt.subplots(1, 2, figsize=(20, 5))\n",
    "\n",
    "    accuracy_axis.plot(epochs, acc, 'bo', label='Training acc')\n",
    "    accuracy_axis.plot(epochs, val_acc, 'b', label='Validation acc')\n",
    "    accuracy_axis.set_title('Training and validation accuracy')\n",
    "    accuracy_axis.set_ylabel('Accuracy')\n",
    "    accuracy_axis.set_xlabel('Epoch')\n",
    "    accuracy_axis.legend()\n",
    "\n",
    "    loss_axis.plot(epochs, loss, 'bo', label='Training loss')\n",
    "    loss_axis.plot(epochs, val_loss, 'b', label='Validation loss')\n",
    "    loss_axis.set_title('Training and validation loss')\n",
    "    loss_axis.set_ylim(0, 3)\n",
    "    loss_axis.set_ylabel('Loss')\n",
    "    loss_axis.set_xlabel('Epoch')\n",
    "    loss_axis.legend()\n",
    "    fig.show()"
   ]
  },
  {
   "cell_type": "markdown",
   "metadata": {},
   "source": [
    "## Extract numerical and categorical columns"
   ]
  },
  {
   "cell_type": "code",
   "execution_count": null,
   "metadata": {},
   "outputs": [],
   "source": [
    "# Get the first fight window and the first fight in that window\n",
    "def get_column_types():\n",
    "    num_cols = []\n",
    "    cat_cols = []\n",
    "    for fight in features[0][0]:\n",
    "        feature_type = type(features[1][1][fight])\n",
    "        if feature_type is not float and feature_type is not int:\n",
    "            cat_cols.append(fight)\n",
    "        else:\n",
    "            num_cols.append(fight)\n",
    "            \n",
    "    return num_cols, cat_cols"
   ]
  },
  {
   "cell_type": "code",
   "execution_count": null,
   "metadata": {},
   "outputs": [],
   "source": [
    "x, y = get_column_types()"
   ]
  }
 ],
 "metadata": {
  "kernelspec": {
   "display_name": "Python 3",
   "language": "python",
   "name": "python3"
  },
  "language_info": {
   "codemirror_mode": {
    "name": "ipython",
    "version": 3
   },
   "file_extension": ".py",
   "mimetype": "text/x-python",
   "name": "python",
   "nbconvert_exporter": "python",
   "pygments_lexer": "ipython3",
   "version": "3.6.8"
  }
 },
 "nbformat": 4,
 "nbformat_minor": 2
}
