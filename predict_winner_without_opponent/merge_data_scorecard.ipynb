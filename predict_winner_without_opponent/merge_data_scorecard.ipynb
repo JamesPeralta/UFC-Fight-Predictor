{
 "cells": [
  {
   "cell_type": "code",
   "execution_count": 2,
   "metadata": {},
   "outputs": [
    {
     "name": "stdout",
     "output_type": "stream",
     "text": [
      "Details of fight data\n",
      "Shape: (5144, 146)\n",
      "Unique weight classes:  {\"Women's Featherweight\", 'Catch Weight', 'Flyweight', 'Lightweight', 'Bantamweight', 'Heavyweight', 'Featherweight', 'Open Weight', \"Women's Flyweight\", \"Women's Strawweight\", 'Middleweight', 'Light Heavyweight', \"Women's Bantamweight\", 'Welterweight'}\n",
      "Unique stances:  {nan, 'Switch', 'Sideways', 'Orthodox', 'Open Stance', 'Southpaw'}\n",
      "Shape: (5491, 12)\n",
      "\n",
      "Details of table after scorecard merge\n",
      "Shape:  (5146, 157)\n"
     ]
    }
   ],
   "source": [
    "import re\n",
    "import pandas as pd\n",
    "import numpy as np\n",
    "import matplotlib.pyplot as plt \n",
    "%matplotlib inline\n",
    "\n",
    "fight_data_file = '../ufcdata/data.csv'\n",
    "fight_data_file_prep = '../ufcdata/preprocessed_data.csv'\n",
    "scorecard_data_file = '../ufcdata/scorecard.csv'\n",
    "hometown_data_file = '../elevations/fighters_elevation.csv'\n",
    "\n",
    "def import_and_merge():\n",
    "    #Merge Score car data\n",
    "    fight_df = pd.read_csv(fight_data_file)\n",
    "    fight_df['merge_key'] = fight_df['R_fighter'] + ' ' +  fight_df['B_fighter'] + ' ' + fight_df['date']\n",
    "    fight_df['merge_key'] = fight_df['merge_key'].apply(lambda x: ' '.join(sorted(str.lower(x).split())))\n",
    "    print('Details of fight data')\n",
    "    print('Shape:', fight_df.shape)\n",
    "    print('Unique weight classes: ', set(fight_df.weight_class))\n",
    "    print('Unique stances: ', set(fight_df.B_Stance))\n",
    "\n",
    "\n",
    "    scorecard_df = pd.read_csv(scorecard_data_file)\n",
    "    print('Shape:', scorecard_df.shape)\n",
    "    scorecard_df['merge_key'] = scorecard_df['winner'] + ' ' + scorecard_df['loser'] + ' ' + scorecard_df['date']\n",
    "    scorecard_df['merge_key'] = scorecard_df['merge_key'].apply(lambda x: ' '.join(sorted(str.lower(x).split())))\n",
    "\n",
    "\n",
    "    # merge dataframes and remove rows with missing data\n",
    "    data_scorecard_df = pd.merge(left=fight_df, right=scorecard_df, how='left', left_on='merge_key', right_on='merge_key')\n",
    "    data_scorecard_df = data_scorecard_df.drop(columns=['merge_key'])\n",
    "    print('\\nDetails of table after scorecard merge')\n",
    "    print('Shape: ', data_scorecard_df.shape)\n",
    "\n",
    "#     #Merge with home town data would look somethin like this\n",
    "#     hometown_data = pd.read_csv(hometown_data_file)\n",
    "#     hometown_data['merge_key'] = hometown_data['Fighter Name'].apply(lambda x: ' '.join(sorted(str.lower(x).split())))\n",
    "#     hometown_data = hometown_data[~hometown_data.duplicated('merge_key', keep='first')]\n",
    "#     print('\\nHometown Stats: ')\n",
    "#     print('Shape: ', hometown_data.shape)\n",
    "\n",
    "#     data_scorecard_hometown_df = data_scorecard_df.copy()\n",
    "#     data_scorecard_hometown_df['merge_key'] = data_scorecard_hometown_df['fighter'].apply(lambda x: ' '.join(sorted(str.lower(x).split())))\n",
    "#     data_scorecard_hometown_df = pd.merge(left=data_scorecard_hometown_df, right=hometown_data, how='left', left_on='merge_key', right_on='merge_key')\n",
    "#     data_scorecard_hometown_df = data_scorecard_hometown_df.drop(columns=['Fighter Name', 'merge_key'])\n",
    "#     data_scorecard_hometown_df = data_scorecard_hometown_df.rename(columns={'Location':'hometown'})\n",
    "#     print('\\nMerged DF Stats: ')\n",
    "#     print('Shape: ', data_scorecard_hometown_df.shape)\n",
    "#     display(data_scorecard_hometown_df)\n",
    "\n",
    "    return(fight_df, data_scorecard_df)\n",
    "\n",
    "data, data_w_scorecard = import_and_merge()"
   ]
  }
 ],
 "metadata": {
  "kernelspec": {
   "display_name": "Python 3",
   "language": "python",
   "name": "python3"
  },
  "language_info": {
   "codemirror_mode": {
    "name": "ipython",
    "version": 3
   },
   "file_extension": ".py",
   "mimetype": "text/x-python",
   "name": "python",
   "nbconvert_exporter": "python",
   "pygments_lexer": "ipython3",
   "version": "3.7.3"
  }
 },
 "nbformat": 4,
 "nbformat_minor": 4
}
