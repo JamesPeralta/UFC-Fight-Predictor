{
 "cells": [
  {
   "cell_type": "markdown",
   "metadata": {},
   "source": [
    "## 1. Reading the data"
   ]
  },
  {
   "cell_type": "code",
   "execution_count": 20,
   "metadata": {},
   "outputs": [],
   "source": [
    "# all the imports \n",
    "import pandas as pd\n",
    "import numpy as np\n",
    "import warnings\n",
    "warnings.filterwarnings('ignore')\n",
    "from sklearn.linear_model import LogisticRegression\n",
    "from sklearn.neighbors import KNeighborsClassifier\n",
    "from sklearn.svm import LinearSVC\n",
    "from sklearn.model_selection import train_test_split\n",
    "from sklearn.metrics import confusion_matrix\n",
    "from sklearn.metrics import f1_score\n",
    "from sklearn.metrics import accuracy_score\n",
    "from sklearn.preprocessing import MinMaxScaler\n",
    "from sklearn.preprocessing import StandardScaler\n",
    "from sklearn.model_selection import GridSearchCV\n",
    "from sklearn.model_selection import cross_val_score\n",
    "from sklearn.decomposition import PCA\n",
    "from sklearn.feature_selection import RFE\n",
    "from sklearn.linear_model import LinearRegression\n",
    "from sklearn.ensemble import RandomForestClassifier"
   ]
  },
  {
   "cell_type": "code",
   "execution_count": 34,
   "metadata": {},
   "outputs": [
    {
     "data": {
      "text/html": [
       "<div>\n",
       "<style scoped>\n",
       "    .dataframe tbody tr th:only-of-type {\n",
       "        vertical-align: middle;\n",
       "    }\n",
       "\n",
       "    .dataframe tbody tr th {\n",
       "        vertical-align: top;\n",
       "    }\n",
       "\n",
       "    .dataframe thead th {\n",
       "        text-align: right;\n",
       "    }\n",
       "</style>\n",
       "<table border=\"1\" class=\"dataframe\">\n",
       "  <thead>\n",
       "    <tr style=\"text-align: right;\">\n",
       "      <th></th>\n",
       "      <th>R_fighter</th>\n",
       "      <th>B_fighter</th>\n",
       "      <th>Referee</th>\n",
       "      <th>date</th>\n",
       "      <th>Winner</th>\n",
       "      <th>title_bout</th>\n",
       "      <th>weight_class</th>\n",
       "      <th>no_of_rounds</th>\n",
       "      <th>B_current_lose_streak</th>\n",
       "      <th>B_current_win_streak</th>\n",
       "      <th>...</th>\n",
       "      <th>R_age</th>\n",
       "      <th>location_elevation</th>\n",
       "      <th>end_method</th>\n",
       "      <th>end_how</th>\n",
       "      <th>end_round</th>\n",
       "      <th>city</th>\n",
       "      <th>country</th>\n",
       "      <th>attendance</th>\n",
       "      <th>R_home_elevation</th>\n",
       "      <th>B_home_elevation</th>\n",
       "    </tr>\n",
       "  </thead>\n",
       "  <tbody>\n",
       "    <tr>\n",
       "      <td>0</td>\n",
       "      <td>gerard gordeau</td>\n",
       "      <td>kevin rosier</td>\n",
       "      <td>Joao Alberto Barreto</td>\n",
       "      <td>1993-11-12</td>\n",
       "      <td>Red</td>\n",
       "      <td>False</td>\n",
       "      <td>Open Weight</td>\n",
       "      <td>1</td>\n",
       "      <td>0.0</td>\n",
       "      <td>1.0</td>\n",
       "      <td>...</td>\n",
       "      <td>34.0</td>\n",
       "      <td>1734.0</td>\n",
       "      <td>tko</td>\n",
       "      <td>corner stoppage</td>\n",
       "      <td>NaN</td>\n",
       "      <td>denver</td>\n",
       "      <td>usa</td>\n",
       "      <td>7800.0</td>\n",
       "      <td>1.0</td>\n",
       "      <td>146.0</td>\n",
       "    </tr>\n",
       "    <tr>\n",
       "      <td>1</td>\n",
       "      <td>royce gracie</td>\n",
       "      <td>ken shamrock</td>\n",
       "      <td>Joao Alberto Barreto</td>\n",
       "      <td>1993-11-12</td>\n",
       "      <td>Red</td>\n",
       "      <td>False</td>\n",
       "      <td>Open Weight</td>\n",
       "      <td>1</td>\n",
       "      <td>0.0</td>\n",
       "      <td>1.0</td>\n",
       "      <td>...</td>\n",
       "      <td>26.0</td>\n",
       "      <td>1734.0</td>\n",
       "      <td>submission</td>\n",
       "      <td>sleeve choke</td>\n",
       "      <td>NaN</td>\n",
       "      <td>denver</td>\n",
       "      <td>usa</td>\n",
       "      <td>7800.0</td>\n",
       "      <td>27.0</td>\n",
       "      <td>1373.0</td>\n",
       "    </tr>\n",
       "    <tr>\n",
       "      <td>2</td>\n",
       "      <td>jason delucia</td>\n",
       "      <td>trent jenkins</td>\n",
       "      <td>Joao Alberto Barreto</td>\n",
       "      <td>1993-11-12</td>\n",
       "      <td>Red</td>\n",
       "      <td>False</td>\n",
       "      <td>Open Weight</td>\n",
       "      <td>1</td>\n",
       "      <td>0.0</td>\n",
       "      <td>0.0</td>\n",
       "      <td>...</td>\n",
       "      <td>24.0</td>\n",
       "      <td>1734.0</td>\n",
       "      <td>submission</td>\n",
       "      <td>rearnaked choke</td>\n",
       "      <td>NaN</td>\n",
       "      <td>denver</td>\n",
       "      <td>usa</td>\n",
       "      <td>7800.0</td>\n",
       "      <td>89.0</td>\n",
       "      <td>NaN</td>\n",
       "    </tr>\n",
       "    <tr>\n",
       "      <td>3</td>\n",
       "      <td>royce gracie</td>\n",
       "      <td>gerard gordeau</td>\n",
       "      <td>Joao Alberto Barreto</td>\n",
       "      <td>1993-11-12</td>\n",
       "      <td>Red</td>\n",
       "      <td>True</td>\n",
       "      <td>Catch Weight</td>\n",
       "      <td>1</td>\n",
       "      <td>0.0</td>\n",
       "      <td>2.0</td>\n",
       "      <td>...</td>\n",
       "      <td>26.0</td>\n",
       "      <td>1734.0</td>\n",
       "      <td>submission</td>\n",
       "      <td>rear naked choke</td>\n",
       "      <td>NaN</td>\n",
       "      <td>denver</td>\n",
       "      <td>usa</td>\n",
       "      <td>7800.0</td>\n",
       "      <td>27.0</td>\n",
       "      <td>1.0</td>\n",
       "    </tr>\n",
       "    <tr>\n",
       "      <td>4</td>\n",
       "      <td>gerard gordeau</td>\n",
       "      <td>teila tuli</td>\n",
       "      <td>Joao Alberto Barreto</td>\n",
       "      <td>1993-11-12</td>\n",
       "      <td>Red</td>\n",
       "      <td>False</td>\n",
       "      <td>Open Weight</td>\n",
       "      <td>1</td>\n",
       "      <td>0.0</td>\n",
       "      <td>0.0</td>\n",
       "      <td>...</td>\n",
       "      <td>34.0</td>\n",
       "      <td>1734.0</td>\n",
       "      <td>tko</td>\n",
       "      <td>head kick</td>\n",
       "      <td>NaN</td>\n",
       "      <td>denver</td>\n",
       "      <td>usa</td>\n",
       "      <td>7800.0</td>\n",
       "      <td>1.0</td>\n",
       "      <td>6.0</td>\n",
       "    </tr>\n",
       "  </tbody>\n",
       "</table>\n",
       "<p>5 rows × 153 columns</p>\n",
       "</div>"
      ],
      "text/plain": [
       "        R_fighter       B_fighter               Referee        date Winner  \\\n",
       "0  gerard gordeau    kevin rosier  Joao Alberto Barreto  1993-11-12    Red   \n",
       "1    royce gracie    ken shamrock  Joao Alberto Barreto  1993-11-12    Red   \n",
       "2   jason delucia   trent jenkins  Joao Alberto Barreto  1993-11-12    Red   \n",
       "3    royce gracie  gerard gordeau  Joao Alberto Barreto  1993-11-12    Red   \n",
       "4  gerard gordeau      teila tuli  Joao Alberto Barreto  1993-11-12    Red   \n",
       "\n",
       "   title_bout  weight_class  no_of_rounds  B_current_lose_streak  \\\n",
       "0       False   Open Weight             1                    0.0   \n",
       "1       False   Open Weight             1                    0.0   \n",
       "2       False   Open Weight             1                    0.0   \n",
       "3        True  Catch Weight             1                    0.0   \n",
       "4       False   Open Weight             1                    0.0   \n",
       "\n",
       "   B_current_win_streak  ...  R_age  location_elevation  end_method  \\\n",
       "0                   1.0  ...   34.0              1734.0         tko   \n",
       "1                   1.0  ...   26.0              1734.0  submission   \n",
       "2                   0.0  ...   24.0              1734.0  submission   \n",
       "3                   2.0  ...   26.0              1734.0  submission   \n",
       "4                   0.0  ...   34.0              1734.0         tko   \n",
       "\n",
       "            end_how  end_round    city  country  attendance  R_home_elevation  \\\n",
       "0   corner stoppage        NaN  denver      usa      7800.0               1.0   \n",
       "1      sleeve choke        NaN  denver      usa      7800.0              27.0   \n",
       "2   rearnaked choke        NaN  denver      usa      7800.0              89.0   \n",
       "3  rear naked choke        NaN  denver      usa      7800.0              27.0   \n",
       "4         head kick        NaN  denver      usa      7800.0               1.0   \n",
       "\n",
       "   B_home_elevation  \n",
       "0             146.0  \n",
       "1            1373.0  \n",
       "2               NaN  \n",
       "3               1.0  \n",
       "4               6.0  \n",
       "\n",
       "[5 rows x 153 columns]"
      ]
     },
     "execution_count": 34,
     "metadata": {},
     "output_type": "execute_result"
    }
   ],
   "source": [
    "# reading the data\n",
    "data = pd.read_csv('../combined_data/combined_fight_data.csv', low_memory=False)\n",
    "data.head()"
   ]
  },
  {
   "cell_type": "markdown",
   "metadata": {},
   "source": [
    "## 2. Data Preprocessing"
   ]
  },
  {
   "cell_type": "markdown",
   "metadata": {},
   "source": [
    "### 2.1 Converting target column to bool type"
   ]
  },
  {
   "cell_type": "code",
   "execution_count": 22,
   "metadata": {},
   "outputs": [],
   "source": [
    "# changing winner label to bool and keeping whether or not Red fighter won\n",
    "data['Winner'] = data['Winner'].apply(lambda x: 1 if x == 'Red' else 0)\n",
    "data['R_Winner'] = data['Winner']"
   ]
  },
  {
   "cell_type": "markdown",
   "metadata": {},
   "source": [
    "### 2.2 Dropping the useless columns"
   ]
  },
  {
   "cell_type": "code",
   "execution_count": 23,
   "metadata": {},
   "outputs": [],
   "source": [
    "data = data.drop(columns=['R_fighter', 'B_fighter', 'Referee', 'date', 'city', 'country', 'Winner', 'end_how'])\n",
    "data = data.fillna(0)"
   ]
  },
  {
   "cell_type": "markdown",
   "metadata": {},
   "source": [
    "### 2.3 One hot encoding the categorical columns"
   ]
  },
  {
   "cell_type": "code",
   "execution_count": 24,
   "metadata": {},
   "outputs": [
    {
     "data": {
      "text/plain": [
       "(5062, 175)"
      ]
     },
     "execution_count": 24,
     "metadata": {},
     "output_type": "execute_result"
    }
   ],
   "source": [
    "# weight_class, B_Stance, R_Stance\n",
    "data = pd.get_dummies(data, columns=['weight_class', 'B_Stance', 'R_Stance','end_method'])\n",
    "data.shape"
   ]
  },
  {
   "cell_type": "markdown",
   "metadata": {},
   "source": [
    "### 2.4 Getting features and labels"
   ]
  },
  {
   "cell_type": "code",
   "execution_count": 25,
   "metadata": {
    "scrolled": true
   },
   "outputs": [
    {
     "data": {
      "text/html": [
       "<div>\n",
       "<style scoped>\n",
       "    .dataframe tbody tr th:only-of-type {\n",
       "        vertical-align: middle;\n",
       "    }\n",
       "\n",
       "    .dataframe tbody tr th {\n",
       "        vertical-align: top;\n",
       "    }\n",
       "\n",
       "    .dataframe thead th {\n",
       "        text-align: right;\n",
       "    }\n",
       "</style>\n",
       "<table border=\"1\" class=\"dataframe\">\n",
       "  <thead>\n",
       "    <tr style=\"text-align: right;\">\n",
       "      <th></th>\n",
       "      <th>title_bout</th>\n",
       "      <th>no_of_rounds</th>\n",
       "      <th>B_current_lose_streak</th>\n",
       "      <th>B_current_win_streak</th>\n",
       "      <th>B_draw</th>\n",
       "      <th>B_avg_BODY_att</th>\n",
       "      <th>B_avg_BODY_landed</th>\n",
       "      <th>B_avg_CLINCH_att</th>\n",
       "      <th>B_avg_CLINCH_landed</th>\n",
       "      <th>B_avg_DISTANCE_att</th>\n",
       "      <th>...</th>\n",
       "      <th>R_Stance_Sideways</th>\n",
       "      <th>R_Stance_Southpaw</th>\n",
       "      <th>R_Stance_Switch</th>\n",
       "      <th>end_method_0</th>\n",
       "      <th>end_method_decision</th>\n",
       "      <th>end_method_disqualification</th>\n",
       "      <th>end_method_ko</th>\n",
       "      <th>end_method_no contest</th>\n",
       "      <th>end_method_submission</th>\n",
       "      <th>end_method_tko</th>\n",
       "    </tr>\n",
       "  </thead>\n",
       "  <tbody>\n",
       "    <tr>\n",
       "      <td>0</td>\n",
       "      <td>False</td>\n",
       "      <td>1</td>\n",
       "      <td>0.0</td>\n",
       "      <td>1.0</td>\n",
       "      <td>0.0</td>\n",
       "      <td>4.00</td>\n",
       "      <td>3.00</td>\n",
       "      <td>9.00</td>\n",
       "      <td>4.0</td>\n",
       "      <td>10.0</td>\n",
       "      <td>...</td>\n",
       "      <td>0</td>\n",
       "      <td>0</td>\n",
       "      <td>0</td>\n",
       "      <td>0</td>\n",
       "      <td>0</td>\n",
       "      <td>0</td>\n",
       "      <td>0</td>\n",
       "      <td>0</td>\n",
       "      <td>0</td>\n",
       "      <td>1</td>\n",
       "    </tr>\n",
       "    <tr>\n",
       "      <td>1</td>\n",
       "      <td>False</td>\n",
       "      <td>1</td>\n",
       "      <td>0.0</td>\n",
       "      <td>1.0</td>\n",
       "      <td>0.0</td>\n",
       "      <td>0.00</td>\n",
       "      <td>0.00</td>\n",
       "      <td>0.00</td>\n",
       "      <td>0.0</td>\n",
       "      <td>0.0</td>\n",
       "      <td>...</td>\n",
       "      <td>0</td>\n",
       "      <td>1</td>\n",
       "      <td>0</td>\n",
       "      <td>0</td>\n",
       "      <td>0</td>\n",
       "      <td>0</td>\n",
       "      <td>0</td>\n",
       "      <td>0</td>\n",
       "      <td>1</td>\n",
       "      <td>0</td>\n",
       "    </tr>\n",
       "    <tr>\n",
       "      <td>2</td>\n",
       "      <td>False</td>\n",
       "      <td>1</td>\n",
       "      <td>0.0</td>\n",
       "      <td>0.0</td>\n",
       "      <td>0.0</td>\n",
       "      <td>0.00</td>\n",
       "      <td>0.00</td>\n",
       "      <td>0.00</td>\n",
       "      <td>0.0</td>\n",
       "      <td>0.0</td>\n",
       "      <td>...</td>\n",
       "      <td>0</td>\n",
       "      <td>1</td>\n",
       "      <td>0</td>\n",
       "      <td>0</td>\n",
       "      <td>0</td>\n",
       "      <td>0</td>\n",
       "      <td>0</td>\n",
       "      <td>0</td>\n",
       "      <td>1</td>\n",
       "      <td>0</td>\n",
       "    </tr>\n",
       "    <tr>\n",
       "      <td>3</td>\n",
       "      <td>True</td>\n",
       "      <td>1</td>\n",
       "      <td>0.0</td>\n",
       "      <td>2.0</td>\n",
       "      <td>0.0</td>\n",
       "      <td>0.50</td>\n",
       "      <td>0.50</td>\n",
       "      <td>0.00</td>\n",
       "      <td>0.0</td>\n",
       "      <td>5.5</td>\n",
       "      <td>...</td>\n",
       "      <td>0</td>\n",
       "      <td>1</td>\n",
       "      <td>0</td>\n",
       "      <td>0</td>\n",
       "      <td>0</td>\n",
       "      <td>0</td>\n",
       "      <td>0</td>\n",
       "      <td>0</td>\n",
       "      <td>1</td>\n",
       "      <td>0</td>\n",
       "    </tr>\n",
       "    <tr>\n",
       "      <td>4</td>\n",
       "      <td>False</td>\n",
       "      <td>1</td>\n",
       "      <td>0.0</td>\n",
       "      <td>0.0</td>\n",
       "      <td>0.0</td>\n",
       "      <td>0.00</td>\n",
       "      <td>0.00</td>\n",
       "      <td>0.00</td>\n",
       "      <td>0.0</td>\n",
       "      <td>0.0</td>\n",
       "      <td>...</td>\n",
       "      <td>0</td>\n",
       "      <td>0</td>\n",
       "      <td>0</td>\n",
       "      <td>0</td>\n",
       "      <td>0</td>\n",
       "      <td>0</td>\n",
       "      <td>0</td>\n",
       "      <td>0</td>\n",
       "      <td>0</td>\n",
       "      <td>1</td>\n",
       "    </tr>\n",
       "    <tr>\n",
       "      <td>...</td>\n",
       "      <td>...</td>\n",
       "      <td>...</td>\n",
       "      <td>...</td>\n",
       "      <td>...</td>\n",
       "      <td>...</td>\n",
       "      <td>...</td>\n",
       "      <td>...</td>\n",
       "      <td>...</td>\n",
       "      <td>...</td>\n",
       "      <td>...</td>\n",
       "      <td>...</td>\n",
       "      <td>...</td>\n",
       "      <td>...</td>\n",
       "      <td>...</td>\n",
       "      <td>...</td>\n",
       "      <td>...</td>\n",
       "      <td>...</td>\n",
       "      <td>...</td>\n",
       "      <td>...</td>\n",
       "      <td>...</td>\n",
       "      <td>...</td>\n",
       "    </tr>\n",
       "    <tr>\n",
       "      <td>5057</td>\n",
       "      <td>True</td>\n",
       "      <td>5</td>\n",
       "      <td>0.0</td>\n",
       "      <td>4.0</td>\n",
       "      <td>0.0</td>\n",
       "      <td>9.20</td>\n",
       "      <td>6.00</td>\n",
       "      <td>0.20</td>\n",
       "      <td>0.0</td>\n",
       "      <td>62.6</td>\n",
       "      <td>...</td>\n",
       "      <td>0</td>\n",
       "      <td>0</td>\n",
       "      <td>0</td>\n",
       "      <td>0</td>\n",
       "      <td>0</td>\n",
       "      <td>0</td>\n",
       "      <td>0</td>\n",
       "      <td>0</td>\n",
       "      <td>0</td>\n",
       "      <td>1</td>\n",
       "    </tr>\n",
       "    <tr>\n",
       "      <td>5058</td>\n",
       "      <td>False</td>\n",
       "      <td>3</td>\n",
       "      <td>0.0</td>\n",
       "      <td>1.0</td>\n",
       "      <td>0.0</td>\n",
       "      <td>17.00</td>\n",
       "      <td>14.50</td>\n",
       "      <td>2.50</td>\n",
       "      <td>2.0</td>\n",
       "      <td>201.0</td>\n",
       "      <td>...</td>\n",
       "      <td>0</td>\n",
       "      <td>1</td>\n",
       "      <td>0</td>\n",
       "      <td>0</td>\n",
       "      <td>1</td>\n",
       "      <td>0</td>\n",
       "      <td>0</td>\n",
       "      <td>0</td>\n",
       "      <td>0</td>\n",
       "      <td>0</td>\n",
       "    </tr>\n",
       "    <tr>\n",
       "      <td>5059</td>\n",
       "      <td>False</td>\n",
       "      <td>3</td>\n",
       "      <td>0.0</td>\n",
       "      <td>0.0</td>\n",
       "      <td>0.0</td>\n",
       "      <td>0.00</td>\n",
       "      <td>0.00</td>\n",
       "      <td>0.00</td>\n",
       "      <td>0.0</td>\n",
       "      <td>0.0</td>\n",
       "      <td>...</td>\n",
       "      <td>0</td>\n",
       "      <td>0</td>\n",
       "      <td>0</td>\n",
       "      <td>0</td>\n",
       "      <td>0</td>\n",
       "      <td>0</td>\n",
       "      <td>1</td>\n",
       "      <td>0</td>\n",
       "      <td>0</td>\n",
       "      <td>0</td>\n",
       "    </tr>\n",
       "    <tr>\n",
       "      <td>5060</td>\n",
       "      <td>False</td>\n",
       "      <td>3</td>\n",
       "      <td>0.0</td>\n",
       "      <td>1.0</td>\n",
       "      <td>0.0</td>\n",
       "      <td>7.25</td>\n",
       "      <td>4.75</td>\n",
       "      <td>1.75</td>\n",
       "      <td>0.5</td>\n",
       "      <td>125.0</td>\n",
       "      <td>...</td>\n",
       "      <td>0</td>\n",
       "      <td>0</td>\n",
       "      <td>0</td>\n",
       "      <td>0</td>\n",
       "      <td>0</td>\n",
       "      <td>0</td>\n",
       "      <td>1</td>\n",
       "      <td>0</td>\n",
       "      <td>0</td>\n",
       "      <td>0</td>\n",
       "    </tr>\n",
       "    <tr>\n",
       "      <td>5061</td>\n",
       "      <td>False</td>\n",
       "      <td>3</td>\n",
       "      <td>0.0</td>\n",
       "      <td>4.0</td>\n",
       "      <td>0.0</td>\n",
       "      <td>17.00</td>\n",
       "      <td>14.00</td>\n",
       "      <td>13.75</td>\n",
       "      <td>11.0</td>\n",
       "      <td>109.5</td>\n",
       "      <td>...</td>\n",
       "      <td>0</td>\n",
       "      <td>0</td>\n",
       "      <td>0</td>\n",
       "      <td>0</td>\n",
       "      <td>1</td>\n",
       "      <td>0</td>\n",
       "      <td>0</td>\n",
       "      <td>0</td>\n",
       "      <td>0</td>\n",
       "      <td>0</td>\n",
       "    </tr>\n",
       "  </tbody>\n",
       "</table>\n",
       "<p>5062 rows × 174 columns</p>\n",
       "</div>"
      ],
      "text/plain": [
       "      title_bout  no_of_rounds  B_current_lose_streak  B_current_win_streak  \\\n",
       "0          False             1                    0.0                   1.0   \n",
       "1          False             1                    0.0                   1.0   \n",
       "2          False             1                    0.0                   0.0   \n",
       "3           True             1                    0.0                   2.0   \n",
       "4          False             1                    0.0                   0.0   \n",
       "...          ...           ...                    ...                   ...   \n",
       "5057        True             5                    0.0                   4.0   \n",
       "5058       False             3                    0.0                   1.0   \n",
       "5059       False             3                    0.0                   0.0   \n",
       "5060       False             3                    0.0                   1.0   \n",
       "5061       False             3                    0.0                   4.0   \n",
       "\n",
       "      B_draw  B_avg_BODY_att  B_avg_BODY_landed  B_avg_CLINCH_att  \\\n",
       "0        0.0            4.00               3.00              9.00   \n",
       "1        0.0            0.00               0.00              0.00   \n",
       "2        0.0            0.00               0.00              0.00   \n",
       "3        0.0            0.50               0.50              0.00   \n",
       "4        0.0            0.00               0.00              0.00   \n",
       "...      ...             ...                ...               ...   \n",
       "5057     0.0            9.20               6.00              0.20   \n",
       "5058     0.0           17.00              14.50              2.50   \n",
       "5059     0.0            0.00               0.00              0.00   \n",
       "5060     0.0            7.25               4.75              1.75   \n",
       "5061     0.0           17.00              14.00             13.75   \n",
       "\n",
       "      B_avg_CLINCH_landed  B_avg_DISTANCE_att  ...  R_Stance_Sideways  \\\n",
       "0                     4.0                10.0  ...                  0   \n",
       "1                     0.0                 0.0  ...                  0   \n",
       "2                     0.0                 0.0  ...                  0   \n",
       "3                     0.0                 5.5  ...                  0   \n",
       "4                     0.0                 0.0  ...                  0   \n",
       "...                   ...                 ...  ...                ...   \n",
       "5057                  0.0                62.6  ...                  0   \n",
       "5058                  2.0               201.0  ...                  0   \n",
       "5059                  0.0                 0.0  ...                  0   \n",
       "5060                  0.5               125.0  ...                  0   \n",
       "5061                 11.0               109.5  ...                  0   \n",
       "\n",
       "      R_Stance_Southpaw  R_Stance_Switch  end_method_0  end_method_decision  \\\n",
       "0                     0                0             0                    0   \n",
       "1                     1                0             0                    0   \n",
       "2                     1                0             0                    0   \n",
       "3                     1                0             0                    0   \n",
       "4                     0                0             0                    0   \n",
       "...                 ...              ...           ...                  ...   \n",
       "5057                  0                0             0                    0   \n",
       "5058                  1                0             0                    1   \n",
       "5059                  0                0             0                    0   \n",
       "5060                  0                0             0                    0   \n",
       "5061                  0                0             0                    1   \n",
       "\n",
       "      end_method_disqualification  end_method_ko  end_method_no contest  \\\n",
       "0                               0              0                      0   \n",
       "1                               0              0                      0   \n",
       "2                               0              0                      0   \n",
       "3                               0              0                      0   \n",
       "4                               0              0                      0   \n",
       "...                           ...            ...                    ...   \n",
       "5057                            0              0                      0   \n",
       "5058                            0              0                      0   \n",
       "5059                            0              1                      0   \n",
       "5060                            0              1                      0   \n",
       "5061                            0              0                      0   \n",
       "\n",
       "      end_method_submission  end_method_tko  \n",
       "0                         0               1  \n",
       "1                         1               0  \n",
       "2                         1               0  \n",
       "3                         1               0  \n",
       "4                         0               1  \n",
       "...                     ...             ...  \n",
       "5057                      0               1  \n",
       "5058                      0               0  \n",
       "5059                      0               0  \n",
       "5060                      0               0  \n",
       "5061                      0               0  \n",
       "\n",
       "[5062 rows x 174 columns]"
      ]
     },
     "execution_count": 25,
     "metadata": {},
     "output_type": "execute_result"
    }
   ],
   "source": [
    "features = data.loc[:, data.columns != 'R_Winner']\n",
    "features"
   ]
  },
  {
   "cell_type": "code",
   "execution_count": 26,
   "metadata": {},
   "outputs": [
    {
     "data": {
      "text/plain": [
       "0        True\n",
       "1        True\n",
       "2        True\n",
       "3        True\n",
       "4        True\n",
       "        ...  \n",
       "5057     True\n",
       "5058    False\n",
       "5059     True\n",
       "5060    False\n",
       "5061    False\n",
       "Name: R_Winner, Length: 5062, dtype: bool"
      ]
     },
     "execution_count": 26,
     "metadata": {},
     "output_type": "execute_result"
    }
   ],
   "source": [
    "labels = data.loc[:, 'R_Winner'].astype('bool')\n",
    "labels"
   ]
  },
  {
   "cell_type": "markdown",
   "metadata": {},
   "source": [
    "## 3. LogisticRegression, LinearSVC, KNeighborsClassifier"
   ]
  },
  {
   "cell_type": "code",
   "execution_count": 27,
   "metadata": {},
   "outputs": [],
   "source": [
    "def run_logistic_regression(X_train, X_test, y_train, y_test, params):\n",
    "    # creating logistic classifier\n",
    "    logistic = LogisticRegression(**params)\n",
    "    \n",
    "    # fitting training data and predicting test data\n",
    "    logistic.fit(X_train, y_train)\n",
    "    logistic_predict = logistic.predict(X_test)\n",
    "    \n",
    "    # compute the performance metrics\n",
    "    conf_matrix = confusion_matrix(y_test, logistic_predict)\n",
    "    fscore = f1_score(y_test, logistic_predict, average=None)\n",
    "    accr_score = accuracy_score(y_test, logistic_predict)\n",
    "    \n",
    "    # return the performance metrics\n",
    "    return conf_matrix, fscore, accr_score\n",
    "\n",
    "\n",
    "def run_knn_classification(X_train, X_test, y_train, y_test, params):\n",
    "    # creating KNN classifier\n",
    "    knn = KNeighborsClassifier(**params)\n",
    "    \n",
    "    # fitting training data and predicting test data\n",
    "    knn.fit(X_train, y_train)\n",
    "    knn_predict = knn.predict(X_test)\n",
    "\n",
    "    # compute the performance metrics\n",
    "    conf_matrix = confusion_matrix(y_test, knn_predict)\n",
    "    fscore = f1_score(y_test, knn_predict, average=None)\n",
    "    accr_score = accuracy_score(y_test, knn_predict)\n",
    "    \n",
    "    # return the performance metrics\n",
    "    return conf_matrix, fscore, accr_score\n",
    "\n",
    "\n",
    "def run_svc_classification(X_train, X_test, y_train, y_test, params):\n",
    "    # creating SVC classifier\n",
    "    svc = LinearSVC(**params)\n",
    "    \n",
    "    # fitting training data and predicting test data\n",
    "    svc.fit(X_train, y_train)\n",
    "    svc_predict = svc.predict(X_test)\n",
    "\n",
    "    # compute the performance metrics\n",
    "    conf_matrix = confusion_matrix(y_test, svc_predict)\n",
    "    fscore = f1_score(y_test, svc_predict, average=None)\n",
    "    accr_score = accuracy_score(y_test, svc_predict)\n",
    "    \n",
    "    # return the performance metrics\n",
    "    return conf_matrix, fscore, accr_score\n",
    "\n",
    "\n",
    "def run_all_models(features, labels, scaler, log_params, knn_params, svc_params):\n",
    "    # arrays to store the results\n",
    "    logistic_cm = []\n",
    "    knn_cm = []\n",
    "    svc_cm = []\n",
    "\n",
    "    logistic_fscore = []\n",
    "    knn_fscore = []\n",
    "    svc_fscore = []\n",
    "\n",
    "    logistic_score = []\n",
    "    knn_score = []\n",
    "    svc_score = []\n",
    "    \n",
    "    for seed in range(1, 6):\n",
    "        X_train, X_test, y_train, y_test = train_test_split(features, labels, \n",
    "                                                            random_state=seed,\n",
    "                                                            test_size=0.20)\n",
    "        \n",
    "        \n",
    "        X_train_scaled = X_train\n",
    "        X_test_scaled = X_test\n",
    "        \n",
    "        # if scaler is provided then scale the data\n",
    "        if(scaler != None):\n",
    "            # fitting on training data\n",
    "            scaler.fit(X_train)\n",
    "            \n",
    "            #transforming both training and testing data\n",
    "            X_train_scaled = scaler.transform(X_train)\n",
    "            X_test_scaled = scaler.transform(X_test)\n",
    "    \n",
    "        # run the models and get results\n",
    "        logis_results = run_logistic_regression(X_train_scaled, X_test_scaled, y_train, y_test, log_params)\n",
    "        knn_results = run_knn_classification(X_train_scaled, X_test_scaled, y_train, y_test, knn_params)\n",
    "        svc_results = run_svc_classification(X_train_scaled, X_test_scaled, y_train, y_test, svc_params)\n",
    "        \n",
    "        # add the results to the result arrays\n",
    "        logistic_cm.append(logis_results[0])\n",
    "        knn_cm.append(knn_results[0])\n",
    "        svc_cm.append(svc_results[0])\n",
    "\n",
    "        logistic_fscore.append(logis_results[1])\n",
    "        knn_fscore.append(knn_results[1])\n",
    "        svc_fscore.append(svc_results[1])\n",
    "\n",
    "        logistic_score.append(logis_results[2])\n",
    "        knn_score.append(knn_results[2])\n",
    "        svc_score.append(svc_results[2])\n",
    "    \n",
    "    \n",
    "    # printing the results\n",
    "    print('Logistic confusion matrix:\\n', np.mean(np.array(logistic_cm), axis=0))\n",
    "    print('Logistic f-score:', np.mean(np.array(logistic_fscore)))  \n",
    "    print('Logistic accuracy score:', np.mean(np.array(logistic_score)), '\\n')  \n",
    "\n",
    "    print('KNN score:\\n', np.mean(np.array(knn_cm), axis=0))\n",
    "    print('KNN f-score:', np.mean(np.array(knn_fscore)))  \n",
    "    print('KNN accuracy score:', np.mean(np.array(knn_score)), '\\n')  \n",
    "\n",
    "    print('SVC score:\\n', np.mean(np.array(svc_cm), axis=0))\n",
    "    print('SVC f-score:', np.mean(np.array(svc_fscore)))\n",
    "    print('SVC accuracy score:', np.mean(np.array(svc_score)), '\\n')  "
   ]
  },
  {
   "cell_type": "markdown",
   "metadata": {},
   "source": [
    "### 3.1 Running LogisticRegression, LinearSVC, KNeighborsClassifier without Scaling"
   ]
  },
  {
   "cell_type": "code",
   "execution_count": 28,
   "metadata": {},
   "outputs": [
    {
     "name": "stdout",
     "output_type": "stream",
     "text": [
      "Logistic confusion matrix:\n",
      " [[ 99.6 216.2]\n",
      " [ 89.6 607.6]]\n",
      "Logistic f-score: 0.5964768792247483\n",
      "Logistic accuracy score: 0.6981243830207304 \n",
      "\n",
      "KNN score:\n",
      " [[ 89.  226.8]\n",
      " [132.6 564.6]]\n",
      "KNN f-score: 0.5447978539022429\n",
      "KNN accuracy score: 0.6452122408687069 \n",
      "\n",
      "SVC score:\n",
      " [[116.8 199. ]\n",
      " [185.6 511.6]]\n",
      "SVC f-score: 0.4849798388525272\n",
      "SVC accuracy score: 0.620335636722606 \n",
      "\n"
     ]
    }
   ],
   "source": [
    "# logistic params\n",
    "log_params = {'solver': 'liblinear', 'random_state': 42}\n",
    "\n",
    "# knn params\n",
    "knn_params = {'n_jobs': -1}\n",
    "\n",
    "# svc params\n",
    "svc_params = {'max_iter': 5000, 'random_state': 42}\n",
    "\n",
    "run_all_models(features, labels, None, log_params, knn_params, svc_params)"
   ]
  },
  {
   "cell_type": "markdown",
   "metadata": {},
   "source": [
    "### 3.2 Running LogisticRegression, LinearSVC, KNeighborsClassifier with min max scaling"
   ]
  },
  {
   "cell_type": "code",
   "execution_count": 29,
   "metadata": {},
   "outputs": [
    {
     "name": "stdout",
     "output_type": "stream",
     "text": [
      "Logistic confusion matrix:\n",
      " [[ 90.8 225. ]\n",
      " [ 75.6 621.6]]\n",
      "Logistic f-score: 0.5906466871473813\n",
      "Logistic accuracy score: 0.7032576505429418 \n",
      "\n",
      "KNN score:\n",
      " [[ 91.4 224.4]\n",
      " [133.2 564. ]]\n",
      "KNN f-score: 0.5486742315651832\n",
      "KNN accuracy score: 0.6469891411648568 \n",
      "\n",
      "SVC score:\n",
      " [[ 95.8 220. ]\n",
      " [ 80.4 616.8]]\n",
      "SVC f-score: 0.5964952802250998\n",
      "SVC accuracy score: 0.7034550839091807 \n",
      "\n"
     ]
    }
   ],
   "source": [
    "scaler = MinMaxScaler()\n",
    "run_all_models(features, labels, scaler, log_params, knn_params, svc_params)"
   ]
  },
  {
   "cell_type": "markdown",
   "metadata": {},
   "source": [
    "### 3.3 Running LogisticRegression, LinearSVC, KNeighborsClassifier with standard scaling"
   ]
  },
  {
   "cell_type": "code",
   "execution_count": 30,
   "metadata": {},
   "outputs": [
    {
     "name": "stdout",
     "output_type": "stream",
     "text": [
      "Logistic confusion matrix:\n",
      " [[107.  208.8]\n",
      " [ 91.8 605.4]]\n",
      "Logistic f-score: 0.6081343453846865\n",
      "Logistic accuracy score: 0.7032576505429418 \n",
      "\n",
      "KNN score:\n",
      " [[ 94.4 221.4]\n",
      " [134.6 562.6]]\n",
      "KNN f-score: 0.5530575630899357\n",
      "KNN accuracy score: 0.648568608094768 \n",
      "\n",
      "SVC score:\n",
      " [[103.6 212.2]\n",
      " [ 86.8 610.4]]\n",
      "SVC f-score: 0.6059265531180826\n",
      "SVC accuracy score: 0.7048371174728529 \n",
      "\n"
     ]
    }
   ],
   "source": [
    "scaler = StandardScaler()\n",
    "run_all_models(features, labels, scaler, log_params, knn_params, svc_params)"
   ]
  },
  {
   "cell_type": "markdown",
   "metadata": {},
   "source": [
    "### 3.4 Parameter Tuning (using standard scaling)"
   ]
  },
  {
   "cell_type": "code",
   "execution_count": 37,
   "metadata": {},
   "outputs": [],
   "source": [
    "def tune_parameters(model, parameters, features, labels):\n",
    "    # Splitting data into train and test sets\n",
    "    X_train, X_test, y_train, y_test = train_test_split(features, labels, \n",
    "                                                        random_state=42,\n",
    "                                                        test_size=0.20)\n",
    "    # scaling the data using standard scaler\n",
    "    scaler = StandardScaler()\n",
    "    scaler.fit(X_train)\n",
    "    X_train_scaled = scaler.transform(X_train)\n",
    "    X_test_scaled = scaler.transform(X_test)\n",
    "\n",
    "    # running grid search to get the best parameters\n",
    "    grid_search_cv = GridSearchCV(model, parameters, cv=5)\n",
    "    grid_search_cv.fit(X_train_scaled, y_train)\n",
    "    \n",
    "    print('Best parameters are:\\n', grid_search_cv.best_params_ )\n",
    "    return grid_search_cv.best_params_"
   ]
  },
  {
   "cell_type": "code",
   "execution_count": 32,
   "metadata": {},
   "outputs": [
    {
     "name": "stdout",
     "output_type": "stream",
     "text": [
      "Best parameters are:\n",
      " {'max_iter': 5000, 'solver': 'sag'}\n"
     ]
    },
    {
     "data": {
      "text/plain": [
       "{'solver': 'sag', 'random_state': 42, 'max_iter': 5000}"
      ]
     },
     "execution_count": 32,
     "metadata": {},
     "output_type": "execute_result"
    }
   ],
   "source": [
    "# logistic classifier parameter tuning\n",
    "log_clf = LogisticRegression(random_state=42, n_jobs=-1)\n",
    "parameters = {'solver':('lbfgs', 'liblinear', 'sag', 'saga'), \n",
    "              'max_iter':[1000, 5000, 10000]}\n",
    "\n",
    "log_params.update(tune_parameters(log_clf, parameters, features, labels))\n",
    "log_params"
   ]
  },
  {
   "cell_type": "code",
   "execution_count": 35,
   "metadata": {},
   "outputs": [
    {
     "name": "stdout",
     "output_type": "stream",
     "text": [
      "Best parameters are:\n",
      " {'n_neighbors': 12, 'weights': 'distance'}\n"
     ]
    },
    {
     "data": {
      "text/plain": [
       "{'n_jobs': -1, 'n_neighbors': 12, 'weights': 'distance'}"
      ]
     },
     "execution_count": 35,
     "metadata": {},
     "output_type": "execute_result"
    }
   ],
   "source": [
    "# knn classifier parameter tuning\n",
    "knn = KNeighborsClassifier(n_jobs=-1)\n",
    "parameters = {'weights':('uniform', 'distance'), \n",
    "              'n_neighbors':[2, 3, 5, 7, 9, 12]}\n",
    "\n",
    "knn_params.update(tune_parameters(knn, parameters, features, labels))\n",
    "knn_params"
   ]
  },
  {
   "cell_type": "code",
   "execution_count": 36,
   "metadata": {},
   "outputs": [
    {
     "name": "stdout",
     "output_type": "stream",
     "text": [
      "Best parameters are:\n",
      " {'C': 0.1, 'max_iter': 5000}\n"
     ]
    },
    {
     "data": {
      "text/plain": [
       "{'max_iter': 5000, 'random_state': 42, 'C': 0.1}"
      ]
     },
     "execution_count": 36,
     "metadata": {},
     "output_type": "execute_result"
    }
   ],
   "source": [
    "# svc classifier parameter tuning\n",
    "svc = LinearSVC(random_state=42)\n",
    "parameters = {'C':[0.01, 0.1, 1, 10, 100], \n",
    "              'max_iter':[1000, 5000, 10000]}\n",
    "\n",
    "svc_params.update(tune_parameters(svc, parameters, features, labels))\n",
    "svc_params"
   ]
  },
  {
   "cell_type": "markdown",
   "metadata": {},
   "source": [
    "### 3.5 Running models with best parameters and standard scaling"
   ]
  },
  {
   "cell_type": "code",
   "execution_count": 38,
   "metadata": {},
   "outputs": [
    {
     "name": "stdout",
     "output_type": "stream",
     "text": [
      "Logistic confusion matrix:\n",
      " [[107.  208.8]\n",
      " [ 91.6 605.6]]\n",
      "Logistic f-score: 0.6082901779386335\n",
      "Logistic accuracy score: 0.7034550839091807 \n",
      "\n",
      "KNN score:\n",
      " [[ 77.6 238.2]\n",
      " [ 87.2 610. ]]\n",
      "KNN f-score: 0.5561464977268612\n",
      "KNN accuracy score: 0.6787759131293188 \n",
      "\n",
      "SVC score:\n",
      " [[101.  214.8]\n",
      " [ 85.8 611.4]]\n",
      "SVC f-score: 0.6019923371532229\n",
      "SVC accuracy score: 0.7032576505429418 \n",
      "\n"
     ]
    }
   ],
   "source": [
    "scaler = StandardScaler()\n",
    "run_all_models(features, labels, scaler, log_params, knn_params, svc_params)"
   ]
  },
  {
   "cell_type": "markdown",
   "metadata": {},
   "source": [
    "### 3.6 Dimension Reduction (using best parameters and standard scaling) "
   ]
  },
  {
   "cell_type": "code",
   "execution_count": 44,
   "metadata": {},
   "outputs": [],
   "source": [
    "def reduce_dimensions_and_run_models(model, features, labels, log_params, knn_params, svc_params):\n",
    "    # Splitting data into train and test sets\n",
    "    X_train, X_test, y_train, y_test = train_test_split(features, labels, \n",
    "                                                        random_state=42,\n",
    "                                                        test_size=0.20)\n",
    "    \n",
    "    # scaling the data using standard scaler\n",
    "    scaler = StandardScaler()\n",
    "    scaler.fit(X_train)\n",
    "    \n",
    "    X_train_scaled = scaler.transform(X_train)\n",
    "    X_test_scaled = scaler.transform(X_test)\n",
    "\n",
    "    # fitting and transforming data using dimension reduction model\n",
    "    model.fit(X_train_scaled, y_train)\n",
    "    features_transformed = model.transform(features)\n",
    "    \n",
    "    # running all the models to test the reduced dimensions\n",
    "    scaler = StandardScaler()\n",
    "    run_all_models(features_transformed, labels, scaler, log_params, knn_params, svc_params)"
   ]
  },
  {
   "cell_type": "code",
   "execution_count": 45,
   "metadata": {},
   "outputs": [
    {
     "name": "stdout",
     "output_type": "stream",
     "text": [
      "Logistic confusion matrix:\n",
      " [[ 28.2 287.6]\n",
      " [ 26.6 670.6]]\n",
      "Logistic f-score: 0.4811352393259739\n",
      "Logistic accuracy score: 0.6898321816386969 \n",
      "\n",
      "KNN score:\n",
      " [[ 66.6 249.2]\n",
      " [ 90.4 606.8]]\n",
      "KNN f-score: 0.5314714940850549\n",
      "KNN accuracy score: 0.6647581441263574 \n",
      "\n",
      "SVC score:\n",
      " [[ 25.4 290.4]\n",
      " [ 20.8 676.4]]\n",
      "SVC f-score: 0.47649826799390527\n",
      "SVC accuracy score: 0.6927936821322803 \n",
      "\n"
     ]
    }
   ],
   "source": [
    "# PCA dimension reduction\n",
    "pca = PCA(n_components=120)\n",
    "\n",
    "reduce_dimensions_and_run_models(pca, features, labels, log_params, knn_params, svc_params)"
   ]
  },
  {
   "cell_type": "code",
   "execution_count": 46,
   "metadata": {},
   "outputs": [
    {
     "name": "stdout",
     "output_type": "stream",
     "text": [
      "Logistic confusion matrix:\n",
      " [[ 98.4 217.4]\n",
      " [ 82.8 614.4]]\n",
      "Logistic f-score: 0.5996695712570189\n",
      "Logistic accuracy score: 0.7036525172754196 \n",
      "\n",
      "KNN score:\n",
      " [[ 81.8 234. ]\n",
      " [ 98.8 598.4]]\n",
      "KNN f-score: 0.5559731264453662\n",
      "KNN accuracy score: 0.6714708785784798 \n",
      "\n",
      "SVC score:\n",
      " [[ 90.6 225.2]\n",
      " [ 74.  623.2]]\n",
      "SVC f-score: 0.5914854995751821\n",
      "SVC accuracy score: 0.704639684106614 \n",
      "\n"
     ]
    }
   ],
   "source": [
    "# RFE dimension reduction\n",
    "linear_reg = LinearRegression()\n",
    "rfe = RFE(linear_reg, n_features_to_select=120)\n",
    "\n",
    "reduce_dimensions_and_run_models(rfe, features, labels, log_params, knn_params, svc_params)"
   ]
  },
  {
   "cell_type": "markdown",
   "metadata": {},
   "source": [
    "## 4. RandomForest Classification"
   ]
  },
  {
   "cell_type": "code",
   "execution_count": 47,
   "metadata": {},
   "outputs": [],
   "source": [
    "def run_random_forest(features, labels, params):\n",
    "    # arrays to store the results\n",
    "    forest_cm = []\n",
    "    forest_fscore = []\n",
    "    forest_score = []\n",
    "    \n",
    "    for seed in range(1, 6):\n",
    "        X_train, X_test, y_train, y_test = train_test_split(features, labels, \n",
    "                                                            random_state=seed,\n",
    "                                                            test_size=0.20)\n",
    "        \n",
    "        \n",
    "        # run the random forest model and get results\n",
    "        random_forest = RandomForestClassifier(**params)\n",
    "        random_forest.fit(X_train, y_train)\n",
    "        \n",
    "        forest_predict = random_forest.predict(X_test)\n",
    "\n",
    "        # compute the performance metrics\n",
    "        forest_cm.append(confusion_matrix(y_test, forest_predict))\n",
    "        forest_fscore.append(f1_score(y_test, forest_predict, average=None))\n",
    "        forest_score.append(accuracy_score(y_test, forest_predict))\n",
    "        \n",
    "    # printing the results\n",
    "    print('Random Forest Confusion Matrix:\\n', np.mean(np.array(forest_cm), axis=0))\n",
    "    print('Random Forest F-Score:', np.mean(np.array(forest_fscore)))  \n",
    "    print('Random Forest Accuracy Score:', np.mean(np.array(forest_score)), '\\n')"
   ]
  },
  {
   "cell_type": "markdown",
   "metadata": {},
   "source": [
    "### 4.1 Random Forest Classifier With No Parameter Tuning"
   ]
  },
  {
   "cell_type": "code",
   "execution_count": 48,
   "metadata": {},
   "outputs": [
    {
     "name": "stdout",
     "output_type": "stream",
     "text": [
      "Random Forest Confusion Matrix:\n",
      " [[ 50.2 265.6]\n",
      " [ 32.4 664.8]]\n",
      "Random Forest F-Score: 0.5343338220457865\n",
      "Random Forest Accuracy Score: 0.7058242843040474 \n",
      "\n"
     ]
    }
   ],
   "source": [
    "# parameters for the random forest model\n",
    "forest_params = {'n_estimators':5000, 'random_state':42, 'n_jobs':-1}\n",
    "\n",
    "# running the random forest model\n",
    "run_random_forest(features, labels, forest_params)"
   ]
  },
  {
   "cell_type": "markdown",
   "metadata": {},
   "source": [
    "### 4.2 Random Forest Classifier Parameter Tuning"
   ]
  },
  {
   "cell_type": "code",
   "execution_count": 49,
   "metadata": {},
   "outputs": [],
   "source": [
    "def tune_rf_parameters(features, labels):\n",
    "    X_train, X_test, y_train, y_test = train_test_split(features, labels, \n",
    "                                                        random_state=42,\n",
    "                                                        test_size=0.20)\n",
    "\n",
    "    random_forest = RandomForestClassifier(n_estimators=5000,\n",
    "                                           random_state=42, \n",
    "                                           n_jobs=-1)\n",
    "\n",
    "    parameters = {'max_features':('auto', 'sqrt', 'log2'), \n",
    "              'max_depth':[5, 10, 15], \n",
    "              'min_samples_split':[2, 7, 15]}\n",
    "\n",
    "    grid_search_cv = GridSearchCV(random_forest, parameters, cv=5)\n",
    "    grid_search_cv.fit(X_train, y_train)\n",
    "\n",
    "    print('Best parameters are:\\n', grid_search_cv.best_params_)\n",
    "    return grid_search_cv.best_params_"
   ]
  },
  {
   "cell_type": "code",
   "execution_count": 50,
   "metadata": {},
   "outputs": [
    {
     "name": "stdout",
     "output_type": "stream",
     "text": [
      "Best parameters are:\n",
      " {'max_depth': 15, 'max_features': 'auto', 'min_samples_split': 7}\n"
     ]
    },
    {
     "data": {
      "text/plain": [
       "{'n_estimators': 5000,\n",
       " 'random_state': 42,\n",
       " 'n_jobs': -1,\n",
       " 'max_depth': 15,\n",
       " 'max_features': 'auto',\n",
       " 'min_samples_split': 7}"
      ]
     },
     "execution_count": 50,
     "metadata": {},
     "output_type": "execute_result"
    }
   ],
   "source": [
    "# getting best params\n",
    "forest_params.update(tune_rf_parameters(features, labels))\n",
    "forest_params"
   ]
  },
  {
   "cell_type": "code",
   "execution_count": 51,
   "metadata": {},
   "outputs": [
    {
     "name": "stdout",
     "output_type": "stream",
     "text": [
      "Random Forest Confusion Matrix:\n",
      " [[ 44.  271.8]\n",
      " [ 28.6 668.6]]\n",
      "Random Forest F-Score: 0.5215822613052005\n",
      "Random Forest Accuracy Score: 0.7034550839091807 \n",
      "\n"
     ]
    }
   ],
   "source": [
    "# running random forest with best params\n",
    "run_random_forest(features, labels, forest_params)"
   ]
  },
  {
   "cell_type": "markdown",
   "metadata": {},
   "source": [
    "### 4.3 Dimension Reduction - RFE (Using Best Parameters)"
   ]
  },
  {
   "cell_type": "code",
   "execution_count": 52,
   "metadata": {},
   "outputs": [],
   "source": [
    "def reduce_dimensions_and_run_rf(features, labels, forest_params):\n",
    "    # Splitting data into train and test sets\n",
    "    X_train, X_test, y_train, y_test = train_test_split(features, labels, \n",
    "                                                        random_state=42,\n",
    "                                                        test_size=0.20)\n",
    "    \n",
    "    # creating dimension reduction model\n",
    "    linear_reg = LinearRegression()\n",
    "    rfe = RFE(linear_reg, n_features_to_select=120)\n",
    "    \n",
    "    # fitting dimension reduction model\n",
    "    rfe = rfe.fit(X_train, y_train)\n",
    "\n",
    "    # transforming dimension reduction model\n",
    "    features_transformed = pca.transform(features)\n",
    "    \n",
    "    run_random_forest(features_transformed, labels, forest_params)"
   ]
  },
  {
   "cell_type": "code",
   "execution_count": 53,
   "metadata": {},
   "outputs": [
    {
     "name": "stdout",
     "output_type": "stream",
     "text": [
      "Random Forest Confusion Matrix:\n",
      " [[ 40.4 275.4]\n",
      " [ 41.4 655.8]]\n",
      "Random Forest F-Score: 0.5041825352748834\n",
      "Random Forest Accuracy Score: 0.6872655478775913 \n",
      "\n"
     ]
    }
   ],
   "source": [
    "reduce_dimensions_and_run_rf(features, labels, forest_params)"
   ]
  },
  {
   "cell_type": "code",
   "execution_count": null,
   "metadata": {},
   "outputs": [],
   "source": []
  }
 ],
 "metadata": {
  "kernelspec": {
   "display_name": "Python 3",
   "language": "python",
   "name": "python3"
  },
  "language_info": {
   "codemirror_mode": {
    "name": "ipython",
    "version": 3
   },
   "file_extension": ".py",
   "mimetype": "text/x-python",
   "name": "python",
   "nbconvert_exporter": "python",
   "pygments_lexer": "ipython3",
   "version": "3.7.0"
  }
 },
 "nbformat": 4,
 "nbformat_minor": 2
}
