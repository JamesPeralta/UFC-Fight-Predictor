{
 "cells": [
  {
   "cell_type": "markdown",
   "metadata": {},
   "source": [
    "# Measuring the performance of a DNN on data.csv"
   ]
  },
  {
   "cell_type": "markdown",
   "metadata": {},
   "source": [
    "## Import all dependencies"
   ]
  },
  {
   "cell_type": "code",
   "execution_count": null,
   "metadata": {},
   "outputs": [],
   "source": [
    "import pandas as pd\n",
    "from sklearn.preprocessing import LabelEncoder\n",
    "from sklearn.model_selection import train_test_split\n",
    "import numpy as np\n",
    "from keras import models, layers\n",
    "import matplotlib.pyplot as plt"
   ]
  },
  {
   "cell_type": "markdown",
   "metadata": {},
   "source": [
    "## Retrieve and transform the data"
   ]
  },
  {
   "cell_type": "code",
   "execution_count": null,
   "metadata": {},
   "outputs": [],
   "source": [
    "ufc_data_location = \"../ufcdata/preprocessed_data.csv\"\n",
    "\n",
    "ufc_data = pd.read_csv(ufc_data_location)"
   ]
  },
  {
   "cell_type": "code",
   "execution_count": null,
   "metadata": {},
   "outputs": [],
   "source": [
    "ufc_data"
   ]
  },
  {
   "cell_type": "code",
   "execution_count": null,
   "metadata": {},
   "outputs": [],
   "source": [
    "\"\"\"\n",
    "In this version of the DNN I am just training using the numerical\n",
    "columns\n",
    "\"\"\"\n",
    "numerical_cols = []\n",
    "categorical_cols = []\n",
    "for col, col_type in zip(ufc_data.dtypes.keys(), ufc_data.dtypes):\n",
    "    if col_type == \"float64\" or col_type == \"int64\":\n",
    "        numerical_cols.append(col)\n",
    "    else:\n",
    "        categorical_cols.append(col)\n",
    "        \n",
    "print(numerical_cols)"
   ]
  },
  {
   "cell_type": "code",
   "execution_count": null,
   "metadata": {},
   "outputs": [],
   "source": [
    "# Create the features and labels column\n",
    "labels = ufc_data[\"Winner\"]\n",
    "le = LabelEncoder()\n",
    "le.fit(labels)\n",
    "\n",
    "features = ufc_data[numerical_cols]\n",
    "labels = le.transform(labels)"
   ]
  },
  {
   "cell_type": "code",
   "execution_count": null,
   "metadata": {
    "scrolled": true
   },
   "outputs": [],
   "source": [
    "labels"
   ]
  },
  {
   "cell_type": "code",
   "execution_count": null,
   "metadata": {},
   "outputs": [],
   "source": [
    "# Retrieving train and test splits\n",
    "X_train, X_test, y_train, y_test = train_test_split(features, labels, train_size=0.8)\n",
    "X_train = X_train.values\n",
    "X_test = X_test.values\n",
    "print(\"X_train length {}, y_train length {}\".format(X_train.shape, y_train.shape))\n",
    "print(\"X_test length {}, y_test length {}\".format(X_test.shape, y_test.shape))"
   ]
  },
  {
   "cell_type": "markdown",
   "metadata": {},
   "source": [
    "## Create a model"
   ]
  },
  {
   "cell_type": "code",
   "execution_count": null,
   "metadata": {},
   "outputs": [],
   "source": [
    "model = models.Sequential()\n",
    "model.add(layers.Dense(128, activation='relu', input_shape=(158,)))\n",
    "model.add(layers.Dense(128, activation='relu'))\n",
    "model.add(layers.Dense(128, activation='relu'))\n",
    "model.add(layers.Dense(1, activation='sigmoid'))\n",
    "model.compile(loss='binary_crossentropy', optimizer='adam', metrics=['accuracy'])"
   ]
  },
  {
   "cell_type": "code",
   "execution_count": null,
   "metadata": {},
   "outputs": [],
   "source": [
    "model.summary()"
   ]
  },
  {
   "cell_type": "markdown",
   "metadata": {},
   "source": [
    "## Train the model"
   ]
  },
  {
   "cell_type": "code",
   "execution_count": null,
   "metadata": {},
   "outputs": [],
   "source": [
    "history = model.fit(X_train, y_train, epochs=50, batch_size=64, validation_data=(X_test, y_test))"
   ]
  },
  {
   "cell_type": "markdown",
   "metadata": {},
   "source": [
    "## Evaluate the model"
   ]
  },
  {
   "cell_type": "code",
   "execution_count": null,
   "metadata": {},
   "outputs": [],
   "source": [
    "plot_training_results(history)"
   ]
  },
  {
   "cell_type": "markdown",
   "metadata": {},
   "source": [
    "## Summary of DNN on preprocessed_data.csv:\n",
    "\n",
    "- This model was trained on 158 columns without any dimensinality reduction performed.\n",
    "- With the raw preprocessed data, it seems like the DNN's is not strong enough to model all of these columns because we can't acheive higher than 80% on the training data. Usually these models should be able to overfit on the training data. We will need to perform some dimensionality reduction."
   ]
  },
  {
   "cell_type": "markdown",
   "metadata": {},
   "source": [
    "# Measuring the performance of a DNN on preprocessed_ratio_data.csv"
   ]
  },
  {
   "cell_type": "markdown",
   "metadata": {},
   "source": [
    "## Retrieve and transform the data"
   ]
  },
  {
   "cell_type": "code",
   "execution_count": 55,
   "metadata": {},
   "outputs": [],
   "source": [
    "ufc_data_location = \"../ufcdata/preprocessed_ratio_data.csv\"\n",
    "\n",
    "ufc_data = pd.read_csv(ufc_data_location)\n",
    "ufc_data = ufc_data.drop(ufc_data.columns[0], axis=1)"
   ]
  },
  {
   "cell_type": "code",
   "execution_count": 56,
   "metadata": {
    "scrolled": true
   },
   "outputs": [
    {
     "data": {
      "text/html": [
       "<div>\n",
       "<style scoped>\n",
       "    .dataframe tbody tr th:only-of-type {\n",
       "        vertical-align: middle;\n",
       "    }\n",
       "\n",
       "    .dataframe tbody tr th {\n",
       "        vertical-align: top;\n",
       "    }\n",
       "\n",
       "    .dataframe thead th {\n",
       "        text-align: right;\n",
       "    }\n",
       "</style>\n",
       "<table border=\"1\" class=\"dataframe\">\n",
       "  <thead>\n",
       "    <tr style=\"text-align: right;\">\n",
       "      <th></th>\n",
       "      <th>Winner</th>\n",
       "      <th>title_bout</th>\n",
       "      <th>no_of_rounds</th>\n",
       "      <th>B_current_lose_streak</th>\n",
       "      <th>B_current_win_streak</th>\n",
       "      <th>B_draw</th>\n",
       "      <th>B_avg_KD</th>\n",
       "      <th>B_avg_PASS</th>\n",
       "      <th>B_avg_REV</th>\n",
       "      <th>B_avg_SIG_STR_pct</th>\n",
       "      <th>...</th>\n",
       "      <th>B_head_def_success</th>\n",
       "      <th>R_head_def_success</th>\n",
       "      <th>B_leg_def_success</th>\n",
       "      <th>R_leg_def_success</th>\n",
       "      <th>B_sig_str_def_success</th>\n",
       "      <th>R_sig_str_def_success</th>\n",
       "      <th>B_td_def_success</th>\n",
       "      <th>R_td_def_success</th>\n",
       "      <th>B_total_landed_def_success</th>\n",
       "      <th>R_total_landed_def_success</th>\n",
       "    </tr>\n",
       "  </thead>\n",
       "  <tbody>\n",
       "    <tr>\n",
       "      <td>0</td>\n",
       "      <td>Red</td>\n",
       "      <td>True</td>\n",
       "      <td>5</td>\n",
       "      <td>0.0</td>\n",
       "      <td>4.0</td>\n",
       "      <td>0.0</td>\n",
       "      <td>0.800000</td>\n",
       "      <td>0.400000</td>\n",
       "      <td>0.000000</td>\n",
       "      <td>0.466000</td>\n",
       "      <td>...</td>\n",
       "      <td>0.237374</td>\n",
       "      <td>0.227332</td>\n",
       "      <td>0.705882</td>\n",
       "      <td>0.648936</td>\n",
       "      <td>0.344697</td>\n",
       "      <td>0.325911</td>\n",
       "      <td>0.400000</td>\n",
       "      <td>0.111111</td>\n",
       "      <td>0.356877</td>\n",
       "      <td>0.391855</td>\n",
       "    </tr>\n",
       "    <tr>\n",
       "      <td>1</td>\n",
       "      <td>Red</td>\n",
       "      <td>True</td>\n",
       "      <td>5</td>\n",
       "      <td>0.0</td>\n",
       "      <td>3.0</td>\n",
       "      <td>0.0</td>\n",
       "      <td>0.000000</td>\n",
       "      <td>0.800000</td>\n",
       "      <td>0.000000</td>\n",
       "      <td>0.399000</td>\n",
       "      <td>...</td>\n",
       "      <td>0.315251</td>\n",
       "      <td>0.200924</td>\n",
       "      <td>0.705882</td>\n",
       "      <td>0.622549</td>\n",
       "      <td>0.395595</td>\n",
       "      <td>0.386897</td>\n",
       "      <td>0.391304</td>\n",
       "      <td>0.260870</td>\n",
       "      <td>0.497690</td>\n",
       "      <td>0.520325</td>\n",
       "    </tr>\n",
       "    <tr>\n",
       "      <td>2</td>\n",
       "      <td>Red</td>\n",
       "      <td>False</td>\n",
       "      <td>3</td>\n",
       "      <td>0.0</td>\n",
       "      <td>3.0</td>\n",
       "      <td>0.0</td>\n",
       "      <td>0.645161</td>\n",
       "      <td>0.935484</td>\n",
       "      <td>0.096774</td>\n",
       "      <td>0.496129</td>\n",
       "      <td>...</td>\n",
       "      <td>0.376729</td>\n",
       "      <td>0.296422</td>\n",
       "      <td>0.816901</td>\n",
       "      <td>0.733333</td>\n",
       "      <td>0.473433</td>\n",
       "      <td>0.361918</td>\n",
       "      <td>0.107692</td>\n",
       "      <td>0.232558</td>\n",
       "      <td>0.495823</td>\n",
       "      <td>0.377937</td>\n",
       "    </tr>\n",
       "    <tr>\n",
       "      <td>3</td>\n",
       "      <td>Blue</td>\n",
       "      <td>False</td>\n",
       "      <td>3</td>\n",
       "      <td>0.0</td>\n",
       "      <td>4.0</td>\n",
       "      <td>0.0</td>\n",
       "      <td>0.500000</td>\n",
       "      <td>0.500000</td>\n",
       "      <td>0.250000</td>\n",
       "      <td>0.550000</td>\n",
       "      <td>...</td>\n",
       "      <td>0.260606</td>\n",
       "      <td>0.263328</td>\n",
       "      <td>0.586207</td>\n",
       "      <td>0.839623</td>\n",
       "      <td>0.311275</td>\n",
       "      <td>0.404735</td>\n",
       "      <td>0.166667</td>\n",
       "      <td>0.000000</td>\n",
       "      <td>0.326969</td>\n",
       "      <td>0.424539</td>\n",
       "    </tr>\n",
       "    <tr>\n",
       "      <td>4</td>\n",
       "      <td>Blue</td>\n",
       "      <td>False</td>\n",
       "      <td>3</td>\n",
       "      <td>0.0</td>\n",
       "      <td>1.0</td>\n",
       "      <td>0.0</td>\n",
       "      <td>0.000000</td>\n",
       "      <td>0.000000</td>\n",
       "      <td>0.000000</td>\n",
       "      <td>0.310000</td>\n",
       "      <td>...</td>\n",
       "      <td>0.370492</td>\n",
       "      <td>0.323699</td>\n",
       "      <td>0.952381</td>\n",
       "      <td>0.681818</td>\n",
       "      <td>0.437956</td>\n",
       "      <td>0.409091</td>\n",
       "      <td>0.000000</td>\n",
       "      <td>0.000000</td>\n",
       "      <td>0.437956</td>\n",
       "      <td>0.458678</td>\n",
       "    </tr>\n",
       "    <tr>\n",
       "      <td>...</td>\n",
       "      <td>...</td>\n",
       "      <td>...</td>\n",
       "      <td>...</td>\n",
       "      <td>...</td>\n",
       "      <td>...</td>\n",
       "      <td>...</td>\n",
       "      <td>...</td>\n",
       "      <td>...</td>\n",
       "      <td>...</td>\n",
       "      <td>...</td>\n",
       "      <td>...</td>\n",
       "      <td>...</td>\n",
       "      <td>...</td>\n",
       "      <td>...</td>\n",
       "      <td>...</td>\n",
       "      <td>...</td>\n",
       "      <td>...</td>\n",
       "      <td>...</td>\n",
       "      <td>...</td>\n",
       "      <td>...</td>\n",
       "      <td>...</td>\n",
       "    </tr>\n",
       "    <tr>\n",
       "      <td>3587</td>\n",
       "      <td>Red</td>\n",
       "      <td>False</td>\n",
       "      <td>1</td>\n",
       "      <td>0.0</td>\n",
       "      <td>1.0</td>\n",
       "      <td>0.0</td>\n",
       "      <td>0.000000</td>\n",
       "      <td>0.000000</td>\n",
       "      <td>0.000000</td>\n",
       "      <td>0.660000</td>\n",
       "      <td>...</td>\n",
       "      <td>0.500000</td>\n",
       "      <td>0.333333</td>\n",
       "      <td>0.333333</td>\n",
       "      <td>0.000000</td>\n",
       "      <td>0.333333</td>\n",
       "      <td>0.333333</td>\n",
       "      <td>1.000000</td>\n",
       "      <td>0.000000</td>\n",
       "      <td>0.333333</td>\n",
       "      <td>0.818182</td>\n",
       "    </tr>\n",
       "    <tr>\n",
       "      <td>3588</td>\n",
       "      <td>Red</td>\n",
       "      <td>False</td>\n",
       "      <td>1</td>\n",
       "      <td>0.0</td>\n",
       "      <td>1.0</td>\n",
       "      <td>0.0</td>\n",
       "      <td>0.000000</td>\n",
       "      <td>1.000000</td>\n",
       "      <td>0.000000</td>\n",
       "      <td>1.000000</td>\n",
       "      <td>...</td>\n",
       "      <td>0.000000</td>\n",
       "      <td>1.000000</td>\n",
       "      <td>0.000000</td>\n",
       "      <td>1.000000</td>\n",
       "      <td>0.000000</td>\n",
       "      <td>1.000000</td>\n",
       "      <td>0.000000</td>\n",
       "      <td>0.500000</td>\n",
       "      <td>0.200000</td>\n",
       "      <td>1.000000</td>\n",
       "    </tr>\n",
       "    <tr>\n",
       "      <td>3589</td>\n",
       "      <td>Red</td>\n",
       "      <td>True</td>\n",
       "      <td>1</td>\n",
       "      <td>0.0</td>\n",
       "      <td>2.0</td>\n",
       "      <td>0.0</td>\n",
       "      <td>0.500000</td>\n",
       "      <td>0.000000</td>\n",
       "      <td>0.000000</td>\n",
       "      <td>0.620000</td>\n",
       "      <td>...</td>\n",
       "      <td>0.000000</td>\n",
       "      <td>0.000000</td>\n",
       "      <td>0.000000</td>\n",
       "      <td>0.000000</td>\n",
       "      <td>0.000000</td>\n",
       "      <td>0.000000</td>\n",
       "      <td>0.000000</td>\n",
       "      <td>0.000000</td>\n",
       "      <td>0.000000</td>\n",
       "      <td>0.000000</td>\n",
       "    </tr>\n",
       "    <tr>\n",
       "      <td>3590</td>\n",
       "      <td>Red</td>\n",
       "      <td>False</td>\n",
       "      <td>1</td>\n",
       "      <td>0.0</td>\n",
       "      <td>1.0</td>\n",
       "      <td>0.0</td>\n",
       "      <td>0.000000</td>\n",
       "      <td>0.000000</td>\n",
       "      <td>0.000000</td>\n",
       "      <td>1.000000</td>\n",
       "      <td>...</td>\n",
       "      <td>0.250000</td>\n",
       "      <td>0.000000</td>\n",
       "      <td>0.666667</td>\n",
       "      <td>0.000000</td>\n",
       "      <td>0.500000</td>\n",
       "      <td>0.000000</td>\n",
       "      <td>0.000000</td>\n",
       "      <td>0.000000</td>\n",
       "      <td>0.800000</td>\n",
       "      <td>0.000000</td>\n",
       "    </tr>\n",
       "    <tr>\n",
       "      <td>3591</td>\n",
       "      <td>Red</td>\n",
       "      <td>False</td>\n",
       "      <td>1</td>\n",
       "      <td>0.0</td>\n",
       "      <td>1.0</td>\n",
       "      <td>0.0</td>\n",
       "      <td>2.000000</td>\n",
       "      <td>0.000000</td>\n",
       "      <td>0.000000</td>\n",
       "      <td>0.550000</td>\n",
       "      <td>...</td>\n",
       "      <td>0.368421</td>\n",
       "      <td>0.000000</td>\n",
       "      <td>0.666667</td>\n",
       "      <td>0.000000</td>\n",
       "      <td>0.428571</td>\n",
       "      <td>0.000000</td>\n",
       "      <td>0.000000</td>\n",
       "      <td>0.000000</td>\n",
       "      <td>0.448276</td>\n",
       "      <td>0.000000</td>\n",
       "    </tr>\n",
       "  </tbody>\n",
       "</table>\n",
       "<p>3592 rows × 124 columns</p>\n",
       "</div>"
      ],
      "text/plain": [
       "     Winner  title_bout  no_of_rounds  B_current_lose_streak  \\\n",
       "0       Red        True             5                    0.0   \n",
       "1       Red        True             5                    0.0   \n",
       "2       Red       False             3                    0.0   \n",
       "3      Blue       False             3                    0.0   \n",
       "4      Blue       False             3                    0.0   \n",
       "...     ...         ...           ...                    ...   \n",
       "3587    Red       False             1                    0.0   \n",
       "3588    Red       False             1                    0.0   \n",
       "3589    Red        True             1                    0.0   \n",
       "3590    Red       False             1                    0.0   \n",
       "3591    Red       False             1                    0.0   \n",
       "\n",
       "      B_current_win_streak  B_draw  B_avg_KD  B_avg_PASS  B_avg_REV  \\\n",
       "0                      4.0     0.0  0.800000    0.400000   0.000000   \n",
       "1                      3.0     0.0  0.000000    0.800000   0.000000   \n",
       "2                      3.0     0.0  0.645161    0.935484   0.096774   \n",
       "3                      4.0     0.0  0.500000    0.500000   0.250000   \n",
       "4                      1.0     0.0  0.000000    0.000000   0.000000   \n",
       "...                    ...     ...       ...         ...        ...   \n",
       "3587                   1.0     0.0  0.000000    0.000000   0.000000   \n",
       "3588                   1.0     0.0  0.000000    1.000000   0.000000   \n",
       "3589                   2.0     0.0  0.500000    0.000000   0.000000   \n",
       "3590                   1.0     0.0  0.000000    0.000000   0.000000   \n",
       "3591                   1.0     0.0  2.000000    0.000000   0.000000   \n",
       "\n",
       "      B_avg_SIG_STR_pct  ...  B_head_def_success  R_head_def_success  \\\n",
       "0              0.466000  ...            0.237374            0.227332   \n",
       "1              0.399000  ...            0.315251            0.200924   \n",
       "2              0.496129  ...            0.376729            0.296422   \n",
       "3              0.550000  ...            0.260606            0.263328   \n",
       "4              0.310000  ...            0.370492            0.323699   \n",
       "...                 ...  ...                 ...                 ...   \n",
       "3587           0.660000  ...            0.500000            0.333333   \n",
       "3588           1.000000  ...            0.000000            1.000000   \n",
       "3589           0.620000  ...            0.000000            0.000000   \n",
       "3590           1.000000  ...            0.250000            0.000000   \n",
       "3591           0.550000  ...            0.368421            0.000000   \n",
       "\n",
       "      B_leg_def_success  R_leg_def_success  B_sig_str_def_success  \\\n",
       "0              0.705882           0.648936               0.344697   \n",
       "1              0.705882           0.622549               0.395595   \n",
       "2              0.816901           0.733333               0.473433   \n",
       "3              0.586207           0.839623               0.311275   \n",
       "4              0.952381           0.681818               0.437956   \n",
       "...                 ...                ...                    ...   \n",
       "3587           0.333333           0.000000               0.333333   \n",
       "3588           0.000000           1.000000               0.000000   \n",
       "3589           0.000000           0.000000               0.000000   \n",
       "3590           0.666667           0.000000               0.500000   \n",
       "3591           0.666667           0.000000               0.428571   \n",
       "\n",
       "      R_sig_str_def_success  B_td_def_success  R_td_def_success  \\\n",
       "0                  0.325911          0.400000          0.111111   \n",
       "1                  0.386897          0.391304          0.260870   \n",
       "2                  0.361918          0.107692          0.232558   \n",
       "3                  0.404735          0.166667          0.000000   \n",
       "4                  0.409091          0.000000          0.000000   \n",
       "...                     ...               ...               ...   \n",
       "3587               0.333333          1.000000          0.000000   \n",
       "3588               1.000000          0.000000          0.500000   \n",
       "3589               0.000000          0.000000          0.000000   \n",
       "3590               0.000000          0.000000          0.000000   \n",
       "3591               0.000000          0.000000          0.000000   \n",
       "\n",
       "      B_total_landed_def_success  R_total_landed_def_success  \n",
       "0                       0.356877                    0.391855  \n",
       "1                       0.497690                    0.520325  \n",
       "2                       0.495823                    0.377937  \n",
       "3                       0.326969                    0.424539  \n",
       "4                       0.437956                    0.458678  \n",
       "...                          ...                         ...  \n",
       "3587                    0.333333                    0.818182  \n",
       "3588                    0.200000                    1.000000  \n",
       "3589                    0.000000                    0.000000  \n",
       "3590                    0.800000                    0.000000  \n",
       "3591                    0.448276                    0.000000  \n",
       "\n",
       "[3592 rows x 124 columns]"
      ]
     },
     "execution_count": 56,
     "metadata": {},
     "output_type": "execute_result"
    }
   ],
   "source": [
    "ufc_data"
   ]
  },
  {
   "cell_type": "code",
   "execution_count": 57,
   "metadata": {},
   "outputs": [
    {
     "name": "stdout",
     "output_type": "stream",
     "text": [
      "122\n"
     ]
    }
   ],
   "source": [
    "\"\"\"\n",
    "Retrieve all of the feature columns\n",
    "\"\"\"\n",
    "numerical_cols = []\n",
    "categorical_cols = []\n",
    "for col, col_type in zip(ufc_data.dtypes.keys(), ufc_data.dtypes):\n",
    "    if col_type == \"float64\" or col_type == \"int64\":\n",
    "        numerical_cols.append(col)\n",
    "    else:\n",
    "        categorical_cols.append(col)\n",
    "        \n",
    "print(len(numerical_cols))"
   ]
  },
  {
   "cell_type": "code",
   "execution_count": 58,
   "metadata": {},
   "outputs": [],
   "source": [
    "# Create the features and labels column\n",
    "labels = ufc_data[\"Winner\"]\n",
    "le = LabelEncoder()\n",
    "le.fit(labels)\n",
    "\n",
    "features = ufc_data[numerical_cols]\n",
    "labels = le.transform(labels)"
   ]
  },
  {
   "cell_type": "code",
   "execution_count": 52,
   "metadata": {},
   "outputs": [
    {
     "name": "stdout",
     "output_type": "stream",
     "text": [
      "X_train length (2873, 122), y_train length (2873,)\n",
      "X_test length (719, 122), y_test length (719,)\n"
     ]
    }
   ],
   "source": [
    "# Retrieving train and test splits\n",
    "X_train, X_test, y_train, y_test = train_test_split(features, labels, train_size=0.8)\n",
    "mean = X_train.mean(axis=0)\n",
    "std = X_train.std(axis=0)\n",
    "X_train = X_train.values - mean\n",
    "X_train = X_train / std\n",
    "X_test = X_test.values - mean\n",
    "X_test = X_test / std\n",
    "print(\"X_train length {}, y_train length {}\".format(X_train.shape, y_train.shape))\n",
    "print(\"X_test length {}, y_test length {}\".format(X_test.shape, y_test.shape))"
   ]
  },
  {
   "cell_type": "markdown",
   "metadata": {},
   "source": [
    "## Create a model"
   ]
  },
  {
   "cell_type": "code",
   "execution_count": 40,
   "metadata": {},
   "outputs": [],
   "source": [
    "model = models.Sequential()\n",
    "model.add(layers.Dense(256, activation='relu', input_shape=(122,)))\n",
    "model.add(layers.Dense(256, activation='relu'))\n",
    "model.add(layers.Dense(256, activation='relu'))\n",
    "model.add(layers.Dense(1, activation='sigmoid'))\n",
    "model.compile(loss='binary_crossentropy', optimizer='adam', metrics=['accuracy'])"
   ]
  },
  {
   "cell_type": "code",
   "execution_count": 41,
   "metadata": {},
   "outputs": [
    {
     "name": "stdout",
     "output_type": "stream",
     "text": [
      "Model: \"sequential_5\"\n",
      "_________________________________________________________________\n",
      "Layer (type)                 Output Shape              Param #   \n",
      "=================================================================\n",
      "dense_15 (Dense)             (None, 256)               31488     \n",
      "_________________________________________________________________\n",
      "dense_16 (Dense)             (None, 256)               65792     \n",
      "_________________________________________________________________\n",
      "dense_17 (Dense)             (None, 256)               65792     \n",
      "_________________________________________________________________\n",
      "dense_18 (Dense)             (None, 1)                 257       \n",
      "=================================================================\n",
      "Total params: 163,329\n",
      "Trainable params: 163,329\n",
      "Non-trainable params: 0\n",
      "_________________________________________________________________\n"
     ]
    }
   ],
   "source": [
    "model.summary()"
   ]
  },
  {
   "cell_type": "markdown",
   "metadata": {},
   "source": [
    "## Train the model"
   ]
  },
  {
   "cell_type": "code",
   "execution_count": 42,
   "metadata": {},
   "outputs": [
    {
     "name": "stdout",
     "output_type": "stream",
     "text": [
      "Train on 2873 samples, validate on 719 samples\n",
      "Epoch 1/50\n",
      "2873/2873 [==============================] - 1s 278us/step - loss: 4.3389 - accuracy: 0.5653 - val_loss: 0.9243 - val_accuracy: 0.4618\n",
      "Epoch 2/50\n",
      "2873/2873 [==============================] - 0s 134us/step - loss: 0.9684 - accuracy: 0.5924 - val_loss: 0.7138 - val_accuracy: 0.6161\n",
      "Epoch 3/50\n",
      "2873/2873 [==============================] - 0s 125us/step - loss: 0.6883 - accuracy: 0.6356 - val_loss: 0.7525 - val_accuracy: 0.5313\n",
      "Epoch 4/50\n",
      "2873/2873 [==============================] - 0s 168us/step - loss: 0.6946 - accuracy: 0.6338 - val_loss: 0.7177 - val_accuracy: 0.5522\n",
      "Epoch 5/50\n",
      "2873/2873 [==============================] - 0s 124us/step - loss: 0.7496 - accuracy: 0.6154 - val_loss: 1.1710 - val_accuracy: 0.6203\n",
      "Epoch 6/50\n",
      "2873/2873 [==============================] - 0s 131us/step - loss: 0.6971 - accuracy: 0.6272 - val_loss: 0.6736 - val_accuracy: 0.5981\n",
      "Epoch 7/50\n",
      "2873/2873 [==============================] - 0s 156us/step - loss: 0.6440 - accuracy: 0.6596 - val_loss: 0.6506 - val_accuracy: 0.6314\n",
      "Epoch 8/50\n",
      "2873/2873 [==============================] - 0s 134us/step - loss: 0.6928 - accuracy: 0.6283 - val_loss: 0.7264 - val_accuracy: 0.6161\n",
      "Epoch 9/50\n",
      "2873/2873 [==============================] - 0s 152us/step - loss: 0.6635 - accuracy: 0.6384 - val_loss: 1.0044 - val_accuracy: 0.6203\n",
      "Epoch 10/50\n",
      "2873/2873 [==============================] - 0s 153us/step - loss: 0.7244 - accuracy: 0.6300 - val_loss: 0.7144 - val_accuracy: 0.5452\n",
      "Epoch 11/50\n",
      "2873/2873 [==============================] - 0s 140us/step - loss: 0.6408 - accuracy: 0.6533 - val_loss: 0.6475 - val_accuracy: 0.6328\n",
      "Epoch 12/50\n",
      "2873/2873 [==============================] - 0s 140us/step - loss: 0.6419 - accuracy: 0.6606 - val_loss: 0.8639 - val_accuracy: 0.6217\n",
      "Epoch 13/50\n",
      "2873/2873 [==============================] - 0s 140us/step - loss: 0.6236 - accuracy: 0.6662 - val_loss: 0.7786 - val_accuracy: 0.6231\n",
      "Epoch 14/50\n",
      "2873/2873 [==============================] - 0s 155us/step - loss: 0.6159 - accuracy: 0.6641 - val_loss: 0.6920 - val_accuracy: 0.6426\n",
      "Epoch 15/50\n",
      "2873/2873 [==============================] - 0s 140us/step - loss: 0.6371 - accuracy: 0.6631 - val_loss: 0.6471 - val_accuracy: 0.6273\n",
      "Epoch 16/50\n",
      "2873/2873 [==============================] - 0s 144us/step - loss: 0.6330 - accuracy: 0.6551 - val_loss: 0.7403 - val_accuracy: 0.6314\n",
      "Epoch 17/50\n",
      "2873/2873 [==============================] - 0s 153us/step - loss: 0.6429 - accuracy: 0.6397 - val_loss: 0.6927 - val_accuracy: 0.5772\n",
      "Epoch 18/50\n",
      "2873/2873 [==============================] - 0s 138us/step - loss: 0.6310 - accuracy: 0.6578 - val_loss: 0.7017 - val_accuracy: 0.6231\n",
      "Epoch 19/50\n",
      "2873/2873 [==============================] - 0s 133us/step - loss: 0.6133 - accuracy: 0.6575 - val_loss: 0.6419 - val_accuracy: 0.6370\n",
      "Epoch 20/50\n",
      "2873/2873 [==============================] - 0s 174us/step - loss: 0.6086 - accuracy: 0.6652 - val_loss: 0.6714 - val_accuracy: 0.6300\n",
      "Epoch 21/50\n",
      "2873/2873 [==============================] - 0s 128us/step - loss: 0.6076 - accuracy: 0.6794 - val_loss: 0.6770 - val_accuracy: 0.6259\n",
      "Epoch 22/50\n",
      "2873/2873 [==============================] - 0s 129us/step - loss: 0.6234 - accuracy: 0.6631 - val_loss: 0.6921 - val_accuracy: 0.6314\n",
      "Epoch 23/50\n",
      "2873/2873 [==============================] - 0s 126us/step - loss: 0.6409 - accuracy: 0.6491 - val_loss: 0.6862 - val_accuracy: 0.6273\n",
      "Epoch 24/50\n",
      "2873/2873 [==============================] - 0s 126us/step - loss: 0.6200 - accuracy: 0.6589 - val_loss: 0.6521 - val_accuracy: 0.6314\n",
      "Epoch 25/50\n",
      "2873/2873 [==============================] - 0s 152us/step - loss: 0.5961 - accuracy: 0.6746 - val_loss: 0.6455 - val_accuracy: 0.6509\n",
      "Epoch 26/50\n",
      "2873/2873 [==============================] - 0s 124us/step - loss: 0.6012 - accuracy: 0.6732 - val_loss: 0.6584 - val_accuracy: 0.6287\n",
      "Epoch 27/50\n",
      "2873/2873 [==============================] - 0s 142us/step - loss: 0.6126 - accuracy: 0.6603 - val_loss: 0.7107 - val_accuracy: 0.6287\n",
      "Epoch 28/50\n",
      "2873/2873 [==============================] - 0s 144us/step - loss: 0.6278 - accuracy: 0.6641 - val_loss: 0.6499 - val_accuracy: 0.6231\n",
      "Epoch 29/50\n",
      "2873/2873 [==============================] - 0s 123us/step - loss: 0.6059 - accuracy: 0.6669 - val_loss: 0.6691 - val_accuracy: 0.6495\n",
      "Epoch 30/50\n",
      "2873/2873 [==============================] - 0s 143us/step - loss: 0.5922 - accuracy: 0.6840 - val_loss: 0.6521 - val_accuracy: 0.6120\n",
      "Epoch 31/50\n",
      "2873/2873 [==============================] - 0s 122us/step - loss: 0.5935 - accuracy: 0.6798 - val_loss: 0.6390 - val_accuracy: 0.6175\n",
      "Epoch 32/50\n",
      "2873/2873 [==============================] - 0s 121us/step - loss: 0.6027 - accuracy: 0.6735 - val_loss: 0.6410 - val_accuracy: 0.6161\n",
      "Epoch 33/50\n",
      "2873/2873 [==============================] - 0s 123us/step - loss: 0.6044 - accuracy: 0.6780 - val_loss: 0.6476 - val_accuracy: 0.6231\n",
      "Epoch 34/50\n",
      "2873/2873 [==============================] - 0s 131us/step - loss: 0.5884 - accuracy: 0.6840 - val_loss: 0.6488 - val_accuracy: 0.6120\n",
      "Epoch 35/50\n",
      "2873/2873 [==============================] - 0s 136us/step - loss: 0.5900 - accuracy: 0.6798 - val_loss: 0.7550 - val_accuracy: 0.6245\n",
      "Epoch 36/50\n",
      "2873/2873 [==============================] - 0s 124us/step - loss: 0.5890 - accuracy: 0.6780 - val_loss: 0.7524 - val_accuracy: 0.6273\n",
      "Epoch 37/50\n",
      "2873/2873 [==============================] - 0s 117us/step - loss: 0.6241 - accuracy: 0.6589 - val_loss: 0.6532 - val_accuracy: 0.6203\n",
      "Epoch 38/50\n",
      "2873/2873 [==============================] - 0s 162us/step - loss: 0.5860 - accuracy: 0.6913 - val_loss: 0.6307 - val_accuracy: 0.6245\n",
      "Epoch 39/50\n",
      "2873/2873 [==============================] - 0s 132us/step - loss: 0.6095 - accuracy: 0.6711 - val_loss: 0.6516 - val_accuracy: 0.6161\n",
      "Epoch 40/50\n",
      "2873/2873 [==============================] - 0s 122us/step - loss: 0.6043 - accuracy: 0.6683 - val_loss: 0.6635 - val_accuracy: 0.6259\n",
      "Epoch 41/50\n",
      "2873/2873 [==============================] - 0s 136us/step - loss: 0.5921 - accuracy: 0.6829 - val_loss: 0.6781 - val_accuracy: 0.6370\n",
      "Epoch 42/50\n",
      "2873/2873 [==============================] - 0s 127us/step - loss: 0.5869 - accuracy: 0.6812 - val_loss: 0.6645 - val_accuracy: 0.6495\n",
      "Epoch 43/50\n",
      "2873/2873 [==============================] - 0s 135us/step - loss: 0.5971 - accuracy: 0.6791 - val_loss: 0.6369 - val_accuracy: 0.6259\n",
      "Epoch 44/50\n",
      "2873/2873 [==============================] - 0s 121us/step - loss: 0.5834 - accuracy: 0.6798 - val_loss: 0.6562 - val_accuracy: 0.6314\n",
      "Epoch 45/50\n",
      "2873/2873 [==============================] - 0s 120us/step - loss: 0.5780 - accuracy: 0.6805 - val_loss: 0.7070 - val_accuracy: 0.6314\n",
      "Epoch 46/50\n",
      "2873/2873 [==============================] - 0s 123us/step - loss: 0.5778 - accuracy: 0.6864 - val_loss: 0.6551 - val_accuracy: 0.6203\n",
      "Epoch 47/50\n",
      "2873/2873 [==============================] - 0s 132us/step - loss: 0.5847 - accuracy: 0.6871 - val_loss: 0.6341 - val_accuracy: 0.6328\n",
      "Epoch 48/50\n",
      "2873/2873 [==============================] - 0s 124us/step - loss: 0.5793 - accuracy: 0.6892 - val_loss: 0.6484 - val_accuracy: 0.6481\n",
      "Epoch 49/50\n",
      "2873/2873 [==============================] - 0s 122us/step - loss: 0.5878 - accuracy: 0.6819 - val_loss: 0.6391 - val_accuracy: 0.6426\n",
      "Epoch 50/50\n",
      "2873/2873 [==============================] - 0s 119us/step - loss: 0.5757 - accuracy: 0.6902 - val_loss: 0.7793 - val_accuracy: 0.6300\n"
     ]
    }
   ],
   "source": [
    "history = model.fit(X_train, y_train, epochs=50, batch_size=64, validation_data=(X_test, y_test))"
   ]
  },
  {
   "cell_type": "markdown",
   "metadata": {},
   "source": [
    "## Evaluate the model"
   ]
  },
  {
   "cell_type": "code",
   "execution_count": 43,
   "metadata": {},
   "outputs": [
    {
     "name": "stderr",
     "output_type": "stream",
     "text": [
      "/Users/jamesperalta/PythonEnvs/ENSF-519/lib/python3.6/site-packages/ipykernel_launcher.py:25: UserWarning: Matplotlib is currently using module://ipykernel.pylab.backend_inline, which is a non-GUI backend, so cannot show the figure.\n"
     ]
    },
    {
     "data": {
      "image/png": "[encoded data removed]",
      "text/plain": [
       "<Figure size 1080x360 with 2 Axes>"
      ]
     },
     "metadata": {
      "needs_background": "light"
     },
     "output_type": "display_data"
    }
   ],
   "source": [
    "plot_training_results(history)"
   ]
  },
  {
   "cell_type": "markdown",
   "metadata": {},
   "source": [
    "# Helper functions"
   ]
  },
  {
   "cell_type": "code",
   "execution_count": 30,
   "metadata": {},
   "outputs": [],
   "source": [
    "def plot_training_results(history_obj):\n",
    "    acc = history.history['accuracy']\n",
    "    val_acc = history.history['val_accuracy']\n",
    "    loss = history.history['loss']\n",
    "    val_loss = history.history['val_loss']\n",
    "    \n",
    "    epochs = range(1, len(acc) + 1)\n",
    "\n",
    "    fig, (accuracy_axis, loss_axis) = plt.subplots(1, 2, figsize=(15, 5))\n",
    "\n",
    "    accuracy_axis.plot(epochs, acc, 'bo', label='Training acc')\n",
    "    accuracy_axis.plot(epochs, val_acc, 'b', label='Validation acc')\n",
    "    accuracy_axis.set_title('Training and validation accuracy')\n",
    "    accuracy_axis.set_ylabel('Accuracy')\n",
    "    accuracy_axis.set_xlabel('Epoch')\n",
    "    accuracy_axis.legend()\n",
    "\n",
    "    loss_axis.plot(epochs, loss, 'bo', label='Training loss')\n",
    "    loss_axis.plot(epochs, val_loss, 'b', label='Validation loss')\n",
    "    loss_axis.set_title('Training and validation loss')\n",
    "    loss_axis.set_ylim(0, 3)\n",
    "    loss_axis.set_ylabel('Accuracy')\n",
    "    loss_axis.set_xlabel('Epoch')\n",
    "    loss_axis.legend()\n",
    "    fig.show()"
   ]
  }
 ],
 "metadata": {
  "kernelspec": {
   "display_name": "Python 3",
   "language": "python",
   "name": "python3"
  },
  "language_info": {
   "codemirror_mode": {
    "name": "ipython",
    "version": 3
   },
   "file_extension": ".py",
   "mimetype": "text/x-python",
   "name": "python",
   "nbconvert_exporter": "python",
   "pygments_lexer": "ipython3",
   "version": "3.6.8"
  }
 },
 "nbformat": 4,
 "nbformat_minor": 2
}
