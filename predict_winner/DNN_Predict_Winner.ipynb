{
 "cells": [
  {
   "cell_type": "markdown",
   "metadata": {},
   "source": [
    "# Measuring the performance of a DNN on preprocessed_ratio_data.csv"
   ]
  },
  {
   "cell_type": "markdown",
   "metadata": {},
   "source": [
    "## Import all dependencies"
   ]
  },
  {
   "cell_type": "code",
   "execution_count": null,
   "metadata": {},
   "outputs": [],
   "source": [
    "import pandas as pd\n",
    "from sklearn.preprocessing import LabelEncoder\n",
    "from sklearn.model_selection import train_test_split\n",
    "import numpy as np\n",
    "from keras import models, layers\n",
    "import matplotlib.pyplot as plt\n",
    "\n",
    "# Model imports\n",
    "from keras.models import Sequential\n",
    "from keras.layers import Dense, Dropout, Conv1D, Flatten, MaxPooling1D\n",
    "from keras.optimizers import Adam, Nadam, RMSprop\n",
    "from keras.losses import logcosh, binary_crossentropy\n",
    "from keras.activations import relu, elu, sigmoid\n",
    "\n",
    "import talos as ta\n",
    "from talos.model.normalizers import lr_normalizer\n",
    "from talos.model.hidden_layers import hidden_layers"
   ]
  },
  {
   "cell_type": "markdown",
   "metadata": {},
   "source": [
    "## Retrieve and transform the data"
   ]
  },
  {
   "cell_type": "code",
   "execution_count": null,
   "metadata": {},
   "outputs": [],
   "source": [
    "ufc_data_location = \"../ufcdata/preprocessed_data.csv\"\n",
    "\n",
    "ufc_data = pd.read_csv(ufc_data_location)"
   ]
  },
  {
   "cell_type": "code",
   "execution_count": null,
   "metadata": {},
   "outputs": [],
   "source": [
    "ufc_data"
   ]
  },
  {
   "cell_type": "code",
   "execution_count": null,
   "metadata": {},
   "outputs": [],
   "source": [
    "\"\"\"\n",
    "In this version of the DNN I am just training using the numerical\n",
    "columns\n",
    "\"\"\"\n",
    "numerical_cols = []\n",
    "categorical_cols = []\n",
    "for col, col_type in zip(ufc_data.dtypes.keys(), ufc_data.dtypes):\n",
    "    if col_type == \"float64\" or col_type == \"int64\":\n",
    "        numerical_cols.append(col)\n",
    "    else:\n",
    "        categorical_cols.append(col)\n",
    "        \n",
    "print(numerical_cols)"
   ]
  },
  {
   "cell_type": "code",
   "execution_count": null,
   "metadata": {},
   "outputs": [],
   "source": [
    "# Create the features and labels column\n",
    "labels = ufc_data[\"Winner\"]\n",
    "le = LabelEncoder()\n",
    "le.fit(labels)\n",
    "\n",
    "features = ufc_data[numerical_cols]\n",
    "labels = le.transform(labels)"
   ]
  },
  {
   "cell_type": "code",
   "execution_count": null,
   "metadata": {
    "scrolled": true
   },
   "outputs": [],
   "source": [
    "labels"
   ]
  },
  {
   "cell_type": "code",
   "execution_count": null,
   "metadata": {},
   "outputs": [],
   "source": [
    "# Retrieving train and test splits\n",
    "X_train, X_test, y_train, y_test = train_test_split(features, labels, train_size=0.8)\n",
    "X_train = X_train.values\n",
    "X_test = X_test.values\n",
    "print(\"X_train length {}, y_train length {}\".format(X_train.shape, y_train.shape))\n",
    "print(\"X_test length {}, y_test length {}\".format(X_test.shape, y_test.shape))"
   ]
  },
  {
   "cell_type": "markdown",
   "metadata": {},
   "source": [
    "## Create a model"
   ]
  },
  {
   "cell_type": "code",
   "execution_count": null,
   "metadata": {},
   "outputs": [],
   "source": [
    "model = models.Sequential()\n",
    "model.add(layers.Dense(128, activation='relu', input_shape=(158,)))\n",
    "model.add(layers.Dense(128, activation='relu'))\n",
    "model.add(layers.Dense(128, activation='relu'))\n",
    "model.add(layers.Dense(1, activation='sigmoid'))\n",
    "model.compile(loss='binary_crossentropy', optimizer='adam', metrics=['accuracy'])"
   ]
  },
  {
   "cell_type": "code",
   "execution_count": null,
   "metadata": {},
   "outputs": [],
   "source": [
    "model.summary()"
   ]
  },
  {
   "cell_type": "markdown",
   "metadata": {},
   "source": [
    "## Train the model"
   ]
  },
  {
   "cell_type": "code",
   "execution_count": null,
   "metadata": {},
   "outputs": [],
   "source": [
    "history = model.fit(X_train, y_train, epochs=50, batch_size=64, validation_data=(X_test, y_test))"
   ]
  },
  {
   "cell_type": "markdown",
   "metadata": {},
   "source": [
    "## Evaluate the model"
   ]
  },
  {
   "cell_type": "code",
   "execution_count": null,
   "metadata": {},
   "outputs": [],
   "source": [
    "plot_training_results(history)"
   ]
  },
  {
   "cell_type": "markdown",
   "metadata": {},
   "source": [
    "## Summary of DNN on preprocessed_data.csv:\n",
    "\n",
    "- This model was trained on 158 columns without any dimensinality reduction performed.\n",
    "- With the raw preprocessed data, it seems like the DNN's is not strong enough to model all of these columns because we can't acheive higher than 80% on the training data. Usually these models should be able to overfit on the training data. We will need to perform some dimensionality reduction."
   ]
  },
  {
   "cell_type": "markdown",
   "metadata": {},
   "source": [
    "# Measuring the performance of a DNN on preprocessed_ratio_data.csv"
   ]
  },
  {
   "cell_type": "markdown",
   "metadata": {},
   "source": [
    "## Retrieve and transform the data"
   ]
  },
  {
   "cell_type": "code",
   "execution_count": null,
   "metadata": {},
   "outputs": [],
   "source": [
    "ufc_data_location = \"../ufcdata/preprocessed_ratio_data.csv\"\n",
    "\n",
    "ufc_data = pd.read_csv(ufc_data_location)\n",
    "ufc_data = ufc_data.drop(ufc_data.columns[0], axis=1)"
   ]
  },
  {
   "cell_type": "code",
   "execution_count": null,
   "metadata": {
    "scrolled": true
   },
   "outputs": [],
   "source": [
    "ufc_data"
   ]
  },
  {
   "cell_type": "code",
   "execution_count": null,
   "metadata": {},
   "outputs": [],
   "source": [
    "\"\"\"\n",
    "Retrieve all of the feature columns\n",
    "\"\"\"\n",
    "numerical_cols = []\n",
    "categorical_cols = []\n",
    "for col, col_type in zip(ufc_data.dtypes.keys(), ufc_data.dtypes):\n",
    "    if col_type == \"float64\" or col_type == \"int64\":\n",
    "        numerical_cols.append(col)\n",
    "    else:\n",
    "        categorical_cols.append(col)\n",
    "        \n",
    "print(len(numerical_cols))"
   ]
  },
  {
   "cell_type": "code",
   "execution_count": null,
   "metadata": {},
   "outputs": [],
   "source": [
    "# Create the features and labels column\n",
    "labels = ufc_data[\"Winner\"]\n",
    "le = LabelEncoder()\n",
    "le.fit(labels)\n",
    "\n",
    "features = ufc_data[numerical_cols]\n",
    "labels = le.transform(labels)"
   ]
  },
  {
   "cell_type": "code",
   "execution_count": null,
   "metadata": {},
   "outputs": [],
   "source": [
    "# Retrieving train and test splits\n",
    "X_train, X_test, y_train, y_test = train_test_split(features, labels, train_size=0.8)\n",
    "X_train = X_train.values\n",
    "X_test = X_test.values\n",
    "\n",
    "print(\"X_train length {}, y_train length {}\".format(X_train.shape, y_train.shape))\n",
    "print(\"X_test length {}, y_test length {}\".format(X_test.shape, y_test.shape))"
   ]
  },
  {
   "cell_type": "markdown",
   "metadata": {},
   "source": [
    "## Create a model"
   ]
  },
  {
   "cell_type": "code",
   "execution_count": null,
   "metadata": {},
   "outputs": [],
   "source": [
    "model = models.Sequential()\n",
    "model.add(layers.Dense(256, activation='relu', input_shape=(122,)))\n",
    "model.add(layers.Dense(256, activation='relu'))\n",
    "model.add(layers.Dense(256, activation='relu'))\n",
    "model.add(layers.Dense(1, activation='sigmoid'))\n",
    "model.compile(loss='binary_crossentropy', optimizer='adam', metrics=['accuracy'])"
   ]
  },
  {
   "cell_type": "code",
   "execution_count": null,
   "metadata": {},
   "outputs": [],
   "source": [
    "model.summary()"
   ]
  },
  {
   "cell_type": "markdown",
   "metadata": {},
   "source": [
    "## Train the model"
   ]
  },
  {
   "cell_type": "code",
   "execution_count": null,
   "metadata": {},
   "outputs": [],
   "source": [
    "history = model.fit(X_train, y_train, epochs=50, batch_size=64, validation_data=(X_test, y_test))"
   ]
  },
  {
   "cell_type": "markdown",
   "metadata": {},
   "source": [
    "## Evaluate the model"
   ]
  },
  {
   "cell_type": "code",
   "execution_count": null,
   "metadata": {},
   "outputs": [],
   "source": [
    "plot_training_results(history)"
   ]
  },
  {
   "cell_type": "markdown",
   "metadata": {},
   "source": [
    "## Model Builder"
   ]
  },
  {
   "cell_type": "code",
   "execution_count": 1,
   "metadata": {},
   "outputs": [],
   "source": [
    "def get_dnn(x_train, y_train, x_val, y_val, params):\n",
    "    \n",
    "    model = Sequential()\n",
    "    # Input Layer\n",
    "    model.add(Dense(params[\"first_neuron\"], \n",
    "                    activation=params['activation'], \n",
    "                    input_dim=X_train.shape[1]))\n",
    "    \n",
    "    model.add(Dropout(params['dropout']))\n",
    "    \n",
    "    # Hidden Layers\n",
    "    hidden_layers(model, params, 1)\n",
    "    \n",
    "    # Output Layers\n",
    "    model.add(Dense(1, activation=params['last_activation']))\n",
    "    \n",
    "    model.compile(loss=params['losses'],\n",
    "                  optimizer=params['optimizer'](lr=lr_normalizer(params['lr'], params['optimizer'])), \n",
    "                  metrics=['accuracy'])\n",
    "                  \n",
    "    history = model.fit(x_train, y_train,\n",
    "                       validation_data=[x_val, y_val],\n",
    "                       batch_size=params['batch_size'],\n",
    "                       epochs=params['epochs'],\n",
    "                       verbose=0)\n",
    "    \n",
    "    #print(model.summary())\n",
    "\n",
    "    return history, model"
   ]
  },
  {
   "cell_type": "markdown",
   "metadata": {},
   "source": [
    "# Helper functions"
   ]
  },
  {
   "cell_type": "code",
   "execution_count": null,
   "metadata": {},
   "outputs": [],
   "source": [
    "def plot_training_results(history_obj):\n",
    "    acc = history.history['accuracy']\n",
    "    val_acc = history.history['val_accuracy']\n",
    "    loss = history.history['loss']\n",
    "    val_loss = history.history['val_loss']\n",
    "    \n",
    "    epochs = range(1, len(acc) + 1)\n",
    "\n",
    "    fig, (accuracy_axis, loss_axis) = plt.subplots(1, 2, figsize=(15, 5))\n",
    "\n",
    "    accuracy_axis.plot(epochs, acc, 'bo', label='Training acc')\n",
    "    accuracy_axis.plot(epochs, val_acc, 'b', label='Validation acc')\n",
    "    accuracy_axis.set_title('Training and validation accuracy')\n",
    "    accuracy_axis.set_ylabel('Accuracy')\n",
    "    accuracy_axis.set_xlabel('Epoch')\n",
    "    accuracy_axis.legend()\n",
    "\n",
    "    loss_axis.plot(epochs, loss, 'bo', label='Training loss')\n",
    "    loss_axis.plot(epochs, val_loss, 'b', label='Validation loss')\n",
    "    loss_axis.set_title('Training and validation loss')\n",
    "    loss_axis.set_ylim(0, 3)\n",
    "    loss_axis.set_ylabel('Accuracy')\n",
    "    loss_axis.set_xlabel('Epoch')\n",
    "    loss_axis.legend()\n",
    "    fig.show()"
   ]
  }
 ],
 "metadata": {
  "kernelspec": {
   "display_name": "Python 3",
   "language": "python",
   "name": "python3"
  },
  "language_info": {
   "codemirror_mode": {
    "name": "ipython",
    "version": 3
   },
   "file_extension": ".py",
   "mimetype": "text/x-python",
   "name": "python",
   "nbconvert_exporter": "python",
   "pygments_lexer": "ipython3",
   "version": "3.6.8"
  }
 },
 "nbformat": 4,
 "nbformat_minor": 2
}
